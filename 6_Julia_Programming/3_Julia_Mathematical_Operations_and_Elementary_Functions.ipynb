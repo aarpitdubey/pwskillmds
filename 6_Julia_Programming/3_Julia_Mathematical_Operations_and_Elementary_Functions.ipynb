{
 "cells": [
  {
   "cell_type": "markdown",
   "id": "ec1e6162",
   "metadata": {},
   "source": [
    "## Arithmetic Operators"
   ]
  },
  {
   "cell_type": "markdown",
   "id": "c6913d37",
   "metadata": {},
   "source": [
    "![Image Integer](./image/Arithmetic.png)"
   ]
  },
  {
   "cell_type": "code",
   "execution_count": 1,
   "id": "c4e64c07",
   "metadata": {},
   "outputs": [
    {
     "data": {
      "text/plain": [
       "34"
      ]
     },
     "execution_count": 1,
     "metadata": {},
     "output_type": "execute_result"
    }
   ],
   "source": [
    "17+10+7"
   ]
  },
  {
   "cell_type": "code",
   "execution_count": 2,
   "id": "b8bb7d57",
   "metadata": {},
   "outputs": [
    {
     "data": {
      "text/plain": [
       "-1"
      ]
     },
     "execution_count": 2,
     "metadata": {},
     "output_type": "execute_result"
    }
   ],
   "source": [
    "69-70"
   ]
  },
  {
   "cell_type": "code",
   "execution_count": 3,
   "id": "f6981b56",
   "metadata": {},
   "outputs": [
    {
     "data": {
      "text/plain": [
       "0.5"
      ]
     },
     "execution_count": 3,
     "metadata": {},
     "output_type": "execute_result"
    }
   ],
   "source": [
    "3*2/12"
   ]
  },
  {
   "cell_type": "markdown",
   "id": "95c0a9b7",
   "metadata": {},
   "source": [
    "When used in multiplication, false acts as a strong zero.\n",
    "NaN values in quantities that are known to be zero."
   ]
  },
  {
   "cell_type": "code",
   "execution_count": 4,
   "id": "e13cbde8",
   "metadata": {},
   "outputs": [
    {
     "data": {
      "text/plain": [
       "NaN"
      ]
     },
     "execution_count": 4,
     "metadata": {},
     "output_type": "execute_result"
    }
   ],
   "source": [
    "NaN * NaN"
   ]
  },
  {
   "cell_type": "code",
   "execution_count": 5,
   "id": "929f3423",
   "metadata": {},
   "outputs": [
    {
     "data": {
      "text/plain": [
       "NaN"
      ]
     },
     "execution_count": 5,
     "metadata": {},
     "output_type": "execute_result"
    }
   ],
   "source": [
    "NaN * true "
   ]
  },
  {
   "cell_type": "code",
   "execution_count": 6,
   "id": "7c8b2105",
   "metadata": {},
   "outputs": [
    {
     "data": {
      "text/plain": [
       "0.0"
      ]
     },
     "execution_count": 6,
     "metadata": {},
     "output_type": "execute_result"
    }
   ],
   "source": [
    "NaN * false "
   ]
  },
  {
   "cell_type": "code",
   "execution_count": 7,
   "id": "75aa53bd",
   "metadata": {},
   "outputs": [
    {
     "data": {
      "text/plain": [
       "1"
      ]
     },
     "execution_count": 7,
     "metadata": {},
     "output_type": "execute_result"
    }
   ],
   "source": [
    "x=1"
   ]
  },
  {
   "cell_type": "markdown",
   "id": "366284f6",
   "metadata": {},
   "source": [
    "---\n",
    "### Boolean Operators"
   ]
  },
  {
   "cell_type": "markdown",
   "id": "cc927bd2",
   "metadata": {},
   "source": [
    "![Image Boolean](./image/Boolean_Operators.png)"
   ]
  },
  {
   "cell_type": "code",
   "execution_count": 8,
   "id": "0f488118",
   "metadata": {},
   "outputs": [
    {
     "data": {
      "text/plain": [
       "false"
      ]
     },
     "execution_count": 8,
     "metadata": {},
     "output_type": "execute_result"
    }
   ],
   "source": [
    "x= true \n",
    "!x"
   ]
  },
  {
   "cell_type": "code",
   "execution_count": 9,
   "id": "7da0264a",
   "metadata": {},
   "outputs": [
    {
     "data": {
      "text/plain": [
       "false"
      ]
     },
     "execution_count": 9,
     "metadata": {},
     "output_type": "execute_result"
    }
   ],
   "source": [
    "x= true \n",
    "y = false \n",
    "\n",
    "x && y"
   ]
  },
  {
   "cell_type": "code",
   "execution_count": 10,
   "id": "7c9bb3c8",
   "metadata": {},
   "outputs": [
    {
     "data": {
      "text/plain": [
       "true"
      ]
     },
     "execution_count": 10,
     "metadata": {},
     "output_type": "execute_result"
    }
   ],
   "source": [
    "x || y"
   ]
  },
  {
   "cell_type": "markdown",
   "id": "2f882d2f",
   "metadata": {},
   "source": [
    "---\n",
    "### Bitwise Operators "
   ]
  },
  {
   "cell_type": "markdown",
   "id": "06916a38",
   "metadata": {},
   "source": [
    "![Image Bitwise](./image/Bitwise.png)"
   ]
  },
  {
   "cell_type": "code",
   "execution_count": 11,
   "id": "ab153239",
   "metadata": {},
   "outputs": [
    {
     "data": {
      "text/plain": [
       "false"
      ]
     },
     "execution_count": 11,
     "metadata": {},
     "output_type": "execute_result"
    }
   ],
   "source": [
    "x= true \n",
    "~x"
   ]
  },
  {
   "cell_type": "code",
   "execution_count": 12,
   "id": "fb5a5779",
   "metadata": {},
   "outputs": [
    {
     "data": {
      "text/plain": [
       "0"
      ]
     },
     "execution_count": 12,
     "metadata": {},
     "output_type": "execute_result"
    }
   ],
   "source": [
    "1 & 2"
   ]
  },
  {
   "cell_type": "code",
   "execution_count": 13,
   "id": "919131bc",
   "metadata": {},
   "outputs": [
    {
     "data": {
      "text/plain": [
       "2"
      ]
     },
     "execution_count": 13,
     "metadata": {},
     "output_type": "execute_result"
    }
   ],
   "source": [
    "2 & 3"
   ]
  },
  {
   "cell_type": "code",
   "execution_count": 14,
   "id": "af1c56f2",
   "metadata": {},
   "outputs": [
    {
     "data": {
      "text/plain": [
       "1"
      ]
     },
     "execution_count": 14,
     "metadata": {},
     "output_type": "execute_result"
    }
   ],
   "source": [
    "1 & 3"
   ]
  },
  {
   "cell_type": "code",
   "execution_count": 15,
   "id": "a2c7e75b",
   "metadata": {},
   "outputs": [
    {
     "data": {
      "text/plain": [
       "0"
      ]
     },
     "execution_count": 15,
     "metadata": {},
     "output_type": "execute_result"
    }
   ],
   "source": [
    "2 & 4"
   ]
  },
  {
   "cell_type": "code",
   "execution_count": 16,
   "id": "261d3725",
   "metadata": {},
   "outputs": [
    {
     "data": {
      "text/plain": [
       "101"
      ]
     },
     "execution_count": 16,
     "metadata": {},
     "output_type": "execute_result"
    }
   ],
   "source": [
    "1 | 100"
   ]
  },
  {
   "cell_type": "markdown",
   "id": "6cd73cd5",
   "metadata": {},
   "source": [
    "---\n",
    "### updating Operators "
   ]
  },
  {
   "cell_type": "code",
   "execution_count": 17,
   "id": "a839565f",
   "metadata": {},
   "outputs": [
    {
     "data": {
      "text/plain": [
       "1"
      ]
     },
     "execution_count": 17,
     "metadata": {},
     "output_type": "execute_result"
    }
   ],
   "source": [
    "y=1"
   ]
  },
  {
   "cell_type": "code",
   "execution_count": 18,
   "id": "22c33882",
   "metadata": {},
   "outputs": [
    {
     "data": {
      "text/plain": [
       "69"
      ]
     },
     "execution_count": 18,
     "metadata": {},
     "output_type": "execute_result"
    }
   ],
   "source": [
    "y+=68"
   ]
  },
  {
   "cell_type": "code",
   "execution_count": 19,
   "id": "2144e664",
   "metadata": {},
   "outputs": [
    {
     "data": {
      "text/plain": [
       "69"
      ]
     },
     "execution_count": 19,
     "metadata": {},
     "output_type": "execute_result"
    }
   ],
   "source": [
    "y"
   ]
  },
  {
   "cell_type": "markdown",
   "id": "573444d7",
   "metadata": {},
   "source": [
    "---\n",
    "### Vectorized \"dot\" operators"
   ]
  },
  {
   "cell_type": "markdown",
   "id": "8e872649",
   "metadata": {},
   "source": [
    "For every binary operation like ^, there is a corresponding \"dot\" operation .^ that is automatically defined to perform ^ element-by-element on arrays. For example, [1,2,3] ^ 3 is not defined, since there is no standard mathematical meaning to \"cubing\" a (non-square) array, but [1,2,3] .^ 3 is defined as computing the elementwise (or \"vectorized\") result [1^3, 2^3, 3^3]. Similarly for unary operators like ! or √, there is a corresponding .√ that applies the operator elementwise."
   ]
  },
  {
   "cell_type": "code",
   "execution_count": 20,
   "id": "0bf8be99",
   "metadata": {},
   "outputs": [
    {
     "data": {
      "text/plain": [
       "3-element Vector{Int64}:\n",
       "  1\n",
       "  8\n",
       " 27"
      ]
     },
     "execution_count": 20,
     "metadata": {},
     "output_type": "execute_result"
    }
   ],
   "source": [
    "[1,2,3] .^3"
   ]
  },
  {
   "cell_type": "code",
   "execution_count": 21,
   "id": "d1f35754",
   "metadata": {},
   "outputs": [
    {
     "data": {
      "text/plain": [
       "3-element Vector{Int64}:\n",
       "  1\n",
       " 16\n",
       " 81"
      ]
     },
     "execution_count": 21,
     "metadata": {},
     "output_type": "execute_result"
    }
   ],
   "source": [
    "[1,2,3] .^4"
   ]
  },
  {
   "cell_type": "code",
   "execution_count": 22,
   "id": "be906925",
   "metadata": {},
   "outputs": [
    {
     "data": {
      "text/plain": [
       "3-element Vector{Int64}:\n",
       "   1\n",
       "  32\n",
       " 243"
      ]
     },
     "execution_count": 22,
     "metadata": {},
     "output_type": "execute_result"
    }
   ],
   "source": [
    "[1,2,3] .^5"
   ]
  },
  {
   "cell_type": "markdown",
   "id": "9476b94f",
   "metadata": {},
   "source": [
    "---\n",
    "### Numeric Comparisons "
   ]
  },
  {
   "cell_type": "markdown",
   "id": "d65afebd",
   "metadata": {},
   "source": [
    "![Image Numeric](./image/Numeric_Comparisons.png)"
   ]
  },
  {
   "cell_type": "code",
   "execution_count": 23,
   "id": "63d572a4",
   "metadata": {},
   "outputs": [
    {
     "data": {
      "text/plain": [
       "true"
      ]
     },
     "execution_count": 23,
     "metadata": {},
     "output_type": "execute_result"
    }
   ],
   "source": [
    "69==69"
   ]
  },
  {
   "cell_type": "code",
   "execution_count": 24,
   "id": "7a52c014",
   "metadata": {},
   "outputs": [
    {
     "data": {
      "text/plain": [
       "false"
      ]
     },
     "execution_count": 24,
     "metadata": {},
     "output_type": "execute_result"
    }
   ],
   "source": [
    "69==96"
   ]
  },
  {
   "cell_type": "code",
   "execution_count": 25,
   "id": "ea5a1e95",
   "metadata": {},
   "outputs": [
    {
     "data": {
      "text/plain": [
       "true"
      ]
     },
     "execution_count": 25,
     "metadata": {},
     "output_type": "execute_result"
    }
   ],
   "source": [
    "1!=96"
   ]
  },
  {
   "cell_type": "code",
   "execution_count": 26,
   "id": "eb24f4db",
   "metadata": {},
   "outputs": [
    {
     "data": {
      "text/plain": [
       "true"
      ]
     },
     "execution_count": 26,
     "metadata": {},
     "output_type": "execute_result"
    }
   ],
   "source": [
    "68==68.0"
   ]
  },
  {
   "cell_type": "code",
   "execution_count": 27,
   "id": "a8295c55",
   "metadata": {},
   "outputs": [
    {
     "data": {
      "text/plain": [
       "true"
      ]
     },
     "execution_count": 27,
     "metadata": {},
     "output_type": "execute_result"
    }
   ],
   "source": [
    "1<2"
   ]
  },
  {
   "cell_type": "code",
   "execution_count": 28,
   "id": "7973df02",
   "metadata": {},
   "outputs": [
    {
     "data": {
      "text/plain": [
       "true"
      ]
     },
     "execution_count": 28,
     "metadata": {},
     "output_type": "execute_result"
    }
   ],
   "source": [
    "2.0>1.9"
   ]
  },
  {
   "cell_type": "code",
   "execution_count": 29,
   "id": "9c1be722",
   "metadata": {},
   "outputs": [
    {
     "data": {
      "text/plain": [
       "true"
      ]
     },
     "execution_count": 29,
     "metadata": {},
     "output_type": "execute_result"
    }
   ],
   "source": [
    "21>=21.0"
   ]
  },
  {
   "cell_type": "code",
   "execution_count": 30,
   "id": "e3783821",
   "metadata": {},
   "outputs": [
    {
     "data": {
      "text/plain": [
       "true"
      ]
     },
     "execution_count": 30,
     "metadata": {},
     "output_type": "execute_result"
    }
   ],
   "source": [
    "-21<=-12"
   ]
  },
  {
   "cell_type": "code",
   "execution_count": 31,
   "id": "f9616841",
   "metadata": {},
   "outputs": [
    {
     "data": {
      "text/plain": [
       "false"
      ]
     },
     "execution_count": 31,
     "metadata": {},
     "output_type": "execute_result"
    }
   ],
   "source": [
    "-12<=-21"
   ]
  },
  {
   "cell_type": "markdown",
   "id": "9630e2ee",
   "metadata": {},
   "source": [
    "---\n",
    "Integers are compared in the standard manner – by comparison of bits. Floating-point numbers are compared according to the IEEE 754 standard:\n",
    "\n",
    "=>Finite numbers are ordered in the usual manner.\n",
    "\n",
    "=>Positive zero is equal but not greater than negative zero.\n",
    "\n",
    "=>Inf is equal to itself and greater than everything else except NaN.\n",
    "\n",
    "=>Inf is equal to itself and less than everything else except NaN.\n",
    "\n",
    "=>NaN is not equal to, not less than, and not greater than anything, including itself.\n"
   ]
  },
  {
   "cell_type": "code",
   "execution_count": 32,
   "id": "c49101d1",
   "metadata": {},
   "outputs": [
    {
     "data": {
      "text/plain": [
       "false"
      ]
     },
     "execution_count": 32,
     "metadata": {},
     "output_type": "execute_result"
    }
   ],
   "source": [
    "NaN == NaN "
   ]
  },
  {
   "cell_type": "code",
   "execution_count": 33,
   "id": "702902c3",
   "metadata": {},
   "outputs": [
    {
     "data": {
      "text/plain": [
       "true"
      ]
     },
     "execution_count": 33,
     "metadata": {},
     "output_type": "execute_result"
    }
   ],
   "source": [
    "NaN != NaN"
   ]
  },
  {
   "cell_type": "code",
   "execution_count": 34,
   "id": "322c22cd",
   "metadata": {},
   "outputs": [
    {
     "data": {
      "text/plain": [
       "false"
      ]
     },
     "execution_count": 34,
     "metadata": {},
     "output_type": "execute_result"
    }
   ],
   "source": [
    "NaN < NaN "
   ]
  },
  {
   "cell_type": "code",
   "execution_count": 35,
   "id": "4f7d1a95",
   "metadata": {},
   "outputs": [
    {
     "data": {
      "text/plain": [
       "false"
      ]
     },
     "execution_count": 35,
     "metadata": {},
     "output_type": "execute_result"
    }
   ],
   "source": [
    "NaN > NaN "
   ]
  },
  {
   "cell_type": "markdown",
   "id": "40430977",
   "metadata": {},
   "source": [
    "---\n",
    "Julia provides additional functions to test numbers for special values, which can be useful in situations like hash key comparisons:"
   ]
  },
  {
   "cell_type": "markdown",
   "id": "eb4aad28",
   "metadata": {},
   "source": [
    "![Image equal](./image/equal.png)"
   ]
  },
  {
   "cell_type": "code",
   "execution_count": 36,
   "id": "d112e0b4",
   "metadata": {},
   "outputs": [
    {
     "data": {
      "text/plain": [
       "true"
      ]
     },
     "execution_count": 36,
     "metadata": {},
     "output_type": "execute_result"
    }
   ],
   "source": [
    "isequal(NaN, NaN)"
   ]
  },
  {
   "cell_type": "code",
   "execution_count": 37,
   "id": "ecce341d",
   "metadata": {},
   "outputs": [
    {
     "data": {
      "text/plain": [
       "true"
      ]
     },
     "execution_count": 37,
     "metadata": {},
     "output_type": "execute_result"
    }
   ],
   "source": [
    "isequal([1 NaN],[1 NaN])"
   ]
  },
  {
   "cell_type": "code",
   "execution_count": 38,
   "id": "edc6ca89",
   "metadata": {},
   "outputs": [
    {
     "data": {
      "text/plain": [
       "true"
      ]
     },
     "execution_count": 38,
     "metadata": {},
     "output_type": "execute_result"
    }
   ],
   "source": [
    "isequal(NaN,NaN32)"
   ]
  },
  {
   "cell_type": "markdown",
   "id": "27e8b98b",
   "metadata": {},
   "source": [
    "---\n",
    "### isequal can be used to distnguish the signed zeros"
   ]
  },
  {
   "cell_type": "code",
   "execution_count": 39,
   "id": "33d74ef6",
   "metadata": {},
   "outputs": [
    {
     "data": {
      "text/plain": [
       "true"
      ]
     },
     "execution_count": 39,
     "metadata": {},
     "output_type": "execute_result"
    }
   ],
   "source": [
    "-0.0 == 0.0 "
   ]
  },
  {
   "cell_type": "code",
   "execution_count": 40,
   "id": "fd18280d",
   "metadata": {},
   "outputs": [
    {
     "data": {
      "text/plain": [
       "false"
      ]
     },
     "execution_count": 40,
     "metadata": {},
     "output_type": "execute_result"
    }
   ],
   "source": [
    "isequal(-0.0,0.0)"
   ]
  },
  {
   "cell_type": "markdown",
   "id": "2b75ab40",
   "metadata": {},
   "source": [
    "Mixed-type comparisons between signed integers, unsigned integers, and floats can be tricky. A great deal of care has been taken to ensure that Julia does them correctly.\n",
    "\n",
    "For other types, isequal defaults to calling ==, so if you want to define equality for your own types then you only need to add a == method. If you define your own equality function, you should probably define a corresponding hash method to ensure that isequal(x,y) implies hash(x) == hash(y)."
   ]
  },
  {
   "cell_type": "markdown",
   "id": "e3205039",
   "metadata": {},
   "source": [
    "---\n",
    "### Chaining comparisons"
   ]
  },
  {
   "cell_type": "markdown",
   "id": "7dfecc92",
   "metadata": {},
   "source": [
    "Unlike most languages, with the notable exception of Python, comparisons can be arbitrarily chained:"
   ]
  },
  {
   "cell_type": "code",
   "execution_count": 41,
   "id": "f8611bf5",
   "metadata": {},
   "outputs": [
    {
     "data": {
      "text/plain": [
       "true"
      ]
     },
     "execution_count": 41,
     "metadata": {},
     "output_type": "execute_result"
    }
   ],
   "source": [
    "1 < 2 <= 2 < 3 == 3 > 2 >= 1 == 1 < 3 != 5"
   ]
  },
  {
   "cell_type": "code",
   "execution_count": 42,
   "id": "182f7b4d",
   "metadata": {},
   "outputs": [
    {
     "data": {
      "text/plain": [
       "v (generic function with 1 method)"
      ]
     },
     "execution_count": 42,
     "metadata": {},
     "output_type": "execute_result"
    }
   ],
   "source": [
    "v(x) = (println(x); x)"
   ]
  },
  {
   "cell_type": "code",
   "execution_count": 43,
   "id": "afed4642",
   "metadata": {},
   "outputs": [
    {
     "name": "stdout",
     "output_type": "stream",
     "text": [
      "2\n",
      "1\n",
      "3\n"
     ]
    },
    {
     "data": {
      "text/plain": [
       "true"
      ]
     },
     "execution_count": 43,
     "metadata": {},
     "output_type": "execute_result"
    }
   ],
   "source": [
    "v(1) < v(2) <= v(3)"
   ]
  },
  {
   "cell_type": "code",
   "execution_count": 44,
   "id": "d9837765",
   "metadata": {},
   "outputs": [
    {
     "name": "stdout",
     "output_type": "stream",
     "text": [
      "2\n",
      "1\n"
     ]
    },
    {
     "data": {
      "text/plain": [
       "false"
      ]
     },
     "execution_count": 44,
     "metadata": {},
     "output_type": "execute_result"
    }
   ],
   "source": [
    "v(1) > v(2) <= v(3)"
   ]
  }
 ],
 "metadata": {
  "kernelspec": {
   "display_name": "Julia 1.10.1",
   "language": "julia",
   "name": "julia-1.10"
  },
  "language_info": {
   "file_extension": ".jl",
   "mimetype": "application/julia",
   "name": "julia",
   "version": "1.10.1"
  }
 },
 "nbformat": 4,
 "nbformat_minor": 5
}
