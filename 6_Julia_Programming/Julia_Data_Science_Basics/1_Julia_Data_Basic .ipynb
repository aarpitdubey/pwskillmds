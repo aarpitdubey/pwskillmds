{
 "cells": [
  {
   "cell_type": "markdown",
   "id": "silent-corruption",
   "metadata": {},
   "source": [
    "# Data Basics "
   ]
  },
  {
   "cell_type": "markdown",
   "id": "explicit-soldier",
   "metadata": {},
   "source": [
    "## Reading CSV Files "
   ]
  },
  {
   "cell_type": "code",
   "execution_count": 1,
   "id": "dress-grove",
   "metadata": {},
   "outputs": [
    {
     "name": "stderr",
     "output_type": "stream",
     "text": [
      "\u001b[32m\u001b[1m   Resolving\u001b[22m\u001b[39m package versions...\n",
      "\u001b[32m\u001b[1m  No Changes\u001b[22m\u001b[39m to `C:\\Users\\pc\\.julia\\environments\\v1.10\\Project.toml`\n",
      "\u001b[32m\u001b[1m  No Changes\u001b[22m\u001b[39m to `C:\\Users\\pc\\.julia\\environments\\v1.10\\Manifest.toml`\n"
     ]
    }
   ],
   "source": [
    "using Pkg\n",
    "Pkg.add(\"DataFrames\")"
   ]
  },
  {
   "cell_type": "code",
   "execution_count": 2,
   "id": "c7bfc0c1",
   "metadata": {},
   "outputs": [],
   "source": [
    "using DataFrames"
   ]
  },
  {
   "cell_type": "code",
   "execution_count": 3,
   "id": "promising-capitol",
   "metadata": {},
   "outputs": [
    {
     "name": "stderr",
     "output_type": "stream",
     "text": [
      "\u001b[32m\u001b[1m   Resolving\u001b[22m\u001b[39m package versions...\n",
      "\u001b[32m\u001b[1m  No Changes\u001b[22m\u001b[39m to `C:\\Users\\pc\\.julia\\environments\\v1.10\\Project.toml`\n",
      "\u001b[32m\u001b[1m  No Changes\u001b[22m\u001b[39m to `C:\\Users\\pc\\.julia\\environments\\v1.10\\Manifest.toml`\n"
     ]
    }
   ],
   "source": [
    "using Pkg\n",
    "Pkg.add(\"CSV\")"
   ]
  },
  {
   "cell_type": "code",
   "execution_count": 4,
   "id": "5bf1baac",
   "metadata": {},
   "outputs": [],
   "source": [
    "using CSV"
   ]
  },
  {
   "cell_type": "code",
   "execution_count": 5,
   "id": "02f826e3",
   "metadata": {},
   "outputs": [
    {
     "data": {
      "text/html": [
       "<div><div style = \"float: left;\"><span>891×12 DataFrame</span></div><div style = \"float: right;\"><span style = \"font-style: italic;\">866 rows omitted</span></div><div style = \"clear: both;\"></div></div><div class = \"data-frame\" style = \"overflow-x: scroll;\"><table class = \"data-frame\" style = \"margin-bottom: 6px;\"><thead><tr class = \"header\"><th class = \"rowNumber\" style = \"font-weight: bold; text-align: right;\">Row</th><th style = \"text-align: left;\">PassengerId</th><th style = \"text-align: left;\">Survived</th><th style = \"text-align: left;\">Pclass</th><th style = \"text-align: left;\">Name</th><th style = \"text-align: left;\">Sex</th><th style = \"text-align: left;\">Age</th><th style = \"text-align: left;\">SibSp</th><th style = \"text-align: left;\">Parch</th><th style = \"text-align: left;\">Ticket</th><th style = \"text-align: left;\">Fare</th><th style = \"text-align: left;\">Cabin</th><th style = \"text-align: left;\">Embarked</th></tr><tr class = \"subheader headerLastRow\"><th class = \"rowNumber\" style = \"font-weight: bold; text-align: right;\"></th><th title = \"Int64\" style = \"text-align: left;\">Int64</th><th title = \"Int64\" style = \"text-align: left;\">Int64</th><th title = \"Int64\" style = \"text-align: left;\">Int64</th><th title = \"String\" style = \"text-align: left;\">String</th><th title = \"String7\" style = \"text-align: left;\">String7</th><th title = \"Union{Missing, Float64}\" style = \"text-align: left;\">Float64?</th><th title = \"Int64\" style = \"text-align: left;\">Int64</th><th title = \"Int64\" style = \"text-align: left;\">Int64</th><th title = \"String31\" style = \"text-align: left;\">String31</th><th title = \"Float64\" style = \"text-align: left;\">Float64</th><th title = \"Union{Missing, String15}\" style = \"text-align: left;\">String15?</th><th title = \"Union{Missing, String1}\" style = \"text-align: left;\">String1?</th></tr></thead><tbody><tr><td class = \"rowNumber\" style = \"font-weight: bold; text-align: right;\">1</td><td style = \"text-align: right;\">1</td><td style = \"text-align: right;\">0</td><td style = \"text-align: right;\">3</td><td style = \"text-align: left;\">Braund, Mr. Owen Harris</td><td style = \"text-align: left;\">male</td><td style = \"text-align: right;\">22.0</td><td style = \"text-align: right;\">1</td><td style = \"text-align: right;\">0</td><td style = \"text-align: left;\">A/5 21171</td><td style = \"text-align: right;\">7.25</td><td style = \"font-style: italic; text-align: left;\">missing</td><td style = \"text-align: left;\">S</td></tr><tr><td class = \"rowNumber\" style = \"font-weight: bold; text-align: right;\">2</td><td style = \"text-align: right;\">2</td><td style = \"text-align: right;\">1</td><td style = \"text-align: right;\">1</td><td style = \"text-align: left;\">Cumings, Mrs. John Bradley (Florence Briggs Thayer)</td><td style = \"text-align: left;\">female</td><td style = \"text-align: right;\">38.0</td><td style = \"text-align: right;\">1</td><td style = \"text-align: right;\">0</td><td style = \"text-align: left;\">PC 17599</td><td style = \"text-align: right;\">71.2833</td><td style = \"text-align: left;\">C85</td><td style = \"text-align: left;\">C</td></tr><tr><td class = \"rowNumber\" style = \"font-weight: bold; text-align: right;\">3</td><td style = \"text-align: right;\">3</td><td style = \"text-align: right;\">1</td><td style = \"text-align: right;\">3</td><td style = \"text-align: left;\">Heikkinen, Miss. Laina</td><td style = \"text-align: left;\">female</td><td style = \"text-align: right;\">26.0</td><td style = \"text-align: right;\">0</td><td style = \"text-align: right;\">0</td><td style = \"text-align: left;\">STON/O2. 3101282</td><td style = \"text-align: right;\">7.925</td><td style = \"font-style: italic; text-align: left;\">missing</td><td style = \"text-align: left;\">S</td></tr><tr><td class = \"rowNumber\" style = \"font-weight: bold; text-align: right;\">4</td><td style = \"text-align: right;\">4</td><td style = \"text-align: right;\">1</td><td style = \"text-align: right;\">1</td><td style = \"text-align: left;\">Futrelle, Mrs. Jacques Heath (Lily May Peel)</td><td style = \"text-align: left;\">female</td><td style = \"text-align: right;\">35.0</td><td style = \"text-align: right;\">1</td><td style = \"text-align: right;\">0</td><td style = \"text-align: left;\">113803</td><td style = \"text-align: right;\">53.1</td><td style = \"text-align: left;\">C123</td><td style = \"text-align: left;\">S</td></tr><tr><td class = \"rowNumber\" style = \"font-weight: bold; text-align: right;\">5</td><td style = \"text-align: right;\">5</td><td style = \"text-align: right;\">0</td><td style = \"text-align: right;\">3</td><td style = \"text-align: left;\">Allen, Mr. William Henry</td><td style = \"text-align: left;\">male</td><td style = \"text-align: right;\">35.0</td><td style = \"text-align: right;\">0</td><td style = \"text-align: right;\">0</td><td style = \"text-align: left;\">373450</td><td style = \"text-align: right;\">8.05</td><td style = \"font-style: italic; text-align: left;\">missing</td><td style = \"text-align: left;\">S</td></tr><tr><td class = \"rowNumber\" style = \"font-weight: bold; text-align: right;\">6</td><td style = \"text-align: right;\">6</td><td style = \"text-align: right;\">0</td><td style = \"text-align: right;\">3</td><td style = \"text-align: left;\">Moran, Mr. James</td><td style = \"text-align: left;\">male</td><td style = \"font-style: italic; text-align: right;\">missing</td><td style = \"text-align: right;\">0</td><td style = \"text-align: right;\">0</td><td style = \"text-align: left;\">330877</td><td style = \"text-align: right;\">8.4583</td><td style = \"font-style: italic; text-align: left;\">missing</td><td style = \"text-align: left;\">Q</td></tr><tr><td class = \"rowNumber\" style = \"font-weight: bold; text-align: right;\">7</td><td style = \"text-align: right;\">7</td><td style = \"text-align: right;\">0</td><td style = \"text-align: right;\">1</td><td style = \"text-align: left;\">McCarthy, Mr. Timothy J</td><td style = \"text-align: left;\">male</td><td style = \"text-align: right;\">54.0</td><td style = \"text-align: right;\">0</td><td style = \"text-align: right;\">0</td><td style = \"text-align: left;\">17463</td><td style = \"text-align: right;\">51.8625</td><td style = \"text-align: left;\">E46</td><td style = \"text-align: left;\">S</td></tr><tr><td class = \"rowNumber\" style = \"font-weight: bold; text-align: right;\">8</td><td style = \"text-align: right;\">8</td><td style = \"text-align: right;\">0</td><td style = \"text-align: right;\">3</td><td style = \"text-align: left;\">Palsson, Master. Gosta Leonard</td><td style = \"text-align: left;\">male</td><td style = \"text-align: right;\">2.0</td><td style = \"text-align: right;\">3</td><td style = \"text-align: right;\">1</td><td style = \"text-align: left;\">349909</td><td style = \"text-align: right;\">21.075</td><td style = \"font-style: italic; text-align: left;\">missing</td><td style = \"text-align: left;\">S</td></tr><tr><td class = \"rowNumber\" style = \"font-weight: bold; text-align: right;\">9</td><td style = \"text-align: right;\">9</td><td style = \"text-align: right;\">1</td><td style = \"text-align: right;\">3</td><td style = \"text-align: left;\">Johnson, Mrs. Oscar W (Elisabeth Vilhelmina Berg)</td><td style = \"text-align: left;\">female</td><td style = \"text-align: right;\">27.0</td><td style = \"text-align: right;\">0</td><td style = \"text-align: right;\">2</td><td style = \"text-align: left;\">347742</td><td style = \"text-align: right;\">11.1333</td><td style = \"font-style: italic; text-align: left;\">missing</td><td style = \"text-align: left;\">S</td></tr><tr><td class = \"rowNumber\" style = \"font-weight: bold; text-align: right;\">10</td><td style = \"text-align: right;\">10</td><td style = \"text-align: right;\">1</td><td style = \"text-align: right;\">2</td><td style = \"text-align: left;\">Nasser, Mrs. Nicholas (Adele Achem)</td><td style = \"text-align: left;\">female</td><td style = \"text-align: right;\">14.0</td><td style = \"text-align: right;\">1</td><td style = \"text-align: right;\">0</td><td style = \"text-align: left;\">237736</td><td style = \"text-align: right;\">30.0708</td><td style = \"font-style: italic; text-align: left;\">missing</td><td style = \"text-align: left;\">C</td></tr><tr><td class = \"rowNumber\" style = \"font-weight: bold; text-align: right;\">11</td><td style = \"text-align: right;\">11</td><td style = \"text-align: right;\">1</td><td style = \"text-align: right;\">3</td><td style = \"text-align: left;\">Sandstrom, Miss. Marguerite Rut</td><td style = \"text-align: left;\">female</td><td style = \"text-align: right;\">4.0</td><td style = \"text-align: right;\">1</td><td style = \"text-align: right;\">1</td><td style = \"text-align: left;\">PP 9549</td><td style = \"text-align: right;\">16.7</td><td style = \"text-align: left;\">G6</td><td style = \"text-align: left;\">S</td></tr><tr><td class = \"rowNumber\" style = \"font-weight: bold; text-align: right;\">12</td><td style = \"text-align: right;\">12</td><td style = \"text-align: right;\">1</td><td style = \"text-align: right;\">1</td><td style = \"text-align: left;\">Bonnell, Miss. Elizabeth</td><td style = \"text-align: left;\">female</td><td style = \"text-align: right;\">58.0</td><td style = \"text-align: right;\">0</td><td style = \"text-align: right;\">0</td><td style = \"text-align: left;\">113783</td><td style = \"text-align: right;\">26.55</td><td style = \"text-align: left;\">C103</td><td style = \"text-align: left;\">S</td></tr><tr><td class = \"rowNumber\" style = \"font-weight: bold; text-align: right;\">13</td><td style = \"text-align: right;\">13</td><td style = \"text-align: right;\">0</td><td style = \"text-align: right;\">3</td><td style = \"text-align: left;\">Saundercock, Mr. William Henry</td><td style = \"text-align: left;\">male</td><td style = \"text-align: right;\">20.0</td><td style = \"text-align: right;\">0</td><td style = \"text-align: right;\">0</td><td style = \"text-align: left;\">A/5. 2151</td><td style = \"text-align: right;\">8.05</td><td style = \"font-style: italic; text-align: left;\">missing</td><td style = \"text-align: left;\">S</td></tr><tr><td style = \"text-align: right;\">&vellip;</td><td style = \"text-align: right;\">&vellip;</td><td style = \"text-align: right;\">&vellip;</td><td style = \"text-align: right;\">&vellip;</td><td style = \"text-align: right;\">&vellip;</td><td style = \"text-align: right;\">&vellip;</td><td style = \"text-align: right;\">&vellip;</td><td style = \"text-align: right;\">&vellip;</td><td style = \"text-align: right;\">&vellip;</td><td style = \"text-align: right;\">&vellip;</td><td style = \"text-align: right;\">&vellip;</td><td style = \"text-align: right;\">&vellip;</td><td style = \"text-align: right;\">&vellip;</td></tr><tr><td class = \"rowNumber\" style = \"font-weight: bold; text-align: right;\">880</td><td style = \"text-align: right;\">880</td><td style = \"text-align: right;\">1</td><td style = \"text-align: right;\">1</td><td style = \"text-align: left;\">Potter, Mrs. Thomas Jr (Lily Alexenia Wilson)</td><td style = \"text-align: left;\">female</td><td style = \"text-align: right;\">56.0</td><td style = \"text-align: right;\">0</td><td style = \"text-align: right;\">1</td><td style = \"text-align: left;\">11767</td><td style = \"text-align: right;\">83.1583</td><td style = \"text-align: left;\">C50</td><td style = \"text-align: left;\">C</td></tr><tr><td class = \"rowNumber\" style = \"font-weight: bold; text-align: right;\">881</td><td style = \"text-align: right;\">881</td><td style = \"text-align: right;\">1</td><td style = \"text-align: right;\">2</td><td style = \"text-align: left;\">Shelley, Mrs. William (Imanita Parrish Hall)</td><td style = \"text-align: left;\">female</td><td style = \"text-align: right;\">25.0</td><td style = \"text-align: right;\">0</td><td style = \"text-align: right;\">1</td><td style = \"text-align: left;\">230433</td><td style = \"text-align: right;\">26.0</td><td style = \"font-style: italic; text-align: left;\">missing</td><td style = \"text-align: left;\">S</td></tr><tr><td class = \"rowNumber\" style = \"font-weight: bold; text-align: right;\">882</td><td style = \"text-align: right;\">882</td><td style = \"text-align: right;\">0</td><td style = \"text-align: right;\">3</td><td style = \"text-align: left;\">Markun, Mr. Johann</td><td style = \"text-align: left;\">male</td><td style = \"text-align: right;\">33.0</td><td style = \"text-align: right;\">0</td><td style = \"text-align: right;\">0</td><td style = \"text-align: left;\">349257</td><td style = \"text-align: right;\">7.8958</td><td style = \"font-style: italic; text-align: left;\">missing</td><td style = \"text-align: left;\">S</td></tr><tr><td class = \"rowNumber\" style = \"font-weight: bold; text-align: right;\">883</td><td style = \"text-align: right;\">883</td><td style = \"text-align: right;\">0</td><td style = \"text-align: right;\">3</td><td style = \"text-align: left;\">Dahlberg, Miss. Gerda Ulrika</td><td style = \"text-align: left;\">female</td><td style = \"text-align: right;\">22.0</td><td style = \"text-align: right;\">0</td><td style = \"text-align: right;\">0</td><td style = \"text-align: left;\">7552</td><td style = \"text-align: right;\">10.5167</td><td style = \"font-style: italic; text-align: left;\">missing</td><td style = \"text-align: left;\">S</td></tr><tr><td class = \"rowNumber\" style = \"font-weight: bold; text-align: right;\">884</td><td style = \"text-align: right;\">884</td><td style = \"text-align: right;\">0</td><td style = \"text-align: right;\">2</td><td style = \"text-align: left;\">Banfield, Mr. Frederick James</td><td style = \"text-align: left;\">male</td><td style = \"text-align: right;\">28.0</td><td style = \"text-align: right;\">0</td><td style = \"text-align: right;\">0</td><td style = \"text-align: left;\">C.A./SOTON 34068</td><td style = \"text-align: right;\">10.5</td><td style = \"font-style: italic; text-align: left;\">missing</td><td style = \"text-align: left;\">S</td></tr><tr><td class = \"rowNumber\" style = \"font-weight: bold; text-align: right;\">885</td><td style = \"text-align: right;\">885</td><td style = \"text-align: right;\">0</td><td style = \"text-align: right;\">3</td><td style = \"text-align: left;\">Sutehall, Mr. Henry Jr</td><td style = \"text-align: left;\">male</td><td style = \"text-align: right;\">25.0</td><td style = \"text-align: right;\">0</td><td style = \"text-align: right;\">0</td><td style = \"text-align: left;\">SOTON/OQ 392076</td><td style = \"text-align: right;\">7.05</td><td style = \"font-style: italic; text-align: left;\">missing</td><td style = \"text-align: left;\">S</td></tr><tr><td class = \"rowNumber\" style = \"font-weight: bold; text-align: right;\">886</td><td style = \"text-align: right;\">886</td><td style = \"text-align: right;\">0</td><td style = \"text-align: right;\">3</td><td style = \"text-align: left;\">Rice, Mrs. William (Margaret Norton)</td><td style = \"text-align: left;\">female</td><td style = \"text-align: right;\">39.0</td><td style = \"text-align: right;\">0</td><td style = \"text-align: right;\">5</td><td style = \"text-align: left;\">382652</td><td style = \"text-align: right;\">29.125</td><td style = \"font-style: italic; text-align: left;\">missing</td><td style = \"text-align: left;\">Q</td></tr><tr><td class = \"rowNumber\" style = \"font-weight: bold; text-align: right;\">887</td><td style = \"text-align: right;\">887</td><td style = \"text-align: right;\">0</td><td style = \"text-align: right;\">2</td><td style = \"text-align: left;\">Montvila, Rev. Juozas</td><td style = \"text-align: left;\">male</td><td style = \"text-align: right;\">27.0</td><td style = \"text-align: right;\">0</td><td style = \"text-align: right;\">0</td><td style = \"text-align: left;\">211536</td><td style = \"text-align: right;\">13.0</td><td style = \"font-style: italic; text-align: left;\">missing</td><td style = \"text-align: left;\">S</td></tr><tr><td class = \"rowNumber\" style = \"font-weight: bold; text-align: right;\">888</td><td style = \"text-align: right;\">888</td><td style = \"text-align: right;\">1</td><td style = \"text-align: right;\">1</td><td style = \"text-align: left;\">Graham, Miss. Margaret Edith</td><td style = \"text-align: left;\">female</td><td style = \"text-align: right;\">19.0</td><td style = \"text-align: right;\">0</td><td style = \"text-align: right;\">0</td><td style = \"text-align: left;\">112053</td><td style = \"text-align: right;\">30.0</td><td style = \"text-align: left;\">B42</td><td style = \"text-align: left;\">S</td></tr><tr><td class = \"rowNumber\" style = \"font-weight: bold; text-align: right;\">889</td><td style = \"text-align: right;\">889</td><td style = \"text-align: right;\">0</td><td style = \"text-align: right;\">3</td><td style = \"text-align: left;\">Johnston, Miss. Catherine Helen &quot;Carrie&quot;</td><td style = \"text-align: left;\">female</td><td style = \"font-style: italic; text-align: right;\">missing</td><td style = \"text-align: right;\">1</td><td style = \"text-align: right;\">2</td><td style = \"text-align: left;\">W./C. 6607</td><td style = \"text-align: right;\">23.45</td><td style = \"font-style: italic; text-align: left;\">missing</td><td style = \"text-align: left;\">S</td></tr><tr><td class = \"rowNumber\" style = \"font-weight: bold; text-align: right;\">890</td><td style = \"text-align: right;\">890</td><td style = \"text-align: right;\">1</td><td style = \"text-align: right;\">1</td><td style = \"text-align: left;\">Behr, Mr. Karl Howell</td><td style = \"text-align: left;\">male</td><td style = \"text-align: right;\">26.0</td><td style = \"text-align: right;\">0</td><td style = \"text-align: right;\">0</td><td style = \"text-align: left;\">111369</td><td style = \"text-align: right;\">30.0</td><td style = \"text-align: left;\">C148</td><td style = \"text-align: left;\">C</td></tr><tr><td class = \"rowNumber\" style = \"font-weight: bold; text-align: right;\">891</td><td style = \"text-align: right;\">891</td><td style = \"text-align: right;\">0</td><td style = \"text-align: right;\">3</td><td style = \"text-align: left;\">Dooley, Mr. Patrick</td><td style = \"text-align: left;\">male</td><td style = \"text-align: right;\">32.0</td><td style = \"text-align: right;\">0</td><td style = \"text-align: right;\">0</td><td style = \"text-align: left;\">370376</td><td style = \"text-align: right;\">7.75</td><td style = \"font-style: italic; text-align: left;\">missing</td><td style = \"text-align: left;\">Q</td></tr></tbody></table></div>"
      ],
      "text/latex": [
       "\\begin{tabular}{r|ccccc}\n",
       "\t& PassengerId & Survived & Pclass & Name & \\\\\n",
       "\t\\hline\n",
       "\t& Int64 & Int64 & Int64 & String & \\\\\n",
       "\t\\hline\n",
       "\t1 & 1 & 0 & 3 & Braund, Mr. Owen Harris & $\\dots$ \\\\\n",
       "\t2 & 2 & 1 & 1 & Cumings, Mrs. John Bradley (Florence Briggs Thayer) & $\\dots$ \\\\\n",
       "\t3 & 3 & 1 & 3 & Heikkinen, Miss. Laina & $\\dots$ \\\\\n",
       "\t4 & 4 & 1 & 1 & Futrelle, Mrs. Jacques Heath (Lily May Peel) & $\\dots$ \\\\\n",
       "\t5 & 5 & 0 & 3 & Allen, Mr. William Henry & $\\dots$ \\\\\n",
       "\t6 & 6 & 0 & 3 & Moran, Mr. James & $\\dots$ \\\\\n",
       "\t7 & 7 & 0 & 1 & McCarthy, Mr. Timothy J & $\\dots$ \\\\\n",
       "\t8 & 8 & 0 & 3 & Palsson, Master. Gosta Leonard & $\\dots$ \\\\\n",
       "\t9 & 9 & 1 & 3 & Johnson, Mrs. Oscar W (Elisabeth Vilhelmina Berg) & $\\dots$ \\\\\n",
       "\t10 & 10 & 1 & 2 & Nasser, Mrs. Nicholas (Adele Achem) & $\\dots$ \\\\\n",
       "\t11 & 11 & 1 & 3 & Sandstrom, Miss. Marguerite Rut & $\\dots$ \\\\\n",
       "\t12 & 12 & 1 & 1 & Bonnell, Miss. Elizabeth & $\\dots$ \\\\\n",
       "\t13 & 13 & 0 & 3 & Saundercock, Mr. William Henry & $\\dots$ \\\\\n",
       "\t14 & 14 & 0 & 3 & Andersson, Mr. Anders Johan & $\\dots$ \\\\\n",
       "\t15 & 15 & 0 & 3 & Vestrom, Miss. Hulda Amanda Adolfina & $\\dots$ \\\\\n",
       "\t16 & 16 & 1 & 2 & Hewlett, Mrs. (Mary D Kingcome)  & $\\dots$ \\\\\n",
       "\t17 & 17 & 0 & 3 & Rice, Master. Eugene & $\\dots$ \\\\\n",
       "\t18 & 18 & 1 & 2 & Williams, Mr. Charles Eugene & $\\dots$ \\\\\n",
       "\t19 & 19 & 0 & 3 & Vander Planke, Mrs. Julius (Emelia Maria Vandemoortele) & $\\dots$ \\\\\n",
       "\t20 & 20 & 1 & 3 & Masselmani, Mrs. Fatima & $\\dots$ \\\\\n",
       "\t21 & 21 & 0 & 2 & Fynney, Mr. Joseph J & $\\dots$ \\\\\n",
       "\t22 & 22 & 1 & 2 & Beesley, Mr. Lawrence & $\\dots$ \\\\\n",
       "\t23 & 23 & 1 & 3 & McGowan, Miss. Anna \"Annie\" & $\\dots$ \\\\\n",
       "\t24 & 24 & 1 & 1 & Sloper, Mr. William Thompson & $\\dots$ \\\\\n",
       "\t25 & 25 & 0 & 3 & Palsson, Miss. Torborg Danira & $\\dots$ \\\\\n",
       "\t26 & 26 & 1 & 3 & Asplund, Mrs. Carl Oscar (Selma Augusta Emilia Johansson) & $\\dots$ \\\\\n",
       "\t27 & 27 & 0 & 3 & Emir, Mr. Farred Chehab & $\\dots$ \\\\\n",
       "\t28 & 28 & 0 & 1 & Fortune, Mr. Charles Alexander & $\\dots$ \\\\\n",
       "\t29 & 29 & 1 & 3 & O'Dwyer, Miss. Ellen \"Nellie\" & $\\dots$ \\\\\n",
       "\t30 & 30 & 0 & 3 & Todoroff, Mr. Lalio & $\\dots$ \\\\\n",
       "\t$\\dots$ & $\\dots$ & $\\dots$ & $\\dots$ & $\\dots$ &  \\\\\n",
       "\\end{tabular}\n"
      ],
      "text/plain": [
       "\u001b[1m891×12 DataFrame\u001b[0m\n",
       "\u001b[1m Row \u001b[0m│\u001b[1m PassengerId \u001b[0m\u001b[1m Survived \u001b[0m\u001b[1m Pclass \u001b[0m\u001b[1m Name                              \u001b[0m\u001b[1m Sex  \u001b[0m ⋯\n",
       "     │\u001b[90m Int64       \u001b[0m\u001b[90m Int64    \u001b[0m\u001b[90m Int64  \u001b[0m\u001b[90m String                            \u001b[0m\u001b[90m Strin\u001b[0m ⋯\n",
       "─────┼──────────────────────────────────────────────────────────────────────────\n",
       "   1 │           1         0       3  Braund, Mr. Owen Harris            male  ⋯\n",
       "   2 │           2         1       1  Cumings, Mrs. John Bradley (Flor…  femal\n",
       "   3 │           3         1       3  Heikkinen, Miss. Laina             femal\n",
       "   4 │           4         1       1  Futrelle, Mrs. Jacques Heath (Li…  femal\n",
       "   5 │           5         0       3  Allen, Mr. William Henry           male  ⋯\n",
       "   6 │           6         0       3  Moran, Mr. James                   male\n",
       "   7 │           7         0       1  McCarthy, Mr. Timothy J            male\n",
       "   8 │           8         0       3  Palsson, Master. Gosta Leonard     male\n",
       "   9 │           9         1       3  Johnson, Mrs. Oscar W (Elisabeth…  femal ⋯\n",
       "  10 │          10         1       2  Nasser, Mrs. Nicholas (Adele Ach…  femal\n",
       "  11 │          11         1       3  Sandstrom, Miss. Marguerite Rut    femal\n",
       "  ⋮  │      ⋮          ⋮        ⋮                     ⋮                     ⋮  ⋱\n",
       " 882 │         882         0       3  Markun, Mr. Johann                 male\n",
       " 883 │         883         0       3  Dahlberg, Miss. Gerda Ulrika       femal ⋯\n",
       " 884 │         884         0       2  Banfield, Mr. Frederick James      male\n",
       " 885 │         885         0       3  Sutehall, Mr. Henry Jr             male\n",
       " 886 │         886         0       3  Rice, Mrs. William (Margaret Nor…  femal\n",
       " 887 │         887         0       2  Montvila, Rev. Juozas              male  ⋯\n",
       " 888 │         888         1       1  Graham, Miss. Margaret Edith       femal\n",
       " 889 │         889         0       3  Johnston, Miss. Catherine Helen …  femal\n",
       " 890 │         890         1       1  Behr, Mr. Karl Howell              male\n",
       " 891 │         891         0       3  Dooley, Mr. Patrick                male  ⋯\n",
       "\u001b[36m                                                  8 columns and 870 rows omitted\u001b[0m"
      ]
     },
     "execution_count": 5,
     "metadata": {},
     "output_type": "execute_result"
    }
   ],
   "source": [
    "df = DataFrame(CSV.File(\"../dataset/Titanic.csv\"))"
   ]
  },
  {
   "cell_type": "code",
   "execution_count": 6,
   "id": "everyday-cedar",
   "metadata": {},
   "outputs": [
    {
     "data": {
      "text/html": [
       "<div><div style = \"float: left;\"><span>891×12 DataFrame</span></div><div style = \"float: right;\"><span style = \"font-style: italic;\">866 rows omitted</span></div><div style = \"clear: both;\"></div></div><div class = \"data-frame\" style = \"overflow-x: scroll;\"><table class = \"data-frame\" style = \"margin-bottom: 6px;\"><thead><tr class = \"header\"><th class = \"rowNumber\" style = \"font-weight: bold; text-align: right;\">Row</th><th style = \"text-align: left;\">PassengerId</th><th style = \"text-align: left;\">Survived</th><th style = \"text-align: left;\">Pclass</th><th style = \"text-align: left;\">Name</th><th style = \"text-align: left;\">Sex</th><th style = \"text-align: left;\">Age</th><th style = \"text-align: left;\">SibSp</th><th style = \"text-align: left;\">Parch</th><th style = \"text-align: left;\">Ticket</th><th style = \"text-align: left;\">Fare</th><th style = \"text-align: left;\">Cabin</th><th style = \"text-align: left;\">Embarked</th></tr><tr class = \"subheader headerLastRow\"><th class = \"rowNumber\" style = \"font-weight: bold; text-align: right;\"></th><th title = \"Int64\" style = \"text-align: left;\">Int64</th><th title = \"Int64\" style = \"text-align: left;\">Int64</th><th title = \"Int64\" style = \"text-align: left;\">Int64</th><th title = \"String\" style = \"text-align: left;\">String</th><th title = \"String7\" style = \"text-align: left;\">String7</th><th title = \"Union{Missing, Float64}\" style = \"text-align: left;\">Float64?</th><th title = \"Int64\" style = \"text-align: left;\">Int64</th><th title = \"Int64\" style = \"text-align: left;\">Int64</th><th title = \"String31\" style = \"text-align: left;\">String31</th><th title = \"Float64\" style = \"text-align: left;\">Float64</th><th title = \"Union{Missing, String15}\" style = \"text-align: left;\">String15?</th><th title = \"Union{Missing, String1}\" style = \"text-align: left;\">String1?</th></tr></thead><tbody><tr><td class = \"rowNumber\" style = \"font-weight: bold; text-align: right;\">1</td><td style = \"text-align: right;\">1</td><td style = \"text-align: right;\">0</td><td style = \"text-align: right;\">3</td><td style = \"text-align: left;\">Braund, Mr. Owen Harris</td><td style = \"text-align: left;\">male</td><td style = \"text-align: right;\">22.0</td><td style = \"text-align: right;\">1</td><td style = \"text-align: right;\">0</td><td style = \"text-align: left;\">A/5 21171</td><td style = \"text-align: right;\">7.25</td><td style = \"font-style: italic; text-align: left;\">missing</td><td style = \"text-align: left;\">S</td></tr><tr><td class = \"rowNumber\" style = \"font-weight: bold; text-align: right;\">2</td><td style = \"text-align: right;\">2</td><td style = \"text-align: right;\">1</td><td style = \"text-align: right;\">1</td><td style = \"text-align: left;\">Cumings, Mrs. John Bradley (Florence Briggs Thayer)</td><td style = \"text-align: left;\">female</td><td style = \"text-align: right;\">38.0</td><td style = \"text-align: right;\">1</td><td style = \"text-align: right;\">0</td><td style = \"text-align: left;\">PC 17599</td><td style = \"text-align: right;\">71.2833</td><td style = \"text-align: left;\">C85</td><td style = \"text-align: left;\">C</td></tr><tr><td class = \"rowNumber\" style = \"font-weight: bold; text-align: right;\">3</td><td style = \"text-align: right;\">3</td><td style = \"text-align: right;\">1</td><td style = \"text-align: right;\">3</td><td style = \"text-align: left;\">Heikkinen, Miss. Laina</td><td style = \"text-align: left;\">female</td><td style = \"text-align: right;\">26.0</td><td style = \"text-align: right;\">0</td><td style = \"text-align: right;\">0</td><td style = \"text-align: left;\">STON/O2. 3101282</td><td style = \"text-align: right;\">7.925</td><td style = \"font-style: italic; text-align: left;\">missing</td><td style = \"text-align: left;\">S</td></tr><tr><td class = \"rowNumber\" style = \"font-weight: bold; text-align: right;\">4</td><td style = \"text-align: right;\">4</td><td style = \"text-align: right;\">1</td><td style = \"text-align: right;\">1</td><td style = \"text-align: left;\">Futrelle, Mrs. Jacques Heath (Lily May Peel)</td><td style = \"text-align: left;\">female</td><td style = \"text-align: right;\">35.0</td><td style = \"text-align: right;\">1</td><td style = \"text-align: right;\">0</td><td style = \"text-align: left;\">113803</td><td style = \"text-align: right;\">53.1</td><td style = \"text-align: left;\">C123</td><td style = \"text-align: left;\">S</td></tr><tr><td class = \"rowNumber\" style = \"font-weight: bold; text-align: right;\">5</td><td style = \"text-align: right;\">5</td><td style = \"text-align: right;\">0</td><td style = \"text-align: right;\">3</td><td style = \"text-align: left;\">Allen, Mr. William Henry</td><td style = \"text-align: left;\">male</td><td style = \"text-align: right;\">35.0</td><td style = \"text-align: right;\">0</td><td style = \"text-align: right;\">0</td><td style = \"text-align: left;\">373450</td><td style = \"text-align: right;\">8.05</td><td style = \"font-style: italic; text-align: left;\">missing</td><td style = \"text-align: left;\">S</td></tr><tr><td class = \"rowNumber\" style = \"font-weight: bold; text-align: right;\">6</td><td style = \"text-align: right;\">6</td><td style = \"text-align: right;\">0</td><td style = \"text-align: right;\">3</td><td style = \"text-align: left;\">Moran, Mr. James</td><td style = \"text-align: left;\">male</td><td style = \"font-style: italic; text-align: right;\">missing</td><td style = \"text-align: right;\">0</td><td style = \"text-align: right;\">0</td><td style = \"text-align: left;\">330877</td><td style = \"text-align: right;\">8.4583</td><td style = \"font-style: italic; text-align: left;\">missing</td><td style = \"text-align: left;\">Q</td></tr><tr><td class = \"rowNumber\" style = \"font-weight: bold; text-align: right;\">7</td><td style = \"text-align: right;\">7</td><td style = \"text-align: right;\">0</td><td style = \"text-align: right;\">1</td><td style = \"text-align: left;\">McCarthy, Mr. Timothy J</td><td style = \"text-align: left;\">male</td><td style = \"text-align: right;\">54.0</td><td style = \"text-align: right;\">0</td><td style = \"text-align: right;\">0</td><td style = \"text-align: left;\">17463</td><td style = \"text-align: right;\">51.8625</td><td style = \"text-align: left;\">E46</td><td style = \"text-align: left;\">S</td></tr><tr><td class = \"rowNumber\" style = \"font-weight: bold; text-align: right;\">8</td><td style = \"text-align: right;\">8</td><td style = \"text-align: right;\">0</td><td style = \"text-align: right;\">3</td><td style = \"text-align: left;\">Palsson, Master. Gosta Leonard</td><td style = \"text-align: left;\">male</td><td style = \"text-align: right;\">2.0</td><td style = \"text-align: right;\">3</td><td style = \"text-align: right;\">1</td><td style = \"text-align: left;\">349909</td><td style = \"text-align: right;\">21.075</td><td style = \"font-style: italic; text-align: left;\">missing</td><td style = \"text-align: left;\">S</td></tr><tr><td class = \"rowNumber\" style = \"font-weight: bold; text-align: right;\">9</td><td style = \"text-align: right;\">9</td><td style = \"text-align: right;\">1</td><td style = \"text-align: right;\">3</td><td style = \"text-align: left;\">Johnson, Mrs. Oscar W (Elisabeth Vilhelmina Berg)</td><td style = \"text-align: left;\">female</td><td style = \"text-align: right;\">27.0</td><td style = \"text-align: right;\">0</td><td style = \"text-align: right;\">2</td><td style = \"text-align: left;\">347742</td><td style = \"text-align: right;\">11.1333</td><td style = \"font-style: italic; text-align: left;\">missing</td><td style = \"text-align: left;\">S</td></tr><tr><td class = \"rowNumber\" style = \"font-weight: bold; text-align: right;\">10</td><td style = \"text-align: right;\">10</td><td style = \"text-align: right;\">1</td><td style = \"text-align: right;\">2</td><td style = \"text-align: left;\">Nasser, Mrs. Nicholas (Adele Achem)</td><td style = \"text-align: left;\">female</td><td style = \"text-align: right;\">14.0</td><td style = \"text-align: right;\">1</td><td style = \"text-align: right;\">0</td><td style = \"text-align: left;\">237736</td><td style = \"text-align: right;\">30.0708</td><td style = \"font-style: italic; text-align: left;\">missing</td><td style = \"text-align: left;\">C</td></tr><tr><td class = \"rowNumber\" style = \"font-weight: bold; text-align: right;\">11</td><td style = \"text-align: right;\">11</td><td style = \"text-align: right;\">1</td><td style = \"text-align: right;\">3</td><td style = \"text-align: left;\">Sandstrom, Miss. Marguerite Rut</td><td style = \"text-align: left;\">female</td><td style = \"text-align: right;\">4.0</td><td style = \"text-align: right;\">1</td><td style = \"text-align: right;\">1</td><td style = \"text-align: left;\">PP 9549</td><td style = \"text-align: right;\">16.7</td><td style = \"text-align: left;\">G6</td><td style = \"text-align: left;\">S</td></tr><tr><td class = \"rowNumber\" style = \"font-weight: bold; text-align: right;\">12</td><td style = \"text-align: right;\">12</td><td style = \"text-align: right;\">1</td><td style = \"text-align: right;\">1</td><td style = \"text-align: left;\">Bonnell, Miss. Elizabeth</td><td style = \"text-align: left;\">female</td><td style = \"text-align: right;\">58.0</td><td style = \"text-align: right;\">0</td><td style = \"text-align: right;\">0</td><td style = \"text-align: left;\">113783</td><td style = \"text-align: right;\">26.55</td><td style = \"text-align: left;\">C103</td><td style = \"text-align: left;\">S</td></tr><tr><td class = \"rowNumber\" style = \"font-weight: bold; text-align: right;\">13</td><td style = \"text-align: right;\">13</td><td style = \"text-align: right;\">0</td><td style = \"text-align: right;\">3</td><td style = \"text-align: left;\">Saundercock, Mr. William Henry</td><td style = \"text-align: left;\">male</td><td style = \"text-align: right;\">20.0</td><td style = \"text-align: right;\">0</td><td style = \"text-align: right;\">0</td><td style = \"text-align: left;\">A/5. 2151</td><td style = \"text-align: right;\">8.05</td><td style = \"font-style: italic; text-align: left;\">missing</td><td style = \"text-align: left;\">S</td></tr><tr><td style = \"text-align: right;\">&vellip;</td><td style = \"text-align: right;\">&vellip;</td><td style = \"text-align: right;\">&vellip;</td><td style = \"text-align: right;\">&vellip;</td><td style = \"text-align: right;\">&vellip;</td><td style = \"text-align: right;\">&vellip;</td><td style = \"text-align: right;\">&vellip;</td><td style = \"text-align: right;\">&vellip;</td><td style = \"text-align: right;\">&vellip;</td><td style = \"text-align: right;\">&vellip;</td><td style = \"text-align: right;\">&vellip;</td><td style = \"text-align: right;\">&vellip;</td><td style = \"text-align: right;\">&vellip;</td></tr><tr><td class = \"rowNumber\" style = \"font-weight: bold; text-align: right;\">880</td><td style = \"text-align: right;\">880</td><td style = \"text-align: right;\">1</td><td style = \"text-align: right;\">1</td><td style = \"text-align: left;\">Potter, Mrs. Thomas Jr (Lily Alexenia Wilson)</td><td style = \"text-align: left;\">female</td><td style = \"text-align: right;\">56.0</td><td style = \"text-align: right;\">0</td><td style = \"text-align: right;\">1</td><td style = \"text-align: left;\">11767</td><td style = \"text-align: right;\">83.1583</td><td style = \"text-align: left;\">C50</td><td style = \"text-align: left;\">C</td></tr><tr><td class = \"rowNumber\" style = \"font-weight: bold; text-align: right;\">881</td><td style = \"text-align: right;\">881</td><td style = \"text-align: right;\">1</td><td style = \"text-align: right;\">2</td><td style = \"text-align: left;\">Shelley, Mrs. William (Imanita Parrish Hall)</td><td style = \"text-align: left;\">female</td><td style = \"text-align: right;\">25.0</td><td style = \"text-align: right;\">0</td><td style = \"text-align: right;\">1</td><td style = \"text-align: left;\">230433</td><td style = \"text-align: right;\">26.0</td><td style = \"font-style: italic; text-align: left;\">missing</td><td style = \"text-align: left;\">S</td></tr><tr><td class = \"rowNumber\" style = \"font-weight: bold; text-align: right;\">882</td><td style = \"text-align: right;\">882</td><td style = \"text-align: right;\">0</td><td style = \"text-align: right;\">3</td><td style = \"text-align: left;\">Markun, Mr. Johann</td><td style = \"text-align: left;\">male</td><td style = \"text-align: right;\">33.0</td><td style = \"text-align: right;\">0</td><td style = \"text-align: right;\">0</td><td style = \"text-align: left;\">349257</td><td style = \"text-align: right;\">7.8958</td><td style = \"font-style: italic; text-align: left;\">missing</td><td style = \"text-align: left;\">S</td></tr><tr><td class = \"rowNumber\" style = \"font-weight: bold; text-align: right;\">883</td><td style = \"text-align: right;\">883</td><td style = \"text-align: right;\">0</td><td style = \"text-align: right;\">3</td><td style = \"text-align: left;\">Dahlberg, Miss. Gerda Ulrika</td><td style = \"text-align: left;\">female</td><td style = \"text-align: right;\">22.0</td><td style = \"text-align: right;\">0</td><td style = \"text-align: right;\">0</td><td style = \"text-align: left;\">7552</td><td style = \"text-align: right;\">10.5167</td><td style = \"font-style: italic; text-align: left;\">missing</td><td style = \"text-align: left;\">S</td></tr><tr><td class = \"rowNumber\" style = \"font-weight: bold; text-align: right;\">884</td><td style = \"text-align: right;\">884</td><td style = \"text-align: right;\">0</td><td style = \"text-align: right;\">2</td><td style = \"text-align: left;\">Banfield, Mr. Frederick James</td><td style = \"text-align: left;\">male</td><td style = \"text-align: right;\">28.0</td><td style = \"text-align: right;\">0</td><td style = \"text-align: right;\">0</td><td style = \"text-align: left;\">C.A./SOTON 34068</td><td style = \"text-align: right;\">10.5</td><td style = \"font-style: italic; text-align: left;\">missing</td><td style = \"text-align: left;\">S</td></tr><tr><td class = \"rowNumber\" style = \"font-weight: bold; text-align: right;\">885</td><td style = \"text-align: right;\">885</td><td style = \"text-align: right;\">0</td><td style = \"text-align: right;\">3</td><td style = \"text-align: left;\">Sutehall, Mr. Henry Jr</td><td style = \"text-align: left;\">male</td><td style = \"text-align: right;\">25.0</td><td style = \"text-align: right;\">0</td><td style = \"text-align: right;\">0</td><td style = \"text-align: left;\">SOTON/OQ 392076</td><td style = \"text-align: right;\">7.05</td><td style = \"font-style: italic; text-align: left;\">missing</td><td style = \"text-align: left;\">S</td></tr><tr><td class = \"rowNumber\" style = \"font-weight: bold; text-align: right;\">886</td><td style = \"text-align: right;\">886</td><td style = \"text-align: right;\">0</td><td style = \"text-align: right;\">3</td><td style = \"text-align: left;\">Rice, Mrs. William (Margaret Norton)</td><td style = \"text-align: left;\">female</td><td style = \"text-align: right;\">39.0</td><td style = \"text-align: right;\">0</td><td style = \"text-align: right;\">5</td><td style = \"text-align: left;\">382652</td><td style = \"text-align: right;\">29.125</td><td style = \"font-style: italic; text-align: left;\">missing</td><td style = \"text-align: left;\">Q</td></tr><tr><td class = \"rowNumber\" style = \"font-weight: bold; text-align: right;\">887</td><td style = \"text-align: right;\">887</td><td style = \"text-align: right;\">0</td><td style = \"text-align: right;\">2</td><td style = \"text-align: left;\">Montvila, Rev. Juozas</td><td style = \"text-align: left;\">male</td><td style = \"text-align: right;\">27.0</td><td style = \"text-align: right;\">0</td><td style = \"text-align: right;\">0</td><td style = \"text-align: left;\">211536</td><td style = \"text-align: right;\">13.0</td><td style = \"font-style: italic; text-align: left;\">missing</td><td style = \"text-align: left;\">S</td></tr><tr><td class = \"rowNumber\" style = \"font-weight: bold; text-align: right;\">888</td><td style = \"text-align: right;\">888</td><td style = \"text-align: right;\">1</td><td style = \"text-align: right;\">1</td><td style = \"text-align: left;\">Graham, Miss. Margaret Edith</td><td style = \"text-align: left;\">female</td><td style = \"text-align: right;\">19.0</td><td style = \"text-align: right;\">0</td><td style = \"text-align: right;\">0</td><td style = \"text-align: left;\">112053</td><td style = \"text-align: right;\">30.0</td><td style = \"text-align: left;\">B42</td><td style = \"text-align: left;\">S</td></tr><tr><td class = \"rowNumber\" style = \"font-weight: bold; text-align: right;\">889</td><td style = \"text-align: right;\">889</td><td style = \"text-align: right;\">0</td><td style = \"text-align: right;\">3</td><td style = \"text-align: left;\">Johnston, Miss. Catherine Helen &quot;Carrie&quot;</td><td style = \"text-align: left;\">female</td><td style = \"font-style: italic; text-align: right;\">missing</td><td style = \"text-align: right;\">1</td><td style = \"text-align: right;\">2</td><td style = \"text-align: left;\">W./C. 6607</td><td style = \"text-align: right;\">23.45</td><td style = \"font-style: italic; text-align: left;\">missing</td><td style = \"text-align: left;\">S</td></tr><tr><td class = \"rowNumber\" style = \"font-weight: bold; text-align: right;\">890</td><td style = \"text-align: right;\">890</td><td style = \"text-align: right;\">1</td><td style = \"text-align: right;\">1</td><td style = \"text-align: left;\">Behr, Mr. Karl Howell</td><td style = \"text-align: left;\">male</td><td style = \"text-align: right;\">26.0</td><td style = \"text-align: right;\">0</td><td style = \"text-align: right;\">0</td><td style = \"text-align: left;\">111369</td><td style = \"text-align: right;\">30.0</td><td style = \"text-align: left;\">C148</td><td style = \"text-align: left;\">C</td></tr><tr><td class = \"rowNumber\" style = \"font-weight: bold; text-align: right;\">891</td><td style = \"text-align: right;\">891</td><td style = \"text-align: right;\">0</td><td style = \"text-align: right;\">3</td><td style = \"text-align: left;\">Dooley, Mr. Patrick</td><td style = \"text-align: left;\">male</td><td style = \"text-align: right;\">32.0</td><td style = \"text-align: right;\">0</td><td style = \"text-align: right;\">0</td><td style = \"text-align: left;\">370376</td><td style = \"text-align: right;\">7.75</td><td style = \"font-style: italic; text-align: left;\">missing</td><td style = \"text-align: left;\">Q</td></tr></tbody></table></div>"
      ],
      "text/latex": [
       "\\begin{tabular}{r|ccccc}\n",
       "\t& PassengerId & Survived & Pclass & Name & \\\\\n",
       "\t\\hline\n",
       "\t& Int64 & Int64 & Int64 & String & \\\\\n",
       "\t\\hline\n",
       "\t1 & 1 & 0 & 3 & Braund, Mr. Owen Harris & $\\dots$ \\\\\n",
       "\t2 & 2 & 1 & 1 & Cumings, Mrs. John Bradley (Florence Briggs Thayer) & $\\dots$ \\\\\n",
       "\t3 & 3 & 1 & 3 & Heikkinen, Miss. Laina & $\\dots$ \\\\\n",
       "\t4 & 4 & 1 & 1 & Futrelle, Mrs. Jacques Heath (Lily May Peel) & $\\dots$ \\\\\n",
       "\t5 & 5 & 0 & 3 & Allen, Mr. William Henry & $\\dots$ \\\\\n",
       "\t6 & 6 & 0 & 3 & Moran, Mr. James & $\\dots$ \\\\\n",
       "\t7 & 7 & 0 & 1 & McCarthy, Mr. Timothy J & $\\dots$ \\\\\n",
       "\t8 & 8 & 0 & 3 & Palsson, Master. Gosta Leonard & $\\dots$ \\\\\n",
       "\t9 & 9 & 1 & 3 & Johnson, Mrs. Oscar W (Elisabeth Vilhelmina Berg) & $\\dots$ \\\\\n",
       "\t10 & 10 & 1 & 2 & Nasser, Mrs. Nicholas (Adele Achem) & $\\dots$ \\\\\n",
       "\t11 & 11 & 1 & 3 & Sandstrom, Miss. Marguerite Rut & $\\dots$ \\\\\n",
       "\t12 & 12 & 1 & 1 & Bonnell, Miss. Elizabeth & $\\dots$ \\\\\n",
       "\t13 & 13 & 0 & 3 & Saundercock, Mr. William Henry & $\\dots$ \\\\\n",
       "\t14 & 14 & 0 & 3 & Andersson, Mr. Anders Johan & $\\dots$ \\\\\n",
       "\t15 & 15 & 0 & 3 & Vestrom, Miss. Hulda Amanda Adolfina & $\\dots$ \\\\\n",
       "\t16 & 16 & 1 & 2 & Hewlett, Mrs. (Mary D Kingcome)  & $\\dots$ \\\\\n",
       "\t17 & 17 & 0 & 3 & Rice, Master. Eugene & $\\dots$ \\\\\n",
       "\t18 & 18 & 1 & 2 & Williams, Mr. Charles Eugene & $\\dots$ \\\\\n",
       "\t19 & 19 & 0 & 3 & Vander Planke, Mrs. Julius (Emelia Maria Vandemoortele) & $\\dots$ \\\\\n",
       "\t20 & 20 & 1 & 3 & Masselmani, Mrs. Fatima & $\\dots$ \\\\\n",
       "\t21 & 21 & 0 & 2 & Fynney, Mr. Joseph J & $\\dots$ \\\\\n",
       "\t22 & 22 & 1 & 2 & Beesley, Mr. Lawrence & $\\dots$ \\\\\n",
       "\t23 & 23 & 1 & 3 & McGowan, Miss. Anna \"Annie\" & $\\dots$ \\\\\n",
       "\t24 & 24 & 1 & 1 & Sloper, Mr. William Thompson & $\\dots$ \\\\\n",
       "\t25 & 25 & 0 & 3 & Palsson, Miss. Torborg Danira & $\\dots$ \\\\\n",
       "\t26 & 26 & 1 & 3 & Asplund, Mrs. Carl Oscar (Selma Augusta Emilia Johansson) & $\\dots$ \\\\\n",
       "\t27 & 27 & 0 & 3 & Emir, Mr. Farred Chehab & $\\dots$ \\\\\n",
       "\t28 & 28 & 0 & 1 & Fortune, Mr. Charles Alexander & $\\dots$ \\\\\n",
       "\t29 & 29 & 1 & 3 & O'Dwyer, Miss. Ellen \"Nellie\" & $\\dots$ \\\\\n",
       "\t30 & 30 & 0 & 3 & Todoroff, Mr. Lalio & $\\dots$ \\\\\n",
       "\t$\\dots$ & $\\dots$ & $\\dots$ & $\\dots$ & $\\dots$ &  \\\\\n",
       "\\end{tabular}\n"
      ],
      "text/plain": [
       "\u001b[1m891×12 DataFrame\u001b[0m\n",
       "\u001b[1m Row \u001b[0m│\u001b[1m PassengerId \u001b[0m\u001b[1m Survived \u001b[0m\u001b[1m Pclass \u001b[0m\u001b[1m Name                              \u001b[0m\u001b[1m Sex  \u001b[0m ⋯\n",
       "     │\u001b[90m Int64       \u001b[0m\u001b[90m Int64    \u001b[0m\u001b[90m Int64  \u001b[0m\u001b[90m String                            \u001b[0m\u001b[90m Strin\u001b[0m ⋯\n",
       "─────┼──────────────────────────────────────────────────────────────────────────\n",
       "   1 │           1         0       3  Braund, Mr. Owen Harris            male  ⋯\n",
       "   2 │           2         1       1  Cumings, Mrs. John Bradley (Flor…  femal\n",
       "   3 │           3         1       3  Heikkinen, Miss. Laina             femal\n",
       "   4 │           4         1       1  Futrelle, Mrs. Jacques Heath (Li…  femal\n",
       "   5 │           5         0       3  Allen, Mr. William Henry           male  ⋯\n",
       "   6 │           6         0       3  Moran, Mr. James                   male\n",
       "   7 │           7         0       1  McCarthy, Mr. Timothy J            male\n",
       "   8 │           8         0       3  Palsson, Master. Gosta Leonard     male\n",
       "   9 │           9         1       3  Johnson, Mrs. Oscar W (Elisabeth…  femal ⋯\n",
       "  10 │          10         1       2  Nasser, Mrs. Nicholas (Adele Ach…  femal\n",
       "  11 │          11         1       3  Sandstrom, Miss. Marguerite Rut    femal\n",
       "  ⋮  │      ⋮          ⋮        ⋮                     ⋮                     ⋮  ⋱\n",
       " 882 │         882         0       3  Markun, Mr. Johann                 male\n",
       " 883 │         883         0       3  Dahlberg, Miss. Gerda Ulrika       femal ⋯\n",
       " 884 │         884         0       2  Banfield, Mr. Frederick James      male\n",
       " 885 │         885         0       3  Sutehall, Mr. Henry Jr             male\n",
       " 886 │         886         0       3  Rice, Mrs. William (Margaret Nor…  femal\n",
       " 887 │         887         0       2  Montvila, Rev. Juozas              male  ⋯\n",
       " 888 │         888         1       1  Graham, Miss. Margaret Edith       femal\n",
       " 889 │         889         0       3  Johnston, Miss. Catherine Helen …  femal\n",
       " 890 │         890         1       1  Behr, Mr. Karl Howell              male\n",
       " 891 │         891         0       3  Dooley, Mr. Patrick                male  ⋯\n",
       "\u001b[36m                                                  8 columns and 870 rows omitted\u001b[0m"
      ]
     },
     "execution_count": 6,
     "metadata": {},
     "output_type": "execute_result"
    }
   ],
   "source": [
    "df"
   ]
  },
  {
   "cell_type": "code",
   "execution_count": 7,
   "id": "violent-appointment",
   "metadata": {},
   "outputs": [
    {
     "name": "stdout",
     "output_type": "stream",
     "text": [
      "\u001b[1m891×12 DataFrame\u001b[0m\n",
      "\u001b[1m Row \u001b[0m│\u001b[1m PassengerId \u001b[0m\u001b[1m Survived \u001b[0m\u001b[1m Pclass \u001b[0m\u001b[1m Name                              \u001b[0m\u001b[1m Sex     \u001b[0m\u001b[1m Age       \u001b[0m\u001b[1m SibSp \u001b[0m\u001b[1m Parch \u001b[0m\u001b[1m Ticket           \u001b[0m\u001b[1m Fare    \u001b[0m\u001b[1m Cabin     \u001b[0m\u001b[1m Embarked \u001b[0m\n",
      "     │\u001b[90m Int64       \u001b[0m\u001b[90m Int64    \u001b[0m\u001b[90m Int64  \u001b[0m\u001b[90m String                            \u001b[0m\u001b[90m String7 \u001b[0m\u001b[90m Float64?  \u001b[0m\u001b[90m Int64 \u001b[0m\u001b[90m Int64 \u001b[0m\u001b[90m String31         \u001b[0m\u001b[90m Float64 \u001b[0m\u001b[90m String15? \u001b[0m\u001b[90m String1? \u001b[0m\n",
      "─────┼────────────────────────────────────────────────────────────────────────────────────────────────────────────────────────────────────────────────────\n",
      "   1 │           1         0       3  Braund, Mr. Owen Harris            male          22.0      1      0  A/5 21171          7.25   \u001b[90m missing   \u001b[0m S\n",
      "   2 │           2         1       1  Cumings, Mrs. John Bradley (Flor…  female        38.0      1      0  PC 17599          71.2833  C85        C\n",
      "   3 │           3         1       3  Heikkinen, Miss. Laina             female        26.0      0      0  STON/O2. 3101282   7.925  \u001b[90m missing   \u001b[0m S\n",
      "   4 │           4         1       1  Futrelle, Mrs. Jacques Heath (Li…  female        35.0      1      0  113803            53.1     C123       S\n",
      "   5 │           5         0       3  Allen, Mr. William Henry           male          35.0      0      0  373450             8.05   \u001b[90m missing   \u001b[0m S\n",
      "   6 │           6         0       3  Moran, Mr. James                   male    \u001b[90m missing   \u001b[0m     0      0  330877             8.4583 \u001b[90m missing   \u001b[0m Q\n",
      "   7 │           7         0       1  McCarthy, Mr. Timothy J            male          54.0      0      0  17463             51.8625  E46        S\n",
      "   8 │           8         0       3  Palsson, Master. Gosta Leonard     male           2.0      3      1  349909            21.075  \u001b[90m missing   \u001b[0m S\n",
      "   9 │           9         1       3  Johnson, Mrs. Oscar W (Elisabeth…  female        27.0      0      2  347742            11.1333 \u001b[90m missing   \u001b[0m S\n",
      "  10 │          10         1       2  Nasser, Mrs. Nicholas (Adele Ach…  female        14.0      1      0  237736            30.0708 \u001b[90m missing   \u001b[0m C\n",
      "  11 │          11         1       3  Sandstrom, Miss. Marguerite Rut    female         4.0      1      1  PP 9549           16.7     G6         S\n",
      "  ⋮  │      ⋮          ⋮        ⋮                     ⋮                     ⋮         ⋮        ⋮      ⋮           ⋮             ⋮         ⋮         ⋮\n",
      " 882 │         882         0       3  Markun, Mr. Johann                 male          33.0      0      0  349257             7.8958 \u001b[90m missing   \u001b[0m S\n",
      " 883 │         883         0       3  Dahlberg, Miss. Gerda Ulrika       female        22.0      0      0  7552              10.5167 \u001b[90m missing   \u001b[0m S\n",
      " 884 │         884         0       2  Banfield, Mr. Frederick James      male          28.0      0      0  C.A./SOTON 34068  10.5    \u001b[90m missing   \u001b[0m S\n",
      " 885 │         885         0       3  Sutehall, Mr. Henry Jr             male          25.0      0      0  SOTON/OQ 392076    7.05   \u001b[90m missing   \u001b[0m S\n",
      " 886 │         886         0       3  Rice, Mrs. William (Margaret Nor…  female        39.0      0      5  382652            29.125  \u001b[90m missing   \u001b[0m Q\n",
      " 887 │         887         0       2  Montvila, Rev. Juozas              male          27.0      0      0  211536            13.0    \u001b[90m missing   \u001b[0m S\n",
      " 888 │         888         1       1  Graham, Miss. Margaret Edith       female        19.0      0      0  112053            30.0     B42        S\n",
      " 889 │         889         0       3  Johnston, Miss. Catherine Helen …  female  \u001b[90m missing   \u001b[0m     1      2  W./C. 6607        23.45   \u001b[90m missing   \u001b[0m S\n",
      " 890 │         890         1       1  Behr, Mr. Karl Howell              male          26.0      0      0  111369            30.0     C148       C\n",
      " 891 │         891         0       3  Dooley, Mr. Patrick                male          32.0      0      0  370376             7.75   \u001b[90m missing   \u001b[0m Q\n",
      "\u001b[36m                                                                                                                                          870 rows omitted\u001b[0m"
     ]
    }
   ],
   "source": [
    "show(df, allcols=true)\n"
   ]
  },
  {
   "cell_type": "code",
   "execution_count": 8,
   "id": "educational-hacker",
   "metadata": {},
   "outputs": [
    {
     "data": {
      "text/plain": [
       "891-element Vector{Int64}:\n",
       " 3\n",
       " 1\n",
       " 3\n",
       " 1\n",
       " 3\n",
       " 3\n",
       " 1\n",
       " 3\n",
       " 3\n",
       " 2\n",
       " 3\n",
       " 1\n",
       " 3\n",
       " ⋮\n",
       " 1\n",
       " 2\n",
       " 3\n",
       " 3\n",
       " 2\n",
       " 3\n",
       " 3\n",
       " 2\n",
       " 1\n",
       " 3\n",
       " 1\n",
       " 3"
      ]
     },
     "execution_count": 8,
     "metadata": {},
     "output_type": "execute_result"
    }
   ],
   "source": [
    "df.\"Pclass\" "
   ]
  },
  {
   "cell_type": "code",
   "execution_count": 9,
   "id": "dedicated-dream",
   "metadata": {},
   "outputs": [
    {
     "data": {
      "text/plain": [
       "4-element Vector{Int64}:\n",
       " 3\n",
       " 1\n",
       " 3\n",
       " 1"
      ]
     },
     "execution_count": 9,
     "metadata": {},
     "output_type": "execute_result"
    }
   ],
   "source": [
    "df[1:4, :Pclass]"
   ]
  },
  {
   "cell_type": "code",
   "execution_count": 10,
   "id": "subsequent-lebanon",
   "metadata": {},
   "outputs": [
    {
     "data": {
      "text/html": [
       "<div><div style = \"float: left;\"><span>891×1 DataFrame</span></div><div style = \"float: right;\"><span style = \"font-style: italic;\">866 rows omitted</span></div><div style = \"clear: both;\"></div></div><div class = \"data-frame\" style = \"overflow-x: scroll;\"><table class = \"data-frame\" style = \"margin-bottom: 6px;\"><thead><tr class = \"header\"><th class = \"rowNumber\" style = \"font-weight: bold; text-align: right;\">Row</th><th style = \"text-align: left;\">Pclass</th></tr><tr class = \"subheader headerLastRow\"><th class = \"rowNumber\" style = \"font-weight: bold; text-align: right;\"></th><th title = \"Int64\" style = \"text-align: left;\">Int64</th></tr></thead><tbody><tr><td class = \"rowNumber\" style = \"font-weight: bold; text-align: right;\">1</td><td style = \"text-align: right;\">3</td></tr><tr><td class = \"rowNumber\" style = \"font-weight: bold; text-align: right;\">2</td><td style = \"text-align: right;\">1</td></tr><tr><td class = \"rowNumber\" style = \"font-weight: bold; text-align: right;\">3</td><td style = \"text-align: right;\">3</td></tr><tr><td class = \"rowNumber\" style = \"font-weight: bold; text-align: right;\">4</td><td style = \"text-align: right;\">1</td></tr><tr><td class = \"rowNumber\" style = \"font-weight: bold; text-align: right;\">5</td><td style = \"text-align: right;\">3</td></tr><tr><td class = \"rowNumber\" style = \"font-weight: bold; text-align: right;\">6</td><td style = \"text-align: right;\">3</td></tr><tr><td class = \"rowNumber\" style = \"font-weight: bold; text-align: right;\">7</td><td style = \"text-align: right;\">1</td></tr><tr><td class = \"rowNumber\" style = \"font-weight: bold; text-align: right;\">8</td><td style = \"text-align: right;\">3</td></tr><tr><td class = \"rowNumber\" style = \"font-weight: bold; text-align: right;\">9</td><td style = \"text-align: right;\">3</td></tr><tr><td class = \"rowNumber\" style = \"font-weight: bold; text-align: right;\">10</td><td style = \"text-align: right;\">2</td></tr><tr><td class = \"rowNumber\" style = \"font-weight: bold; text-align: right;\">11</td><td style = \"text-align: right;\">3</td></tr><tr><td class = \"rowNumber\" style = \"font-weight: bold; text-align: right;\">12</td><td style = \"text-align: right;\">1</td></tr><tr><td class = \"rowNumber\" style = \"font-weight: bold; text-align: right;\">13</td><td style = \"text-align: right;\">3</td></tr><tr><td style = \"text-align: right;\">&vellip;</td><td style = \"text-align: right;\">&vellip;</td></tr><tr><td class = \"rowNumber\" style = \"font-weight: bold; text-align: right;\">880</td><td style = \"text-align: right;\">1</td></tr><tr><td class = \"rowNumber\" style = \"font-weight: bold; text-align: right;\">881</td><td style = \"text-align: right;\">2</td></tr><tr><td class = \"rowNumber\" style = \"font-weight: bold; text-align: right;\">882</td><td style = \"text-align: right;\">3</td></tr><tr><td class = \"rowNumber\" style = \"font-weight: bold; text-align: right;\">883</td><td style = \"text-align: right;\">3</td></tr><tr><td class = \"rowNumber\" style = \"font-weight: bold; text-align: right;\">884</td><td style = \"text-align: right;\">2</td></tr><tr><td class = \"rowNumber\" style = \"font-weight: bold; text-align: right;\">885</td><td style = \"text-align: right;\">3</td></tr><tr><td class = \"rowNumber\" style = \"font-weight: bold; text-align: right;\">886</td><td style = \"text-align: right;\">3</td></tr><tr><td class = \"rowNumber\" style = \"font-weight: bold; text-align: right;\">887</td><td style = \"text-align: right;\">2</td></tr><tr><td class = \"rowNumber\" style = \"font-weight: bold; text-align: right;\">888</td><td style = \"text-align: right;\">1</td></tr><tr><td class = \"rowNumber\" style = \"font-weight: bold; text-align: right;\">889</td><td style = \"text-align: right;\">3</td></tr><tr><td class = \"rowNumber\" style = \"font-weight: bold; text-align: right;\">890</td><td style = \"text-align: right;\">1</td></tr><tr><td class = \"rowNumber\" style = \"font-weight: bold; text-align: right;\">891</td><td style = \"text-align: right;\">3</td></tr></tbody></table></div>"
      ],
      "text/latex": [
       "\\begin{tabular}{r|c}\n",
       "\t& Pclass\\\\\n",
       "\t\\hline\n",
       "\t& Int64\\\\\n",
       "\t\\hline\n",
       "\t1 & 3 \\\\\n",
       "\t2 & 1 \\\\\n",
       "\t3 & 3 \\\\\n",
       "\t4 & 1 \\\\\n",
       "\t5 & 3 \\\\\n",
       "\t6 & 3 \\\\\n",
       "\t7 & 1 \\\\\n",
       "\t8 & 3 \\\\\n",
       "\t9 & 3 \\\\\n",
       "\t10 & 2 \\\\\n",
       "\t11 & 3 \\\\\n",
       "\t12 & 1 \\\\\n",
       "\t13 & 3 \\\\\n",
       "\t14 & 3 \\\\\n",
       "\t15 & 3 \\\\\n",
       "\t16 & 2 \\\\\n",
       "\t17 & 3 \\\\\n",
       "\t18 & 2 \\\\\n",
       "\t19 & 3 \\\\\n",
       "\t20 & 3 \\\\\n",
       "\t21 & 2 \\\\\n",
       "\t22 & 2 \\\\\n",
       "\t23 & 3 \\\\\n",
       "\t24 & 1 \\\\\n",
       "\t25 & 3 \\\\\n",
       "\t26 & 3 \\\\\n",
       "\t27 & 3 \\\\\n",
       "\t28 & 1 \\\\\n",
       "\t29 & 3 \\\\\n",
       "\t30 & 3 \\\\\n",
       "\t$\\dots$ & $\\dots$ \\\\\n",
       "\\end{tabular}\n"
      ],
      "text/plain": [
       "\u001b[1m891×1 DataFrame\u001b[0m\n",
       "\u001b[1m Row \u001b[0m│\u001b[1m Pclass \u001b[0m\n",
       "     │\u001b[90m Int64  \u001b[0m\n",
       "─────┼────────\n",
       "   1 │      3\n",
       "   2 │      1\n",
       "   3 │      3\n",
       "   4 │      1\n",
       "   5 │      3\n",
       "   6 │      3\n",
       "   7 │      1\n",
       "   8 │      3\n",
       "   9 │      3\n",
       "  10 │      2\n",
       "  11 │      3\n",
       "  ⋮  │   ⋮\n",
       " 882 │      3\n",
       " 883 │      3\n",
       " 884 │      2\n",
       " 885 │      3\n",
       " 886 │      3\n",
       " 887 │      2\n",
       " 888 │      1\n",
       " 889 │      3\n",
       " 890 │      1\n",
       " 891 │      3\n",
       "\u001b[36m870 rows omitted\u001b[0m"
      ]
     },
     "execution_count": 10,
     "metadata": {},
     "output_type": "execute_result"
    }
   ],
   "source": [
    "select(df, r\"Pclass\")           # you can make in-place selection using the bang variant of select "
   ]
  },
  {
   "cell_type": "markdown",
   "id": "fundamental-orbit",
   "metadata": {},
   "source": [
    "## Descriptive Study"
   ]
  },
  {
   "cell_type": "code",
   "execution_count": 11,
   "id": "concrete-cooperative",
   "metadata": {},
   "outputs": [
    {
     "data": {
      "text/html": [
       "<div><div style = \"float: left;\"><span>12×7 DataFrame</span></div><div style = \"clear: both;\"></div></div><div class = \"data-frame\" style = \"overflow-x: scroll;\"><table class = \"data-frame\" style = \"margin-bottom: 6px;\"><thead><tr class = \"header\"><th class = \"rowNumber\" style = \"font-weight: bold; text-align: right;\">Row</th><th style = \"text-align: left;\">variable</th><th style = \"text-align: left;\">mean</th><th style = \"text-align: left;\">min</th><th style = \"text-align: left;\">median</th><th style = \"text-align: left;\">max</th><th style = \"text-align: left;\">nmissing</th><th style = \"text-align: left;\">eltype</th></tr><tr class = \"subheader headerLastRow\"><th class = \"rowNumber\" style = \"font-weight: bold; text-align: right;\"></th><th title = \"Symbol\" style = \"text-align: left;\">Symbol</th><th title = \"Union{Nothing, Float64}\" style = \"text-align: left;\">Union…</th><th title = \"Any\" style = \"text-align: left;\">Any</th><th title = \"Union{Nothing, Float64}\" style = \"text-align: left;\">Union…</th><th title = \"Any\" style = \"text-align: left;\">Any</th><th title = \"Int64\" style = \"text-align: left;\">Int64</th><th title = \"Type\" style = \"text-align: left;\">Type</th></tr></thead><tbody><tr><td class = \"rowNumber\" style = \"font-weight: bold; text-align: right;\">1</td><td style = \"text-align: left;\">PassengerId</td><td style = \"text-align: left;\">446.0</td><td style = \"text-align: left;\">1</td><td style = \"text-align: left;\">446.0</td><td style = \"text-align: left;\">891</td><td style = \"text-align: right;\">0</td><td style = \"text-align: left;\">Int64</td></tr><tr><td class = \"rowNumber\" style = \"font-weight: bold; text-align: right;\">2</td><td style = \"text-align: left;\">Survived</td><td style = \"text-align: left;\">0.383838</td><td style = \"text-align: left;\">0</td><td style = \"text-align: left;\">0.0</td><td style = \"text-align: left;\">1</td><td style = \"text-align: right;\">0</td><td style = \"text-align: left;\">Int64</td></tr><tr><td class = \"rowNumber\" style = \"font-weight: bold; text-align: right;\">3</td><td style = \"text-align: left;\">Pclass</td><td style = \"text-align: left;\">2.30864</td><td style = \"text-align: left;\">1</td><td style = \"text-align: left;\">3.0</td><td style = \"text-align: left;\">3</td><td style = \"text-align: right;\">0</td><td style = \"text-align: left;\">Int64</td></tr><tr><td class = \"rowNumber\" style = \"font-weight: bold; text-align: right;\">4</td><td style = \"text-align: left;\">Name</td><td style = \"font-style: italic; text-align: left;\"></td><td style = \"text-align: left;\">Abbing, Mr. Anthony</td><td style = \"font-style: italic; text-align: left;\"></td><td style = \"text-align: left;\">van Melkebeke, Mr. Philemon</td><td style = \"text-align: right;\">0</td><td style = \"text-align: left;\">String</td></tr><tr><td class = \"rowNumber\" style = \"font-weight: bold; text-align: right;\">5</td><td style = \"text-align: left;\">Sex</td><td style = \"font-style: italic; text-align: left;\"></td><td style = \"text-align: left;\">female</td><td style = \"font-style: italic; text-align: left;\"></td><td style = \"text-align: left;\">male</td><td style = \"text-align: right;\">0</td><td style = \"text-align: left;\">String7</td></tr><tr><td class = \"rowNumber\" style = \"font-weight: bold; text-align: right;\">6</td><td style = \"text-align: left;\">Age</td><td style = \"text-align: left;\">29.6991</td><td style = \"text-align: left;\">0.42</td><td style = \"text-align: left;\">28.0</td><td style = \"text-align: left;\">80.0</td><td style = \"text-align: right;\">177</td><td style = \"text-align: left;\">Union{Missing, Float64}</td></tr><tr><td class = \"rowNumber\" style = \"font-weight: bold; text-align: right;\">7</td><td style = \"text-align: left;\">SibSp</td><td style = \"text-align: left;\">0.523008</td><td style = \"text-align: left;\">0</td><td style = \"text-align: left;\">0.0</td><td style = \"text-align: left;\">8</td><td style = \"text-align: right;\">0</td><td style = \"text-align: left;\">Int64</td></tr><tr><td class = \"rowNumber\" style = \"font-weight: bold; text-align: right;\">8</td><td style = \"text-align: left;\">Parch</td><td style = \"text-align: left;\">0.381594</td><td style = \"text-align: left;\">0</td><td style = \"text-align: left;\">0.0</td><td style = \"text-align: left;\">6</td><td style = \"text-align: right;\">0</td><td style = \"text-align: left;\">Int64</td></tr><tr><td class = \"rowNumber\" style = \"font-weight: bold; text-align: right;\">9</td><td style = \"text-align: left;\">Ticket</td><td style = \"font-style: italic; text-align: left;\"></td><td style = \"text-align: left;\">110152</td><td style = \"font-style: italic; text-align: left;\"></td><td style = \"text-align: left;\">WE/P 5735</td><td style = \"text-align: right;\">0</td><td style = \"text-align: left;\">String31</td></tr><tr><td class = \"rowNumber\" style = \"font-weight: bold; text-align: right;\">10</td><td style = \"text-align: left;\">Fare</td><td style = \"text-align: left;\">32.2042</td><td style = \"text-align: left;\">0.0</td><td style = \"text-align: left;\">14.4542</td><td style = \"text-align: left;\">512.329</td><td style = \"text-align: right;\">0</td><td style = \"text-align: left;\">Float64</td></tr><tr><td class = \"rowNumber\" style = \"font-weight: bold; text-align: right;\">11</td><td style = \"text-align: left;\">Cabin</td><td style = \"font-style: italic; text-align: left;\"></td><td style = \"text-align: left;\">A10</td><td style = \"font-style: italic; text-align: left;\"></td><td style = \"text-align: left;\">T</td><td style = \"text-align: right;\">687</td><td style = \"text-align: left;\">Union{Missing, String15}</td></tr><tr><td class = \"rowNumber\" style = \"font-weight: bold; text-align: right;\">12</td><td style = \"text-align: left;\">Embarked</td><td style = \"font-style: italic; text-align: left;\"></td><td style = \"text-align: left;\">C</td><td style = \"font-style: italic; text-align: left;\"></td><td style = \"text-align: left;\">S</td><td style = \"text-align: right;\">2</td><td style = \"text-align: left;\">Union{Missing, String1}</td></tr></tbody></table></div>"
      ],
      "text/latex": [
       "\\begin{tabular}{r|cccccc}\n",
       "\t& variable & mean & min & median & max & \\\\\n",
       "\t\\hline\n",
       "\t& Symbol & Union… & Any & Union… & Any & \\\\\n",
       "\t\\hline\n",
       "\t1 & PassengerId & 446.0 & 1 & 446.0 & 891 & $\\dots$ \\\\\n",
       "\t2 & Survived & 0.383838 & 0 & 0.0 & 1 & $\\dots$ \\\\\n",
       "\t3 & Pclass & 2.30864 & 1 & 3.0 & 3 & $\\dots$ \\\\\n",
       "\t4 & Name &  & Abbing, Mr. Anthony &  & van Melkebeke, Mr. Philemon & $\\dots$ \\\\\n",
       "\t5 & Sex &  & female &  & male & $\\dots$ \\\\\n",
       "\t6 & Age & 29.6991 & 0.42 & 28.0 & 80.0 & $\\dots$ \\\\\n",
       "\t7 & SibSp & 0.523008 & 0 & 0.0 & 8 & $\\dots$ \\\\\n",
       "\t8 & Parch & 0.381594 & 0 & 0.0 & 6 & $\\dots$ \\\\\n",
       "\t9 & Ticket &  & 110152 &  & WE/P 5735 & $\\dots$ \\\\\n",
       "\t10 & Fare & 32.2042 & 0.0 & 14.4542 & 512.329 & $\\dots$ \\\\\n",
       "\t11 & Cabin &  & A10 &  & T & $\\dots$ \\\\\n",
       "\t12 & Embarked &  & C &  & S & $\\dots$ \\\\\n",
       "\\end{tabular}\n"
      ],
      "text/plain": [
       "\u001b[1m12×7 DataFrame\u001b[0m\n",
       "\u001b[1m Row \u001b[0m│\u001b[1m variable    \u001b[0m\u001b[1m mean     \u001b[0m\u001b[1m min                 \u001b[0m\u001b[1m median  \u001b[0m\u001b[1m max               \u001b[0m ⋯\n",
       "     │\u001b[90m Symbol      \u001b[0m\u001b[90m Union…   \u001b[0m\u001b[90m Any                 \u001b[0m\u001b[90m Union…  \u001b[0m\u001b[90m Any               \u001b[0m ⋯\n",
       "─────┼──────────────────────────────────────────────────────────────────────────\n",
       "   1 │ PassengerId  446.0     1                    446.0    891                ⋯\n",
       "   2 │ Survived     0.383838  0                    0.0      1\n",
       "   3 │ Pclass       2.30864   1                    3.0      3\n",
       "   4 │ Name        \u001b[90m          \u001b[0m Abbing, Mr. Anthony \u001b[90m         \u001b[0m van Melkebeke, Mr.\n",
       "   5 │ Sex         \u001b[90m          \u001b[0m female              \u001b[90m         \u001b[0m male               ⋯\n",
       "   6 │ Age          29.6991   0.42                 28.0     80.0\n",
       "   7 │ SibSp        0.523008  0                    0.0      8\n",
       "   8 │ Parch        0.381594  0                    0.0      6\n",
       "   9 │ Ticket      \u001b[90m          \u001b[0m 110152              \u001b[90m         \u001b[0m WE/P 5735          ⋯\n",
       "  10 │ Fare         32.2042   0.0                  14.4542  512.329\n",
       "  11 │ Cabin       \u001b[90m          \u001b[0m A10                 \u001b[90m         \u001b[0m T\n",
       "  12 │ Embarked    \u001b[90m          \u001b[0m C                   \u001b[90m         \u001b[0m S\n",
       "\u001b[36m                                                               3 columns omitted\u001b[0m"
      ]
     },
     "execution_count": 11,
     "metadata": {},
     "output_type": "execute_result"
    }
   ],
   "source": [
    "describe(df)"
   ]
  },
  {
   "cell_type": "code",
   "execution_count": 12,
   "id": "stopped-recall",
   "metadata": {},
   "outputs": [
    {
     "data": {
      "text/html": [
       "<div><div style = \"float: left;\"><span>12×3 DataFrame</span></div><div style = \"clear: both;\"></div></div><div class = \"data-frame\" style = \"overflow-x: scroll;\"><table class = \"data-frame\" style = \"margin-bottom: 6px;\"><thead><tr class = \"header\"><th class = \"rowNumber\" style = \"font-weight: bold; text-align: right;\">Row</th><th style = \"text-align: left;\">variable</th><th style = \"text-align: left;\">mean</th><th style = \"text-align: left;\">std</th></tr><tr class = \"subheader headerLastRow\"><th class = \"rowNumber\" style = \"font-weight: bold; text-align: right;\"></th><th title = \"Symbol\" style = \"text-align: left;\">Symbol</th><th title = \"Union{Nothing, Float64}\" style = \"text-align: left;\">Union…</th><th title = \"Union{Nothing, Float64}\" style = \"text-align: left;\">Union…</th></tr></thead><tbody><tr><td class = \"rowNumber\" style = \"font-weight: bold; text-align: right;\">1</td><td style = \"text-align: left;\">PassengerId</td><td style = \"text-align: left;\">446.0</td><td style = \"text-align: left;\">257.354</td></tr><tr><td class = \"rowNumber\" style = \"font-weight: bold; text-align: right;\">2</td><td style = \"text-align: left;\">Survived</td><td style = \"text-align: left;\">0.383838</td><td style = \"text-align: left;\">0.486592</td></tr><tr><td class = \"rowNumber\" style = \"font-weight: bold; text-align: right;\">3</td><td style = \"text-align: left;\">Pclass</td><td style = \"text-align: left;\">2.30864</td><td style = \"text-align: left;\">0.836071</td></tr><tr><td class = \"rowNumber\" style = \"font-weight: bold; text-align: right;\">4</td><td style = \"text-align: left;\">Name</td><td style = \"font-style: italic; text-align: left;\"></td><td style = \"font-style: italic; text-align: left;\"></td></tr><tr><td class = \"rowNumber\" style = \"font-weight: bold; text-align: right;\">5</td><td style = \"text-align: left;\">Sex</td><td style = \"font-style: italic; text-align: left;\"></td><td style = \"font-style: italic; text-align: left;\"></td></tr><tr><td class = \"rowNumber\" style = \"font-weight: bold; text-align: right;\">6</td><td style = \"text-align: left;\">Age</td><td style = \"text-align: left;\">29.6991</td><td style = \"text-align: left;\">14.5265</td></tr><tr><td class = \"rowNumber\" style = \"font-weight: bold; text-align: right;\">7</td><td style = \"text-align: left;\">SibSp</td><td style = \"text-align: left;\">0.523008</td><td style = \"text-align: left;\">1.10274</td></tr><tr><td class = \"rowNumber\" style = \"font-weight: bold; text-align: right;\">8</td><td style = \"text-align: left;\">Parch</td><td style = \"text-align: left;\">0.381594</td><td style = \"text-align: left;\">0.806057</td></tr><tr><td class = \"rowNumber\" style = \"font-weight: bold; text-align: right;\">9</td><td style = \"text-align: left;\">Ticket</td><td style = \"font-style: italic; text-align: left;\"></td><td style = \"font-style: italic; text-align: left;\"></td></tr><tr><td class = \"rowNumber\" style = \"font-weight: bold; text-align: right;\">10</td><td style = \"text-align: left;\">Fare</td><td style = \"text-align: left;\">32.2042</td><td style = \"text-align: left;\">49.6934</td></tr><tr><td class = \"rowNumber\" style = \"font-weight: bold; text-align: right;\">11</td><td style = \"text-align: left;\">Cabin</td><td style = \"font-style: italic; text-align: left;\"></td><td style = \"font-style: italic; text-align: left;\"></td></tr><tr><td class = \"rowNumber\" style = \"font-weight: bold; text-align: right;\">12</td><td style = \"text-align: left;\">Embarked</td><td style = \"font-style: italic; text-align: left;\"></td><td style = \"font-style: italic; text-align: left;\"></td></tr></tbody></table></div>"
      ],
      "text/latex": [
       "\\begin{tabular}{r|ccc}\n",
       "\t& variable & mean & std\\\\\n",
       "\t\\hline\n",
       "\t& Symbol & Union… & Union…\\\\\n",
       "\t\\hline\n",
       "\t1 & PassengerId & 446.0 & 257.354 \\\\\n",
       "\t2 & Survived & 0.383838 & 0.486592 \\\\\n",
       "\t3 & Pclass & 2.30864 & 0.836071 \\\\\n",
       "\t4 & Name &  &  \\\\\n",
       "\t5 & Sex &  &  \\\\\n",
       "\t6 & Age & 29.6991 & 14.5265 \\\\\n",
       "\t7 & SibSp & 0.523008 & 1.10274 \\\\\n",
       "\t8 & Parch & 0.381594 & 0.806057 \\\\\n",
       "\t9 & Ticket &  &  \\\\\n",
       "\t10 & Fare & 32.2042 & 49.6934 \\\\\n",
       "\t11 & Cabin &  &  \\\\\n",
       "\t12 & Embarked &  &  \\\\\n",
       "\\end{tabular}\n"
      ],
      "text/plain": [
       "\u001b[1m12×3 DataFrame\u001b[0m\n",
       "\u001b[1m Row \u001b[0m│\u001b[1m variable    \u001b[0m\u001b[1m mean     \u001b[0m\u001b[1m std      \u001b[0m\n",
       "     │\u001b[90m Symbol      \u001b[0m\u001b[90m Union…   \u001b[0m\u001b[90m Union…   \u001b[0m\n",
       "─────┼─────────────────────────────────\n",
       "   1 │ PassengerId  446.0     257.354\n",
       "   2 │ Survived     0.383838  0.486592\n",
       "   3 │ Pclass       2.30864   0.836071\n",
       "   4 │ Name        \u001b[90m          \u001b[0m\u001b[90m          \u001b[0m\n",
       "   5 │ Sex         \u001b[90m          \u001b[0m\u001b[90m          \u001b[0m\n",
       "   6 │ Age          29.6991   14.5265\n",
       "   7 │ SibSp        0.523008  1.10274\n",
       "   8 │ Parch        0.381594  0.806057\n",
       "   9 │ Ticket      \u001b[90m          \u001b[0m\u001b[90m          \u001b[0m\n",
       "  10 │ Fare         32.2042   49.6934\n",
       "  11 │ Cabin       \u001b[90m          \u001b[0m\u001b[90m          \u001b[0m\n",
       "  12 │ Embarked    \u001b[90m          \u001b[0m\u001b[90m          \u001b[0m"
      ]
     },
     "execution_count": 12,
     "metadata": {},
     "output_type": "execute_result"
    }
   ],
   "source": [
    "describe(df, :mean, :std)"
   ]
  },
  {
   "cell_type": "code",
   "execution_count": 13,
   "id": "living-rolling",
   "metadata": {},
   "outputs": [
    {
     "data": {
      "text/plain": [
       "(891, 12)"
      ]
     },
     "execution_count": 13,
     "metadata": {},
     "output_type": "execute_result"
    }
   ],
   "source": [
    "nrow(df), ncol(df)"
   ]
  },
  {
   "cell_type": "code",
   "execution_count": 14,
   "id": "fourth-cradle",
   "metadata": {},
   "outputs": [
    {
     "data": {
      "text/plain": [
       "(891, 12)"
      ]
     },
     "execution_count": 14,
     "metadata": {},
     "output_type": "execute_result"
    }
   ],
   "source": [
    "size(df)"
   ]
  },
  {
   "cell_type": "code",
   "execution_count": 15,
   "id": "recreational-shoulder",
   "metadata": {},
   "outputs": [
    {
     "data": {
      "text/plain": [
       "(2, 13)"
      ]
     },
     "execution_count": 15,
     "metadata": {},
     "output_type": "execute_result"
    }
   ],
   "source": [
    "extrema([ [13, 2, 5, 7] [2, 4, 5, 6]]) "
   ]
  },
  {
   "cell_type": "code",
   "execution_count": 16,
   "id": "incoming-evolution",
   "metadata": {},
   "outputs": [
    {
     "data": {
      "text/html": [
       "<div><div style = \"float: left;\"><span>891×1 DataFrame</span></div><div style = \"float: right;\"><span style = \"font-style: italic;\">866 rows omitted</span></div><div style = \"clear: both;\"></div></div><div class = \"data-frame\" style = \"overflow-x: scroll;\"><table class = \"data-frame\" style = \"margin-bottom: 6px;\"><thead><tr class = \"header\"><th class = \"rowNumber\" style = \"font-weight: bold; text-align: right;\">Row</th><th style = \"text-align: left;\">Sex</th></tr><tr class = \"subheader headerLastRow\"><th class = \"rowNumber\" style = \"font-weight: bold; text-align: right;\"></th><th title = \"String7\" style = \"text-align: left;\">String7</th></tr></thead><tbody><tr><td class = \"rowNumber\" style = \"font-weight: bold; text-align: right;\">1</td><td style = \"text-align: left;\">male</td></tr><tr><td class = \"rowNumber\" style = \"font-weight: bold; text-align: right;\">2</td><td style = \"text-align: left;\">female</td></tr><tr><td class = \"rowNumber\" style = \"font-weight: bold; text-align: right;\">3</td><td style = \"text-align: left;\">female</td></tr><tr><td class = \"rowNumber\" style = \"font-weight: bold; text-align: right;\">4</td><td style = \"text-align: left;\">female</td></tr><tr><td class = \"rowNumber\" style = \"font-weight: bold; text-align: right;\">5</td><td style = \"text-align: left;\">male</td></tr><tr><td class = \"rowNumber\" style = \"font-weight: bold; text-align: right;\">6</td><td style = \"text-align: left;\">male</td></tr><tr><td class = \"rowNumber\" style = \"font-weight: bold; text-align: right;\">7</td><td style = \"text-align: left;\">male</td></tr><tr><td class = \"rowNumber\" style = \"font-weight: bold; text-align: right;\">8</td><td style = \"text-align: left;\">male</td></tr><tr><td class = \"rowNumber\" style = \"font-weight: bold; text-align: right;\">9</td><td style = \"text-align: left;\">female</td></tr><tr><td class = \"rowNumber\" style = \"font-weight: bold; text-align: right;\">10</td><td style = \"text-align: left;\">female</td></tr><tr><td class = \"rowNumber\" style = \"font-weight: bold; text-align: right;\">11</td><td style = \"text-align: left;\">female</td></tr><tr><td class = \"rowNumber\" style = \"font-weight: bold; text-align: right;\">12</td><td style = \"text-align: left;\">female</td></tr><tr><td class = \"rowNumber\" style = \"font-weight: bold; text-align: right;\">13</td><td style = \"text-align: left;\">male</td></tr><tr><td style = \"text-align: right;\">&vellip;</td><td style = \"text-align: right;\">&vellip;</td></tr><tr><td class = \"rowNumber\" style = \"font-weight: bold; text-align: right;\">880</td><td style = \"text-align: left;\">female</td></tr><tr><td class = \"rowNumber\" style = \"font-weight: bold; text-align: right;\">881</td><td style = \"text-align: left;\">female</td></tr><tr><td class = \"rowNumber\" style = \"font-weight: bold; text-align: right;\">882</td><td style = \"text-align: left;\">male</td></tr><tr><td class = \"rowNumber\" style = \"font-weight: bold; text-align: right;\">883</td><td style = \"text-align: left;\">female</td></tr><tr><td class = \"rowNumber\" style = \"font-weight: bold; text-align: right;\">884</td><td style = \"text-align: left;\">male</td></tr><tr><td class = \"rowNumber\" style = \"font-weight: bold; text-align: right;\">885</td><td style = \"text-align: left;\">male</td></tr><tr><td class = \"rowNumber\" style = \"font-weight: bold; text-align: right;\">886</td><td style = \"text-align: left;\">female</td></tr><tr><td class = \"rowNumber\" style = \"font-weight: bold; text-align: right;\">887</td><td style = \"text-align: left;\">male</td></tr><tr><td class = \"rowNumber\" style = \"font-weight: bold; text-align: right;\">888</td><td style = \"text-align: left;\">female</td></tr><tr><td class = \"rowNumber\" style = \"font-weight: bold; text-align: right;\">889</td><td style = \"text-align: left;\">female</td></tr><tr><td class = \"rowNumber\" style = \"font-weight: bold; text-align: right;\">890</td><td style = \"text-align: left;\">male</td></tr><tr><td class = \"rowNumber\" style = \"font-weight: bold; text-align: right;\">891</td><td style = \"text-align: left;\">male</td></tr></tbody></table></div>"
      ],
      "text/latex": [
       "\\begin{tabular}{r|c}\n",
       "\t& Sex\\\\\n",
       "\t\\hline\n",
       "\t& String7\\\\\n",
       "\t\\hline\n",
       "\t1 & male \\\\\n",
       "\t2 & female \\\\\n",
       "\t3 & female \\\\\n",
       "\t4 & female \\\\\n",
       "\t5 & male \\\\\n",
       "\t6 & male \\\\\n",
       "\t7 & male \\\\\n",
       "\t8 & male \\\\\n",
       "\t9 & female \\\\\n",
       "\t10 & female \\\\\n",
       "\t11 & female \\\\\n",
       "\t12 & female \\\\\n",
       "\t13 & male \\\\\n",
       "\t14 & male \\\\\n",
       "\t15 & female \\\\\n",
       "\t16 & female \\\\\n",
       "\t17 & male \\\\\n",
       "\t18 & male \\\\\n",
       "\t19 & female \\\\\n",
       "\t20 & female \\\\\n",
       "\t21 & male \\\\\n",
       "\t22 & male \\\\\n",
       "\t23 & female \\\\\n",
       "\t24 & male \\\\\n",
       "\t25 & female \\\\\n",
       "\t26 & female \\\\\n",
       "\t27 & male \\\\\n",
       "\t28 & male \\\\\n",
       "\t29 & female \\\\\n",
       "\t30 & male \\\\\n",
       "\t$\\dots$ & $\\dots$ \\\\\n",
       "\\end{tabular}\n"
      ],
      "text/plain": [
       "\u001b[1m891×1 DataFrame\u001b[0m\n",
       "\u001b[1m Row \u001b[0m│\u001b[1m Sex     \u001b[0m\n",
       "     │\u001b[90m String7 \u001b[0m\n",
       "─────┼─────────\n",
       "   1 │ male\n",
       "   2 │ female\n",
       "   3 │ female\n",
       "   4 │ female\n",
       "   5 │ male\n",
       "   6 │ male\n",
       "   7 │ male\n",
       "   8 │ male\n",
       "   9 │ female\n",
       "  10 │ female\n",
       "  11 │ female\n",
       "  ⋮  │    ⋮\n",
       " 882 │ male\n",
       " 883 │ female\n",
       " 884 │ male\n",
       " 885 │ male\n",
       " 886 │ female\n",
       " 887 │ male\n",
       " 888 │ female\n",
       " 889 │ female\n",
       " 890 │ male\n",
       " 891 │ male\n",
       "\u001b[36m870 rows omitted\u001b[0m"
      ]
     },
     "execution_count": 16,
     "metadata": {},
     "output_type": "execute_result"
    }
   ],
   "source": [
    "select(df, r\"x\")"
   ]
  },
  {
   "cell_type": "code",
   "execution_count": 17,
   "id": "former-promise",
   "metadata": {},
   "outputs": [
    {
     "data": {
      "text/plain": [
       "891×1 Matrix{String7}:\n",
       " \"male\"\n",
       " \"female\"\n",
       " \"female\"\n",
       " \"female\"\n",
       " \"male\"\n",
       " \"male\"\n",
       " \"male\"\n",
       " \"male\"\n",
       " \"female\"\n",
       " \"female\"\n",
       " \"female\"\n",
       " \"female\"\n",
       " \"male\"\n",
       " ⋮\n",
       " \"female\"\n",
       " \"female\"\n",
       " \"male\"\n",
       " \"female\"\n",
       " \"male\"\n",
       " \"male\"\n",
       " \"female\"\n",
       " \"male\"\n",
       " \"female\"\n",
       " \"female\"\n",
       " \"male\"\n",
       " \"male\""
      ]
     },
     "execution_count": 17,
     "metadata": {},
     "output_type": "execute_result"
    }
   ],
   "source": [
    "Matrix(select(df, r\"x\"))"
   ]
  },
  {
   "cell_type": "code",
   "execution_count": 18,
   "id": "serious-savage",
   "metadata": {},
   "outputs": [
    {
     "data": {
      "text/plain": [
       "(String7(\"female\"), String7(\"male\"))"
      ]
     },
     "execution_count": 18,
     "metadata": {},
     "output_type": "execute_result"
    }
   ],
   "source": [
    "extrema(Matrix(select(df, r\"x\")))"
   ]
  }
 ],
 "metadata": {
  "kernelspec": {
   "display_name": "Julia 1.10.1",
   "language": "julia",
   "name": "julia-1.10"
  },
  "language_info": {
   "file_extension": ".jl",
   "mimetype": "application/julia",
   "name": "julia",
   "version": "1.10.1"
  }
 },
 "nbformat": 4,
 "nbformat_minor": 5
}
