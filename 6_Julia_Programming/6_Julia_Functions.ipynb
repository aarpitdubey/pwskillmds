{
 "cells": [
  {
   "cell_type": "markdown",
   "id": "6858ffcf",
   "metadata": {},
   "source": [
    "## Functions"
   ]
  },
  {
   "cell_type": "markdown",
   "id": "a7f3b9f1",
   "metadata": {},
   "source": [
    "In Julia, a function is an object that maps a tuple of argument values to a return value. Julia functions are not pure mathematical functions, because they can alter and be affected by the global state of the program. The basic syntax for defining functions in Julia is:"
   ]
  },
  {
   "cell_type": "code",
   "execution_count": 1,
   "id": "1103ab39",
   "metadata": {},
   "outputs": [
    {
     "data": {
      "text/plain": [
       "f (generic function with 1 method)"
      ]
     },
     "execution_count": 1,
     "metadata": {},
     "output_type": "execute_result"
    }
   ],
   "source": [
    "function f(x,y)\n",
    "    x+y\n",
    "end"
   ]
  },
  {
   "cell_type": "code",
   "execution_count": 2,
   "id": "e4981e13",
   "metadata": {},
   "outputs": [
    {
     "data": {
      "text/plain": [
       "4"
      ]
     },
     "execution_count": 2,
     "metadata": {},
     "output_type": "execute_result"
    }
   ],
   "source": [
    "f(1,3)"
   ]
  },
  {
   "cell_type": "markdown",
   "id": "bcb80df0",
   "metadata": {},
   "source": [
    "This function accepts two arguments x and y and returns the value of the last expression evaluated, which is x + y.\n",
    "\n",
    "There is a second, more terse syntax for defining a function in Julia. The traditional function declaration syntax demonstrated above is equivalent to the following compact \"assignment form\":"
   ]
  },
  {
   "cell_type": "code",
   "execution_count": 3,
   "id": "f67b4a14",
   "metadata": {},
   "outputs": [
    {
     "data": {
      "text/plain": [
       "f (generic function with 1 method)"
      ]
     },
     "execution_count": 3,
     "metadata": {},
     "output_type": "execute_result"
    }
   ],
   "source": [
    "f(x,y) = x+y"
   ]
  },
  {
   "cell_type": "code",
   "execution_count": 4,
   "id": "188735b8",
   "metadata": {},
   "outputs": [
    {
     "data": {
      "text/plain": [
       "f (generic function with 1 method)"
      ]
     },
     "execution_count": 4,
     "metadata": {},
     "output_type": "execute_result"
    }
   ],
   "source": [
    "g = f"
   ]
  },
  {
   "cell_type": "code",
   "execution_count": 5,
   "id": "c32cd6c2",
   "metadata": {},
   "outputs": [
    {
     "data": {
      "text/plain": [
       "6"
      ]
     },
     "execution_count": 5,
     "metadata": {},
     "output_type": "execute_result"
    }
   ],
   "source": [
    "g(2,4)"
   ]
  },
  {
   "cell_type": "markdown",
   "id": "93511cd8",
   "metadata": {},
   "source": [
    "---\n",
    "## The return keyword"
   ]
  },
  {
   "cell_type": "markdown",
   "id": "221c013f",
   "metadata": {},
   "source": [
    "The value returned by a function is the value of the last expression evaluated, which, by default, is the last expression in the body of the function definition. In the example function, f, from the previous section this is the value of the expression x + y. As an alternative, as in many other languages, the return keyword causes a function to return immediately, providing an expression whose value is returned:"
   ]
  },
  {
   "cell_type": "code",
   "execution_count": 6,
   "id": "76463b82",
   "metadata": {},
   "outputs": [
    {
     "ename": "LoadError",
     "evalue": "cannot define function g; it already has a value",
     "output_type": "error",
     "traceback": [
      "cannot define function g; it already has a value",
      "",
      "Stacktrace:",
      " [1] top-level scope",
      "   @ none:0",
      " [2] top-level scope",
      "   @ In[6]:1"
     ]
    }
   ],
   "source": [
    "function g(x,y)\n",
    "    return x*y\n",
    "    x+y\n",
    "end "
   ]
  },
  {
   "cell_type": "code",
   "execution_count": 7,
   "id": "08b1642c",
   "metadata": {},
   "outputs": [
    {
     "data": {
      "text/plain": [
       "h (generic function with 1 method)"
      ]
     },
     "execution_count": 7,
     "metadata": {},
     "output_type": "execute_result"
    }
   ],
   "source": [
    "function h(x,y)\n",
    "    return x * y \n",
    "    x + y\n",
    "end "
   ]
  },
  {
   "cell_type": "code",
   "execution_count": 8,
   "id": "a8ed7392",
   "metadata": {},
   "outputs": [
    {
     "data": {
      "text/plain": [
       "5"
      ]
     },
     "execution_count": 8,
     "metadata": {},
     "output_type": "execute_result"
    }
   ],
   "source": [
    "f(2,3)"
   ]
  },
  {
   "cell_type": "code",
   "execution_count": 9,
   "id": "788f7a9f",
   "metadata": {},
   "outputs": [
    {
     "data": {
      "text/plain": [
       "6"
      ]
     },
     "execution_count": 9,
     "metadata": {},
     "output_type": "execute_result"
    }
   ],
   "source": [
    "h(2,3)"
   ]
  },
  {
   "cell_type": "markdown",
   "id": "37b19054",
   "metadata": {},
   "source": [
    "Here, for example, is a function that computes the hypotenuse length of a right triangle with sides of length x and y, avoiding overflow:"
   ]
  },
  {
   "cell_type": "code",
   "execution_count": 10,
   "id": "97cb1e2c",
   "metadata": {},
   "outputs": [
    {
     "data": {
      "text/plain": [
       "hypot (generic function with 1 method)"
      ]
     },
     "execution_count": 10,
     "metadata": {},
     "output_type": "execute_result"
    }
   ],
   "source": [
    "function hypot(x,y)\n",
    "    x = abs(x)\n",
    "    y = abs(y)\n",
    "    if x > y\n",
    "        r = y/x\n",
    "        return x*sqrt(1+r*r)\n",
    "    end \n",
    "    if y==0\n",
    "        return zero(x)\n",
    "    end \n",
    "    r = x/y\n",
    "    return y*sqrt(1+r*r)\n",
    "end"
   ]
  },
  {
   "cell_type": "code",
   "execution_count": 11,
   "id": "a72adf8b",
   "metadata": {},
   "outputs": [
    {
     "data": {
      "text/plain": [
       "5.0"
      ]
     },
     "execution_count": 11,
     "metadata": {},
     "output_type": "execute_result"
    }
   ],
   "source": [
    "hypot(3,4)"
   ]
  },
  {
   "cell_type": "markdown",
   "id": "66dff6d5",
   "metadata": {},
   "source": [
    "There are three possible points of return from this function, returning the values of three different expressions, depending on the values of x and y. The return on the last line could be omitted since it is the last expression."
   ]
  },
  {
   "cell_type": "markdown",
   "id": "495506e9",
   "metadata": {},
   "source": [
    "## Returning nothing "
   ]
  },
  {
   "cell_type": "code",
   "execution_count": 12,
   "id": "625ef0e8",
   "metadata": {},
   "outputs": [
    {
     "data": {
      "text/plain": [
       "printx (generic function with 1 method)"
      ]
     },
     "execution_count": 12,
     "metadata": {},
     "output_type": "execute_result"
    }
   ],
   "source": [
    "function printx(x)\n",
    "    println(\"x=$x\")\n",
    "    return nothing \n",
    "end "
   ]
  },
  {
   "cell_type": "markdown",
   "id": "36d56e81",
   "metadata": {},
   "source": [
    "This is a convention in the sense that nothing is not a Julia keyword but a only singleton object of type Nothing. Also, you may notice that the printx function example above is contrived, because println already returns nothing, so that the return line is redundant."
   ]
  },
  {
   "cell_type": "markdown",
   "id": "7086bf7f",
   "metadata": {},
   "source": [
    "---\n",
    "## Operators Are Functions "
   ]
  },
  {
   "cell_type": "markdown",
   "id": "9353513d",
   "metadata": {},
   "source": [
    "In Julia, most operators are just functions with support for special syntax. (The exceptions are operators with special evaluation semantics like && and ||. These operators cannot be functions since Short-Circuit Evaluation requires that their operands are not evaluated before evaluation of the operator.) Accordingly, you can also apply them using parenthesized argument lists, just as you would any other function:"
   ]
  },
  {
   "cell_type": "code",
   "execution_count": 13,
   "id": "5a3394d9",
   "metadata": {},
   "outputs": [
    {
     "data": {
      "text/plain": [
       "6"
      ]
     },
     "execution_count": 13,
     "metadata": {},
     "output_type": "execute_result"
    }
   ],
   "source": [
    "1 + 2 + 3"
   ]
  },
  {
   "cell_type": "code",
   "execution_count": 14,
   "id": "81f7ec51",
   "metadata": {},
   "outputs": [
    {
     "data": {
      "text/plain": [
       "6"
      ]
     },
     "execution_count": 14,
     "metadata": {},
     "output_type": "execute_result"
    }
   ],
   "source": [
    "+(1,2,3)"
   ]
  },
  {
   "cell_type": "code",
   "execution_count": 15,
   "id": "49d94006",
   "metadata": {},
   "outputs": [
    {
     "data": {
      "text/plain": [
       "6"
      ]
     },
     "execution_count": 15,
     "metadata": {},
     "output_type": "execute_result"
    }
   ],
   "source": [
    "*(1,2,3)"
   ]
  },
  {
   "cell_type": "markdown",
   "id": "88756685",
   "metadata": {},
   "source": [
    "The infix form is exactly equivalent to the function application form – in fact the former is parsed to produce the function call internally. This also means that you can assign and pass around operators such as + and * just like you would with other function values:"
   ]
  },
  {
   "cell_type": "markdown",
   "id": "f9b5e69f",
   "metadata": {},
   "source": [
    "---\n",
    "## Anonymous Functions"
   ]
  },
  {
   "cell_type": "markdown",
   "id": "69f90386",
   "metadata": {},
   "source": [
    "Functions in Julia are first-class objects: they can be assigned to variables, and called using the standard function call syntax from the variable they have been assigned to. They can be used as arguments, and they can be returned as values. They can also be created anonymously, without being given a name, using either of these syntaxes:\n"
   ]
  },
  {
   "cell_type": "code",
   "execution_count": 16,
   "id": "ce376c9d",
   "metadata": {},
   "outputs": [
    {
     "data": {
      "text/plain": [
       "#1 (generic function with 1 method)"
      ]
     },
     "execution_count": 16,
     "metadata": {},
     "output_type": "execute_result"
    }
   ],
   "source": [
    "x -> x^2 + 2x - 1"
   ]
  },
  {
   "cell_type": "code",
   "execution_count": 17,
   "id": "109c8b4a",
   "metadata": {},
   "outputs": [
    {
     "data": {
      "text/plain": [
       "#3 (generic function with 1 method)"
      ]
     },
     "execution_count": 17,
     "metadata": {},
     "output_type": "execute_result"
    }
   ],
   "source": [
    "function (x)\n",
    "    x^2 + 2x-1\n",
    "end"
   ]
  },
  {
   "cell_type": "markdown",
   "id": "158ef982",
   "metadata": {},
   "source": [
    "This creates a function taking one argument x and returning the value of the polynomial x^2 + 2x - 1 at that value. Notice that the result is a generic function, but with a compiler-generated name based on consecutive numbering.\n",
    "\n",
    "The primary use for anonymous functions is passing them to functions which take other functions as arguments. A classic example is map, which applies a function to each value of an array and returns a new array containing the resulting values:"
   ]
  },
  {
   "cell_type": "code",
   "execution_count": 18,
   "id": "e06c881b",
   "metadata": {},
   "outputs": [
    {
     "data": {
      "text/plain": [
       "3-element Vector{Float64}:\n",
       " 1.0\n",
       " 4.0\n",
       " 2.0"
      ]
     },
     "execution_count": 18,
     "metadata": {},
     "output_type": "execute_result"
    }
   ],
   "source": [
    "map(round, [1.2, 3.5, 1.7])"
   ]
  },
  {
   "cell_type": "markdown",
   "id": "0f8e5357",
   "metadata": {},
   "source": [
    "This is fine if a named function effecting the transform already exists to pass as the first argument to map. Often, however, a ready-to-use, named function does not exist. In these situations, the anonymous function construct allows easy creation of a single-use function object without needing a name:"
   ]
  },
  {
   "cell_type": "code",
   "execution_count": 19,
   "id": "e61d31be",
   "metadata": {},
   "outputs": [
    {
     "data": {
      "text/plain": [
       "3-element Vector{Int64}:\n",
       "  2\n",
       " 14\n",
       " -2"
      ]
     },
     "execution_count": 19,
     "metadata": {},
     "output_type": "execute_result"
    }
   ],
   "source": [
    "map(x -> x^2 + 2x - 1, [1, 3, -1])"
   ]
  },
  {
   "cell_type": "markdown",
   "id": "afb3b9dc",
   "metadata": {},
   "source": [
    "An anonymous function accepting multiple arguments can be written using the syntax (x,y,z)->2x+y-z. A zero-argument anonymous function is written as ()->3. The idea of a function with no arguments may seem strange, but is useful for \"delaying\" a computation. In this usage, a block of code is wrapped in a zero-argument function, which is later invoked by calling it as f.\n",
    "\n",
    "As an example, consider this call to get:"
   ]
  },
  {
   "cell_type": "code",
   "execution_count": 20,
   "id": "3684f0ad",
   "metadata": {},
   "outputs": [
    {
     "ename": "LoadError",
     "evalue": "UndefVarError: `dict` not defined",
     "output_type": "error",
     "traceback": [
      "UndefVarError: `dict` not defined",
      "",
      "Stacktrace:",
      " [1] top-level scope",
      "   @ In[20]:1"
     ]
    }
   ],
   "source": [
    "get(dict, key) do\n",
    "    # default value calculated here\n",
    "    time()\n",
    "end"
   ]
  },
  {
   "cell_type": "markdown",
   "id": "7c9dee62",
   "metadata": {},
   "source": [
    "The code above is equivalent to calling get with an anonymous function containing the code enclosed between do and end, like so:"
   ]
  },
  {
   "cell_type": "code",
   "execution_count": 21,
   "id": "26d61d32",
   "metadata": {},
   "outputs": [
    {
     "ename": "LoadError",
     "evalue": "UndefVarError: `dict` not defined",
     "output_type": "error",
     "traceback": [
      "UndefVarError: `dict` not defined",
      "",
      "Stacktrace:",
      " [1] top-level scope",
      "   @ In[21]:1"
     ]
    }
   ],
   "source": [
    "get(()->time(), dict, key)"
   ]
  },
  {
   "cell_type": "markdown",
   "id": "1a729907",
   "metadata": {},
   "source": [
    "---\n",
    "## Tuples "
   ]
  },
  {
   "cell_type": "code",
   "execution_count": 22,
   "id": "afaee392",
   "metadata": {},
   "outputs": [
    {
     "data": {
      "text/plain": [
       "(1, 2)"
      ]
     },
     "execution_count": 22,
     "metadata": {},
     "output_type": "execute_result"
    }
   ],
   "source": [
    "(1,1+1)"
   ]
  },
  {
   "cell_type": "code",
   "execution_count": 23,
   "id": "df4eeaa0",
   "metadata": {},
   "outputs": [
    {
     "data": {
      "text/plain": [
       "(1,)"
      ]
     },
     "execution_count": 23,
     "metadata": {},
     "output_type": "execute_result"
    }
   ],
   "source": [
    "(1,)"
   ]
  },
  {
   "cell_type": "code",
   "execution_count": 24,
   "id": "da6c65e6",
   "metadata": {},
   "outputs": [
    {
     "data": {
      "text/plain": [
       "(0.0, \"hello\", 42)"
      ]
     },
     "execution_count": 24,
     "metadata": {},
     "output_type": "execute_result"
    }
   ],
   "source": [
    "x = (0.0, \"hello\", 6*7)"
   ]
  },
  {
   "cell_type": "code",
   "execution_count": 25,
   "id": "61200e93",
   "metadata": {},
   "outputs": [
    {
     "data": {
      "text/plain": [
       "\"hello\""
      ]
     },
     "execution_count": 25,
     "metadata": {},
     "output_type": "execute_result"
    }
   ],
   "source": [
    "x[2]"
   ]
  },
  {
   "cell_type": "markdown",
   "id": "cb71632f",
   "metadata": {},
   "source": [
    "---\n",
    "## Named Tuples "
   ]
  },
  {
   "cell_type": "raw",
   "id": "41b0b2b7",
   "metadata": {},
   "source": [
    "The components of tuples can optionally be named, in which case a named tuple is constructed:"
   ]
  },
  {
   "cell_type": "code",
   "execution_count": 26,
   "id": "d892e69e",
   "metadata": {},
   "outputs": [
    {
     "data": {
      "text/plain": [
       "(a = 2, b = 3)"
      ]
     },
     "execution_count": 26,
     "metadata": {},
     "output_type": "execute_result"
    }
   ],
   "source": [
    "x= (a=2, b=1+2)"
   ]
  },
  {
   "cell_type": "code",
   "execution_count": 27,
   "id": "eb4b15a2",
   "metadata": {},
   "outputs": [
    {
     "data": {
      "text/plain": [
       "2"
      ]
     },
     "execution_count": 27,
     "metadata": {},
     "output_type": "execute_result"
    }
   ],
   "source": [
    "x[1]"
   ]
  },
  {
   "cell_type": "code",
   "execution_count": 28,
   "id": "9312ead0",
   "metadata": {},
   "outputs": [
    {
     "data": {
      "text/plain": [
       "2"
      ]
     },
     "execution_count": 28,
     "metadata": {},
     "output_type": "execute_result"
    }
   ],
   "source": [
    "x.a"
   ]
  },
  {
   "cell_type": "markdown",
   "id": "ff7eaa61",
   "metadata": {},
   "source": [
    "Named tuples are very similar to tuples, except that fields can additionally be accessed by name using dot syntax (x.a) in addition to the regular indexing syntax (x[1])."
   ]
  },
  {
   "cell_type": "markdown",
   "id": "d15bccf3",
   "metadata": {},
   "source": [
    "---\n",
    "### Destructing Assignment and Multiple Return Values"
   ]
  },
  {
   "cell_type": "markdown",
   "id": "875fd7db",
   "metadata": {},
   "source": [
    "A comma-separated list of variables (optionally wrapped in parentheses) can appear on the left side of an assignment: the value on the right side is destructured by iterating over and assigning to each variable in turn:"
   ]
  },
  {
   "cell_type": "code",
   "execution_count": 29,
   "id": "0592fedb",
   "metadata": {},
   "outputs": [
    {
     "data": {
      "text/plain": [
       "1:3"
      ]
     },
     "execution_count": 29,
     "metadata": {},
     "output_type": "execute_result"
    }
   ],
   "source": [
    "(a,b,c) = 1:3"
   ]
  },
  {
   "cell_type": "code",
   "execution_count": 30,
   "id": "b50373ed",
   "metadata": {},
   "outputs": [
    {
     "data": {
      "text/plain": [
       "1"
      ]
     },
     "execution_count": 30,
     "metadata": {},
     "output_type": "execute_result"
    }
   ],
   "source": [
    "a"
   ]
  },
  {
   "cell_type": "code",
   "execution_count": 31,
   "id": "9418320f",
   "metadata": {},
   "outputs": [
    {
     "data": {
      "text/plain": [
       "2"
      ]
     },
     "execution_count": 31,
     "metadata": {},
     "output_type": "execute_result"
    }
   ],
   "source": [
    "b"
   ]
  },
  {
   "cell_type": "code",
   "execution_count": 32,
   "id": "f94b9e22",
   "metadata": {},
   "outputs": [
    {
     "data": {
      "text/plain": [
       "3"
      ]
     },
     "execution_count": 32,
     "metadata": {},
     "output_type": "execute_result"
    }
   ],
   "source": [
    "c"
   ]
  },
  {
   "cell_type": "markdown",
   "id": "c81b8b42",
   "metadata": {},
   "source": [
    "This can be used to return multiple values from functions by returning a tuple or other iterable value. For example, the following function returns two values:"
   ]
  },
  {
   "cell_type": "code",
   "execution_count": 33,
   "id": "d0b35b36",
   "metadata": {},
   "outputs": [
    {
     "data": {
      "text/plain": [
       "foo (generic function with 1 method)"
      ]
     },
     "execution_count": 33,
     "metadata": {},
     "output_type": "execute_result"
    }
   ],
   "source": [
    "function foo(a,b)\n",
    "    a+b, a*b\n",
    "end"
   ]
  },
  {
   "cell_type": "code",
   "execution_count": 34,
   "id": "bb3dbfa4",
   "metadata": {},
   "outputs": [
    {
     "data": {
      "text/plain": [
       "(30, 200)"
      ]
     },
     "execution_count": 34,
     "metadata": {},
     "output_type": "execute_result"
    }
   ],
   "source": [
    "foo(10,20)"
   ]
  },
  {
   "cell_type": "markdown",
   "id": "fdc64ace",
   "metadata": {},
   "source": [
    "Destructuring assignment extracts each value into a variable:"
   ]
  },
  {
   "cell_type": "code",
   "execution_count": 35,
   "id": "0453fe2a",
   "metadata": {},
   "outputs": [
    {
     "data": {
      "text/plain": [
       "(30, 200)"
      ]
     },
     "execution_count": 35,
     "metadata": {},
     "output_type": "execute_result"
    }
   ],
   "source": [
    "x,y=foo(10,20)"
   ]
  },
  {
   "cell_type": "code",
   "execution_count": 36,
   "id": "f1476615",
   "metadata": {},
   "outputs": [
    {
     "data": {
      "text/plain": [
       "30"
      ]
     },
     "execution_count": 36,
     "metadata": {},
     "output_type": "execute_result"
    }
   ],
   "source": [
    "x"
   ]
  },
  {
   "cell_type": "code",
   "execution_count": 37,
   "id": "5d57bd78",
   "metadata": {},
   "outputs": [
    {
     "data": {
      "text/plain": [
       "200"
      ]
     },
     "execution_count": 37,
     "metadata": {},
     "output_type": "execute_result"
    }
   ],
   "source": [
    "y"
   ]
  },
  {
   "cell_type": "markdown",
   "id": "10986fcf",
   "metadata": {},
   "source": [
    "Another common use is for swapping variables:"
   ]
  },
  {
   "cell_type": "code",
   "execution_count": 38,
   "id": "cc9199e4",
   "metadata": {},
   "outputs": [
    {
     "data": {
      "text/plain": [
       "(30, 200)"
      ]
     },
     "execution_count": 38,
     "metadata": {},
     "output_type": "execute_result"
    }
   ],
   "source": [
    "y,x= x,y"
   ]
  },
  {
   "cell_type": "code",
   "execution_count": 39,
   "id": "635311da",
   "metadata": {},
   "outputs": [
    {
     "data": {
      "text/plain": [
       "30"
      ]
     },
     "execution_count": 39,
     "metadata": {},
     "output_type": "execute_result"
    }
   ],
   "source": [
    "y"
   ]
  },
  {
   "cell_type": "code",
   "execution_count": 40,
   "id": "e33038f8",
   "metadata": {},
   "outputs": [
    {
     "data": {
      "text/plain": [
       "200"
      ]
     },
     "execution_count": 40,
     "metadata": {},
     "output_type": "execute_result"
    }
   ],
   "source": [
    "x"
   ]
  }
 ],
 "metadata": {
  "kernelspec": {
   "display_name": "Julia 1.10.1",
   "language": "julia",
   "name": "julia-1.10"
  },
  "language_info": {
   "file_extension": ".jl",
   "mimetype": "application/julia",
   "name": "julia",
   "version": "1.10.1"
  }
 },
 "nbformat": 4,
 "nbformat_minor": 5
}
