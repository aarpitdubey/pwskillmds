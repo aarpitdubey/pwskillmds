{
 "cells": [
  {
   "cell_type": "markdown",
   "id": "a7f18cb0",
   "metadata": {},
   "source": [
    "# Intgers and Flaoting-Point Numbers "
   ]
  },
  {
   "cell_type": "markdown",
   "id": "bca6b049",
   "metadata": {},
   "source": [
    "Integers and floating-point values are the basic building blocks of arithmetic and computation. Built-in representations of such values are called numeric primitives, while representations of integers and floating-point numbers as immediate values in code are known as numeric literals. For example, 1 is an integer literal, while 1.0 is a floating-point literal."
   ]
  },
  {
   "cell_type": "markdown",
   "id": "a4510711",
   "metadata": {},
   "source": [
    "The following are Julia's primitive numeric types:\n",
    "\n",
    "### Integer types: \n",
    "![Image Integer](./image/Integer.png)"
   ]
  },
  {
   "cell_type": "markdown",
   "id": "bb4aceaf",
   "metadata": {},
   "source": [
    "### Floating-point types:\n",
    "\n",
    "![Image Float](./image/Float.png)"
   ]
  },
  {
   "cell_type": "markdown",
   "id": "d2a28ce7",
   "metadata": {},
   "source": [
    "### Integers\n",
    "\n",
    "Literal Integers are represented in the standard mannner:"
   ]
  },
  {
   "cell_type": "code",
   "execution_count": 1,
   "id": "69e13631",
   "metadata": {},
   "outputs": [
    {
     "data": {
      "text/plain": [
       "1"
      ]
     },
     "execution_count": 1,
     "metadata": {},
     "output_type": "execute_result"
    }
   ],
   "source": [
    "1"
   ]
  },
  {
   "cell_type": "code",
   "execution_count": 2,
   "id": "1de85bda",
   "metadata": {},
   "outputs": [
    {
     "data": {
      "text/plain": [
       "1234"
      ]
     },
     "execution_count": 2,
     "metadata": {},
     "output_type": "execute_result"
    }
   ],
   "source": [
    "1234"
   ]
  },
  {
   "cell_type": "markdown",
   "id": "6e31af6a",
   "metadata": {},
   "source": [
    "The default type for an integer literal depends on whether the target system has a 32-bit architecture or a 64-bit architecture:"
   ]
  },
  {
   "cell_type": "code",
   "execution_count": 3,
   "id": "3ae9c30d",
   "metadata": {},
   "outputs": [
    {
     "data": {
      "text/plain": [
       "Int64"
      ]
     },
     "execution_count": 3,
     "metadata": {},
     "output_type": "execute_result"
    }
   ],
   "source": [
    "typeof(1)"
   ]
  },
  {
   "cell_type": "code",
   "execution_count": 4,
   "id": "1fd6c3c2",
   "metadata": {},
   "outputs": [
    {
     "data": {
      "text/plain": [
       "Int64"
      ]
     },
     "execution_count": 4,
     "metadata": {},
     "output_type": "execute_result"
    }
   ],
   "source": [
    "typeof(1234)"
   ]
  },
  {
   "cell_type": "markdown",
   "id": "194c2af8",
   "metadata": {},
   "source": [
    "The Julia internal variable Sys.WORD_SIZE indicates whether the target system is 32-bit or 64-bit:"
   ]
  },
  {
   "cell_type": "code",
   "execution_count": 5,
   "id": "3f9402fd",
   "metadata": {},
   "outputs": [
    {
     "data": {
      "text/plain": [
       "64"
      ]
     },
     "execution_count": 5,
     "metadata": {},
     "output_type": "execute_result"
    }
   ],
   "source": [
    "Sys.WORD_SIZE"
   ]
  },
  {
   "cell_type": "markdown",
   "id": "4192a2a0",
   "metadata": {},
   "source": [
    "---\n",
    "Julia also defines the types Int and UInt, which are aliases for the system's signed and unsigned native integer types respectively:"
   ]
  },
  {
   "cell_type": "code",
   "execution_count": 6,
   "id": "42ad149a",
   "metadata": {},
   "outputs": [
    {
     "data": {
      "text/plain": [
       "Int64"
      ]
     },
     "execution_count": 6,
     "metadata": {},
     "output_type": "execute_result"
    }
   ],
   "source": [
    "Int "
   ]
  },
  {
   "cell_type": "code",
   "execution_count": 7,
   "id": "768e2e23",
   "metadata": {},
   "outputs": [
    {
     "data": {
      "text/plain": [
       "UInt64"
      ]
     },
     "execution_count": 7,
     "metadata": {},
     "output_type": "execute_result"
    }
   ],
   "source": [
    "UInt "
   ]
  },
  {
   "cell_type": "markdown",
   "id": "0be64115",
   "metadata": {},
   "source": [
    "---\n",
    "Unsigned integers are input and output using the 0x prefix and hexadecimal (base 16) digits 0-9a-f (the capitalized digits A-F also work for input). The size of the unsigned value is determined by the number of hex digits used:"
   ]
  },
  {
   "cell_type": "code",
   "execution_count": 8,
   "id": "77737567",
   "metadata": {},
   "outputs": [
    {
     "data": {
      "text/plain": [
       "0x01"
      ]
     },
     "execution_count": 8,
     "metadata": {},
     "output_type": "execute_result"
    }
   ],
   "source": [
    "x=0x1"
   ]
  },
  {
   "cell_type": "code",
   "execution_count": 9,
   "id": "71ab411f",
   "metadata": {},
   "outputs": [
    {
     "data": {
      "text/plain": [
       "UInt8"
      ]
     },
     "execution_count": 9,
     "metadata": {},
     "output_type": "execute_result"
    }
   ],
   "source": [
    "typeof(x)"
   ]
  },
  {
   "cell_type": "code",
   "execution_count": 10,
   "id": "c4d4a652",
   "metadata": {},
   "outputs": [
    {
     "data": {
      "text/plain": [
       "0x0123"
      ]
     },
     "execution_count": 10,
     "metadata": {},
     "output_type": "execute_result"
    }
   ],
   "source": [
    "x=0x123"
   ]
  },
  {
   "cell_type": "code",
   "execution_count": 11,
   "id": "58dda7ed",
   "metadata": {},
   "outputs": [
    {
     "data": {
      "text/plain": [
       "UInt16"
      ]
     },
     "execution_count": 11,
     "metadata": {},
     "output_type": "execute_result"
    }
   ],
   "source": [
    "typeof(x)"
   ]
  },
  {
   "cell_type": "code",
   "execution_count": 12,
   "id": "acc9066d",
   "metadata": {},
   "outputs": [
    {
     "data": {
      "text/plain": [
       "0x01234567"
      ]
     },
     "execution_count": 12,
     "metadata": {},
     "output_type": "execute_result"
    }
   ],
   "source": [
    "x=0x1234567"
   ]
  },
  {
   "cell_type": "code",
   "execution_count": 13,
   "id": "f5ff777e",
   "metadata": {},
   "outputs": [
    {
     "data": {
      "text/plain": [
       "UInt32"
      ]
     },
     "execution_count": 13,
     "metadata": {},
     "output_type": "execute_result"
    }
   ],
   "source": [
    " typeof(x)"
   ]
  },
  {
   "cell_type": "code",
   "execution_count": 14,
   "id": "e872c841",
   "metadata": {},
   "outputs": [
    {
     "data": {
      "text/plain": [
       "0x0123456789abcdef"
      ]
     },
     "execution_count": 14,
     "metadata": {},
     "output_type": "execute_result"
    }
   ],
   "source": [
    "x = 0x123456789abcdef"
   ]
  },
  {
   "cell_type": "code",
   "execution_count": 15,
   "id": "76060d16",
   "metadata": {},
   "outputs": [
    {
     "data": {
      "text/plain": [
       "UInt64"
      ]
     },
     "execution_count": 15,
     "metadata": {},
     "output_type": "execute_result"
    }
   ],
   "source": [
    "typeof(x)"
   ]
  },
  {
   "cell_type": "code",
   "execution_count": 16,
   "id": "5b3fb193",
   "metadata": {},
   "outputs": [
    {
     "data": {
      "text/plain": [
       "0x11112222333344445555666677778888"
      ]
     },
     "execution_count": 16,
     "metadata": {},
     "output_type": "execute_result"
    }
   ],
   "source": [
    "x = 0x11112222333344445555666677778888"
   ]
  },
  {
   "cell_type": "code",
   "execution_count": 17,
   "id": "ebec4f89",
   "metadata": {},
   "outputs": [
    {
     "data": {
      "text/plain": [
       "UInt128"
      ]
     },
     "execution_count": 17,
     "metadata": {},
     "output_type": "execute_result"
    }
   ],
   "source": [
    "typeof(x)"
   ]
  },
  {
   "cell_type": "markdown",
   "id": "50357675",
   "metadata": {},
   "source": [
    "---\n",
    "### Floating-Point Numbers "
   ]
  },
  {
   "cell_type": "markdown",
   "id": "1fc20d37",
   "metadata": {},
   "source": [
    "Literal floating-point numbers are represented in the standard formats, using E-notation when necessary:"
   ]
  },
  {
   "cell_type": "code",
   "execution_count": 18,
   "id": "2623fd75",
   "metadata": {},
   "outputs": [
    {
     "data": {
      "text/plain": [
       "1.0"
      ]
     },
     "execution_count": 18,
     "metadata": {},
     "output_type": "execute_result"
    }
   ],
   "source": [
    "1.0"
   ]
  },
  {
   "cell_type": "code",
   "execution_count": 19,
   "id": "a87b3efd",
   "metadata": {},
   "outputs": [
    {
     "data": {
      "text/plain": [
       "1.0"
      ]
     },
     "execution_count": 19,
     "metadata": {},
     "output_type": "execute_result"
    }
   ],
   "source": [
    "1."
   ]
  },
  {
   "cell_type": "code",
   "execution_count": 20,
   "id": "6f147cdd",
   "metadata": {},
   "outputs": [
    {
     "data": {
      "text/plain": [
       "0.5"
      ]
     },
     "execution_count": 20,
     "metadata": {},
     "output_type": "execute_result"
    }
   ],
   "source": [
    "0.5"
   ]
  },
  {
   "cell_type": "code",
   "execution_count": 21,
   "id": "b04f2a4e",
   "metadata": {},
   "outputs": [
    {
     "data": {
      "text/plain": [
       "0.5"
      ]
     },
     "execution_count": 21,
     "metadata": {},
     "output_type": "execute_result"
    }
   ],
   "source": [
    ".5"
   ]
  },
  {
   "cell_type": "code",
   "execution_count": 22,
   "id": "c2415515",
   "metadata": {},
   "outputs": [
    {
     "data": {
      "text/plain": [
       "-1.23"
      ]
     },
     "execution_count": 22,
     "metadata": {},
     "output_type": "execute_result"
    }
   ],
   "source": [
    "-1.23"
   ]
  },
  {
   "cell_type": "code",
   "execution_count": 23,
   "id": "13fd586f",
   "metadata": {},
   "outputs": [
    {
     "data": {
      "text/plain": [
       "1.0e10"
      ]
     },
     "execution_count": 23,
     "metadata": {},
     "output_type": "execute_result"
    }
   ],
   "source": [
    "1e10"
   ]
  },
  {
   "cell_type": "code",
   "execution_count": 24,
   "id": "1be236ab",
   "metadata": {},
   "outputs": [
    {
     "data": {
      "text/plain": [
       "0.00025"
      ]
     },
     "execution_count": 24,
     "metadata": {},
     "output_type": "execute_result"
    }
   ],
   "source": [
    "2.5e-4"
   ]
  },
  {
   "cell_type": "markdown",
   "id": "8c393435",
   "metadata": {},
   "source": [
    "The above results are all Float64 values. Literal Float32 values can be entered by writing an f in place of e:"
   ]
  },
  {
   "cell_type": "code",
   "execution_count": 25,
   "id": "21b79a03",
   "metadata": {},
   "outputs": [
    {
     "data": {
      "text/plain": [
       "0.5f0"
      ]
     },
     "execution_count": 25,
     "metadata": {},
     "output_type": "execute_result"
    }
   ],
   "source": [
    "0.5f0"
   ]
  },
  {
   "cell_type": "code",
   "execution_count": 26,
   "id": "8cdeb458",
   "metadata": {},
   "outputs": [
    {
     "data": {
      "text/plain": [
       "UInt128"
      ]
     },
     "execution_count": 26,
     "metadata": {},
     "output_type": "execute_result"
    }
   ],
   "source": [
    "typeof(x)"
   ]
  },
  {
   "cell_type": "code",
   "execution_count": 27,
   "id": "785388ee",
   "metadata": {},
   "outputs": [
    {
     "data": {
      "text/plain": [
       "0.00025f0"
      ]
     },
     "execution_count": 27,
     "metadata": {},
     "output_type": "execute_result"
    }
   ],
   "source": [
    "2.5f-4"
   ]
  },
  {
   "cell_type": "markdown",
   "id": "953704d0",
   "metadata": {},
   "source": [
    "Values can be converted to Float32 easily:"
   ]
  },
  {
   "cell_type": "code",
   "execution_count": 28,
   "id": "d12a0105",
   "metadata": {},
   "outputs": [
    {
     "data": {
      "text/plain": [
       "-1.5f0"
      ]
     },
     "execution_count": 28,
     "metadata": {},
     "output_type": "execute_result"
    }
   ],
   "source": [
    "x = Float32(-1.5)"
   ]
  },
  {
   "cell_type": "code",
   "execution_count": 29,
   "id": "edbcd981",
   "metadata": {},
   "outputs": [
    {
     "data": {
      "text/plain": [
       "Float32"
      ]
     },
     "execution_count": 29,
     "metadata": {},
     "output_type": "execute_result"
    }
   ],
   "source": [
    "typeof(x)"
   ]
  },
  {
   "cell_type": "markdown",
   "id": "bc2d7525",
   "metadata": {},
   "source": [
    "Hexadecimal floating-point literals are also valid, but only as Float64 values, with p preceding the base-2 exponent:"
   ]
  },
  {
   "cell_type": "code",
   "execution_count": 30,
   "id": "1cd2a678",
   "metadata": {},
   "outputs": [
    {
     "data": {
      "text/plain": [
       "1.0"
      ]
     },
     "execution_count": 30,
     "metadata": {},
     "output_type": "execute_result"
    }
   ],
   "source": [
    "0x1p0"
   ]
  },
  {
   "cell_type": "code",
   "execution_count": 31,
   "id": "505b130c",
   "metadata": {},
   "outputs": [
    {
     "data": {
      "text/plain": [
       "2.0"
      ]
     },
     "execution_count": 31,
     "metadata": {},
     "output_type": "execute_result"
    }
   ],
   "source": [
    "0x1p1"
   ]
  },
  {
   "cell_type": "code",
   "execution_count": 32,
   "id": "94b02eff",
   "metadata": {},
   "outputs": [
    {
     "data": {
      "text/plain": [
       "0.125"
      ]
     },
     "execution_count": 32,
     "metadata": {},
     "output_type": "execute_result"
    }
   ],
   "source": [
    "x= 0x.4p-1"
   ]
  },
  {
   "cell_type": "code",
   "execution_count": 33,
   "id": "848c38c3",
   "metadata": {},
   "outputs": [
    {
     "data": {
      "text/plain": [
       "Float64"
      ]
     },
     "execution_count": 33,
     "metadata": {},
     "output_type": "execute_result"
    }
   ],
   "source": [
    "typeof(x)"
   ]
  },
  {
   "cell_type": "markdown",
   "id": "cfd6541a",
   "metadata": {},
   "source": [
    "Half-precision floating-point numbers are also supported (Float16), but they are implemented in software and use Float32 for calculations."
   ]
  },
  {
   "cell_type": "code",
   "execution_count": 34,
   "id": "f9bd3356",
   "metadata": {},
   "outputs": [
    {
     "data": {
      "text/plain": [
       "2"
      ]
     },
     "execution_count": 34,
     "metadata": {},
     "output_type": "execute_result"
    }
   ],
   "source": [
    "sizeof(Float16(4.))"
   ]
  },
  {
   "cell_type": "code",
   "execution_count": 35,
   "id": "204e1fa9",
   "metadata": {},
   "outputs": [
    {
     "data": {
      "text/plain": [
       "Float16(8.0)"
      ]
     },
     "execution_count": 35,
     "metadata": {},
     "output_type": "execute_result"
    }
   ],
   "source": [
    "2*Float16(4.)"
   ]
  }
 ],
 "metadata": {
  "kernelspec": {
   "display_name": "Julia 1.10.1",
   "language": "julia",
   "name": "julia-1.10"
  },
  "language_info": {
   "file_extension": ".jl",
   "mimetype": "application/julia",
   "name": "julia",
   "version": "1.10.1"
  }
 },
 "nbformat": 4,
 "nbformat_minor": 5
}
