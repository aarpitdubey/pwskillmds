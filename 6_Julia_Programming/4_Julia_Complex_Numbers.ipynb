{
 "cells": [
  {
   "cell_type": "markdown",
   "id": "1ff616e9",
   "metadata": {},
   "source": [
    "## Complex Numbers \n",
    "\n",
    "The global constant im is bound to the complex number i, representing the principal square root of -1. (Using mathematicians' i or engineers' j for this global constant was rejected since they are such popular index variable names.) Since Julia allows numeric literals to be juxtaposed with identifiers as coefficients, this binding suffices to provide convenient syntax for complex numbers, similar to the traditional mathematical notation:"
   ]
  },
  {
   "cell_type": "code",
   "execution_count": 1,
   "id": "ede8dc96",
   "metadata": {},
   "outputs": [
    {
     "data": {
      "text/plain": [
       "1 + 2im"
      ]
     },
     "execution_count": 1,
     "metadata": {},
     "output_type": "execute_result"
    }
   ],
   "source": [
    "1+2im"
   ]
  },
  {
   "cell_type": "code",
   "execution_count": 2,
   "id": "c4f729fa",
   "metadata": {},
   "outputs": [
    {
     "data": {
      "text/plain": [
       "8 + 1im"
      ]
     },
     "execution_count": 2,
     "metadata": {},
     "output_type": "execute_result"
    }
   ],
   "source": [
    "(1+2im) * (2-3im)"
   ]
  },
  {
   "cell_type": "code",
   "execution_count": 3,
   "id": "f95e10ca",
   "metadata": {},
   "outputs": [
    {
     "data": {
      "text/plain": [
       "2 + 0im"
      ]
     },
     "execution_count": 3,
     "metadata": {},
     "output_type": "execute_result"
    }
   ],
   "source": [
    "(1 + 2im) + (1 - 2im)"
   ]
  },
  {
   "cell_type": "code",
   "execution_count": 4,
   "id": "1b873cfe",
   "metadata": {},
   "outputs": [
    {
     "data": {
      "text/plain": [
       "-8 + 3im"
      ]
     },
     "execution_count": 4,
     "metadata": {},
     "output_type": "execute_result"
    }
   ],
   "source": [
    "(-3 + 2im) - (5 - 1im)"
   ]
  },
  {
   "cell_type": "code",
   "execution_count": 5,
   "id": "62ad6107",
   "metadata": {},
   "outputs": [
    {
     "data": {
      "text/plain": [
       "-3 - 4im"
      ]
     },
     "execution_count": 5,
     "metadata": {},
     "output_type": "execute_result"
    }
   ],
   "source": [
    "(-1 + 2im)^2"
   ]
  },
  {
   "cell_type": "code",
   "execution_count": 6,
   "id": "2cc3696b",
   "metadata": {},
   "outputs": [
    {
     "data": {
      "text/plain": [
       "2.729624464784009 - 6.9606644595719im"
      ]
     },
     "execution_count": 6,
     "metadata": {},
     "output_type": "execute_result"
    }
   ],
   "source": [
    "(-1 + 2im)^2.5"
   ]
  },
  {
   "cell_type": "code",
   "execution_count": 7,
   "id": "252144e6",
   "metadata": {},
   "outputs": [
    {
     "data": {
      "text/plain": [
       "-0.27910381075826657 + 0.08708053414102428im"
      ]
     },
     "execution_count": 7,
     "metadata": {},
     "output_type": "execute_result"
    }
   ],
   "source": [
    "(-1 + 2im)^(1 + 1im)"
   ]
  },
  {
   "cell_type": "code",
   "execution_count": 8,
   "id": "3a13ff7f",
   "metadata": {},
   "outputs": [
    {
     "data": {
      "text/plain": [
       "6 - 15im"
      ]
     },
     "execution_count": 8,
     "metadata": {},
     "output_type": "execute_result"
    }
   ],
   "source": [
    "3(2 - 5im)"
   ]
  },
  {
   "cell_type": "code",
   "execution_count": 9,
   "id": "3e46780a",
   "metadata": {},
   "outputs": [
    {
     "data": {
      "text/plain": [
       "-63 - 60im"
      ]
     },
     "execution_count": 9,
     "metadata": {},
     "output_type": "execute_result"
    }
   ],
   "source": [
    "3(2 - 5im)^2"
   ]
  },
  {
   "cell_type": "code",
   "execution_count": 10,
   "id": "9c771d96",
   "metadata": {},
   "outputs": [
    {
     "data": {
      "text/plain": [
       "0.20689655172413793 + 0.5172413793103449im"
      ]
     },
     "execution_count": 10,
     "metadata": {},
     "output_type": "execute_result"
    }
   ],
   "source": [
    "3(2 - 5im)^-1.0"
   ]
  },
  {
   "cell_type": "markdown",
   "id": "b2bb274c",
   "metadata": {},
   "source": [
    "The promotion mechanism ensures that combinations of operands of different types just work:"
   ]
  },
  {
   "cell_type": "code",
   "execution_count": 11,
   "id": "16fe56f0",
   "metadata": {},
   "outputs": [
    {
     "data": {
      "text/plain": [
       "2 - 2im"
      ]
     },
     "execution_count": 11,
     "metadata": {},
     "output_type": "execute_result"
    }
   ],
   "source": [
    "2(1 - 1im)"
   ]
  },
  {
   "cell_type": "code",
   "execution_count": 12,
   "id": "4217b62e",
   "metadata": {},
   "outputs": [
    {
     "data": {
      "text/plain": [
       "1 + 3im"
      ]
     },
     "execution_count": 12,
     "metadata": {},
     "output_type": "execute_result"
    }
   ],
   "source": [
    "(2 + 3im) - 1"
   ]
  },
  {
   "cell_type": "code",
   "execution_count": 13,
   "id": "0a58f3fe",
   "metadata": {},
   "outputs": [
    {
     "data": {
      "text/plain": [
       "1.5 + 2.0im"
      ]
     },
     "execution_count": 13,
     "metadata": {},
     "output_type": "execute_result"
    }
   ],
   "source": [
    "(1 + 2im) + 0.5"
   ]
  },
  {
   "cell_type": "code",
   "execution_count": 14,
   "id": "e6dc6f3d",
   "metadata": {},
   "outputs": [
    {
     "data": {
      "text/plain": [
       "2.0 + 2.5im"
      ]
     },
     "execution_count": 14,
     "metadata": {},
     "output_type": "execute_result"
    }
   ],
   "source": [
    "(2 + 3im) - 0.5im"
   ]
  },
  {
   "cell_type": "code",
   "execution_count": 15,
   "id": "abc115f2",
   "metadata": {},
   "outputs": [
    {
     "data": {
      "text/plain": [
       "0.75 + 1.5im"
      ]
     },
     "execution_count": 15,
     "metadata": {},
     "output_type": "execute_result"
    }
   ],
   "source": [
    "0.75(1 + 2im)"
   ]
  },
  {
   "cell_type": "code",
   "execution_count": 16,
   "id": "8add3c8b",
   "metadata": {},
   "outputs": [
    {
     "data": {
      "text/plain": [
       "1.0 + 1.5im"
      ]
     },
     "execution_count": 16,
     "metadata": {},
     "output_type": "execute_result"
    }
   ],
   "source": [
    "(2 + 3im) / 2"
   ]
  },
  {
   "cell_type": "code",
   "execution_count": 17,
   "id": "cef99dca",
   "metadata": {},
   "outputs": [
    {
     "data": {
      "text/plain": [
       "-0.5 - 1.0im"
      ]
     },
     "execution_count": 17,
     "metadata": {},
     "output_type": "execute_result"
    }
   ],
   "source": [
    "(1 - 3im) / (2 + 2im)"
   ]
  },
  {
   "cell_type": "code",
   "execution_count": 18,
   "id": "5baac3b3",
   "metadata": {},
   "outputs": [
    {
     "data": {
      "text/plain": [
       "-2 + 0im"
      ]
     },
     "execution_count": 18,
     "metadata": {},
     "output_type": "execute_result"
    }
   ],
   "source": [
    "2im^2"
   ]
  },
  {
   "cell_type": "code",
   "execution_count": 19,
   "id": "a03efe7e",
   "metadata": {},
   "outputs": [
    {
     "data": {
      "text/plain": [
       "1.0 - 0.75im"
      ]
     },
     "execution_count": 19,
     "metadata": {},
     "output_type": "execute_result"
    }
   ],
   "source": [
    "1 + 3/4im"
   ]
  },
  {
   "cell_type": "markdown",
   "id": "3d2f87a0",
   "metadata": {},
   "source": [
    "Note that 3/4im == 3/(4*im) == -(3/4*im), since a literal coefficient binds more tightly than division.\n",
    "\n",
    "Standard functions to manipulate complex values are provided:"
   ]
  },
  {
   "cell_type": "code",
   "execution_count": 20,
   "id": "a53f30d5",
   "metadata": {},
   "outputs": [
    {
     "data": {
      "text/plain": [
       "1 + 2im"
      ]
     },
     "execution_count": 20,
     "metadata": {},
     "output_type": "execute_result"
    }
   ],
   "source": [
    " z = 1 + 2im"
   ]
  },
  {
   "cell_type": "code",
   "execution_count": 21,
   "id": "9b25fe22",
   "metadata": {},
   "outputs": [
    {
     "data": {
      "text/plain": [
       "1"
      ]
     },
     "execution_count": 21,
     "metadata": {},
     "output_type": "execute_result"
    }
   ],
   "source": [
    "real(1 + 2im)"
   ]
  },
  {
   "cell_type": "code",
   "execution_count": 22,
   "id": "3138f471",
   "metadata": {},
   "outputs": [
    {
     "data": {
      "text/plain": [
       "2"
      ]
     },
     "execution_count": 22,
     "metadata": {},
     "output_type": "execute_result"
    }
   ],
   "source": [
    "imag(1 + 2im) "
   ]
  },
  {
   "cell_type": "code",
   "execution_count": 23,
   "id": "2dbf1657",
   "metadata": {},
   "outputs": [
    {
     "data": {
      "text/plain": [
       "1 - 2im"
      ]
     },
     "execution_count": 23,
     "metadata": {},
     "output_type": "execute_result"
    }
   ],
   "source": [
    "conj(1 + 2im)"
   ]
  },
  {
   "cell_type": "code",
   "execution_count": 24,
   "id": "9ee4d572",
   "metadata": {},
   "outputs": [
    {
     "data": {
      "text/plain": [
       "2.23606797749979"
      ]
     },
     "execution_count": 24,
     "metadata": {},
     "output_type": "execute_result"
    }
   ],
   "source": [
    "abs(1 + 2im)"
   ]
  },
  {
   "cell_type": "code",
   "execution_count": 25,
   "id": "d43ff016",
   "metadata": {},
   "outputs": [
    {
     "data": {
      "text/plain": [
       "5"
      ]
     },
     "execution_count": 25,
     "metadata": {},
     "output_type": "execute_result"
    }
   ],
   "source": [
    "abs2(1 + 2im)"
   ]
  },
  {
   "cell_type": "markdown",
   "id": "34ca1884",
   "metadata": {},
   "source": [
    "the absolute value (abs) of a complex number is its distance from zero. abs2 gives the square of the absolute value, and is of particular use for complex numbers since it avoids taking a square root. angle returns the phase angle in radians (also known as the argument or arg function). The full gamut of other Elementary Functions is also defined for complex numbers:"
   ]
  },
  {
   "cell_type": "code",
   "execution_count": 26,
   "id": "914dbb8a",
   "metadata": {},
   "outputs": [
    {
     "data": {
      "text/plain": [
       "2.0327230070196656 - 3.0518977991517997im"
      ]
     },
     "execution_count": 26,
     "metadata": {},
     "output_type": "execute_result"
    }
   ],
   "source": [
    "cos(1 + 2im)"
   ]
  },
  {
   "cell_type": "code",
   "execution_count": 27,
   "id": "37f03422",
   "metadata": {},
   "outputs": [
    {
     "data": {
      "text/plain": [
       "-1.1312043837568135 + 2.4717266720048188im"
      ]
     },
     "execution_count": 27,
     "metadata": {},
     "output_type": "execute_result"
    }
   ],
   "source": [
    "exp(1 + 2im)"
   ]
  },
  {
   "cell_type": "code",
   "execution_count": 28,
   "id": "ce5edafe",
   "metadata": {},
   "outputs": [
    {
     "data": {
      "text/plain": [
       "-0.4890562590412937 + 1.4031192506220405im"
      ]
     },
     "execution_count": 28,
     "metadata": {},
     "output_type": "execute_result"
    }
   ],
   "source": [
    "sinh(1+2im)"
   ]
  },
  {
   "cell_type": "markdown",
   "id": "60ec1acd",
   "metadata": {},
   "source": [
    "---\n",
    "### Rational Numbers"
   ]
  },
  {
   "cell_type": "markdown",
   "id": "363d22cb",
   "metadata": {},
   "source": [
    "Julia has a rational number type to represent exact ratios of integers. Rationals are constructed using the // operator:"
   ]
  },
  {
   "cell_type": "code",
   "execution_count": 29,
   "id": "2fa815d6",
   "metadata": {},
   "outputs": [
    {
     "data": {
      "text/plain": [
       "2//3"
      ]
     },
     "execution_count": 29,
     "metadata": {},
     "output_type": "execute_result"
    }
   ],
   "source": [
    "2//3"
   ]
  },
  {
   "cell_type": "markdown",
   "id": "810f488d",
   "metadata": {},
   "source": [
    "If the numerator and denominator of a rational have common factors, they are reduced to lowest terms such that the denominator is non-negative:"
   ]
  },
  {
   "cell_type": "code",
   "execution_count": 30,
   "id": "97729fb7",
   "metadata": {},
   "outputs": [
    {
     "data": {
      "text/plain": [
       "2//3"
      ]
     },
     "execution_count": 30,
     "metadata": {},
     "output_type": "execute_result"
    }
   ],
   "source": [
    "6//9"
   ]
  },
  {
   "cell_type": "code",
   "execution_count": 31,
   "id": "494c56a2",
   "metadata": {},
   "outputs": [
    {
     "data": {
      "text/plain": [
       "-1//2"
      ]
     },
     "execution_count": 31,
     "metadata": {},
     "output_type": "execute_result"
    }
   ],
   "source": [
    "-4//8"
   ]
  },
  {
   "cell_type": "code",
   "execution_count": 32,
   "id": "a64ab368",
   "metadata": {},
   "outputs": [
    {
     "data": {
      "text/plain": [
       "-1//3"
      ]
     },
     "execution_count": 32,
     "metadata": {},
     "output_type": "execute_result"
    }
   ],
   "source": [
    " 5//-15"
   ]
  },
  {
   "cell_type": "code",
   "execution_count": 33,
   "id": "0f9deec4",
   "metadata": {},
   "outputs": [
    {
     "data": {
      "text/plain": [
       "1//3"
      ]
     },
     "execution_count": 33,
     "metadata": {},
     "output_type": "execute_result"
    }
   ],
   "source": [
    "-4//-12"
   ]
  },
  {
   "cell_type": "markdown",
   "id": "4ecc0a7a",
   "metadata": {},
   "source": [
    "---\n",
    "This normalized form for a ratio of integers is unique, so equality of rational values can be tested by checking for equality of the numerator and denominator. The standardized numerator and denominator of a rational value can be extracted using the numerator and denominator functions:"
   ]
  },
  {
   "cell_type": "code",
   "execution_count": 34,
   "id": "d2e34d77",
   "metadata": {},
   "outputs": [
    {
     "data": {
      "text/plain": [
       "2"
      ]
     },
     "execution_count": 34,
     "metadata": {},
     "output_type": "execute_result"
    }
   ],
   "source": [
    "numerator(2//3)"
   ]
  },
  {
   "cell_type": "code",
   "execution_count": 35,
   "id": "b0653d11",
   "metadata": {},
   "outputs": [
    {
     "data": {
      "text/plain": [
       "3"
      ]
     },
     "execution_count": 35,
     "metadata": {},
     "output_type": "execute_result"
    }
   ],
   "source": [
    "denominator(2//3)"
   ]
  },
  {
   "cell_type": "markdown",
   "id": "e612530f",
   "metadata": {},
   "source": [
    "Direct comparison of the numerator and denominator is generally not necessary, since the standard arithmetic and comparison operations are defined for rational values:"
   ]
  },
  {
   "cell_type": "markdown",
   "id": "e41db5e7",
   "metadata": {},
   "source": [
    "---\n",
    "### Rational Numbers \n",
    "\n",
    "Julia has a rational number type to represent exact ratios of integers. Rationals are constructed using the // operator:"
   ]
  },
  {
   "cell_type": "code",
   "execution_count": 36,
   "id": "71c16545",
   "metadata": {},
   "outputs": [
    {
     "data": {
      "text/plain": [
       "true"
      ]
     },
     "execution_count": 36,
     "metadata": {},
     "output_type": "execute_result"
    }
   ],
   "source": [
    "2//3 == 6//9"
   ]
  },
  {
   "cell_type": "code",
   "execution_count": 37,
   "id": "6663f21c",
   "metadata": {},
   "outputs": [
    {
     "data": {
      "text/plain": [
       "false"
      ]
     },
     "execution_count": 37,
     "metadata": {},
     "output_type": "execute_result"
    }
   ],
   "source": [
    "2//3 == 9//27"
   ]
  },
  {
   "cell_type": "code",
   "execution_count": 38,
   "id": "cb5f2125",
   "metadata": {},
   "outputs": [
    {
     "data": {
      "text/plain": [
       "true"
      ]
     },
     "execution_count": 38,
     "metadata": {},
     "output_type": "execute_result"
    }
   ],
   "source": [
    "3//7 < 1//2"
   ]
  },
  {
   "cell_type": "code",
   "execution_count": 39,
   "id": "035a7843",
   "metadata": {},
   "outputs": [
    {
     "data": {
      "text/plain": [
       "true"
      ]
     },
     "execution_count": 39,
     "metadata": {},
     "output_type": "execute_result"
    }
   ],
   "source": [
    "3//4 > 2//3"
   ]
  },
  {
   "cell_type": "code",
   "execution_count": 40,
   "id": "25a427ec",
   "metadata": {},
   "outputs": [
    {
     "data": {
      "text/plain": [
       "2//3"
      ]
     },
     "execution_count": 40,
     "metadata": {},
     "output_type": "execute_result"
    }
   ],
   "source": [
    "2//4 + 1//6"
   ]
  },
  {
   "cell_type": "code",
   "execution_count": 41,
   "id": "759d8180",
   "metadata": {},
   "outputs": [
    {
     "data": {
      "text/plain": [
       "1//6"
      ]
     },
     "execution_count": 41,
     "metadata": {},
     "output_type": "execute_result"
    }
   ],
   "source": [
    "5//12 - 1//4"
   ]
  },
  {
   "cell_type": "code",
   "execution_count": 42,
   "id": "bb32b134",
   "metadata": {},
   "outputs": [
    {
     "data": {
      "text/plain": [
       "5//32"
      ]
     },
     "execution_count": 42,
     "metadata": {},
     "output_type": "execute_result"
    }
   ],
   "source": [
    "5//8 * 3//12"
   ]
  },
  {
   "cell_type": "code",
   "execution_count": 43,
   "id": "8e0af7b0",
   "metadata": {},
   "outputs": [
    {
     "data": {
      "text/plain": [
       "21//25"
      ]
     },
     "execution_count": 43,
     "metadata": {},
     "output_type": "execute_result"
    }
   ],
   "source": [
    "6//5 / 10//7"
   ]
  },
  {
   "cell_type": "markdown",
   "id": "26618c68",
   "metadata": {},
   "source": [
    "Rationals can easily be converted to floating-point numbers:"
   ]
  },
  {
   "cell_type": "code",
   "execution_count": 44,
   "id": "4b2088e6",
   "metadata": {},
   "outputs": [
    {
     "data": {
      "text/plain": [
       "0.75"
      ]
     },
     "execution_count": 44,
     "metadata": {},
     "output_type": "execute_result"
    }
   ],
   "source": [
    "float(3//4)"
   ]
  },
  {
   "cell_type": "markdown",
   "id": "f1e6178b",
   "metadata": {},
   "source": [
    "Conversion from rational to floating-point respects the following identity for any integral values of a and b, with the exception of the case a == 0 and b == 0:"
   ]
  },
  {
   "cell_type": "code",
   "execution_count": 45,
   "id": "5a7d39ef",
   "metadata": {},
   "outputs": [],
   "source": [
    "a = 1; b = 2;"
   ]
  },
  {
   "cell_type": "code",
   "execution_count": 46,
   "id": "6f237d53",
   "metadata": {},
   "outputs": [
    {
     "data": {
      "text/plain": [
       "true"
      ]
     },
     "execution_count": 46,
     "metadata": {},
     "output_type": "execute_result"
    }
   ],
   "source": [
    "isequal(float(a//b), a/b)"
   ]
  },
  {
   "cell_type": "markdown",
   "id": "48280e76",
   "metadata": {},
   "source": [
    "Constructing infinite rational values is acceptable:"
   ]
  },
  {
   "cell_type": "code",
   "execution_count": 47,
   "id": "29fc172b",
   "metadata": {},
   "outputs": [
    {
     "data": {
      "text/plain": [
       "1//0"
      ]
     },
     "execution_count": 47,
     "metadata": {},
     "output_type": "execute_result"
    }
   ],
   "source": [
    "5//0"
   ]
  },
  {
   "cell_type": "code",
   "execution_count": 48,
   "id": "7d48a758",
   "metadata": {},
   "outputs": [
    {
     "data": {
      "text/plain": [
       "1//0"
      ]
     },
     "execution_count": 48,
     "metadata": {},
     "output_type": "execute_result"
    }
   ],
   "source": [
    "10000//0"
   ]
  },
  {
   "cell_type": "code",
   "execution_count": 49,
   "id": "4984ca4a",
   "metadata": {},
   "outputs": [
    {
     "data": {
      "text/plain": [
       "-1//0"
      ]
     },
     "execution_count": 49,
     "metadata": {},
     "output_type": "execute_result"
    }
   ],
   "source": [
    "x=-3//0"
   ]
  },
  {
   "cell_type": "code",
   "execution_count": 50,
   "id": "cd344218",
   "metadata": {},
   "outputs": [
    {
     "data": {
      "text/plain": [
       "-1//0"
      ]
     },
     "execution_count": 50,
     "metadata": {},
     "output_type": "execute_result"
    }
   ],
   "source": [
    "x=-10000//0"
   ]
  },
  {
   "cell_type": "code",
   "execution_count": 51,
   "id": "baf8c426",
   "metadata": {},
   "outputs": [
    {
     "data": {
      "text/plain": [
       "Rational{Int64}"
      ]
     },
     "execution_count": 51,
     "metadata": {},
     "output_type": "execute_result"
    }
   ],
   "source": [
    "typeof(x)"
   ]
  },
  {
   "cell_type": "markdown",
   "id": "7b492533",
   "metadata": {},
   "source": [
    "Trying to construct a NaN rational value, however, is invalid:"
   ]
  },
  {
   "cell_type": "code",
   "execution_count": 52,
   "id": "bba98476",
   "metadata": {},
   "outputs": [
    {
     "ename": "LoadError",
     "evalue": "ArgumentError: invalid rational: zero(Int64)//zero(Int64)",
     "output_type": "error",
     "traceback": [
      "ArgumentError: invalid rational: zero(Int64)//zero(Int64)",
      "",
      "Stacktrace:",
      " [1] __throw_rational_argerror_zero(T::Type)",
      "   @ Base .\\rational.jl:32",
      " [2] Rational",
      "   @ .\\rational.jl:34 [inlined]",
      " [3] Rational",
      "   @ .\\rational.jl:39 [inlined]",
      " [4] //(n::Int64, d::Int64)",
      "   @ Base .\\rational.jl:62",
      " [5] top-level scope",
      "   @ In[52]:1"
     ]
    }
   ],
   "source": [
    "0//0"
   ]
  },
  {
   "cell_type": "markdown",
   "id": "ae77dc68",
   "metadata": {},
   "source": [
    "---\n",
    "As usual, the promotion system makes interactions with other numeric types effortless:"
   ]
  },
  {
   "cell_type": "code",
   "execution_count": 53,
   "id": "cddc03ef",
   "metadata": {},
   "outputs": [
    {
     "data": {
      "text/plain": [
       "8//5"
      ]
     },
     "execution_count": 53,
     "metadata": {},
     "output_type": "execute_result"
    }
   ],
   "source": [
    "3//5 +1"
   ]
  },
  {
   "cell_type": "code",
   "execution_count": 54,
   "id": "d3870cc4",
   "metadata": {},
   "outputs": [
    {
     "data": {
      "text/plain": [
       "0.09999999999999998"
      ]
     },
     "execution_count": 54,
     "metadata": {},
     "output_type": "execute_result"
    }
   ],
   "source": [
    " 3//5 - 0.5"
   ]
  },
  {
   "cell_type": "code",
   "execution_count": 55,
   "id": "3b7e03fd",
   "metadata": {},
   "outputs": [
    {
     "data": {
      "text/plain": [
       "2//7 + 4//7*im"
      ]
     },
     "execution_count": 55,
     "metadata": {},
     "output_type": "execute_result"
    }
   ],
   "source": [
    "2//7 * (1 + 2im)"
   ]
  },
  {
   "cell_type": "code",
   "execution_count": 56,
   "id": "1474f8f9",
   "metadata": {},
   "outputs": [
    {
     "data": {
      "text/plain": [
       "0.42857142857142855 + 0.5714285714285714im"
      ]
     },
     "execution_count": 56,
     "metadata": {},
     "output_type": "execute_result"
    }
   ],
   "source": [
    "2//7 * (1.5 + 2im)"
   ]
  },
  {
   "cell_type": "code",
   "execution_count": 57,
   "id": "238c2290",
   "metadata": {},
   "outputs": [
    {
     "data": {
      "text/plain": [
       "3//10 - 3//5*im"
      ]
     },
     "execution_count": 57,
     "metadata": {},
     "output_type": "execute_result"
    }
   ],
   "source": [
    "3//2 / (1 + 2im)"
   ]
  },
  {
   "cell_type": "code",
   "execution_count": 58,
   "id": "e0711e48",
   "metadata": {},
   "outputs": [
    {
     "data": {
      "text/plain": [
       "1//2 + 2//1*im"
      ]
     },
     "execution_count": 58,
     "metadata": {},
     "output_type": "execute_result"
    }
   ],
   "source": [
    "1//2 + 2im"
   ]
  },
  {
   "cell_type": "code",
   "execution_count": 59,
   "id": "3c0fd6a8",
   "metadata": {},
   "outputs": [
    {
     "data": {
      "text/plain": [
       "1//1 - 2//3*im"
      ]
     },
     "execution_count": 59,
     "metadata": {},
     "output_type": "execute_result"
    }
   ],
   "source": [
    "1 + 2//3im"
   ]
  },
  {
   "cell_type": "code",
   "execution_count": 60,
   "id": "f0ebaa73",
   "metadata": {},
   "outputs": [
    {
     "data": {
      "text/plain": [
       "true"
      ]
     },
     "execution_count": 60,
     "metadata": {},
     "output_type": "execute_result"
    }
   ],
   "source": [
    "0.5 == 1//2"
   ]
  },
  {
   "cell_type": "code",
   "execution_count": 61,
   "id": "7c330832",
   "metadata": {},
   "outputs": [
    {
     "data": {
      "text/plain": [
       "false"
      ]
     },
     "execution_count": 61,
     "metadata": {},
     "output_type": "execute_result"
    }
   ],
   "source": [
    "0.33 == 1//3"
   ]
  },
  {
   "cell_type": "code",
   "execution_count": 62,
   "id": "4718b0ea",
   "metadata": {},
   "outputs": [
    {
     "data": {
      "text/plain": [
       "true"
      ]
     },
     "execution_count": 62,
     "metadata": {},
     "output_type": "execute_result"
    }
   ],
   "source": [
    "0.33 < 1//3"
   ]
  },
  {
   "cell_type": "code",
   "execution_count": 63,
   "id": "3647b2ec",
   "metadata": {},
   "outputs": [
    {
     "data": {
      "text/plain": [
       "0.0033333333333332993"
      ]
     },
     "execution_count": 63,
     "metadata": {},
     "output_type": "execute_result"
    }
   ],
   "source": [
    "1//3 - 0.33"
   ]
  }
 ],
 "metadata": {
  "kernelspec": {
   "display_name": "Julia 1.10.1",
   "language": "julia",
   "name": "julia-1.10"
  },
  "language_info": {
   "file_extension": ".jl",
   "mimetype": "application/julia",
   "name": "julia",
   "version": "1.10.1"
  }
 },
 "nbformat": 4,
 "nbformat_minor": 5
}
