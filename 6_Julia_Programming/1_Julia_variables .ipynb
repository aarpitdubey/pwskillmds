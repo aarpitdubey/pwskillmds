{
 "cells": [
  {
   "cell_type": "markdown",
   "id": "4368c008",
   "metadata": {},
   "source": [
    "## Variables \n",
    "\n",
    "A variable, in Julia, is a name associated (or bound) to a value. It's useful when you want to store a value (that you obtained after some math, for example) for later use."
   ]
  },
  {
   "cell_type": "code",
   "execution_count": 1,
   "id": "7f69f8ed",
   "metadata": {},
   "outputs": [
    {
     "data": {
      "text/plain": [
       "10"
      ]
     },
     "execution_count": 1,
     "metadata": {},
     "output_type": "execute_result"
    }
   ],
   "source": [
    "x=10"
   ]
  },
  {
   "cell_type": "code",
   "execution_count": 2,
   "id": "8231a038",
   "metadata": {},
   "outputs": [
    {
     "data": {
      "text/plain": [
       "20"
      ]
     },
     "execution_count": 2,
     "metadata": {},
     "output_type": "execute_result"
    }
   ],
   "source": [
    "x+10"
   ]
  },
  {
   "cell_type": "code",
   "execution_count": 3,
   "id": "02b2506b",
   "metadata": {},
   "outputs": [
    {
     "data": {
      "text/plain": [
       "2"
      ]
     },
     "execution_count": 3,
     "metadata": {},
     "output_type": "execute_result"
    }
   ],
   "source": [
    "x=1+1"
   ]
  },
  {
   "cell_type": "code",
   "execution_count": 4,
   "id": "1804208a",
   "metadata": {},
   "outputs": [
    {
     "data": {
      "text/plain": [
       "\"Hello world\""
      ]
     },
     "execution_count": 4,
     "metadata": {},
     "output_type": "execute_result"
    }
   ],
   "source": [
    "x= \"Hello world\""
   ]
  },
  {
   "cell_type": "markdown",
   "id": "976f68b3",
   "metadata": {},
   "source": [
    "---\n",
    "Julia provides an extremely flexible system for naming variables. Variable names are case-sensitive, and have no semantic meaning (that is, the language will not treat variables differently based on their names)."
   ]
  },
  {
   "cell_type": "code",
   "execution_count": 5,
   "id": "b7921426",
   "metadata": {},
   "outputs": [
    {
     "data": {
      "text/plain": [
       "1.0"
      ]
     },
     "execution_count": 5,
     "metadata": {},
     "output_type": "execute_result"
    }
   ],
   "source": [
    "x=1.0"
   ]
  },
  {
   "cell_type": "code",
   "execution_count": 6,
   "id": "76463621",
   "metadata": {},
   "outputs": [
    {
     "data": {
      "text/plain": [
       "-3"
      ]
     },
     "execution_count": 6,
     "metadata": {},
     "output_type": "execute_result"
    }
   ],
   "source": [
    "y=-3"
   ]
  },
  {
   "cell_type": "code",
   "execution_count": 7,
   "id": "7698ccaa",
   "metadata": {},
   "outputs": [
    {
     "data": {
      "text/plain": [
       "\"My string\""
      ]
     },
     "execution_count": 7,
     "metadata": {},
     "output_type": "execute_result"
    }
   ],
   "source": [
    "z = \"My string\""
   ]
  },
  {
   "cell_type": "markdown",
   "id": "16cd5119",
   "metadata": {},
   "source": [
    "---\n",
    "In the Julia REPL and several other Julia editing environments, you can type many Unicode math symbols by typing the backslashed LaTeX symbol name followed by tab. For example, the variable name δ can be entered by typing \\delta-tab, or even α̂⁽²⁾ by \\alpha-tab-\\hat- tab-\\^(2)-tab. (If you find a symbol somewhere, e.g. in someone else's code, that you don't know how to type, the REPL help will tell you: just type ? and then paste the symbol.)"
   ]
  },
  {
   "cell_type": "code",
   "execution_count": 8,
   "id": "966a8aec",
   "metadata": {},
   "outputs": [
    {
     "data": {
      "text/plain": [
       "1.0e-5"
      ]
     },
     "execution_count": 8,
     "metadata": {},
     "output_type": "execute_result"
    }
   ],
   "source": [
    "δ = 0.00001"
   ]
  },
  {
   "cell_type": "code",
   "execution_count": 9,
   "id": "bbaca121",
   "metadata": {},
   "outputs": [
    {
     "data": {
      "text/plain": [
       "0.5"
      ]
     },
     "execution_count": 9,
     "metadata": {},
     "output_type": "execute_result"
    }
   ],
   "source": [
    "α = 0.5"
   ]
  },
  {
   "cell_type": "code",
   "execution_count": 10,
   "id": "4788c139",
   "metadata": {},
   "outputs": [
    {
     "data": {
      "text/plain": [
       "0.25"
      ]
     },
     "execution_count": 10,
     "metadata": {},
     "output_type": "execute_result"
    }
   ],
   "source": [
    "result = α^2"
   ]
  },
  {
   "cell_type": "code",
   "execution_count": null,
   "id": "9fc3f73c",
   "metadata": {},
   "outputs": [],
   "source": [
    "α̂ ⁽²⁾"
   ]
  },
  {
   "cell_type": "markdown",
   "id": "29ac3d1e",
   "metadata": {},
   "source": [
    "---\n",
    "### Julia will even let you redefine built-in constants and functions if needed (although this is not recommended to avoid potential confusions)"
   ]
  },
  {
   "cell_type": "code",
   "execution_count": 12,
   "id": "428a9a6f",
   "metadata": {},
   "outputs": [
    {
     "ename": "LoadError",
     "evalue": "cannot assign a value to imported variable Base.pi from module Main",
     "output_type": "error",
     "traceback": [
      "cannot assign a value to imported variable Base.pi from module Main",
      "",
      "Stacktrace:",
      " [1] top-level scope",
      "   @ In[12]:1"
     ]
    }
   ],
   "source": [
    "pi = 3"
   ]
  },
  {
   "cell_type": "code",
   "execution_count": 11,
   "id": "675471e3",
   "metadata": {},
   "outputs": [
    {
     "data": {
      "text/plain": [
       "π = 3.1415926535897..."
      ]
     },
     "execution_count": 11,
     "metadata": {},
     "output_type": "execute_result"
    }
   ],
   "source": [
    "pi"
   ]
  },
  {
   "cell_type": "code",
   "execution_count": 13,
   "id": "7f11d05e",
   "metadata": {},
   "outputs": [
    {
     "data": {
      "text/plain": [
       "4"
      ]
     },
     "execution_count": 13,
     "metadata": {},
     "output_type": "execute_result"
    }
   ],
   "source": [
    "sqrt = 4"
   ]
  },
  {
   "cell_type": "markdown",
   "id": "130df609",
   "metadata": {},
   "source": [
    "### if you try to redefine a built-in constant or function already in use, Julia will give you an error"
   ]
  },
  {
   "cell_type": "code",
   "execution_count": 14,
   "id": "bb9c299f",
   "metadata": {},
   "outputs": [
    {
     "data": {
      "text/plain": [
       "π = 3.1415926535897..."
      ]
     },
     "execution_count": 14,
     "metadata": {},
     "output_type": "execute_result"
    }
   ],
   "source": [
    "pi"
   ]
  },
  {
   "cell_type": "code",
   "execution_count": 15,
   "id": "50bcb84a",
   "metadata": {},
   "outputs": [
    {
     "ename": "LoadError",
     "evalue": "cannot assign a value to imported variable Base.pi from module Main",
     "output_type": "error",
     "traceback": [
      "cannot assign a value to imported variable Base.pi from module Main",
      "",
      "Stacktrace:",
      " [1] top-level scope",
      "   @ In[15]:1"
     ]
    }
   ],
   "source": [
    "pi = 7"
   ]
  },
  {
   "cell_type": "code",
   "execution_count": 16,
   "id": "afea6dae",
   "metadata": {},
   "outputs": [
    {
     "ename": "LoadError",
     "evalue": "MethodError: objects of type Int64 are not callable\nMaybe you forgot to use an operator such as \u001b[36m*, ^, %, / etc. \u001b[39m?",
     "output_type": "error",
     "traceback": [
      "MethodError: objects of type Int64 are not callable\nMaybe you forgot to use an operator such as \u001b[36m*, ^, %, / etc. \u001b[39m?",
      "",
      "Stacktrace:",
      " [1] top-level scope",
      "   @ In[16]:1"
     ]
    }
   ],
   "source": [
    "sqrt(96)"
   ]
  },
  {
   "cell_type": "code",
   "execution_count": 17,
   "id": "966ff4c2",
   "metadata": {},
   "outputs": [
    {
     "data": {
      "text/plain": [
       "99"
      ]
     },
     "execution_count": 17,
     "metadata": {},
     "output_type": "execute_result"
    }
   ],
   "source": [
    "sqrt = 99"
   ]
  },
  {
   "cell_type": "markdown",
   "id": "dd7cf012",
   "metadata": {},
   "source": [
    "---\n",
    "### Stylistic Conventions"
   ]
  },
  {
   "cell_type": "markdown",
   "id": "fd9f219b",
   "metadata": {},
   "source": [
    "1)Names of variables are in lower case.\n",
    "\n",
    "2)Word separation can be indicated by underscores ('_'), but use of underscores is discouraged unless the name would be hard to read otherwise.\n",
    "\n",
    "3)Names of Types and Modules begin with a capital letter and word separation is shown with upper camel case instead of underscores.\n",
    "\n",
    "4)Names of functions and macros are in lower case, without underscores.\n",
    "\n",
    "5)Functions that write to their arguments have names that end in !. These are sometimes called \"mutating\" or \"in-place\" functions because they are intended to produce changes in their arguments after the function is called, not just return a value."
   ]
  }
 ],
 "metadata": {
  "kernelspec": {
   "display_name": "Julia 1.10.1",
   "language": "julia",
   "name": "julia-1.10"
  },
  "language_info": {
   "file_extension": ".jl",
   "mimetype": "application/julia",
   "name": "julia",
   "version": "1.10.1"
  }
 },
 "nbformat": 4,
 "nbformat_minor": 5
}
