{
 "cells": [
  {
   "cell_type": "markdown",
   "id": "78b19cc6",
   "metadata": {},
   "source": [
    "## Strings"
   ]
  },
  {
   "cell_type": "markdown",
   "id": "9f1d0caf",
   "metadata": {},
   "source": [
    "### Characters \n",
    "\n",
    "A Char value represents a single character: it is just a 32-bit primitive type with a special literal representation and appropriate arithmetic behaviors, and which can be converted to a numeric value representing a Unicode code point. (Julia packages may define other subtypes of AbstractChar, e.g. to optimize operations for other text encodings.) Here is how Char values are input and shown:"
   ]
  },
  {
   "cell_type": "code",
   "execution_count": 1,
   "id": "e53a614f",
   "metadata": {},
   "outputs": [
    {
     "data": {
      "text/plain": [
       "'x': ASCII/Unicode U+0078 (category Ll: Letter, lowercase)"
      ]
     },
     "execution_count": 1,
     "metadata": {},
     "output_type": "execute_result"
    }
   ],
   "source": [
    "c='x'"
   ]
  },
  {
   "cell_type": "code",
   "execution_count": 2,
   "id": "516dd366",
   "metadata": {},
   "outputs": [
    {
     "data": {
      "text/plain": [
       "Char"
      ]
     },
     "execution_count": 2,
     "metadata": {},
     "output_type": "execute_result"
    }
   ],
   "source": [
    "typeof(c)"
   ]
  },
  {
   "cell_type": "code",
   "execution_count": 3,
   "id": "627e0b64",
   "metadata": {},
   "outputs": [
    {
     "data": {
      "text/plain": [
       "120"
      ]
     },
     "execution_count": 3,
     "metadata": {},
     "output_type": "execute_result"
    }
   ],
   "source": [
    "c= Int('x')"
   ]
  },
  {
   "cell_type": "code",
   "execution_count": 4,
   "id": "038d82da",
   "metadata": {},
   "outputs": [
    {
     "data": {
      "text/plain": [
       "Int64"
      ]
     },
     "execution_count": 4,
     "metadata": {},
     "output_type": "execute_result"
    }
   ],
   "source": [
    "typeof(c)"
   ]
  },
  {
   "cell_type": "markdown",
   "id": "049315b0",
   "metadata": {},
   "source": [
    "On 32-bit architectures, typeof(c) will be Int32. You can convert an integer value back to a Char just as easily:"
   ]
  },
  {
   "cell_type": "code",
   "execution_count": 5,
   "id": "6123e852",
   "metadata": {},
   "outputs": [
    {
     "data": {
      "text/plain": [
       "'x': ASCII/Unicode U+0078 (category Ll: Letter, lowercase)"
      ]
     },
     "execution_count": 5,
     "metadata": {},
     "output_type": "execute_result"
    }
   ],
   "source": [
    "Char(120)"
   ]
  },
  {
   "cell_type": "markdown",
   "id": "71b935a7",
   "metadata": {},
   "source": [
    "Not all integer values are valid Unicode code points, but for performance, the Char conversion does not check that every character value is valid. If you want to check that each converted value is a valid code point, use the isvalid function:"
   ]
  },
  {
   "cell_type": "code",
   "execution_count": 6,
   "id": "c3e07079",
   "metadata": {},
   "outputs": [
    {
     "data": {
      "text/plain": [
       "'\\U110000': Unicode U+110000 (category In: Invalid, too high)"
      ]
     },
     "execution_count": 6,
     "metadata": {},
     "output_type": "execute_result"
    }
   ],
   "source": [
    "Char(0x110000)"
   ]
  },
  {
   "cell_type": "markdown",
   "id": "1130cd0a",
   "metadata": {},
   "source": [
    "As of this writing, the valid Unicode code points are U+0000 through U+D7FF and U+E000 through U+10FFFF. These have not all been assigned intelligible meanings yet, nor are they necessarily interpretable by applications, but all of these values are considered to be valid Unicode characters.\n",
    "\n",
    "You can input any Unicode character in single quotes using \\u followed by up to four hexadecimal digits or \\U followed by up to eight hexadecimal digits (the longest valid value only requires six):"
   ]
  },
  {
   "cell_type": "code",
   "execution_count": 7,
   "id": "bcdc8877",
   "metadata": {},
   "outputs": [
    {
     "data": {
      "text/plain": [
       "'\\0': ASCII/Unicode U+0000 (category Cc: Other, control)"
      ]
     },
     "execution_count": 7,
     "metadata": {},
     "output_type": "execute_result"
    }
   ],
   "source": [
    "'\\u0'"
   ]
  },
  {
   "cell_type": "code",
   "execution_count": 8,
   "id": "aee7fc6a",
   "metadata": {},
   "outputs": [
    {
     "data": {
      "text/plain": [
       "'x': ASCII/Unicode U+0078 (category Ll: Letter, lowercase)"
      ]
     },
     "execution_count": 8,
     "metadata": {},
     "output_type": "execute_result"
    }
   ],
   "source": [
    "'\\u78'"
   ]
  },
  {
   "cell_type": "code",
   "execution_count": 9,
   "id": "54641691",
   "metadata": {},
   "outputs": [
    {
     "data": {
      "text/plain": [
       "'∀': Unicode U+2200 (category Sm: Symbol, math)"
      ]
     },
     "execution_count": 9,
     "metadata": {},
     "output_type": "execute_result"
    }
   ],
   "source": [
    "'\\u2200'"
   ]
  },
  {
   "cell_type": "code",
   "execution_count": 10,
   "id": "90b066ca",
   "metadata": {},
   "outputs": [
    {
     "data": {
      "text/plain": [
       "'\\U10ffff': Unicode U+10FFFF (category Cn: Other, not assigned)"
      ]
     },
     "execution_count": 10,
     "metadata": {},
     "output_type": "execute_result"
    }
   ],
   "source": [
    "'\\U10ffff'"
   ]
  },
  {
   "cell_type": "markdown",
   "id": "2318165d",
   "metadata": {},
   "source": [
    "Julia uses your system's locale and language settings to determine which characters can be printed as-is and which must be output using the generic, escaped \\u or \\U input forms. In addition to these Unicode escape forms, all of C's traditional escaped input forms can also be used:"
   ]
  },
  {
   "cell_type": "code",
   "execution_count": 11,
   "id": "964915cf",
   "metadata": {},
   "outputs": [
    {
     "data": {
      "text/plain": [
       "0"
      ]
     },
     "execution_count": 11,
     "metadata": {},
     "output_type": "execute_result"
    }
   ],
   "source": [
    "Int('\\0')"
   ]
  },
  {
   "cell_type": "code",
   "execution_count": 12,
   "id": "527d4a10",
   "metadata": {},
   "outputs": [
    {
     "data": {
      "text/plain": [
       "9"
      ]
     },
     "execution_count": 12,
     "metadata": {},
     "output_type": "execute_result"
    }
   ],
   "source": [
    "Int('\\t')"
   ]
  },
  {
   "cell_type": "code",
   "execution_count": 13,
   "id": "9236429a",
   "metadata": {},
   "outputs": [
    {
     "data": {
      "text/plain": [
       "10"
      ]
     },
     "execution_count": 13,
     "metadata": {},
     "output_type": "execute_result"
    }
   ],
   "source": [
    "Int('\\n')"
   ]
  },
  {
   "cell_type": "code",
   "execution_count": 14,
   "id": "df94a325",
   "metadata": {},
   "outputs": [
    {
     "data": {
      "text/plain": [
       "27"
      ]
     },
     "execution_count": 14,
     "metadata": {},
     "output_type": "execute_result"
    }
   ],
   "source": [
    "Int('\\e')"
   ]
  },
  {
   "cell_type": "code",
   "execution_count": 15,
   "id": "e285872e",
   "metadata": {},
   "outputs": [
    {
     "data": {
      "text/plain": [
       "127"
      ]
     },
     "execution_count": 15,
     "metadata": {},
     "output_type": "execute_result"
    }
   ],
   "source": [
    "Int('\\x7f')"
   ]
  },
  {
   "cell_type": "code",
   "execution_count": 16,
   "id": "a6643c1b",
   "metadata": {},
   "outputs": [
    {
     "data": {
      "text/plain": [
       "127"
      ]
     },
     "execution_count": 16,
     "metadata": {},
     "output_type": "execute_result"
    }
   ],
   "source": [
    "Int('\\177')"
   ]
  },
  {
   "cell_type": "markdown",
   "id": "37c5cd0b",
   "metadata": {},
   "source": [
    "You can do comparisons and a limited amount of arithmetic with Char values:"
   ]
  },
  {
   "cell_type": "code",
   "execution_count": 17,
   "id": "11d0e735",
   "metadata": {},
   "outputs": [
    {
     "data": {
      "text/plain": [
       "true"
      ]
     },
     "execution_count": 17,
     "metadata": {},
     "output_type": "execute_result"
    }
   ],
   "source": [
    "'A' < 'a'"
   ]
  },
  {
   "cell_type": "code",
   "execution_count": 18,
   "id": "d1d2c301",
   "metadata": {},
   "outputs": [
    {
     "data": {
      "text/plain": [
       "false"
      ]
     },
     "execution_count": 18,
     "metadata": {},
     "output_type": "execute_result"
    }
   ],
   "source": [
    "'A' <= 'a' <= 'Z'"
   ]
  },
  {
   "cell_type": "code",
   "execution_count": 19,
   "id": "21688508",
   "metadata": {},
   "outputs": [
    {
     "data": {
      "text/plain": [
       "true"
      ]
     },
     "execution_count": 19,
     "metadata": {},
     "output_type": "execute_result"
    }
   ],
   "source": [
    "'A' <= 'X' <= 'Z'"
   ]
  },
  {
   "cell_type": "code",
   "execution_count": 20,
   "id": "5afbc691",
   "metadata": {},
   "outputs": [
    {
     "data": {
      "text/plain": [
       "23"
      ]
     },
     "execution_count": 20,
     "metadata": {},
     "output_type": "execute_result"
    }
   ],
   "source": [
    "'x' - 'a'"
   ]
  },
  {
   "cell_type": "code",
   "execution_count": 21,
   "id": "8f3e1b74",
   "metadata": {},
   "outputs": [
    {
     "data": {
      "text/plain": [
       "'B': ASCII/Unicode U+0042 (category Lu: Letter, uppercase)"
      ]
     },
     "execution_count": 21,
     "metadata": {},
     "output_type": "execute_result"
    }
   ],
   "source": [
    "'A' + 1"
   ]
  },
  {
   "cell_type": "markdown",
   "id": "3c4914b0",
   "metadata": {},
   "source": [
    "## String Basics"
   ]
  },
  {
   "cell_type": "code",
   "execution_count": 22,
   "id": "50cde892",
   "metadata": {},
   "outputs": [
    {
     "data": {
      "text/plain": [
       "\"Hello, world.\\n\""
      ]
     },
     "execution_count": 22,
     "metadata": {},
     "output_type": "execute_result"
    }
   ],
   "source": [
    "str = \"Hello, world.\\n\""
   ]
  },
  {
   "cell_type": "code",
   "execution_count": 23,
   "id": "6cee8d46",
   "metadata": {},
   "outputs": [
    {
     "data": {
      "text/plain": [
       "\"Contains \\\"quote\\\" characters\""
      ]
     },
     "execution_count": 23,
     "metadata": {},
     "output_type": "execute_result"
    }
   ],
   "source": [
    "\"\"\"Contains \"quote\" characters\"\"\""
   ]
  },
  {
   "cell_type": "markdown",
   "id": "ba59c953",
   "metadata": {},
   "source": [
    "Long lines in strings can be broken up by preceding the newline with a backslash (\\):"
   ]
  },
  {
   "cell_type": "code",
   "execution_count": 24,
   "id": "0d99a231",
   "metadata": {},
   "outputs": [
    {
     "data": {
      "text/plain": [
       "\"this is a long line\""
      ]
     },
     "execution_count": 24,
     "metadata": {},
     "output_type": "execute_result"
    }
   ],
   "source": [
    "\"this is a long \\\n",
    "line\""
   ]
  },
  {
   "cell_type": "markdown",
   "id": "e57a852c",
   "metadata": {},
   "source": [
    "If you want to extract a character from a string, you index into it:Long lines in strings can be broken up by preceding the newline with a backslash (\\):"
   ]
  },
  {
   "cell_type": "code",
   "execution_count": 25,
   "id": "7d68727d",
   "metadata": {},
   "outputs": [
    {
     "data": {
      "text/plain": [
       "'H': ASCII/Unicode U+0048 (category Lu: Letter, uppercase)"
      ]
     },
     "execution_count": 25,
     "metadata": {},
     "output_type": "execute_result"
    }
   ],
   "source": [
    "str[begin]"
   ]
  },
  {
   "cell_type": "code",
   "execution_count": 26,
   "id": "e6e14ddf",
   "metadata": {},
   "outputs": [
    {
     "data": {
      "text/plain": [
       "'H': ASCII/Unicode U+0048 (category Lu: Letter, uppercase)"
      ]
     },
     "execution_count": 26,
     "metadata": {},
     "output_type": "execute_result"
    }
   ],
   "source": [
    "str[1]"
   ]
  },
  {
   "cell_type": "code",
   "execution_count": 27,
   "id": "e0db44b3",
   "metadata": {},
   "outputs": [
    {
     "data": {
      "text/plain": [
       "',': ASCII/Unicode U+002C (category Po: Punctuation, other)"
      ]
     },
     "execution_count": 27,
     "metadata": {},
     "output_type": "execute_result"
    }
   ],
   "source": [
    "str[6]"
   ]
  },
  {
   "cell_type": "code",
   "execution_count": 28,
   "id": "65a3fc1f",
   "metadata": {},
   "outputs": [
    {
     "data": {
      "text/plain": [
       "'\\n': ASCII/Unicode U+000A (category Cc: Other, control)"
      ]
     },
     "execution_count": 28,
     "metadata": {},
     "output_type": "execute_result"
    }
   ],
   "source": [
    "str[end]"
   ]
  },
  {
   "cell_type": "markdown",
   "id": "ad46560b",
   "metadata": {},
   "source": [
    "Many Julia objects, including strings, can be indexed with integers. The index of the first element (the first character of a string) is returned by firstindex(str), and the index of the last element (character) with lastindex(str). The keywords begin and end can be used inside an indexing operation as shorthand for the first and last indices, respectively, along the given dimension. String indexing, like most indexing in Julia, is 1-based: firstindex always returns 1 for any AbstractString. As we will see below, however, lastindex(str) is not in general the same as length(str) for a string, because some Unicode characters can occupy multiple \"code units\".\n",
    "\n",
    "You can perform arithmetic and other operations with end, just like a normal value:"
   ]
  },
  {
   "cell_type": "code",
   "execution_count": 29,
   "id": "03fecc18",
   "metadata": {},
   "outputs": [
    {
     "data": {
      "text/plain": [
       "'.': ASCII/Unicode U+002E (category Po: Punctuation, other)"
      ]
     },
     "execution_count": 29,
     "metadata": {},
     "output_type": "execute_result"
    }
   ],
   "source": [
    "str[end-1]"
   ]
  },
  {
   "cell_type": "code",
   "execution_count": 30,
   "id": "1615bdfb",
   "metadata": {},
   "outputs": [
    {
     "data": {
      "text/plain": [
       "' ': ASCII/Unicode U+0020 (category Zs: Separator, space)"
      ]
     },
     "execution_count": 30,
     "metadata": {},
     "output_type": "execute_result"
    }
   ],
   "source": [
    "str[end÷2]"
   ]
  },
  {
   "cell_type": "markdown",
   "id": "68bffc68",
   "metadata": {},
   "source": [
    "Using an index less than begin (1) or greater than end raises an error:"
   ]
  },
  {
   "cell_type": "code",
   "execution_count": 31,
   "id": "a24baa4d",
   "metadata": {},
   "outputs": [
    {
     "ename": "LoadError",
     "evalue": "BoundsError: attempt to access 14-codeunit String at index [0]",
     "output_type": "error",
     "traceback": [
      "BoundsError: attempt to access 14-codeunit String at index [0]",
      "",
      "Stacktrace:",
      " [1] checkbounds",
      "   @ .\\strings\\basic.jl:216 [inlined]",
      " [2] codeunit",
      "   @ .\\strings\\string.jl:119 [inlined]",
      " [3] getindex(s::String, i::Int64)",
      "   @ Base .\\strings\\string.jl:430",
      " [4] top-level scope",
      "   @ In[31]:1"
     ]
    }
   ],
   "source": [
    "str[begin-1]"
   ]
  },
  {
   "cell_type": "code",
   "execution_count": 32,
   "id": "193bd045",
   "metadata": {},
   "outputs": [
    {
     "ename": "LoadError",
     "evalue": "BoundsError: attempt to access 14-codeunit String at index [15]",
     "output_type": "error",
     "traceback": [
      "BoundsError: attempt to access 14-codeunit String at index [15]",
      "",
      "Stacktrace:",
      " [1] checkbounds",
      "   @ .\\strings\\basic.jl:216 [inlined]",
      " [2] codeunit",
      "   @ .\\strings\\string.jl:119 [inlined]",
      " [3] getindex(s::String, i::Int64)",
      "   @ Base .\\strings\\string.jl:430",
      " [4] top-level scope",
      "   @ In[32]:1"
     ]
    }
   ],
   "source": [
    "str[end+1]"
   ]
  },
  {
   "cell_type": "markdown",
   "id": "a605fb5b",
   "metadata": {},
   "source": [
    "You can also extract a substring using range indexing:"
   ]
  },
  {
   "cell_type": "code",
   "execution_count": 42,
   "id": "d812ab8c",
   "metadata": {},
   "outputs": [
    {
     "data": {
      "text/plain": [
       "\"lo, wo\""
      ]
     },
     "execution_count": 42,
     "metadata": {},
     "output_type": "execute_result"
    }
   ],
   "source": [
    "str[4:9]"
   ]
  },
  {
   "cell_type": "markdown",
   "id": "c29a0211",
   "metadata": {},
   "source": [
    "Notice that the expressions str[k] and str[k:k] do not give the same result:"
   ]
  },
  {
   "cell_type": "code",
   "execution_count": 44,
   "id": "282e26c2",
   "metadata": {},
   "outputs": [
    {
     "data": {
      "text/plain": [
       "',': ASCII/Unicode U+002C (category Po: Punctuation, other)"
      ]
     },
     "execution_count": 44,
     "metadata": {},
     "output_type": "execute_result"
    }
   ],
   "source": [
    "str[6]"
   ]
  },
  {
   "cell_type": "code",
   "execution_count": 45,
   "id": "0277da73",
   "metadata": {},
   "outputs": [
    {
     "data": {
      "text/plain": [
       "\",\""
      ]
     },
     "execution_count": 45,
     "metadata": {},
     "output_type": "execute_result"
    }
   ],
   "source": [
    "str[6:6]"
   ]
  },
  {
   "cell_type": "markdown",
   "id": "acc93665",
   "metadata": {},
   "source": [
    "The former is a single character value of type Char, while the latter is a string value that happens to contain only a single character. In Julia these are very different things.\n",
    "\n",
    "Range indexing makes a copy of the selected part of the original string. Alternatively, it is possible to create a view into a string using the type SubString, for example:"
   ]
  },
  {
   "cell_type": "code",
   "execution_count": 46,
   "id": "dbda295f",
   "metadata": {},
   "outputs": [
    {
     "data": {
      "text/plain": [
       "\"long string\""
      ]
     },
     "execution_count": 46,
     "metadata": {},
     "output_type": "execute_result"
    }
   ],
   "source": [
    "str = \"long string\""
   ]
  },
  {
   "cell_type": "code",
   "execution_count": 47,
   "id": "0d87bb34",
   "metadata": {},
   "outputs": [
    {
     "data": {
      "text/plain": [
       "\"long\""
      ]
     },
     "execution_count": 47,
     "metadata": {},
     "output_type": "execute_result"
    }
   ],
   "source": [
    "substr = SubString(str, 1, 4)"
   ]
  },
  {
   "cell_type": "code",
   "execution_count": 48,
   "id": "4909070f",
   "metadata": {},
   "outputs": [
    {
     "data": {
      "text/plain": [
       "SubString{String}"
      ]
     },
     "execution_count": 48,
     "metadata": {},
     "output_type": "execute_result"
    }
   ],
   "source": [
    "typeof(substr)"
   ]
  },
  {
   "cell_type": "markdown",
   "id": "1338e8e3",
   "metadata": {},
   "source": [
    "Several standard functions like chop, chomp or strip return a SubString"
   ]
  },
  {
   "cell_type": "markdown",
   "id": "5824b4d3",
   "metadata": {},
   "source": [
    "## Concatenation "
   ]
  },
  {
   "cell_type": "markdown",
   "id": "b16b3da9",
   "metadata": {},
   "source": [
    "One of the most common and useful string operations is concatenation:"
   ]
  },
  {
   "cell_type": "code",
   "execution_count": 49,
   "id": "90519eed",
   "metadata": {},
   "outputs": [
    {
     "data": {
      "text/plain": [
       "\"Hello\""
      ]
     },
     "execution_count": 49,
     "metadata": {},
     "output_type": "execute_result"
    }
   ],
   "source": [
    "greet = \"Hello\""
   ]
  },
  {
   "cell_type": "code",
   "execution_count": 50,
   "id": "ae071c6a",
   "metadata": {},
   "outputs": [
    {
     "data": {
      "text/plain": [
       "\"world\""
      ]
     },
     "execution_count": 50,
     "metadata": {},
     "output_type": "execute_result"
    }
   ],
   "source": [
    "whom = \"world\""
   ]
  },
  {
   "cell_type": "code",
   "execution_count": 51,
   "id": "63ec5b48",
   "metadata": {},
   "outputs": [
    {
     "data": {
      "text/plain": [
       "\"Hello, world.\\n\""
      ]
     },
     "execution_count": 51,
     "metadata": {},
     "output_type": "execute_result"
    }
   ],
   "source": [
    "string(greet, \", \", whom, \".\\n\")"
   ]
  },
  {
   "cell_type": "markdown",
   "id": "b6446560",
   "metadata": {},
   "source": [
    "---\n",
    "## Interpolation "
   ]
  },
  {
   "cell_type": "markdown",
   "id": "cfcbffcc",
   "metadata": {},
   "source": [
    "Constructing strings using concatenation can become a bit cumbersome, however. To reduce the need for these verbose calls to string or repeated multiplications, Julia allows interpolation into string literals using $, as in Perl:"
   ]
  },
  {
   "cell_type": "code",
   "execution_count": 53,
   "id": "de47ef69",
   "metadata": {},
   "outputs": [
    {
     "data": {
      "text/plain": [
       "\"Hello, world.\\n\""
      ]
     },
     "execution_count": 53,
     "metadata": {},
     "output_type": "execute_result"
    }
   ],
   "source": [
    "\"$greet, $whom.\\n\""
   ]
  },
  {
   "cell_type": "markdown",
   "id": "6dc8957d",
   "metadata": {},
   "source": [
    "This is more readable and convenient and equivalent to the above string concatenation – the system rewrites this apparent single string literal into the call string(greet, \", \", whom, \".\\n\").\n",
    "\n",
    "The shortest complete expression after the $ is taken as the expression whose value is to be interpolated into the string. Thus, you can interpolate any expression into a string using parentheses:"
   ]
  },
  {
   "cell_type": "code",
   "execution_count": 54,
   "id": "680b3bb6",
   "metadata": {},
   "outputs": [
    {
     "data": {
      "text/plain": [
       "\"1 + 2 = 3\""
      ]
     },
     "execution_count": 54,
     "metadata": {},
     "output_type": "execute_result"
    }
   ],
   "source": [
    "\"1 + 2 = $(1 + 2)\""
   ]
  },
  {
   "cell_type": "markdown",
   "id": "e284dcc7",
   "metadata": {},
   "source": [
    "Both concatenation and string interpolation call string to convert objects into string form. However, string actually just returns the output of print, so new types should add methods to print or show instead of string."
   ]
  },
  {
   "cell_type": "code",
   "execution_count": 55,
   "id": "b2efc60b",
   "metadata": {},
   "outputs": [
    {
     "data": {
      "text/plain": [
       "3-element Vector{Int64}:\n",
       " 1\n",
       " 2\n",
       " 3"
      ]
     },
     "execution_count": 55,
     "metadata": {},
     "output_type": "execute_result"
    }
   ],
   "source": [
    "v = [1,2,3]"
   ]
  },
  {
   "cell_type": "code",
   "execution_count": 56,
   "id": "3769b028",
   "metadata": {},
   "outputs": [
    {
     "data": {
      "text/plain": [
       "\"v: [1, 2, 3]\""
      ]
     },
     "execution_count": 56,
     "metadata": {},
     "output_type": "execute_result"
    }
   ],
   "source": [
    "\"v: $v\""
   ]
  },
  {
   "cell_type": "markdown",
   "id": "9b06bc82",
   "metadata": {},
   "source": [
    "---\n",
    "## Triple-Quoted String Literals"
   ]
  },
  {
   "cell_type": "markdown",
   "id": "2d8b43db",
   "metadata": {},
   "source": [
    "When strings are created using triple-quotes (\"\"\"...\"\"\") they have some special behavior that can be useful for creating longer blocks of text.\n",
    "\n",
    "First, triple-quoted strings are also dedented to the level of the least-indented line. This is useful for defining strings within code that is indented. For example:"
   ]
  },
  {
   "cell_type": "code",
   "execution_count": 58,
   "id": "243a0f00",
   "metadata": {},
   "outputs": [
    {
     "data": {
      "text/plain": [
       "\" Hello,\\n world.\\n\""
      ]
     },
     "execution_count": 58,
     "metadata": {},
     "output_type": "execute_result"
    }
   ],
   "source": [
    "str = \"\"\"\n",
    "     Hello,\n",
    "     world.\n",
    "    \"\"\""
   ]
  },
  {
   "cell_type": "markdown",
   "id": "db4bfbbf",
   "metadata": {},
   "source": [
    "In this case the final (empty) line before the closing \"\"\" sets the indentation level."
   ]
  },
  {
   "cell_type": "code",
   "execution_count": 59,
   "id": "d1687886",
   "metadata": {},
   "outputs": [
    {
     "data": {
      "text/plain": [
       "\"hello\""
      ]
     },
     "execution_count": 59,
     "metadata": {},
     "output_type": "execute_result"
    }
   ],
   "source": [
    "\"\"\"hello\"\"\""
   ]
  },
  {
   "cell_type": "code",
   "execution_count": 60,
   "id": "16148ebe",
   "metadata": {},
   "outputs": [
    {
     "data": {
      "text/plain": [
       "\"hello\""
      ]
     },
     "execution_count": 60,
     "metadata": {},
     "output_type": "execute_result"
    }
   ],
   "source": [
    "\"\"\"\n",
    "hello\"\"\""
   ]
  },
  {
   "cell_type": "code",
   "execution_count": 63,
   "id": "d2b84fad",
   "metadata": {},
   "outputs": [
    {
     "data": {
      "text/plain": [
       "\"\\nhello\""
      ]
     },
     "execution_count": 63,
     "metadata": {},
     "output_type": "execute_result"
    }
   ],
   "source": [
    "\"\"\"\n",
    "\n",
    "hello\"\"\""
   ]
  },
  {
   "cell_type": "markdown",
   "id": "4913e42e",
   "metadata": {},
   "source": [
    "---\n",
    "## Common Operations "
   ]
  },
  {
   "cell_type": "markdown",
   "id": "b69d5191",
   "metadata": {},
   "source": [
    "You can lexicographically compare strings using the standard comparison operators:"
   ]
  },
  {
   "cell_type": "code",
   "execution_count": 64,
   "id": "ccc0e411",
   "metadata": {},
   "outputs": [
    {
     "data": {
      "text/plain": [
       "true"
      ]
     },
     "execution_count": 64,
     "metadata": {},
     "output_type": "execute_result"
    }
   ],
   "source": [
    "\"abracadabra\" < \"xylophone\""
   ]
  },
  {
   "cell_type": "code",
   "execution_count": 65,
   "id": "fcbda510",
   "metadata": {},
   "outputs": [
    {
     "data": {
      "text/plain": [
       "false"
      ]
     },
     "execution_count": 65,
     "metadata": {},
     "output_type": "execute_result"
    }
   ],
   "source": [
    "\"abracadabra\" == \"xylophone\""
   ]
  },
  {
   "cell_type": "code",
   "execution_count": 66,
   "id": "95876826",
   "metadata": {},
   "outputs": [
    {
     "data": {
      "text/plain": [
       "true"
      ]
     },
     "execution_count": 66,
     "metadata": {},
     "output_type": "execute_result"
    }
   ],
   "source": [
    "\"Hello, world.\" != \"Goodbye, world.\""
   ]
  },
  {
   "cell_type": "code",
   "execution_count": 67,
   "id": "398e281e",
   "metadata": {},
   "outputs": [
    {
     "data": {
      "text/plain": [
       "true"
      ]
     },
     "execution_count": 67,
     "metadata": {},
     "output_type": "execute_result"
    }
   ],
   "source": [
    "\"1 + 2 = 3\" == \"1 + 2 = $(1 + 2)\""
   ]
  },
  {
   "cell_type": "markdown",
   "id": "5a875871",
   "metadata": {},
   "source": [
    "You can search for the index of a particular character using the findfirst and findlast functions:"
   ]
  },
  {
   "cell_type": "code",
   "execution_count": 68,
   "id": "0d73d1fd",
   "metadata": {},
   "outputs": [
    {
     "data": {
      "text/plain": [
       "4"
      ]
     },
     "execution_count": 68,
     "metadata": {},
     "output_type": "execute_result"
    }
   ],
   "source": [
    "findfirst(isequal('o'), \"xylophone\")"
   ]
  },
  {
   "cell_type": "code",
   "execution_count": 69,
   "id": "42806461",
   "metadata": {},
   "outputs": [
    {
     "data": {
      "text/plain": [
       "7"
      ]
     },
     "execution_count": 69,
     "metadata": {},
     "output_type": "execute_result"
    }
   ],
   "source": [
    "findlast(isequal('o'), \"xylophone\")"
   ]
  },
  {
   "cell_type": "code",
   "execution_count": 70,
   "id": "a02f1ab0",
   "metadata": {},
   "outputs": [],
   "source": [
    "findfirst(isequal('z'), \"xylophone\")"
   ]
  },
  {
   "cell_type": "markdown",
   "id": "7bffdbb7",
   "metadata": {},
   "source": [
    "You can start the search for a character at a given offset by using the functions findnext and findprev:"
   ]
  },
  {
   "cell_type": "code",
   "execution_count": 71,
   "id": "e518fd2c",
   "metadata": {},
   "outputs": [
    {
     "data": {
      "text/plain": [
       "4"
      ]
     },
     "execution_count": 71,
     "metadata": {},
     "output_type": "execute_result"
    }
   ],
   "source": [
    "findnext(isequal('o'), \"xylophone\", 1)"
   ]
  },
  {
   "cell_type": "code",
   "execution_count": 72,
   "id": "f46af0b0",
   "metadata": {},
   "outputs": [
    {
     "data": {
      "text/plain": [
       "7"
      ]
     },
     "execution_count": 72,
     "metadata": {},
     "output_type": "execute_result"
    }
   ],
   "source": [
    "findnext(isequal('o'), \"xylophone\", 5)"
   ]
  },
  {
   "cell_type": "code",
   "execution_count": 73,
   "id": "71773fa8",
   "metadata": {},
   "outputs": [
    {
     "data": {
      "text/plain": [
       "4"
      ]
     },
     "execution_count": 73,
     "metadata": {},
     "output_type": "execute_result"
    }
   ],
   "source": [
    "findprev(isequal('o'), \"xylophone\", 5)"
   ]
  },
  {
   "cell_type": "code",
   "execution_count": 75,
   "id": "7812dc78",
   "metadata": {},
   "outputs": [],
   "source": [
    "findnext(isequal('o'), \"xylophone\", 8)"
   ]
  },
  {
   "cell_type": "markdown",
   "id": "8cfb66bc",
   "metadata": {},
   "source": [
    "You can use the occursin function to check if a substring is found within a string:"
   ]
  },
  {
   "cell_type": "code",
   "execution_count": 77,
   "id": "e3f1f036",
   "metadata": {},
   "outputs": [
    {
     "data": {
      "text/plain": [
       "true"
      ]
     },
     "execution_count": 77,
     "metadata": {},
     "output_type": "execute_result"
    }
   ],
   "source": [
    "occursin(\"world\", \"Hello, world.\")"
   ]
  },
  {
   "cell_type": "code",
   "execution_count": 78,
   "id": "f9b2d6f9",
   "metadata": {},
   "outputs": [
    {
     "data": {
      "text/plain": [
       "true"
      ]
     },
     "execution_count": 78,
     "metadata": {},
     "output_type": "execute_result"
    }
   ],
   "source": [
    "occursin(\"o\", \"Xylophon\")"
   ]
  },
  {
   "cell_type": "code",
   "execution_count": 79,
   "id": "92f9b230",
   "metadata": {},
   "outputs": [
    {
     "data": {
      "text/plain": [
       "false"
      ]
     },
     "execution_count": 79,
     "metadata": {},
     "output_type": "execute_result"
    }
   ],
   "source": [
    "occursin(\"a\", \"Xylophon\")"
   ]
  },
  {
   "cell_type": "code",
   "execution_count": 80,
   "id": "ceab2db1",
   "metadata": {},
   "outputs": [
    {
     "data": {
      "text/plain": [
       "true"
      ]
     },
     "execution_count": 80,
     "metadata": {},
     "output_type": "execute_result"
    }
   ],
   "source": [
    "occursin('o', \"Xylophon\")"
   ]
  },
  {
   "cell_type": "code",
   "execution_count": null,
   "id": "8f392a6d",
   "metadata": {},
   "outputs": [],
   "source": []
  }
 ],
 "metadata": {
  "kernelspec": {
   "display_name": "Julia 1.10.1",
   "language": "julia",
   "name": "julia-1.10"
  },
  "language_info": {
   "file_extension": ".jl",
   "mimetype": "application/julia",
   "name": "julia",
   "version": "1.10.1"
  }
 },
 "nbformat": 4,
 "nbformat_minor": 5
}
