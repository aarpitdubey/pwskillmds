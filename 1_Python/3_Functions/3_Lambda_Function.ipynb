{
 "cells": [
  {
   "cell_type": "code",
   "execution_count": 1,
   "id": "a7bc2884-bde8-450a-9746-29b689e897db",
   "metadata": {
    "tags": []
   },
   "outputs": [],
   "source": [
    "n = 3\n",
    "p = 2"
   ]
  },
  {
   "cell_type": "code",
   "execution_count": 2,
   "id": "524058ec-2b28-4215-9f63-6ecde0020cbf",
   "metadata": {
    "tags": []
   },
   "outputs": [],
   "source": [
    "def powerr(n, p):\n",
    "    return n**p"
   ]
  },
  {
   "cell_type": "code",
   "execution_count": 3,
   "id": "6aa3dd19-bfcf-4a81-ad7b-8414353adda1",
   "metadata": {
    "tags": []
   },
   "outputs": [
    {
     "data": {
      "text/plain": [
       "9"
      ]
     },
     "execution_count": 3,
     "metadata": {},
     "output_type": "execute_result"
    }
   ],
   "source": [
    "powerr(3, 2)"
   ]
  },
  {
   "cell_type": "code",
   "execution_count": 4,
   "id": "3532066a-b146-4f34-af71-e83ea80ca827",
   "metadata": {
    "tags": []
   },
   "outputs": [],
   "source": [
    "powerrr = lambda n, p : n**p # One-liner\n",
    "# Anonymous function\n",
    "# lambda Function"
   ]
  },
  {
   "cell_type": "code",
   "execution_count": 5,
   "id": "913a6ea7-38d3-4477-8057-4f057bd3b174",
   "metadata": {
    "tags": []
   },
   "outputs": [
    {
     "data": {
      "text/plain": [
       "9"
      ]
     },
     "execution_count": 5,
     "metadata": {},
     "output_type": "execute_result"
    }
   ],
   "source": [
    "powerrr(3, 2)"
   ]
  },
  {
   "cell_type": "code",
   "execution_count": 6,
   "id": "64c17fc6-c43a-48f2-9265-2cf2f772adc8",
   "metadata": {
    "tags": []
   },
   "outputs": [],
   "source": [
    "addd = lambda x, y : x + y"
   ]
  },
  {
   "cell_type": "code",
   "execution_count": 7,
   "id": "cc5ff130-9d18-4512-8ba0-ef752a81ec48",
   "metadata": {
    "tags": []
   },
   "outputs": [
    {
     "data": {
      "text/plain": [
       "9"
      ]
     },
     "execution_count": 7,
     "metadata": {},
     "output_type": "execute_result"
    }
   ],
   "source": [
    "addd(4, 5)"
   ]
  },
  {
   "cell_type": "code",
   "execution_count": 8,
   "id": "6713f800-c532-4411-90be-93990af3e73b",
   "metadata": {},
   "outputs": [],
   "source": [
    "celsiusToFahrenheit = lambda c : (9/5) * c + 32"
   ]
  },
  {
   "cell_type": "code",
   "execution_count": 9,
   "id": "e2045997-f619-417b-87b9-452b0063f5d8",
   "metadata": {
    "tags": []
   },
   "outputs": [
    {
     "data": {
      "text/plain": [
       "113.0"
      ]
     },
     "execution_count": 9,
     "metadata": {},
     "output_type": "execute_result"
    }
   ],
   "source": [
    "celsiusToFahrenheit(45)"
   ]
  },
  {
   "cell_type": "code",
   "execution_count": 10,
   "id": "ade21bfa-390a-438e-b0e6-4c66c909f99a",
   "metadata": {
    "tags": []
   },
   "outputs": [],
   "source": [
    "finding_max = lambda x, y : x if x > y else y"
   ]
  },
  {
   "cell_type": "code",
   "execution_count": 11,
   "id": "1b982688-f3ab-4b76-9207-2f3b427faa32",
   "metadata": {
    "tags": []
   },
   "outputs": [
    {
     "data": {
      "text/plain": [
       "34"
      ]
     },
     "execution_count": 11,
     "metadata": {},
     "output_type": "execute_result"
    }
   ],
   "source": [
    "finding_max(34, 23)"
   ]
  },
  {
   "cell_type": "code",
   "execution_count": 12,
   "id": "3403cd22-0994-4855-a081-eb5a126e3004",
   "metadata": {
    "tags": []
   },
   "outputs": [],
   "source": [
    "s = \"pwskills\""
   ]
  },
  {
   "cell_type": "code",
   "execution_count": 13,
   "id": "cfec7890-a55a-46df-8505-43a8762c339c",
   "metadata": {
    "tags": []
   },
   "outputs": [],
   "source": [
    "find_len = lambda s : len(s)"
   ]
  },
  {
   "cell_type": "code",
   "execution_count": 14,
   "id": "437a6555-6511-452c-bccf-c345d6e11f49",
   "metadata": {
    "tags": []
   },
   "outputs": [
    {
     "data": {
      "text/plain": [
       "8"
      ]
     },
     "execution_count": 14,
     "metadata": {},
     "output_type": "execute_result"
    }
   ],
   "source": [
    "find_len(s)"
   ]
  }
 ],
 "metadata": {
  "kernelspec": {
   "display_name": "Python 3 (ipykernel)",
   "language": "python",
   "name": "python3"
  },
  "language_info": {
   "codemirror_mode": {
    "name": "ipython",
    "version": 3
   },
   "file_extension": ".py",
   "mimetype": "text/x-python",
   "name": "python",
   "nbconvert_exporter": "python",
   "pygments_lexer": "ipython3",
   "version": "3.11.3"
  }
 },
 "nbformat": 4,
 "nbformat_minor": 5
}
