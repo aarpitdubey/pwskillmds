{
 "cells": [
  {
   "cell_type": "code",
   "execution_count": 1,
   "id": "ce5d531d-d858-41c8-a1f2-5c90596aea0d",
   "metadata": {
    "tags": []
   },
   "outputs": [
    {
     "data": {
      "text/plain": [
       "range(0, 10)"
      ]
     },
     "execution_count": 1,
     "metadata": {},
     "output_type": "execute_result"
    }
   ],
   "source": [
    "range(10)"
   ]
  },
  {
   "cell_type": "code",
   "execution_count": 2,
   "id": "0399c811-be77-43c3-9fcf-d0f7312b465e",
   "metadata": {
    "tags": []
   },
   "outputs": [
    {
     "name": "stdout",
     "output_type": "stream",
     "text": [
      "0\n",
      "1\n",
      "2\n",
      "3\n",
      "4\n",
      "5\n",
      "6\n",
      "7\n",
      "8\n",
      "9\n"
     ]
    }
   ],
   "source": [
    "for i in range(10):\n",
    "    print(i)"
   ]
  },
  {
   "cell_type": "markdown",
   "id": "91337975-cd73-4e7c-b256-66c3844e9147",
   "metadata": {},
   "source": [
    "### Fibonacci Number with help of Generator Function"
   ]
  },
  {
   "cell_type": "markdown",
   "id": "25fbf80b-8b66-4fbd-88aa-fc2ab5003776",
   "metadata": {},
   "source": [
    "The Fibonacci sequence is a series of numbers in which each number is the sum of the two preceding ones, usually starting with 0 and 1. We can use a generator function in Python to create an infinite sequence of Fibonacci numbers."
   ]
  },
  {
   "cell_type": "code",
   "execution_count": 3,
   "id": "6c0cc92e-3022-4842-904b-b6797399d490",
   "metadata": {
    "tags": []
   },
   "outputs": [],
   "source": [
    "def fibonacci_generator():\n",
    "    num1, num2 = 0, 1\n",
    "    while True:\n",
    "        yield num1\n",
    "        num1, num2 = num2, num1 + num2"
   ]
  },
  {
   "cell_type": "markdown",
   "id": "f9dac0ad-9a94-4efa-bfbc-480771fe0ba7",
   "metadata": {},
   "source": [
    "In this code, we define a function called ```fibonacci_generator``` that uses the ```yield``` statement to produce values one at a time without storing them in memory. The function initializes ```num1``` and ```num2``` to 0 and 1, respectively, and then enters an infinite loop using ```while True```. In each iteration, it yields the value of ```num1``` and then updates ```num1``` and ```num2``` to the next two numbers in the sequence."
   ]
  },
  {
   "cell_type": "code",
   "execution_count": 4,
   "id": "bae147d4-1ee7-46f3-a291-fb1d151b81af",
   "metadata": {
    "tags": []
   },
   "outputs": [
    {
     "name": "stdout",
     "output_type": "stream",
     "text": [
      "0\n",
      "1\n",
      "1\n",
      "2\n",
      "3\n",
      "5\n",
      "8\n",
      "13\n",
      "21\n",
      "34\n"
     ]
    }
   ],
   "source": [
    "fib_gen = fibonacci_generator()\n",
    "for _ in range(10):\n",
    "    print(next(fib_gen))"
   ]
  },
  {
   "cell_type": "code",
   "execution_count": 5,
   "id": "0897c682-0800-402e-ba3e-c5f1c51f18bf",
   "metadata": {
    "tags": []
   },
   "outputs": [
    {
     "data": {
      "text/plain": [
       "generator"
      ]
     },
     "execution_count": 5,
     "metadata": {},
     "output_type": "execute_result"
    }
   ],
   "source": [
    "type(fib_gen)"
   ]
  },
  {
   "cell_type": "code",
   "execution_count": 6,
   "id": "af9ba813-2075-430b-877f-2398a4b2bbf1",
   "metadata": {
    "tags": []
   },
   "outputs": [],
   "source": [
    "def fib_gen(n):\n",
    "    n1, n2 = 0, 1\n",
    "    for i in range(n):\n",
    "        yield n1\n",
    "        n1, n2 = n2, n1 + n2"
   ]
  },
  {
   "cell_type": "code",
   "execution_count": 7,
   "id": "759fa228-2fc3-443e-bcba-8b68e8078fdf",
   "metadata": {
    "tags": []
   },
   "outputs": [
    {
     "name": "stdout",
     "output_type": "stream",
     "text": [
      "0\n",
      "1\n",
      "1\n",
      "2\n",
      "3\n",
      "5\n",
      "8\n",
      "13\n",
      "21\n",
      "34\n"
     ]
    }
   ],
   "source": [
    "for i in fib_gen(10):\n",
    "    print(i)"
   ]
  },
  {
   "cell_type": "code",
   "execution_count": 8,
   "id": "239506e2-469c-4952-a47b-01679e942d21",
   "metadata": {
    "tags": []
   },
   "outputs": [],
   "source": [
    "name = 'arpit'"
   ]
  },
  {
   "cell_type": "code",
   "execution_count": 9,
   "id": "570ddc7a-e58e-4aad-acff-7c96902a3584",
   "metadata": {
    "tags": []
   },
   "outputs": [
    {
     "name": "stdout",
     "output_type": "stream",
     "text": [
      "a\n",
      "r\n",
      "p\n",
      "i\n",
      "t\n"
     ]
    }
   ],
   "source": [
    "for _ in name:\n",
    "    print(_)"
   ]
  },
  {
   "cell_type": "code",
   "execution_count": 10,
   "id": "19d208c9-415c-4275-a963-5877ce012ed8",
   "metadata": {
    "tags": []
   },
   "outputs": [],
   "source": [
    "iname = iter(name)"
   ]
  },
  {
   "cell_type": "code",
   "execution_count": 11,
   "id": "c98ebb23-3abc-4d25-aa1d-17258fe99782",
   "metadata": {
    "tags": []
   },
   "outputs": [
    {
     "data": {
      "text/plain": [
       "'a'"
      ]
     },
     "execution_count": 11,
     "metadata": {},
     "output_type": "execute_result"
    }
   ],
   "source": [
    "next(iname)"
   ]
  },
  {
   "cell_type": "code",
   "execution_count": 12,
   "id": "a4c9204c-d392-4257-82bb-90d0e9f099fe",
   "metadata": {
    "tags": []
   },
   "outputs": [
    {
     "data": {
      "text/plain": [
       "'r'"
      ]
     },
     "execution_count": 12,
     "metadata": {},
     "output_type": "execute_result"
    }
   ],
   "source": [
    "next(iname)"
   ]
  },
  {
   "cell_type": "code",
   "execution_count": 13,
   "id": "29b2fa79-2f06-4563-a797-7e48a17a8820",
   "metadata": {
    "tags": []
   },
   "outputs": [
    {
     "data": {
      "text/plain": [
       "'p'"
      ]
     },
     "execution_count": 13,
     "metadata": {},
     "output_type": "execute_result"
    }
   ],
   "source": [
    "next(iname)"
   ]
  },
  {
   "cell_type": "code",
   "execution_count": 14,
   "id": "0d8ad3d1-c31c-40a3-8a5e-2b4320579b82",
   "metadata": {
    "tags": []
   },
   "outputs": [
    {
     "data": {
      "text/plain": [
       "'i'"
      ]
     },
     "execution_count": 14,
     "metadata": {},
     "output_type": "execute_result"
    }
   ],
   "source": [
    "next(iname)"
   ]
  },
  {
   "cell_type": "code",
   "execution_count": 15,
   "id": "b4abe12e-8318-4f52-85b2-21db18f801da",
   "metadata": {
    "tags": []
   },
   "outputs": [
    {
     "data": {
      "text/plain": [
       "'t'"
      ]
     },
     "execution_count": 15,
     "metadata": {},
     "output_type": "execute_result"
    }
   ],
   "source": [
    "next(iname)"
   ]
  },
  {
   "cell_type": "code",
   "execution_count": 16,
   "id": "135db1fd-0c0b-4b5f-aac2-09990608f673",
   "metadata": {
    "tags": []
   },
   "outputs": [],
   "source": [
    "def count_(n):\n",
    "    count = 1\n",
    "    while count <= n:\n",
    "        yield count\n",
    "        count += 1"
   ]
  },
  {
   "cell_type": "code",
   "execution_count": 17,
   "id": "aede8d09-0e2c-42fc-83f8-c0c7452b4d74",
   "metadata": {
    "tags": []
   },
   "outputs": [],
   "source": [
    "c = count_(5)"
   ]
  },
  {
   "cell_type": "code",
   "execution_count": 18,
   "id": "1b06a449-52e5-4c61-8914-5bd3d4c121ad",
   "metadata": {
    "tags": []
   },
   "outputs": [
    {
     "data": {
      "text/plain": [
       "generator"
      ]
     },
     "execution_count": 18,
     "metadata": {},
     "output_type": "execute_result"
    }
   ],
   "source": [
    "type(c)"
   ]
  },
  {
   "cell_type": "code",
   "execution_count": 19,
   "id": "ebee4ec5-bc77-42be-ab59-ca6422e36d37",
   "metadata": {
    "tags": []
   },
   "outputs": [
    {
     "name": "stdout",
     "output_type": "stream",
     "text": [
      "1\n",
      "2\n",
      "3\n",
      "4\n",
      "5\n"
     ]
    }
   ],
   "source": [
    "for _ in c:\n",
    "    print(_)"
   ]
  }
 ],
 "metadata": {
  "kernelspec": {
   "display_name": "Python 3 (ipykernel)",
   "language": "python",
   "name": "python3"
  },
  "language_info": {
   "codemirror_mode": {
    "name": "ipython",
    "version": 3
   },
   "file_extension": ".py",
   "mimetype": "text/x-python",
   "name": "python",
   "nbconvert_exporter": "python",
   "pygments_lexer": "ipython3",
   "version": "3.11.3"
  }
 },
 "nbformat": 4,
 "nbformat_minor": 5
}
