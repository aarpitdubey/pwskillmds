{
 "cells": [
  {
   "cell_type": "code",
   "execution_count": 1,
   "id": "5abcf346-2354-4588-8be7-d0275bcf8dde",
   "metadata": {
    "tags": []
   },
   "outputs": [],
   "source": [
    "alist = [2, 3, 4, 5, 6]"
   ]
  },
  {
   "cell_type": "code",
   "execution_count": 2,
   "id": "a65b5f5e-ad10-4f6b-99bd-3496dcaff6f8",
   "metadata": {
    "tags": []
   },
   "outputs": [],
   "source": [
    "def sqlist(alist):\n",
    "    emtlist = []\n",
    "    for i in alist:\n",
    "        emtlist.append(i**2)\n",
    "    return emtlist"
   ]
  },
  {
   "cell_type": "code",
   "execution_count": 3,
   "id": "78938f76-31e6-4522-afa1-b5d032844620",
   "metadata": {
    "tags": []
   },
   "outputs": [
    {
     "data": {
      "text/plain": [
       "[4, 9, 16, 25, 36]"
      ]
     },
     "execution_count": 3,
     "metadata": {},
     "output_type": "execute_result"
    }
   ],
   "source": [
    "sqlist(alist)"
   ]
  },
  {
   "cell_type": "markdown",
   "id": "23ca78fc-c28a-4026-8aaf-7802e46380a7",
   "metadata": {},
   "source": [
    "### map()\n",
    "\n",
    "The map() function in Python applies a specified function to each item in an iterable (such as a list) and returns a new iterable with the results. In this case, the map() function would apply a function to each element in the list and return a new iterable with the modified values."
   ]
  },
  {
   "cell_type": "code",
   "execution_count": 4,
   "id": "ee0aef3d-3986-4cc6-99c2-4607b7ed7bf4",
   "metadata": {
    "tags": []
   },
   "outputs": [],
   "source": [
    "sqr = lambda x : x**2 "
   ]
  },
  {
   "cell_type": "code",
   "execution_count": 5,
   "id": "a040bf81-4dc3-4a57-b91e-12ae132ab037",
   "metadata": {
    "tags": []
   },
   "outputs": [],
   "source": [
    "result = list(map(sqr, alist))"
   ]
  },
  {
   "cell_type": "markdown",
   "id": "713d207a-6277-483e-a575-364cb0e7ec5b",
   "metadata": {},
   "source": [
    "In this example, the sqr function is applied to each element in the alist using the map() function, resulting in a new list containing the squares of the original elements."
   ]
  },
  {
   "cell_type": "code",
   "execution_count": 6,
   "id": "3060f184-69c8-4169-b506-b3f62cddfee6",
   "metadata": {
    "tags": []
   },
   "outputs": [
    {
     "data": {
      "text/plain": [
       "[4, 9, 16, 25, 36]"
      ]
     },
     "execution_count": 6,
     "metadata": {},
     "output_type": "execute_result"
    }
   ],
   "source": [
    "result"
   ]
  },
  {
   "cell_type": "code",
   "execution_count": 7,
   "id": "48fbfcd1-bc91-4bd6-a218-4dd1552aac26",
   "metadata": {
    "tags": []
   },
   "outputs": [
    {
     "data": {
      "text/plain": [
       "[7, 9, 11, 13, 15]"
      ]
     },
     "execution_count": 7,
     "metadata": {},
     "output_type": "execute_result"
    }
   ],
   "source": [
    "l1 = [1, 2, 3, 4, 5]\n",
    "l2 = [6, 7, 8, 9, 10]\n",
    "\n",
    "list(map(lambda x, y : x + y, l1, l2))"
   ]
  },
  {
   "cell_type": "code",
   "execution_count": 8,
   "id": "560e4bc8-76ac-405f-92d1-a29655ab8936",
   "metadata": {
    "tags": []
   },
   "outputs": [
    {
     "data": {
      "text/plain": [
       "['P', 'W', 'S', 'K', 'I', 'L', 'L', 'S']"
      ]
     },
     "execution_count": 8,
     "metadata": {},
     "output_type": "execute_result"
    }
   ],
   "source": [
    "s = 'pwskills'\n",
    "\n",
    "list(s.upper())"
   ]
  },
  {
   "cell_type": "code",
   "execution_count": 9,
   "id": "8d56040c-36a3-436c-8dbf-0c046f2dd5ad",
   "metadata": {
    "tags": []
   },
   "outputs": [
    {
     "data": {
      "text/plain": [
       "['P', 'W', 'S', 'K', 'I', 'L', 'L', 'S']"
      ]
     },
     "execution_count": 9,
     "metadata": {},
     "output_type": "execute_result"
    }
   ],
   "source": [
    "list(map(lambda s:s.upper(), s))"
   ]
  },
  {
   "cell_type": "markdown",
   "id": "57cbde4e-0f44-415c-b31f-f857109126f4",
   "metadata": {},
   "source": [
    "### reduce()\n",
    "\n",
    "The reduce() function in Python is used to apply a specific function to all the elements in a sequence (e.g., list) and reduce them to a single cumulative value. It's part of the functools module in Python.\n",
    "\n",
    "Here's an example of how you can use reduce() with the given list [1, 2, 3, 3, 4, 5]:"
   ]
  },
  {
   "cell_type": "code",
   "execution_count": 10,
   "id": "d5b1d86f-edd9-438d-97d2-eee7fb32faec",
   "metadata": {
    "tags": []
   },
   "outputs": [],
   "source": [
    "from functools import reduce"
   ]
  },
  {
   "cell_type": "code",
   "execution_count": 11,
   "id": "64bf692c-90a9-4fe0-b6f2-d5a1b7fa6110",
   "metadata": {
    "tags": []
   },
   "outputs": [
    {
     "name": "stdout",
     "output_type": "stream",
     "text": [
      "18\n"
     ]
    }
   ],
   "source": [
    "li = [1, 2, 3, 3, 4, 5]\n",
    "\n",
    "# Summing all elements in the list using reduce\n",
    "total = reduce(lambda x, y: x + y, li)\n",
    "print(total)"
   ]
  },
  {
   "cell_type": "markdown",
   "id": "2661a425-13f3-458b-9af2-207e86f2bdf9",
   "metadata": {},
   "source": [
    "In this example, the reduce() function takes two arguments: the function to be applied (in this case, a lambda function that adds two numbers) and the list li. The reduce() function applies the provided function to the first two elements of the list, then takes the result and applies the function to it and the next element, and so on, until the entire list is processed.\n",
    "\n",
    "So, the result of the above code would be the sum of all the numbers in the list: 18 = (1 + 2 + 3 + 3 + 4 + 5)."
   ]
  },
  {
   "cell_type": "code",
   "execution_count": 12,
   "id": "c3c5adaf-3353-47ee-b0bb-14cdf83dc376",
   "metadata": {
    "tags": []
   },
   "outputs": [
    {
     "data": {
      "text/plain": [
       "360"
      ]
     },
     "execution_count": 12,
     "metadata": {},
     "output_type": "execute_result"
    }
   ],
   "source": [
    "reduce(lambda x, y : x * y, li)"
   ]
  },
  {
   "cell_type": "code",
   "execution_count": 13,
   "id": "34daa413-221b-4305-90fb-eb9ba8e278e2",
   "metadata": {},
   "outputs": [],
   "source": [
    "max_ele = reduce(lambda x, y : x if x > y else y, li)"
   ]
  },
  {
   "cell_type": "code",
   "execution_count": 14,
   "id": "e0072eb7-695a-4a26-a12a-63f1a119e833",
   "metadata": {
    "jupyter": {
     "source_hidden": true
    },
    "tags": []
   },
   "outputs": [
    {
     "name": "stdout",
     "output_type": "stream",
     "text": [
      "Maximum element in list [1, 2, 3, 3, 4, 5] is 5\n"
     ]
    }
   ],
   "source": [
    "print(f\"Maximum element in list {li} is {max_ele}\")"
   ]
  },
  {
   "cell_type": "markdown",
   "id": "ccadd815-4ea2-494c-8434-dedf16dc06e2",
   "metadata": {},
   "source": [
    "### filter()\n",
    "\n",
    "The filter() function in Python is used to filter out elements from a sequence that don't satisfy certain criteria, creating a new list with only the elements that pass the filtering condition."
   ]
  },
  {
   "cell_type": "code",
   "execution_count": 15,
   "id": "e4a9074b-3f0f-4ebe-a96a-906a1ed7167c",
   "metadata": {
    "tags": []
   },
   "outputs": [],
   "source": [
    "even_number = list(filter(lambda x : x % 2 == 0, li))"
   ]
  },
  {
   "cell_type": "code",
   "execution_count": 16,
   "id": "802edaa7-2d72-4a72-b415-9f8ba920bbe3",
   "metadata": {
    "tags": []
   },
   "outputs": [
    {
     "data": {
      "text/plain": [
       "[2, 4]"
      ]
     },
     "execution_count": 16,
     "metadata": {},
     "output_type": "execute_result"
    }
   ],
   "source": [
    "even_number"
   ]
  },
  {
   "cell_type": "code",
   "execution_count": 17,
   "id": "79a549f4-c7c3-413c-89b1-4bccde7c78c5",
   "metadata": {
    "tags": []
   },
   "outputs": [],
   "source": [
    "numbers = [1, 2, 3, 4, 5, 6, 7, 8, 9, 10, 11, 12, 13, 14, 15, 16, 17, 18, 19, 20, 21, 22, 23, 24, 25, 26, 27, 28, 29, 30]"
   ]
  },
  {
   "cell_type": "code",
   "execution_count": 18,
   "id": "a79f8eaa-2834-4a90-b0f9-57ae89ac21be",
   "metadata": {
    "tags": []
   },
   "outputs": [],
   "source": [
    "even_number = list(filter(lambda x : x % 2 == 0, numbers))"
   ]
  },
  {
   "cell_type": "code",
   "execution_count": 19,
   "id": "6b5ebe13-0689-4c8d-a3e8-59339c491efe",
   "metadata": {
    "tags": []
   },
   "outputs": [
    {
     "data": {
      "text/plain": [
       "[2, 4, 6, 8, 10, 12, 14, 16, 18, 20, 22, 24, 26, 28, 30]"
      ]
     },
     "execution_count": 19,
     "metadata": {},
     "output_type": "execute_result"
    }
   ],
   "source": [
    "even_number"
   ]
  },
  {
   "cell_type": "markdown",
   "id": "d96f5657-1135-4ca2-95ff-41d9c9728228",
   "metadata": {},
   "source": [
    "Let's break down the code and the `filter()` function:\n",
    "\n",
    "1. The list `numbers` contains the elements [1, 2, 3, 4, 5, 6, 7, 8, 9, 10, 11, 12, 13, 14, 15, 16, 17, 18, 19, 20, 21, 22, 23, 24, 25, 26, 27, 28, 29, 30].\n",
    "\n",
    "2. The `filter()` function takes two arguments: a function and an iterable. In this case, the function provided is a lambda function `lambda x: x % 2 == 0`, which returns True for even numbers and False for odd numbers. The iterable is the list of numbers.\n",
    "\n",
    "3. The `filter()` function creates a filter object that contains only the elements from the original list for which the provided function returns True.\n",
    "\n",
    "4. We then convert the filter object to a list using `list()` to obtain a list of even numbers.\n",
    "\n",
    "5. The result, `even_numbers`, will contain the elements [2, 4, 6, 8, 10, 12, 14, 16, 18, 20, 22, 24, 26, 28, 30] which are the even numbers from the original list.\n",
    "\n",
    "Now, let's explain the `filter()` function:\n",
    "\n",
    "The `filter()` function in Python is used to filter out elements from an iterable (e.g., list) that don't satisfy a specific condition. It returns an iterator yielding those items of the iterable for which the function passed returns True. \n",
    "\n",
    "Here's the syntax:\n",
    "```python\n",
    "filter(function, iterable)\n",
    "```\n",
    "\n",
    "- `function`: This is a function that tests if each element of an iterable makes it into the result. If None, it simply returns the elements of the iterable that are true.\n",
    "- `iterable`: This is an iterable which is to be filtered.\n",
    "\n",
    "In the provided example, the lambda function `lambda x: x % 2 == 0` serves as the condition. It checks whether each number in the list is even or not. If it is even, it returns True and the number is included in the filtered list; otherwise, it returns False and the number is excluded."
   ]
  },
  {
   "cell_type": "markdown",
   "id": "e8bec31b-24a4-4afe-86b6-85d6f82af663",
   "metadata": {},
   "source": [
    "#### Remove the negative number from a list"
   ]
  },
  {
   "cell_type": "code",
   "execution_count": 20,
   "id": "e72fca24-9287-479b-9bbc-0de178f9bdad",
   "metadata": {
    "tags": []
   },
   "outputs": [],
   "source": [
    "integers = [-3, 4, 5, 6, -4, -1, 3, -8]"
   ]
  },
  {
   "cell_type": "code",
   "execution_count": 21,
   "id": "37d1132b-3531-4bf5-8b25-ac3e75647d35",
   "metadata": {
    "tags": []
   },
   "outputs": [],
   "source": [
    "neg_num = list(filter(lambda x : x < 0, integers))"
   ]
  },
  {
   "cell_type": "code",
   "execution_count": 22,
   "id": "d468aee1-a524-4265-b5b7-3217b56d2a8e",
   "metadata": {
    "tags": []
   },
   "outputs": [
    {
     "data": {
      "text/plain": [
       "[-3, -4, -1, -8]"
      ]
     },
     "execution_count": 22,
     "metadata": {},
     "output_type": "execute_result"
    }
   ],
   "source": [
    "neg_num"
   ]
  },
  {
   "cell_type": "code",
   "execution_count": 23,
   "id": "79c6b67c-6189-4128-90a9-b73cb7dcc856",
   "metadata": {
    "tags": []
   },
   "outputs": [
    {
     "name": "stdout",
     "output_type": "stream",
     "text": [
      "['Arpit', 'Astha', 'Anurag']\n"
     ]
    }
   ],
   "source": [
    "names = ['Arpit', 'Shreya', 'Nipun', 'Astha', 'Anurag', 'Sangita']\n",
    "filtered_names = list(filter(lambda name: name.startswith('A'), names))\n",
    "print(filtered_names)"
   ]
  },
  {
   "cell_type": "code",
   "execution_count": 24,
   "id": "b1286b46-3c29-4c5b-9d15-33f3578557bf",
   "metadata": {
    "tags": []
   },
   "outputs": [],
   "source": [
    "names = ['Arpit', 'pwskills', 'sudh', 'ben', 'krish', 'ineuron']\n",
    "\n",
    "lenGreatorThanEqualTo5 = list(filter(lambda x : len(x) >= 5, names ))"
   ]
  },
  {
   "cell_type": "code",
   "execution_count": 25,
   "id": "01ad703e-1671-427e-bf36-d4e2f234011d",
   "metadata": {
    "tags": []
   },
   "outputs": [
    {
     "name": "stdout",
     "output_type": "stream",
     "text": [
      "['Arpit', 'pwskills', 'krish', 'ineuron']\n"
     ]
    }
   ],
   "source": [
    "print(lenGreatorThanEqualTo5)"
   ]
  }
 ],
 "metadata": {
  "kernelspec": {
   "display_name": "Python 3 (ipykernel)",
   "language": "python",
   "name": "python3"
  },
  "language_info": {
   "codemirror_mode": {
    "name": "ipython",
    "version": 3
   },
   "file_extension": ".py",
   "mimetype": "text/x-python",
   "name": "python",
   "nbconvert_exporter": "python",
   "pygments_lexer": "ipython3",
   "version": "3.11.3"
  }
 },
 "nbformat": 4,
 "nbformat_minor": 5
}
