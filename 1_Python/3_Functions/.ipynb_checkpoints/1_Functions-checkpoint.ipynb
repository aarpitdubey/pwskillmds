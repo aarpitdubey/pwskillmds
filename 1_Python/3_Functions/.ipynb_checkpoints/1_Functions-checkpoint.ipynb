{
 "cells": [
  {
   "cell_type": "code",
   "execution_count": 1,
   "id": "a6b6420a-a5c2-4222-a3ad-8a4af6ada636",
   "metadata": {
    "tags": []
   },
   "outputs": [
    {
     "name": "stdout",
     "output_type": "stream",
     "text": [
      "This is an 'in-built' print function\n"
     ]
    }
   ],
   "source": [
    "print(\"This is an 'in-built' print function\")"
   ]
  },
  {
   "cell_type": "code",
   "execution_count": 2,
   "id": "0df4ae73-be61-471d-8e0d-7d5ce229a83e",
   "metadata": {
    "tags": []
   },
   "outputs": [
    {
     "data": {
      "text/plain": [
       "5"
      ]
     },
     "execution_count": 2,
     "metadata": {},
     "output_type": "execute_result"
    }
   ],
   "source": [
    "numlist = [1, 2, 3, 4, 5]\n",
    "\n",
    "len(numlist) # len() is an in-built function \n",
    "# gives the total number of elements"
   ]
  },
  {
   "cell_type": "code",
   "execution_count": 3,
   "id": "80bf5f37-5e28-4a00-8de4-9783b838a636",
   "metadata": {
    "tags": []
   },
   "outputs": [
    {
     "data": {
      "text/plain": [
       "list"
      ]
     },
     "execution_count": 3,
     "metadata": {},
     "output_type": "execute_result"
    }
   ],
   "source": [
    "type(numlist) # type() is an in-built function\n",
    "# gives the data type of argument passed to it."
   ]
  },
  {
   "cell_type": "code",
   "execution_count": 4,
   "id": "2aba56f3-70d9-4050-a8c0-c6960906f294",
   "metadata": {
    "tags": []
   },
   "outputs": [],
   "source": [
    "def test():\n",
    "    pass"
   ]
  },
  {
   "cell_type": "code",
   "execution_count": 5,
   "id": "61582757-1955-4081-bcd5-7842644d04ba",
   "metadata": {
    "tags": []
   },
   "outputs": [],
   "source": [
    "def test1():\n",
    "    print(\"This is the first function which have statements within it.\")"
   ]
  },
  {
   "cell_type": "code",
   "execution_count": 6,
   "id": "cdc0357d-8ddf-4ecc-96cb-345adc89e53a",
   "metadata": {
    "tags": []
   },
   "outputs": [
    {
     "name": "stdout",
     "output_type": "stream",
     "text": [
      "This is the first function which have statements within it.\n"
     ]
    }
   ],
   "source": [
    "test1()"
   ]
  },
  {
   "cell_type": "markdown",
   "id": "aecd96e1-7f30-4593-a9d1-fcfea61b8668",
   "metadata": {},
   "source": [
    "#### Remember ``print()`` function returns ``NoneType`` data type."
   ]
  },
  {
   "cell_type": "code",
   "execution_count": 7,
   "id": "77f4fd9d-30a4-45a0-9bfb-547fde0e1495",
   "metadata": {
    "tags": []
   },
   "outputs": [],
   "source": [
    "def test2():\n",
    "    return \"'This is my first function which can return.' \""
   ]
  },
  {
   "cell_type": "code",
   "execution_count": 8,
   "id": "e4c8a30c-fa7e-482b-bad0-c8d94d484f63",
   "metadata": {
    "tags": []
   },
   "outputs": [
    {
     "data": {
      "text/plain": [
       "\"'This is my first function which can return.' \""
      ]
     },
     "execution_count": 8,
     "metadata": {},
     "output_type": "execute_result"
    }
   ],
   "source": [
    "test2()"
   ]
  },
  {
   "cell_type": "code",
   "execution_count": 9,
   "id": "1b60a285-a424-4a7a-997a-98119f61ae3d",
   "metadata": {
    "tags": []
   },
   "outputs": [
    {
     "data": {
      "text/plain": [
       "\"'This is my first function which can return.' - Arpit Dubey\""
      ]
     },
     "execution_count": 9,
     "metadata": {},
     "output_type": "execute_result"
    }
   ],
   "source": [
    "test2() + \"- Arpit Dubey\""
   ]
  },
  {
   "cell_type": "code",
   "execution_count": 10,
   "id": "dffe15c9-6712-415f-bbd7-8f3dedc82f10",
   "metadata": {
    "tags": []
   },
   "outputs": [],
   "source": [
    "def test3():\n",
    "    \n",
    "    return \"arpit\", 23, 234.23, [1, 2, 3, 4, 5] # returning\n",
    "# various collections or data types"
   ]
  },
  {
   "cell_type": "code",
   "execution_count": 11,
   "id": "19c591da-f8e7-482e-9568-ee6d99c6cc2b",
   "metadata": {
    "tags": []
   },
   "outputs": [
    {
     "data": {
      "text/plain": [
       "('arpit', 23, 234.23, [1, 2, 3, 4, 5])"
      ]
     },
     "execution_count": 11,
     "metadata": {},
     "output_type": "execute_result"
    }
   ],
   "source": [
    "test3() # It will return all collections as tuple."
   ]
  },
  {
   "cell_type": "code",
   "execution_count": 12,
   "id": "21caa1fc-2341-4c80-9ebd-d9044120389c",
   "metadata": {
    "tags": []
   },
   "outputs": [],
   "source": [
    "a, b, c, d = test3()"
   ]
  },
  {
   "cell_type": "code",
   "execution_count": 13,
   "id": "c5869636-3c69-431d-99b3-999dfc60a9fa",
   "metadata": {
    "tags": []
   },
   "outputs": [
    {
     "data": {
      "text/plain": [
       "'arpit'"
      ]
     },
     "execution_count": 13,
     "metadata": {},
     "output_type": "execute_result"
    }
   ],
   "source": [
    "a"
   ]
  },
  {
   "cell_type": "code",
   "execution_count": 14,
   "id": "072f609d-04c8-4555-b85d-a02f5ea29cbc",
   "metadata": {
    "tags": []
   },
   "outputs": [
    {
     "data": {
      "text/plain": [
       "23"
      ]
     },
     "execution_count": 14,
     "metadata": {},
     "output_type": "execute_result"
    }
   ],
   "source": [
    "b"
   ]
  },
  {
   "cell_type": "code",
   "execution_count": 15,
   "id": "4b4f5ed1-6deb-484f-9513-fd248f16e6fe",
   "metadata": {
    "tags": []
   },
   "outputs": [
    {
     "data": {
      "text/plain": [
       "234.23"
      ]
     },
     "execution_count": 15,
     "metadata": {},
     "output_type": "execute_result"
    }
   ],
   "source": [
    "c"
   ]
  },
  {
   "cell_type": "code",
   "execution_count": 16,
   "id": "52836532-b451-4ca7-9241-053d987d0fb8",
   "metadata": {
    "tags": []
   },
   "outputs": [
    {
     "data": {
      "text/plain": [
       "[1, 2, 3, 4, 5]"
      ]
     },
     "execution_count": 16,
     "metadata": {},
     "output_type": "execute_result"
    }
   ],
   "source": [
    "d"
   ]
  },
  {
   "cell_type": "code",
   "execution_count": 17,
   "id": "9ec3021f-081f-451c-af26-c3457f87d52d",
   "metadata": {},
   "outputs": [],
   "source": [
    "a = 1 # single assignment\n",
    "b = 4"
   ]
  },
  {
   "cell_type": "code",
   "execution_count": 18,
   "id": "52908750-93e4-4ae9-a5b8-00deffbab77b",
   "metadata": {
    "tags": []
   },
   "outputs": [],
   "source": [
    "a, b = 1, 4 # multi-assignment"
   ]
  },
  {
   "cell_type": "code",
   "execution_count": 19,
   "id": "3b83041c-ac77-4833-a95c-18b585183d2e",
   "metadata": {
    "tags": []
   },
   "outputs": [],
   "source": [
    "def expr():\n",
    "    a = 5-6/7\n",
    "    return a"
   ]
  },
  {
   "cell_type": "code",
   "execution_count": 20,
   "id": "48a3b5c0-c8ad-4353-9cbb-8124a160faa4",
   "metadata": {
    "tags": []
   },
   "outputs": [
    {
     "data": {
      "text/plain": [
       "4.142857142857143"
      ]
     },
     "execution_count": 20,
     "metadata": {},
     "output_type": "execute_result"
    }
   ],
   "source": [
    "expr()"
   ]
  },
  {
   "cell_type": "code",
   "execution_count": 21,
   "id": "f6aa92d8-1362-431c-9927-b6142476ccea",
   "metadata": {
    "tags": []
   },
   "outputs": [],
   "source": [
    "def expr1(a, b, c): # fuction with passing arguments and no real input values\n",
    "    d = a-b/c\n",
    "    return d"
   ]
  },
  {
   "cell_type": "code",
   "execution_count": 22,
   "id": "f3c780d3-416b-4df6-9f9a-aaa54a373523",
   "metadata": {
    "tags": []
   },
   "outputs": [
    {
     "data": {
      "text/plain": [
       "1.75"
      ]
     },
     "execution_count": 22,
     "metadata": {},
     "output_type": "execute_result"
    }
   ],
   "source": [
    "expr1(2, 1, 4)"
   ]
  },
  {
   "cell_type": "code",
   "execution_count": 23,
   "id": "8a86b7d3-3a4b-4637-9ec6-aa101875a111",
   "metadata": {
    "tags": []
   },
   "outputs": [],
   "source": [
    "def concatenate(a, b):\n",
    "    return a + b"
   ]
  },
  {
   "cell_type": "code",
   "execution_count": 24,
   "id": "01a503ee-50de-42a3-8c8b-2ed89f6aa369",
   "metadata": {
    "tags": []
   },
   "outputs": [
    {
     "data": {
      "text/plain": [
       "8"
      ]
     },
     "execution_count": 24,
     "metadata": {},
     "output_type": "execute_result"
    }
   ],
   "source": [
    "concatenate(3, 5)"
   ]
  },
  {
   "cell_type": "code",
   "execution_count": 25,
   "id": "c228386f-33c4-4106-9981-9a08db68e263",
   "metadata": {
    "tags": []
   },
   "outputs": [
    {
     "data": {
      "text/plain": [
       "'Arpit Dubey'"
      ]
     },
     "execution_count": 25,
     "metadata": {},
     "output_type": "execute_result"
    }
   ],
   "source": [
    "concatenate(\"Arpit\", \" Dubey\")"
   ]
  },
  {
   "cell_type": "code",
   "execution_count": 26,
   "id": "800d2568-51da-472d-b8ec-59eeb2eb61ea",
   "metadata": {
    "tags": []
   },
   "outputs": [
    {
     "data": {
      "text/plain": [
       "[1, 2, 3, 4, 5, 6, 7, 8]"
      ]
     },
     "execution_count": 26,
     "metadata": {},
     "output_type": "execute_result"
    }
   ],
   "source": [
    "concatenate([1, 2, 3, 4, 5], [6, 7, 8])"
   ]
  },
  {
   "cell_type": "markdown",
   "id": "73c1c0ae-0dc4-4b3f-8102-a0d6387f1120",
   "metadata": {},
   "source": [
    "#### Print ALL the numeric values (int, float)  "
   ]
  },
  {
   "cell_type": "code",
   "execution_count": 27,
   "id": "112669e1-affb-4005-8ccc-e6c0761e9c5e",
   "metadata": {
    "tags": []
   },
   "outputs": [],
   "source": [
    "clist = [1, 2, 3, 4, \"arpit\", \"dubey\", [4, 5, 6, 7, 8, 9]]"
   ]
  },
  {
   "cell_type": "code",
   "execution_count": 28,
   "id": "5589d2ed-603e-4b1f-9bfc-c7712f1a28c6",
   "metadata": {
    "tags": []
   },
   "outputs": [],
   "source": [
    "c1list =[]\n",
    "\n",
    "for i in clist:\n",
    "    if type(i) == int or type(i) == float:\n",
    "        c1list.append(i)"
   ]
  },
  {
   "cell_type": "code",
   "execution_count": 29,
   "id": "22d31f50-002b-444d-934f-0e4160828cb0",
   "metadata": {
    "tags": []
   },
   "outputs": [
    {
     "data": {
      "text/plain": [
       "[1, 2, 3, 4]"
      ]
     },
     "execution_count": 29,
     "metadata": {},
     "output_type": "execute_result"
    }
   ],
   "source": [
    "c1list"
   ]
  },
  {
   "cell_type": "code",
   "execution_count": 30,
   "id": "2b9290e7-1820-45d2-ad26-00ac58801b7d",
   "metadata": {
    "tags": []
   },
   "outputs": [],
   "source": [
    "def extrac_num(clist):\n",
    "    c1list =[]\n",
    "\n",
    "    for i in clist:\n",
    "        if type(i) == int or type(i) == float:\n",
    "            c1list.append(i)\n",
    "            \n",
    "    return c1list"
   ]
  },
  {
   "cell_type": "code",
   "execution_count": 31,
   "id": "74f83ceb-155f-4ee1-8745-18214a298184",
   "metadata": {},
   "outputs": [
    {
     "data": {
      "text/plain": [
       "[1, 2, 3, 4]"
      ]
     },
     "execution_count": 31,
     "metadata": {},
     "output_type": "execute_result"
    }
   ],
   "source": [
    "extrac_num(clist)"
   ]
  },
  {
   "cell_type": "markdown",
   "id": "6127f361-1cf4-4dcd-b4fd-71ff2576fc6a",
   "metadata": {},
   "source": [
    "Now, collect and print all the numbers even they are inside a list and inside list in a list.\n",
    "\n",
    "i/p : [1, 2, 3, 4, \"arpit\", \"dubey\", [4, 5, 6, 7, 8, 9, \"pwskills\", \"ineuron\"]]\n",
    "\n",
    "expected o/p: [1, 2, 3, 4, 4, 5, 6, 7, 8, 9]"
   ]
  },
  {
   "cell_type": "code",
   "execution_count": 32,
   "id": "39fc81d8-ff8d-45e1-892c-98aab1607c3d",
   "metadata": {
    "tags": []
   },
   "outputs": [],
   "source": [
    "def extract_num(clist):\n",
    "    res = []\n",
    "    \n",
    "    for i in clist:\n",
    "        if type(i) == list:\n",
    "            for j in i:\n",
    "                if type(j) == int or type(j) == float:\n",
    "                    res.append(j)\n",
    "        else:\n",
    "            if type(i) == int or type(i) == float:\n",
    "                res.append(i)\n",
    "                \n",
    "    return res"
   ]
  },
  {
   "cell_type": "code",
   "execution_count": 33,
   "id": "299d5783-a6d9-4d00-a31e-b0bebf6d07b1",
   "metadata": {
    "tags": []
   },
   "outputs": [
    {
     "data": {
      "text/plain": [
       "[1, 2, 3, 4, 4, 5, 6, 7, 8, 9]"
      ]
     },
     "execution_count": 33,
     "metadata": {},
     "output_type": "execute_result"
    }
   ],
   "source": [
    "extract_num(clist)"
   ]
  },
  {
   "cell_type": "markdown",
   "id": "2b453696-694b-47a6-8fb8-8c969f590b7b",
   "metadata": {},
   "source": [
    "Now, no element should be repeated"
   ]
  },
  {
   "cell_type": "code",
   "execution_count": 34,
   "id": "809e5807-ec29-4dc0-8918-6c2d4422a767",
   "metadata": {
    "tags": []
   },
   "outputs": [],
   "source": [
    "def extract_num(clist):\n",
    "    res = []\n",
    "    \n",
    "    for i in clist:\n",
    "        if type(i) == list:\n",
    "            for j in i:\n",
    "                if type(j) == int or type(j) == float:\n",
    "                    res.append(j)\n",
    "        else:\n",
    "            if type(i) == int or type(i) == float:\n",
    "                res.append(i)\n",
    "                \n",
    "    return set(res)"
   ]
  },
  {
   "cell_type": "code",
   "execution_count": 35,
   "id": "7667d52d-5d58-4b27-8c17-892f6948a8cd",
   "metadata": {
    "tags": []
   },
   "outputs": [
    {
     "data": {
      "text/plain": [
       "[1, 2, 3, 4, 5, 6, 7, 8, 9]"
      ]
     },
     "execution_count": 35,
     "metadata": {},
     "output_type": "execute_result"
    }
   ],
   "source": [
    "list(extract_num(clist))"
   ]
  },
  {
   "cell_type": "code",
   "execution_count": 36,
   "id": "a0917609-fa1c-4509-90e8-3df0c1c52aeb",
   "metadata": {
    "tags": []
   },
   "outputs": [
    {
     "data": {
      "text/plain": [
       "[1, 2, 3, 4, 'arpit', 'dubey', [4, 5, 6, 7, 8, 9]]"
      ]
     },
     "execution_count": 36,
     "metadata": {},
     "output_type": "execute_result"
    }
   ],
   "source": [
    "clist"
   ]
  },
  {
   "cell_type": "code",
   "execution_count": 37,
   "id": "454da571-af15-43f9-8715-22975c8879b7",
   "metadata": {
    "tags": []
   },
   "outputs": [],
   "source": [
    "def extract_num(clist):\n",
    "    \"\"\"\n",
    "        This is my fuction to extract number data from list.\n",
    "    \"\"\"    \n",
    "    res = []\n",
    "    \n",
    "    for i in clist:\n",
    "        if type(i) == list:\n",
    "            for j in i:\n",
    "                if type(j) == int or type(j) == float:\n",
    "                    res.append(j)\n",
    "        else:\n",
    "            if type(i) == int or type(i) == float:\n",
    "                res.append(i)\n",
    "                \n",
    "    return set(res)"
   ]
  },
  {
   "cell_type": "code",
   "execution_count": 38,
   "id": "b69e1f18-2fa6-4483-87fc-8f4bed3906be",
   "metadata": {},
   "outputs": [
    {
     "data": {
      "text/plain": [
       "{1, 2, 3, 4, 5, 6, 7, 8, 9}"
      ]
     },
     "execution_count": 38,
     "metadata": {},
     "output_type": "execute_result"
    }
   ],
   "source": [
    "extract_num(clist) # move cursor b/w the parenthesis and,\n",
    "# Hit 'shift + Tab' it will shows the doc string we mentioned."
   ]
  },
  {
   "attachments": {
    "cc41eac4-811e-402e-8fed-f662f5ee7deb.png": {
     "image/png": "[encoded data removed]"
    }
   },
   "cell_type": "markdown",
   "id": "9b846568-3714-42c5-bc85-7dfd21b4e118",
   "metadata": {},
   "source": [
    "![image.png](attachment:cc41eac4-811e-402e-8fed-f662f5ee7deb.png)"
   ]
  },
  {
   "cell_type": "markdown",
   "id": "637e3653-3048-461f-bca2-86cb1ae44593",
   "metadata": {},
   "source": [
    " Passing the Dynamic parameters passed by the user."
   ]
  },
  {
   "cell_type": "code",
   "execution_count": 39,
   "id": "501b6c86-7a10-4a3b-8159-1e9f44277de5",
   "metadata": {
    "tags": []
   },
   "outputs": [],
   "source": [
    "def test4(*args):\n",
    "    return args"
   ]
  },
  {
   "cell_type": "code",
   "execution_count": 40,
   "id": "b9a8f936-6124-4f3c-9da7-f2a0a96dcd3c",
   "metadata": {
    "tags": []
   },
   "outputs": [
    {
     "data": {
      "text/plain": [
       "tuple"
      ]
     },
     "execution_count": 40,
     "metadata": {},
     "output_type": "execute_result"
    }
   ],
   "source": [
    "type(test4())"
   ]
  },
  {
   "cell_type": "code",
   "execution_count": 41,
   "id": "7f71058f-c738-4e61-ae51-52b0104b75dc",
   "metadata": {
    "tags": []
   },
   "outputs": [
    {
     "data": {
      "text/plain": [
       "(1, 2, 3, 4, 'arpit', 'dubey', [1, 2, 3, 4, 5])"
      ]
     },
     "execution_count": 41,
     "metadata": {},
     "output_type": "execute_result"
    }
   ],
   "source": [
    "test4(1, 2, 3, 4, 'arpit', 'dubey', [1, 2, 3, 4, 5])"
   ]
  },
  {
   "cell_type": "code",
   "execution_count": 42,
   "id": "14b77113-b5c0-467e-b1cd-cd00e9832f29",
   "metadata": {
    "tags": []
   },
   "outputs": [],
   "source": [
    "# Remember 'args' is not a keyword here\n",
    "def test5(*arpit):\n",
    "    return arpit"
   ]
  },
  {
   "cell_type": "code",
   "execution_count": 43,
   "id": "81f958a1-2ff3-4890-a567-37a01d832b77",
   "metadata": {
    "tags": []
   },
   "outputs": [
    {
     "data": {
      "text/plain": [
       "({'Name: Arpit Dubey', 'interest: Data science'},\n",
       " ['Team Player', 'IT BE(Hons)', 'Udacity DLND holder'],\n",
       " 'Crack Google Interview',\n",
       " 1995,\n",
       " 95.6)"
      ]
     },
     "execution_count": 43,
     "metadata": {},
     "output_type": "execute_result"
    }
   ],
   "source": [
    "test5({'Name: Arpit Dubey', 'interest: Data science'}, ['Team Player', 'IT BE(Hons)', 'Udacity DLND holder'], 'Crack Google Interview', 1995, 95.6)"
   ]
  },
  {
   "cell_type": "code",
   "execution_count": 44,
   "id": "6dacde5d-88e5-413d-9429-15bb1f340cc5",
   "metadata": {
    "tags": []
   },
   "outputs": [],
   "source": [
    "def test6(*args, a):\n",
    "    return args, a"
   ]
  },
  {
   "cell_type": "code",
   "execution_count": 45,
   "id": "313ecaac-1d75-47b2-aebf-ccdbba25a5a6",
   "metadata": {
    "tags": []
   },
   "outputs": [
    {
     "data": {
      "text/plain": [
       "((1, 2, 3, 4), 23)"
      ]
     },
     "execution_count": 45,
     "metadata": {},
     "output_type": "execute_result"
    }
   ],
   "source": [
    "test6(1, 2, 3, 4, a=23)"
   ]
  },
  {
   "cell_type": "code",
   "execution_count": 46,
   "id": "0dec1d5d-c010-4d82-a049-0f02420d8241",
   "metadata": {
    "tags": []
   },
   "outputs": [],
   "source": [
    "def test7(name, email, phno=825144545621, address=\"Hn0. 2343 near 12th street\"):\n",
    "    return name, email, phno, address"
   ]
  },
  {
   "cell_type": "code",
   "execution_count": 47,
   "id": "e6915d73-02b0-4bf5-87f9-c94aa8ade8c1",
   "metadata": {
    "tags": []
   },
   "outputs": [
    {
     "data": {
      "text/plain": [
       "('Arpit Dubey',\n",
       " 'aarpitdubey@gmail.com',\n",
       " 825144545621,\n",
       " 'Hn0. 2343 near 12th street')"
      ]
     },
     "execution_count": 47,
     "metadata": {},
     "output_type": "execute_result"
    }
   ],
   "source": [
    "test7('Arpit Dubey', 'aarpitdubey@gmail.com')"
   ]
  },
  {
   "cell_type": "code",
   "execution_count": 48,
   "id": "bc30ab7f-1c7f-425f-a2fe-fce6fbf43ab2",
   "metadata": {
    "tags": []
   },
   "outputs": [],
   "source": [
    "def test8(**kwargs):\n",
    "    return kwargs"
   ]
  },
  {
   "cell_type": "code",
   "execution_count": 49,
   "id": "cdbb76c1-65da-4505-b50a-4a09f1d92448",
   "metadata": {
    "tags": []
   },
   "outputs": [
    {
     "data": {
      "text/plain": [
       "{}"
      ]
     },
     "execution_count": 49,
     "metadata": {},
     "output_type": "execute_result"
    }
   ],
   "source": [
    "test8()"
   ]
  },
  {
   "cell_type": "code",
   "execution_count": 50,
   "id": "9f618fec-ee4b-4ee4-9396-d28a0ae8656e",
   "metadata": {
    "tags": []
   },
   "outputs": [
    {
     "data": {
      "text/plain": [
       "dict"
      ]
     },
     "execution_count": 50,
     "metadata": {},
     "output_type": "execute_result"
    }
   ],
   "source": [
    "type(test8())"
   ]
  },
  {
   "cell_type": "code",
   "execution_count": 51,
   "id": "3e4e4a14-05c6-491f-ab09-5724773fca3e",
   "metadata": {
    "tags": []
   },
   "outputs": [
    {
     "data": {
      "text/plain": [
       "{'name': 'Arpit Dubey',\n",
       " 'courses': ['Udacity DLND',\n",
       "  'Google Advance Data Analytics',\n",
       "  'Pwskills Mastering data science'],\n",
       " 'marks': [78, 85, 88.23],\n",
       " 'temp': 23.65}"
      ]
     },
     "execution_count": 51,
     "metadata": {},
     "output_type": "execute_result"
    }
   ],
   "source": [
    "test8(name = 'Arpit Dubey', courses = ['Udacity DLND', 'Google Advance Data Analytics', 'Pwskills Mastering data science'], marks = [78, 85, 88.23], temp=23.65)"
   ]
  }
 ],
 "metadata": {
  "kernelspec": {
   "display_name": "Python 3 (ipykernel)",
   "language": "python",
   "name": "python3"
  },
  "language_info": {
   "codemirror_mode": {
    "name": "ipython",
    "version": 3
   },
   "file_extension": ".py",
   "mimetype": "text/x-python",
   "name": "python",
   "nbconvert_exporter": "python",
   "pygments_lexer": "ipython3",
   "version": "3.11.3"
  }
 },
 "nbformat": 4,
 "nbformat_minor": 5
}
