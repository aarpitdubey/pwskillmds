{
 "cells": [
  {
   "cell_type": "code",
   "execution_count": 1,
   "id": "a606e94c-72e4-4262-912e-2052fea7f4a4",
   "metadata": {
    "tags": []
   },
   "outputs": [],
   "source": [
    "dic = {}"
   ]
  },
  {
   "cell_type": "code",
   "execution_count": 2,
   "id": "8ec05225-d2ec-464c-ae43-19233df1c759",
   "metadata": {
    "tags": []
   },
   "outputs": [
    {
     "data": {
      "text/plain": [
       "dict"
      ]
     },
     "execution_count": 2,
     "metadata": {},
     "output_type": "execute_result"
    }
   ],
   "source": [
    "type(dic)"
   ]
  },
  {
   "cell_type": "code",
   "execution_count": 3,
   "id": "f1eb8f26-e729-430c-a6f2-29f6ccaca621",
   "metadata": {
    "tags": []
   },
   "outputs": [],
   "source": [
    "dictionary = {'key' : 'value'}"
   ]
  },
  {
   "cell_type": "code",
   "execution_count": 4,
   "id": "ac5334be-131b-4960-b900-2e074101062f",
   "metadata": {
    "tags": []
   },
   "outputs": [
    {
     "data": {
      "text/plain": [
       "dict"
      ]
     },
     "execution_count": 4,
     "metadata": {},
     "output_type": "execute_result"
    }
   ],
   "source": [
    "type(dictionary)"
   ]
  },
  {
   "cell_type": "code",
   "execution_count": 5,
   "id": "b515a572-2fdd-428a-bf49-ca9de9e9bc33",
   "metadata": {
    "tags": []
   },
   "outputs": [
    {
     "name": "stdout",
     "output_type": "stream",
     "text": [
      "{'key': 'value'}\n"
     ]
    }
   ],
   "source": [
    "print(dictionary)"
   ]
  },
  {
   "cell_type": "code",
   "execution_count": 6,
   "id": "500912b4-42b8-4e25-9af6-8f4acf669be1",
   "metadata": {
    "tags": []
   },
   "outputs": [
    {
     "data": {
      "text/plain": [
       "dict_items([('key', 'value')])"
      ]
     },
     "execution_count": 6,
     "metadata": {},
     "output_type": "execute_result"
    }
   ],
   "source": [
    "dictionary.items()"
   ]
  },
  {
   "cell_type": "code",
   "execution_count": 7,
   "id": "6c4fe913-ee8c-4573-b3df-000df2bb4afe",
   "metadata": {
    "tags": []
   },
   "outputs": [
    {
     "data": {
      "text/plain": [
       "dict_keys(['key'])"
      ]
     },
     "execution_count": 7,
     "metadata": {},
     "output_type": "execute_result"
    }
   ],
   "source": [
    "dictionary.keys()"
   ]
  },
  {
   "cell_type": "code",
   "execution_count": 8,
   "id": "54260f83-02fc-4ba5-86f9-ef0914acb708",
   "metadata": {
    "tags": []
   },
   "outputs": [
    {
     "data": {
      "text/plain": [
       "dict_values(['value'])"
      ]
     },
     "execution_count": 8,
     "metadata": {},
     "output_type": "execute_result"
    }
   ],
   "source": [
    "dictionary.values()"
   ]
  },
  {
   "cell_type": "code",
   "execution_count": 9,
   "id": "46adf69f-27b7-49a2-93cf-d15a4c88cfc5",
   "metadata": {
    "tags": []
   },
   "outputs": [
    {
     "data": {
      "text/plain": [
       "'value'"
      ]
     },
     "execution_count": 9,
     "metadata": {},
     "output_type": "execute_result"
    }
   ],
   "source": [
    "dictionary.get('key')"
   ]
  },
  {
   "cell_type": "code",
   "execution_count": 10,
   "id": "ead033ab-c17c-4863-8f74-bfcb7f3067e0",
   "metadata": {
    "tags": []
   },
   "outputs": [],
   "source": [
    "dictionary.get('value')"
   ]
  },
  {
   "cell_type": "code",
   "execution_count": 11,
   "id": "d463b1f3-a998-4634-93cf-2f591758a90f",
   "metadata": {
    "tags": []
   },
   "outputs": [
    {
     "data": {
      "text/plain": [
       "'value'"
      ]
     },
     "execution_count": 11,
     "metadata": {},
     "output_type": "execute_result"
    }
   ],
   "source": [
    "dictionary.pop('key')"
   ]
  },
  {
   "cell_type": "code",
   "execution_count": 12,
   "id": "b97e5867-81fb-4012-a2fe-cc54c2df95e0",
   "metadata": {
    "tags": []
   },
   "outputs": [
    {
     "data": {
      "text/plain": [
       "{}"
      ]
     },
     "execution_count": 12,
     "metadata": {},
     "output_type": "execute_result"
    }
   ],
   "source": [
    "dictionary"
   ]
  },
  {
   "cell_type": "code",
   "execution_count": 13,
   "id": "c9a18d01-edb8-4551-8d98-25f0ccc98b77",
   "metadata": {
    "tags": []
   },
   "outputs": [
    {
     "data": {
      "text/plain": [
       "dict"
      ]
     },
     "execution_count": 13,
     "metadata": {},
     "output_type": "execute_result"
    }
   ],
   "source": [
    "info = { \n",
    "    'name' : 'Arpit Dubey',\n",
    "    'email': 'aarpitdubey@gmail.com',\n",
    "    'phone': 82544759600\n",
    "}\n",
    "\n",
    "type(info)"
   ]
  },
  {
   "cell_type": "code",
   "execution_count": 14,
   "id": "0af711c0-1ce0-482a-92b3-70b7c9482281",
   "metadata": {
    "tags": []
   },
   "outputs": [
    {
     "data": {
      "text/plain": [
       "{'name': 'Arpit Dubey', 'email': 'aarpitdubey@gmail.com', 'phone': 82544759600}"
      ]
     },
     "execution_count": 14,
     "metadata": {},
     "output_type": "execute_result"
    }
   ],
   "source": [
    "info"
   ]
  },
  {
   "cell_type": "code",
   "execution_count": 15,
   "id": "ce1305c6-4155-46de-9736-ba9dbe24ba81",
   "metadata": {
    "tags": []
   },
   "outputs": [
    {
     "data": {
      "text/plain": [
       "'Arpit Dubey'"
      ]
     },
     "execution_count": 15,
     "metadata": {},
     "output_type": "execute_result"
    }
   ],
   "source": [
    "info['name']"
   ]
  },
  {
   "cell_type": "code",
   "execution_count": 16,
   "id": "dc4b533c-81f3-47e7-8db1-bcfd82d21385",
   "metadata": {
    "tags": []
   },
   "outputs": [],
   "source": [
    "pwskill = {\n",
    "    \"company\"  : \"pwskills\",\n",
    "    \"courses\"  : [\"Web Dev\", \"Data Science\", \"Java with DSA system Design\"],\n",
    "    \"mentors\"  : [\"Sudhanshu\", \"Krish Naik\", \"Hitesh\", \"naveen Reddy\"],\n",
    "}"
   ]
  },
  {
   "cell_type": "code",
   "execution_count": 17,
   "id": "1551ee11-2951-434d-b77d-d749a2bb5a69",
   "metadata": {
    "tags": []
   },
   "outputs": [
    {
     "data": {
      "text/plain": [
       "{'company': 'pwskills',\n",
       " 'courses': ['Web Dev', 'Data Science', 'Java with DSA system Design'],\n",
       " 'mentors': ['Sudhanshu', 'Krish Naik', 'Hitesh', 'naveen Reddy']}"
      ]
     },
     "execution_count": 17,
     "metadata": {},
     "output_type": "execute_result"
    }
   ],
   "source": [
    "pwskill"
   ]
  },
  {
   "cell_type": "code",
   "execution_count": 18,
   "id": "87e3ff3b-1f31-46cd-812c-268be2e6124f",
   "metadata": {
    "tags": []
   },
   "outputs": [
    {
     "data": {
      "text/plain": [
       "['Web Dev', 'Data Science', 'Java with DSA system Design']"
      ]
     },
     "execution_count": 18,
     "metadata": {},
     "output_type": "execute_result"
    }
   ],
   "source": [
    "pwskill['courses']"
   ]
  },
  {
   "cell_type": "code",
   "execution_count": 19,
   "id": "b3c43e84-cbfd-4bf2-82a6-234f2e54d50b",
   "metadata": {
    "tags": []
   },
   "outputs": [
    {
     "data": {
      "text/plain": [
       "'Data Science'"
      ]
     },
     "execution_count": 19,
     "metadata": {},
     "output_type": "execute_result"
    }
   ],
   "source": [
    "pwskill['courses'][1]"
   ]
  },
  {
   "cell_type": "code",
   "execution_count": 20,
   "id": "d2ad9e90-efb4-4995-834c-c94d84d55a40",
   "metadata": {
    "tags": []
   },
   "outputs": [],
   "source": [
    "ineuron = {\n",
    "    \"number\"                  : [2, 32, 5, 65, 32, 32],\n",
    "    \"assignments\"             : (1, 3, 4, 6, 7, 9),\n",
    "    \"lunch_date\"              : {12, 14, 28},\n",
    "    \"Data Science Master\"     : 8,\n",
    "    \"Java with System Design\" : 7\n",
    "}"
   ]
  },
  {
   "cell_type": "code",
   "execution_count": 21,
   "id": "6f4aefaa-cc9b-4a86-b188-1bd4bf2f8c32",
   "metadata": {
    "tags": []
   },
   "outputs": [
    {
     "data": {
      "text/plain": [
       "{'number': [2, 32, 5, 65, 32, 32],\n",
       " 'assignments': (1, 3, 4, 6, 7, 9),\n",
       " 'lunch_date': {12, 14, 28},\n",
       " 'Data Science Master': 8,\n",
       " 'Java with System Design': 7}"
      ]
     },
     "execution_count": 21,
     "metadata": {},
     "output_type": "execute_result"
    }
   ],
   "source": [
    "ineuron"
   ]
  },
  {
   "cell_type": "code",
   "execution_count": 22,
   "id": "6f0a29b6-603c-45aa-8aeb-f2902bcad471",
   "metadata": {
    "tags": []
   },
   "outputs": [
    {
     "data": {
      "text/plain": [
       "dict"
      ]
     },
     "execution_count": 22,
     "metadata": {},
     "output_type": "execute_result"
    }
   ],
   "source": [
    "type(ineuron)"
   ]
  },
  {
   "cell_type": "code",
   "execution_count": 23,
   "id": "019a4113-af64-4c5b-b435-c5d63886dc8d",
   "metadata": {
    "tags": []
   },
   "outputs": [],
   "source": [
    "ineuron['class_time'] = {'Web Dev' : 8, 'Data Science Master':8, 'Java with System Design':7}"
   ]
  },
  {
   "cell_type": "code",
   "execution_count": 24,
   "id": "0c9d5d5d-b2f8-41a2-b25d-c3c6292ecb5a",
   "metadata": {
    "tags": []
   },
   "outputs": [
    {
     "data": {
      "text/plain": [
       "{'number': [2, 32, 5, 65, 32, 32],\n",
       " 'assignments': (1, 3, 4, 6, 7, 9),\n",
       " 'lunch_date': {12, 14, 28},\n",
       " 'Data Science Master': 8,\n",
       " 'Java with System Design': 7,\n",
       " 'class_time': {'Web Dev': 8,\n",
       "  'Data Science Master': 8,\n",
       "  'Java with System Design': 7}}"
      ]
     },
     "execution_count": 24,
     "metadata": {},
     "output_type": "execute_result"
    }
   ],
   "source": [
    "ineuron"
   ]
  },
  {
   "cell_type": "code",
   "execution_count": 25,
   "id": "04769507-e9df-4d89-8678-c559c5645241",
   "metadata": {
    "tags": []
   },
   "outputs": [
    {
     "data": {
      "text/plain": [
       "8"
      ]
     },
     "execution_count": 25,
     "metadata": {},
     "output_type": "execute_result"
    }
   ],
   "source": [
    "ineuron.pop('Data Science Master')"
   ]
  },
  {
   "cell_type": "code",
   "execution_count": 26,
   "id": "9c8662e6-4e43-4f89-a810-05b54918ecf8",
   "metadata": {
    "tags": []
   },
   "outputs": [
    {
     "data": {
      "text/plain": [
       "{'number': [2, 32, 5, 65, 32, 32],\n",
       " 'assignments': (1, 3, 4, 6, 7, 9),\n",
       " 'lunch_date': {12, 14, 28},\n",
       " 'Java with System Design': 7,\n",
       " 'class_time': {'Web Dev': 8,\n",
       "  'Data Science Master': 8,\n",
       "  'Java with System Design': 7}}"
      ]
     },
     "execution_count": 26,
     "metadata": {},
     "output_type": "execute_result"
    }
   ],
   "source": [
    "ineuron"
   ]
  },
  {
   "cell_type": "code",
   "execution_count": 27,
   "id": "68db0cc2-a4d4-45cf-9183-b45e3db03770",
   "metadata": {
    "tags": []
   },
   "outputs": [
    {
     "data": {
      "text/plain": [
       "7"
      ]
     },
     "execution_count": 27,
     "metadata": {},
     "output_type": "execute_result"
    }
   ],
   "source": [
    "ineuron.pop('Java with System Design')"
   ]
  },
  {
   "cell_type": "code",
   "execution_count": 28,
   "id": "8a0058ba-2545-4750-b5c8-80b57bd5f790",
   "metadata": {
    "tags": []
   },
   "outputs": [
    {
     "data": {
      "text/plain": [
       "{'number': [2, 32, 5, 65, 32, 32],\n",
       " 'assignments': (1, 3, 4, 6, 7, 9),\n",
       " 'lunch_date': {12, 14, 28},\n",
       " 'class_time': {'Web Dev': 8,\n",
       "  'Data Science Master': 8,\n",
       "  'Java with System Design': 7}}"
      ]
     },
     "execution_count": 28,
     "metadata": {},
     "output_type": "execute_result"
    }
   ],
   "source": [
    "ineuron"
   ]
  },
  {
   "cell_type": "code",
   "execution_count": 29,
   "id": "6acc4a1f-836e-4a5f-981b-a6d4bafd9d63",
   "metadata": {
    "tags": []
   },
   "outputs": [],
   "source": [
    "ineuron['mentors'] = ['Sudhanshu', 'Krish Naik', 'Arpit Dubey']"
   ]
  },
  {
   "cell_type": "code",
   "execution_count": 30,
   "id": "0633ee41-db73-4638-9d2d-0056272147a7",
   "metadata": {
    "tags": []
   },
   "outputs": [
    {
     "data": {
      "text/plain": [
       "{'number': [2, 32, 5, 65, 32, 32],\n",
       " 'assignments': (1, 3, 4, 6, 7, 9),\n",
       " 'lunch_date': {12, 14, 28},\n",
       " 'class_time': {'Web Dev': 8,\n",
       "  'Data Science Master': 8,\n",
       "  'Java with System Design': 7},\n",
       " 'mentors': ['Sudhanshu', 'Krish Naik', 'Arpit Dubey']}"
      ]
     },
     "execution_count": 30,
     "metadata": {},
     "output_type": "execute_result"
    }
   ],
   "source": [
    "ineuron"
   ]
  },
  {
   "cell_type": "code",
   "execution_count": 31,
   "id": "2fd40c60-7380-4977-b399-254af0b36ade",
   "metadata": {
    "tags": []
   },
   "outputs": [
    {
     "data": {
      "text/plain": [
       "dict_items([('number', [2, 32, 5, 65, 32, 32]), ('assignments', (1, 3, 4, 6, 7, 9)), ('lunch_date', {12, 28, 14}), ('class_time', {'Web Dev': 8, 'Data Science Master': 8, 'Java with System Design': 7}), ('mentors', ['Sudhanshu', 'Krish Naik', 'Arpit Dubey'])])"
      ]
     },
     "execution_count": 31,
     "metadata": {},
     "output_type": "execute_result"
    }
   ],
   "source": [
    "ineuron.items()"
   ]
  },
  {
   "cell_type": "code",
   "execution_count": 32,
   "id": "d7023bdd-0a62-420c-b471-0b7f57526980",
   "metadata": {
    "tags": []
   },
   "outputs": [
    {
     "data": {
      "text/plain": [
       "dict_keys(['number', 'assignments', 'lunch_date', 'class_time', 'mentors'])"
      ]
     },
     "execution_count": 32,
     "metadata": {},
     "output_type": "execute_result"
    }
   ],
   "source": [
    "ineuron.keys()"
   ]
  },
  {
   "cell_type": "code",
   "execution_count": 33,
   "id": "0080c2ec-2f03-4153-af81-6cf2b8caa66d",
   "metadata": {
    "tags": []
   },
   "outputs": [
    {
     "data": {
      "text/plain": [
       "dict_values([[2, 32, 5, 65, 32, 32], (1, 3, 4, 6, 7, 9), {12, 28, 14}, {'Web Dev': 8, 'Data Science Master': 8, 'Java with System Design': 7}, ['Sudhanshu', 'Krish Naik', 'Arpit Dubey']])"
      ]
     },
     "execution_count": 33,
     "metadata": {},
     "output_type": "execute_result"
    }
   ],
   "source": [
    "ineuron.values()"
   ]
  },
  {
   "cell_type": "code",
   "execution_count": 34,
   "id": "6ed130e8-a0cb-4328-b3ee-2fd08f0c51eb",
   "metadata": {
    "tags": []
   },
   "outputs": [],
   "source": [
    "del ineuron['number'] # delete number collection from dictionary"
   ]
  },
  {
   "cell_type": "code",
   "execution_count": 35,
   "id": "b92ccd10-6fad-434a-b13c-6f1fb40e3f6e",
   "metadata": {
    "tags": []
   },
   "outputs": [
    {
     "data": {
      "text/plain": [
       "{'assignments': (1, 3, 4, 6, 7, 9),\n",
       " 'lunch_date': {12, 14, 28},\n",
       " 'class_time': {'Web Dev': 8,\n",
       "  'Data Science Master': 8,\n",
       "  'Java with System Design': 7},\n",
       " 'mentors': ['Sudhanshu', 'Krish Naik', 'Arpit Dubey']}"
      ]
     },
     "execution_count": 35,
     "metadata": {},
     "output_type": "execute_result"
    }
   ],
   "source": [
    "ineuron"
   ]
  },
  {
   "cell_type": "code",
   "execution_count": 36,
   "id": "b70e3da6-b03a-43a2-81eb-1d4d61a2d767",
   "metadata": {
    "tags": []
   },
   "outputs": [
    {
     "data": {
      "text/plain": [
       "['assignments', 'lunch_date', 'class_time', 'mentors']"
      ]
     },
     "execution_count": 36,
     "metadata": {},
     "output_type": "execute_result"
    }
   ],
   "source": [
    "list(ineuron.keys())"
   ]
  },
  {
   "cell_type": "code",
   "execution_count": 37,
   "id": "92fecc68-7af2-420b-8570-8da1ce0e1928",
   "metadata": {
    "tags": []
   },
   "outputs": [
    {
     "data": {
      "text/plain": [
       "[(1, 3, 4, 6, 7, 9),\n",
       " {12, 14, 28},\n",
       " {'Web Dev': 8, 'Data Science Master': 8, 'Java with System Design': 7},\n",
       " ['Sudhanshu', 'Krish Naik', 'Arpit Dubey']]"
      ]
     },
     "execution_count": 37,
     "metadata": {},
     "output_type": "execute_result"
    }
   ],
   "source": [
    "list(ineuron.values())"
   ]
  },
  {
   "cell_type": "markdown",
   "id": "d9a93313-120a-42ab-beed-d152c2d75b42",
   "metadata": {},
   "source": [
    "### Add 1 in every element of the list\n",
    "\n",
    "We have a given list l = [1, 2, 3, 3, 4, 5, 6, 7, 8]\n",
    "\n",
    "expected o/p: [2, 3, 4, 4, 5, 6, 7, 8, 9]"
   ]
  },
  {
   "cell_type": "code",
   "execution_count": 38,
   "id": "7ff907ba-48fe-4ef9-8800-c0a605eed385",
   "metadata": {
    "tags": []
   },
   "outputs": [],
   "source": [
    "l = [1, 2, 3, 3, 4, 5, 6, 7, 8]"
   ]
  },
  {
   "cell_type": "code",
   "execution_count": 39,
   "id": "f0f8d083-72ff-4ee9-a20e-0c76434a77bd",
   "metadata": {
    "tags": []
   },
   "outputs": [],
   "source": [
    "l1 = []"
   ]
  },
  {
   "cell_type": "code",
   "execution_count": 40,
   "id": "c15a4891-61ac-4edb-ab5d-cc596735c1f8",
   "metadata": {
    "tags": []
   },
   "outputs": [
    {
     "data": {
      "text/plain": [
       "2"
      ]
     },
     "execution_count": 40,
     "metadata": {},
     "output_type": "execute_result"
    }
   ],
   "source": [
    "l[0] + 1"
   ]
  },
  {
   "cell_type": "code",
   "execution_count": 41,
   "id": "3d20ae6e-9db1-4d0b-9720-51ef0b340441",
   "metadata": {
    "tags": []
   },
   "outputs": [],
   "source": [
    "l1.append(l[0] + 1)"
   ]
  },
  {
   "cell_type": "code",
   "execution_count": 42,
   "id": "c1c6075d-5dd6-40b4-8c88-1ce824690721",
   "metadata": {
    "tags": []
   },
   "outputs": [
    {
     "data": {
      "text/plain": [
       "[2]"
      ]
     },
     "execution_count": 42,
     "metadata": {},
     "output_type": "execute_result"
    }
   ],
   "source": [
    "l1"
   ]
  },
  {
   "cell_type": "code",
   "execution_count": 43,
   "id": "b8d12375-76b2-4fb6-be12-8536d81d0560",
   "metadata": {
    "tags": []
   },
   "outputs": [
    {
     "name": "stdout",
     "output_type": "stream",
     "text": [
      "1\n",
      "2\n",
      "3\n",
      "3\n",
      "4\n",
      "5\n",
      "6\n",
      "7\n",
      "8\n"
     ]
    }
   ],
   "source": [
    "for ele in l:\n",
    "    print(ele)"
   ]
  },
  {
   "cell_type": "code",
   "execution_count": 44,
   "id": "cb235173-6aa2-4118-b302-2dc202d749dc",
   "metadata": {
    "tags": []
   },
   "outputs": [],
   "source": [
    "l1=[]\n",
    "\n",
    "for ele in l:\n",
    "    l1.append(ele + 1)"
   ]
  },
  {
   "cell_type": "code",
   "execution_count": 45,
   "id": "6f2a04c1-1159-40b0-a60f-fa29484873bd",
   "metadata": {
    "tags": []
   },
   "outputs": [
    {
     "data": {
      "text/plain": [
       "[2, 3, 4, 4, 5, 6, 7, 8, 9]"
      ]
     },
     "execution_count": 45,
     "metadata": {},
     "output_type": "execute_result"
    }
   ],
   "source": [
    "l1"
   ]
  },
  {
   "cell_type": "code",
   "execution_count": 46,
   "id": "6eef3894-bad6-4e9d-a042-dd64d69c16b8",
   "metadata": {
    "tags": []
   },
   "outputs": [],
   "source": [
    "name = [\"arpit\", 'dubey', \"pwskills\", \"course\", \"data science\"]"
   ]
  },
  {
   "cell_type": "code",
   "execution_count": 47,
   "id": "de90056b-30ee-4a36-9091-507495e82ee2",
   "metadata": {
    "tags": []
   },
   "outputs": [
    {
     "name": "stdout",
     "output_type": "stream",
     "text": [
      "arpit\n",
      "dubey\n",
      "pwskills\n",
      "course\n",
      "data science\n"
     ]
    }
   ],
   "source": [
    "iname = []\n",
    "for ele in name:\n",
    "    print(ele)\n",
    "    iname.append(ele.upper())"
   ]
  },
  {
   "cell_type": "code",
   "execution_count": 48,
   "id": "72177ed0-7eb2-45ce-8c5c-085ed9c70bcd",
   "metadata": {
    "tags": []
   },
   "outputs": [
    {
     "data": {
      "text/plain": [
       "['ARPIT', 'DUBEY', 'PWSKILLS', 'COURSE', 'DATA SCIENCE']"
      ]
     },
     "execution_count": 48,
     "metadata": {},
     "output_type": "execute_result"
    }
   ],
   "source": [
    "iname"
   ]
  },
  {
   "cell_type": "code",
   "execution_count": 49,
   "id": "caaa92ed-f5d0-43f5-b0bd-1da26324c0e2",
   "metadata": {
    "tags": []
   },
   "outputs": [],
   "source": [
    "collist = [1, 2, 3, 4, 5, \"arpit\", \"dubey\", 324, 34.543, \"abc\"]"
   ]
  },
  {
   "cell_type": "code",
   "execution_count": 50,
   "id": "02e8886c-9c4d-4412-9c57-8c070a3aa572",
   "metadata": {
    "tags": []
   },
   "outputs": [],
   "source": [
    "slist = []\n",
    "nlist = []\n",
    "\n",
    "for i in collist :\n",
    "    if type(i) == int or type(i) == float:\n",
    "        nlist.append(i)\n",
    "    else:\n",
    "        slist.append(i)"
   ]
  },
  {
   "cell_type": "code",
   "execution_count": 51,
   "id": "eb24c824-dfd9-4775-a00c-1bb212092a2b",
   "metadata": {
    "tags": []
   },
   "outputs": [
    {
     "data": {
      "text/plain": [
       "[1, 2, 3, 4, 5, 324, 34.543]"
      ]
     },
     "execution_count": 51,
     "metadata": {},
     "output_type": "execute_result"
    }
   ],
   "source": [
    "nlist"
   ]
  },
  {
   "cell_type": "code",
   "execution_count": 52,
   "id": "671475c6-d3ca-425a-b8b3-355571ae214e",
   "metadata": {
    "tags": []
   },
   "outputs": [
    {
     "data": {
      "text/plain": [
       "['arpit', 'dubey', 'abc']"
      ]
     },
     "execution_count": 52,
     "metadata": {},
     "output_type": "execute_result"
    }
   ],
   "source": [
    "slist"
   ]
  }
 ],
 "metadata": {
  "kernelspec": {
   "display_name": "Python 3 (ipykernel)",
   "language": "python",
   "name": "python3"
  },
  "language_info": {
   "codemirror_mode": {
    "name": "ipython",
    "version": 3
   },
   "file_extension": ".py",
   "mimetype": "text/x-python",
   "name": "python",
   "nbconvert_exporter": "python",
   "pygments_lexer": "ipython3",
   "version": "3.11.3"
  }
 },
 "nbformat": 4,
 "nbformat_minor": 5
}
