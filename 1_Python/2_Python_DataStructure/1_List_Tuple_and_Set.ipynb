{
 "cells": [
  {
   "cell_type": "code",
   "execution_count": 1,
   "id": "a1dc610a-f4a1-4368-aeee-a9a7a6fec68b",
   "metadata": {
    "tags": []
   },
   "outputs": [],
   "source": [
    "collection = [1, 360, \"Arpit\", True, 5+7j, 359.99]"
   ]
  },
  {
   "cell_type": "code",
   "execution_count": 2,
   "id": "cf7cdc0e-b1e9-443f-af9d-d87cb57c7e79",
   "metadata": {
    "tags": []
   },
   "outputs": [
    {
     "data": {
      "text/plain": [
       "list"
      ]
     },
     "execution_count": 2,
     "metadata": {},
     "output_type": "execute_result"
    }
   ],
   "source": [
    "type(collection)"
   ]
  },
  {
   "cell_type": "code",
   "execution_count": 3,
   "id": "673fb208-9c69-4a6f-af1b-096bfb3601eb",
   "metadata": {
    "tags": []
   },
   "outputs": [
    {
     "data": {
      "text/plain": [
       "1"
      ]
     },
     "execution_count": 3,
     "metadata": {},
     "output_type": "execute_result"
    }
   ],
   "source": [
    "collection[0]"
   ]
  },
  {
   "cell_type": "code",
   "execution_count": 4,
   "id": "fba30808-5265-4002-8b4d-25c555d26276",
   "metadata": {
    "tags": []
   },
   "outputs": [
    {
     "data": {
      "text/plain": [
       "360"
      ]
     },
     "execution_count": 4,
     "metadata": {},
     "output_type": "execute_result"
    }
   ],
   "source": [
    "collection[1]"
   ]
  },
  {
   "cell_type": "code",
   "execution_count": 5,
   "id": "1827e473-f27b-4246-99a4-3d61fbe34223",
   "metadata": {
    "tags": []
   },
   "outputs": [
    {
     "name": "stdout",
     "output_type": "stream",
     "text": [
      "1\n",
      "360\n",
      "Arpit\n",
      "True\n",
      "(5+7j)\n",
      "359.99\n"
     ]
    }
   ],
   "source": [
    "# let's use a loop \n",
    "for i in range(len(collection)):\n",
    "    print(collection[i])"
   ]
  },
  {
   "cell_type": "code",
   "execution_count": 6,
   "id": "fd737e40-ea11-4ca6-b61f-351a53f86fa3",
   "metadata": {
    "tags": []
   },
   "outputs": [
    {
     "data": {
      "text/plain": [
       "[1, 360, 'Arpit']"
      ]
     },
     "execution_count": 6,
     "metadata": {},
     "output_type": "execute_result"
    }
   ],
   "source": [
    "collection[0:3]"
   ]
  },
  {
   "cell_type": "code",
   "execution_count": 7,
   "id": "f14d17fd-e534-4287-9131-93d301cbb20d",
   "metadata": {
    "tags": []
   },
   "outputs": [
    {
     "data": {
      "text/plain": [
       "359.99"
      ]
     },
     "execution_count": 7,
     "metadata": {},
     "output_type": "execute_result"
    }
   ],
   "source": [
    "collection[-1]"
   ]
  },
  {
   "cell_type": "code",
   "execution_count": 8,
   "id": "693a6718-09cd-41b3-97af-9705007d7984",
   "metadata": {
    "tags": []
   },
   "outputs": [
    {
     "data": {
      "text/plain": [
       "[1, 360, 'Arpit', True, (5+7j)]"
      ]
     },
     "execution_count": 8,
     "metadata": {},
     "output_type": "execute_result"
    }
   ],
   "source": [
    "collection[:-1]"
   ]
  },
  {
   "cell_type": "code",
   "execution_count": 9,
   "id": "1e3b6ffe-180e-4504-9997-8c209c28a0d0",
   "metadata": {
    "tags": []
   },
   "outputs": [
    {
     "data": {
      "text/plain": [
       "[359.99, (5+7j), True, 'Arpit', 360, 1]"
      ]
     },
     "execution_count": 9,
     "metadata": {},
     "output_type": "execute_result"
    }
   ],
   "source": [
    "collection[::-1]"
   ]
  },
  {
   "cell_type": "code",
   "execution_count": 10,
   "id": "e0646673-e860-40ae-8a63-45dce21f81da",
   "metadata": {
    "tags": []
   },
   "outputs": [
    {
     "data": {
      "text/plain": [
       "[1, 'Arpit', (5+7j)]"
      ]
     },
     "execution_count": 10,
     "metadata": {},
     "output_type": "execute_result"
    }
   ],
   "source": [
    "step  = 2\n",
    "\n",
    "collection[::step]"
   ]
  },
  {
   "cell_type": "code",
   "execution_count": 11,
   "id": "f6bb1648-6001-474d-a6d6-ab3dcac7e9f3",
   "metadata": {
    "tags": []
   },
   "outputs": [
    {
     "data": {
      "text/plain": [
       "'it'"
      ]
     },
     "execution_count": 11,
     "metadata": {},
     "output_type": "execute_result"
    }
   ],
   "source": [
    "collection[2][3:]"
   ]
  },
  {
   "cell_type": "code",
   "execution_count": 12,
   "id": "988e832e-82f4-4353-b79e-3c3e6bfd1060",
   "metadata": {
    "tags": []
   },
   "outputs": [
    {
     "data": {
      "text/plain": [
       "True"
      ]
     },
     "execution_count": 12,
     "metadata": {},
     "output_type": "execute_result"
    }
   ],
   "source": [
    "collection[3]"
   ]
  },
  {
   "cell_type": "code",
   "execution_count": 13,
   "id": "e57faf4a-44fd-427c-a296-1bf0b392b25f",
   "metadata": {
    "tags": []
   },
   "outputs": [
    {
     "data": {
      "text/plain": [
       "'Tr'"
      ]
     },
     "execution_count": 13,
     "metadata": {},
     "output_type": "execute_result"
    }
   ],
   "source": [
    "str(collection[3])[:2]"
   ]
  },
  {
   "cell_type": "code",
   "execution_count": 14,
   "id": "1fe6d6f9-e0c9-4279-92a1-5fecd21d64d0",
   "metadata": {
    "tags": []
   },
   "outputs": [
    {
     "data": {
      "text/plain": [
       "[1, 360, 'Arpit', True, (5+7j), 359.99]"
      ]
     },
     "execution_count": 14,
     "metadata": {},
     "output_type": "execute_result"
    }
   ],
   "source": [
    "collection"
   ]
  },
  {
   "cell_type": "code",
   "execution_count": 15,
   "id": "f4a8dc5c-a724-49be-992d-e48df0b604b5",
   "metadata": {
    "tags": []
   },
   "outputs": [],
   "source": [
    "collection_2 = [2, 'ele', False]"
   ]
  },
  {
   "cell_type": "code",
   "execution_count": 16,
   "id": "b658538f-65b2-41bf-927e-602ac72d3ace",
   "metadata": {
    "tags": []
   },
   "outputs": [
    {
     "data": {
      "text/plain": [
       "[1, 360, 'Arpit', True, (5+7j), 359.99, 2, 'ele', False]"
      ]
     },
     "execution_count": 16,
     "metadata": {},
     "output_type": "execute_result"
    }
   ],
   "source": [
    "collection + collection_2"
   ]
  },
  {
   "cell_type": "code",
   "execution_count": 17,
   "id": "a9779e38-22f5-4035-861b-9179e9b90e4d",
   "metadata": {
    "tags": []
   },
   "outputs": [
    {
     "data": {
      "text/plain": [
       "[2, 'ele', False, 2, 'ele', False, 2, 'ele', False]"
      ]
     },
     "execution_count": 17,
     "metadata": {},
     "output_type": "execute_result"
    }
   ],
   "source": [
    "collection_2 * 3"
   ]
  },
  {
   "cell_type": "code",
   "execution_count": 18,
   "id": "4aa84596-4307-4dfc-ad58-62f1c89daeea",
   "metadata": {},
   "outputs": [],
   "source": [
    "collection_3 = [16, 32, 48]"
   ]
  },
  {
   "cell_type": "code",
   "execution_count": 19,
   "id": "2360875a-e4d5-41ca-a04e-0098be3e421a",
   "metadata": {
    "tags": []
   },
   "outputs": [],
   "source": [
    "collection.append(collection_3)"
   ]
  },
  {
   "cell_type": "code",
   "execution_count": 20,
   "id": "f4e8c3a9-b96b-4c11-a55d-4207670520ed",
   "metadata": {
    "tags": []
   },
   "outputs": [
    {
     "data": {
      "text/plain": [
       "[1, 360, 'Arpit', True, (5+7j), 359.99, [16, 32, 48]]"
      ]
     },
     "execution_count": 20,
     "metadata": {},
     "output_type": "execute_result"
    }
   ],
   "source": [
    "collection"
   ]
  },
  {
   "cell_type": "code",
   "execution_count": 21,
   "id": "ef5bb55b-8a9e-4f2e-8027-b5031fdf743b",
   "metadata": {
    "tags": []
   },
   "outputs": [],
   "source": [
    "name = \"pwskills\""
   ]
  },
  {
   "cell_type": "code",
   "execution_count": 22,
   "id": "1eeeedae-cbee-418f-98d0-f391542ad914",
   "metadata": {
    "tags": []
   },
   "outputs": [
    {
     "data": {
      "text/plain": [
       "[1,\n",
       " 360,\n",
       " 'Arpit',\n",
       " True,\n",
       " (5+7j),\n",
       " 359.99,\n",
       " [16, 32, 48],\n",
       " 'p',\n",
       " 'w',\n",
       " 's',\n",
       " 'k',\n",
       " 'i',\n",
       " 'l',\n",
       " 'l',\n",
       " 's']"
      ]
     },
     "execution_count": 22,
     "metadata": {},
     "output_type": "execute_result"
    }
   ],
   "source": [
    "collection + list(name)"
   ]
  },
  {
   "cell_type": "code",
   "execution_count": 23,
   "id": "3ca87c57-ae0c-41fb-a9bd-5913d7294c35",
   "metadata": {
    "tags": []
   },
   "outputs": [
    {
     "data": {
      "text/plain": [
       "[1, 360, 'Arpit', True, (5+7j), 359.99, [16, 32, 48]]"
      ]
     },
     "execution_count": 23,
     "metadata": {},
     "output_type": "execute_result"
    }
   ],
   "source": [
    "collection"
   ]
  },
  {
   "cell_type": "code",
   "execution_count": 24,
   "id": "1d47b3a9-dac0-4dc9-82e4-a9c2ae4d8bd8",
   "metadata": {
    "tags": []
   },
   "outputs": [],
   "source": [
    "collection.append(name)"
   ]
  },
  {
   "cell_type": "code",
   "execution_count": 25,
   "id": "6b297226-ef26-4552-8829-17602d25a1df",
   "metadata": {
    "tags": []
   },
   "outputs": [
    {
     "data": {
      "text/plain": [
       "[1, 360, 'Arpit', True, (5+7j), 359.99, [16, 32, 48], 'pwskills']"
      ]
     },
     "execution_count": 25,
     "metadata": {},
     "output_type": "execute_result"
    }
   ],
   "source": [
    "collection"
   ]
  },
  {
   "cell_type": "code",
   "execution_count": 26,
   "id": "d0753563-c8f9-4092-9955-b064477e030e",
   "metadata": {
    "tags": []
   },
   "outputs": [],
   "source": [
    "collection.extend(name)"
   ]
  },
  {
   "cell_type": "code",
   "execution_count": 27,
   "id": "b029f99c-b955-451b-82cd-8826f575a62a",
   "metadata": {
    "tags": []
   },
   "outputs": [
    {
     "data": {
      "text/plain": [
       "[1,\n",
       " 360,\n",
       " 'Arpit',\n",
       " True,\n",
       " (5+7j),\n",
       " 359.99,\n",
       " [16, 32, 48],\n",
       " 'pwskills',\n",
       " 'p',\n",
       " 'w',\n",
       " 's',\n",
       " 'k',\n",
       " 'i',\n",
       " 'l',\n",
       " 'l',\n",
       " 's']"
      ]
     },
     "execution_count": 27,
     "metadata": {},
     "output_type": "execute_result"
    }
   ],
   "source": [
    "collection"
   ]
  },
  {
   "cell_type": "code",
   "execution_count": 28,
   "id": "50e24e6f-24e2-4662-852a-fdad2d30fe1c",
   "metadata": {
    "tags": []
   },
   "outputs": [],
   "source": [
    "even = [2, 4, 6]\n",
    "even_1 = [8]"
   ]
  },
  {
   "cell_type": "code",
   "execution_count": 29,
   "id": "8f106f30-c835-4f0b-a77c-9f45318930c6",
   "metadata": {
    "tags": []
   },
   "outputs": [],
   "source": [
    "even.extend(even_1)"
   ]
  },
  {
   "cell_type": "code",
   "execution_count": 30,
   "id": "35ccc41d-cbef-4f44-9801-f7158ffa5b61",
   "metadata": {
    "tags": []
   },
   "outputs": [
    {
     "data": {
      "text/plain": [
       "[2, 4, 6, 8]"
      ]
     },
     "execution_count": 30,
     "metadata": {},
     "output_type": "execute_result"
    }
   ],
   "source": [
    "even"
   ]
  },
  {
   "cell_type": "code",
   "execution_count": 31,
   "id": "56142b15-e658-45b8-9cb2-54a8f2110ab9",
   "metadata": {
    "tags": []
   },
   "outputs": [],
   "source": [
    "even.insert(0, 0)"
   ]
  },
  {
   "cell_type": "code",
   "execution_count": 32,
   "id": "3e2c9081-8668-4691-9506-c8ac6c48d776",
   "metadata": {
    "tags": []
   },
   "outputs": [
    {
     "data": {
      "text/plain": [
       "[0, 2, 4, 6, 8]"
      ]
     },
     "execution_count": 32,
     "metadata": {},
     "output_type": "execute_result"
    }
   ],
   "source": [
    "even"
   ]
  },
  {
   "cell_type": "code",
   "execution_count": 33,
   "id": "57a8e6ea-4cb7-4c03-9da6-eaf57dbcdeea",
   "metadata": {
    "tags": []
   },
   "outputs": [],
   "source": [
    "frac = [1/2, 1/4, 1/6]"
   ]
  },
  {
   "cell_type": "code",
   "execution_count": 34,
   "id": "4a4a3ab8-30f3-43e4-b62e-cff062696ffa",
   "metadata": {
    "tags": []
   },
   "outputs": [],
   "source": [
    "even.insert(1, frac)"
   ]
  },
  {
   "cell_type": "code",
   "execution_count": 35,
   "id": "293eec06-97ae-4d59-b686-f7158d0af1f7",
   "metadata": {
    "tags": []
   },
   "outputs": [
    {
     "data": {
      "text/plain": [
       "[0, [0.5, 0.25, 0.16666666666666666], 2, 4, 6, 8]"
      ]
     },
     "execution_count": 35,
     "metadata": {},
     "output_type": "execute_result"
    }
   ],
   "source": [
    "even"
   ]
  },
  {
   "cell_type": "markdown",
   "id": "1e8ac5dd-592e-4cec-9fd5-0d94ee04189a",
   "metadata": {},
   "source": [
    "#### pop():\n",
    "\n",
    "The pop() method removes and returns the last item in the list. If an index is specified as an argument, then the element at that index is removed and returned instead.\n",
    "\n",
    "In the given list [0, [0.5, 0.25, 0.16666666666666666], 2, 4, 6, 8], if you were to use pop() without an index, it would remove and return the last item (by default the index is -1), which is 8. The list would then be: [0, [0.5, 0.25, 0.16666666666666666], 2, 4, 6]\n",
    "\n",
    "If you used pop(1), it would remove and return the item at index 1, which is [0.5, 0.25, 0.16666666666666666]. The resulting list would be: [0, 2, 4, 6]"
   ]
  },
  {
   "cell_type": "code",
   "execution_count": 36,
   "id": "07cd4301-67ba-422c-a57c-f769c8fd053b",
   "metadata": {
    "tags": []
   },
   "outputs": [
    {
     "name": "stdout",
     "output_type": "stream",
     "text": [
      "Popped and Returned element: 8\n",
      "[0, [0.5, 0.25, 0.16666666666666666], 2, 4, 6]\n"
     ]
    }
   ],
   "source": [
    "# Using pop()\n",
    "popped_item = even.pop()  # Removes and returns the last item (8 in this case)\n",
    "print(f\"Popped and Returned element: {popped_item}\")\n",
    "print(even)  # Output: [0, 0.5, 0.25, 0.16666666666666666, 2, 4, 6]"
   ]
  },
  {
   "cell_type": "code",
   "execution_count": 37,
   "id": "a051aad3-7bab-4174-b3f1-5453de303a57",
   "metadata": {
    "tags": []
   },
   "outputs": [
    {
     "name": "stdout",
     "output_type": "stream",
     "text": [
      "Popped and Returned element: [0.5, 0.25, 0.16666666666666666]\n",
      "[0, 2, 4, 6]\n"
     ]
    }
   ],
   "source": [
    "popped_item_2 = even.pop(1)\n",
    "print(f\"Popped and Returned element: {popped_item_2}\")\n",
    "print(even)"
   ]
  },
  {
   "cell_type": "code",
   "execution_count": 38,
   "id": "78a982e8-2543-4e27-8fd0-602b00ddc815",
   "metadata": {
    "tags": []
   },
   "outputs": [
    {
     "data": {
      "text/plain": [
       "[0, [0.5, 0.25, 0.16666666666666666], 2, 4, 6, 8]"
      ]
     },
     "execution_count": 38,
     "metadata": {},
     "output_type": "execute_result"
    }
   ],
   "source": [
    "even = [0, [0.5, 0.25, 0.16666666666666666], 2, 4, 6, 8]\n",
    "\n",
    "even"
   ]
  },
  {
   "cell_type": "markdown",
   "id": "7e750154-11e2-45e1-8b40-e7cabd6b822c",
   "metadata": {},
   "source": [
    "#### remove():\n",
    "\n",
    "The remove() method removes the first occurrence of a specified value from the list. It does not return the removed value.\n",
    "\n",
    "For example, if you used remove(6) on the given list, it would remove the first occurrence of 6, resulting in: [0, [0.5, 0.25, 0.16666666666666666], 2, 4, 8]\n",
    "\n",
    "If you used to remove([0.5, 0.25, 0.16666666666666666]) on the given list, it will remove the first occurrence of this list [0.5, 0.25, 0.16666666666666666], resulting in: [0, 2, 4, 8]\n",
    "\n",
    "Similarly, if you used to remove(0) on the given list, it will remove the first occurrence of 0, resulting in : [2, 4, 8]"
   ]
  },
  {
   "cell_type": "code",
   "execution_count": 39,
   "id": "63d3acf3-9954-4906-9667-167ad718138e",
   "metadata": {
    "tags": []
   },
   "outputs": [
    {
     "name": "stdout",
     "output_type": "stream",
     "text": [
      "[0, [0.5, 0.25, 0.16666666666666666], 2, 4, 8]\n"
     ]
    }
   ],
   "source": [
    "# Using remove()\n",
    "even.remove(6)  # Removes the first occurrence of 6\n",
    "print(even)  # Output: [0, [0.5, 0.25, 0.16666666666666666], 2, 4, 8]"
   ]
  },
  {
   "cell_type": "code",
   "execution_count": 40,
   "id": "d980e0e6-a8bb-4062-aa24-ceaa4520fc90",
   "metadata": {
    "tags": []
   },
   "outputs": [],
   "source": [
    "even.remove([0.5, 0.25, 0.16666666666666666])"
   ]
  },
  {
   "cell_type": "code",
   "execution_count": 41,
   "id": "65ec4d34-a48e-476d-8ad4-f18d450d91df",
   "metadata": {
    "tags": []
   },
   "outputs": [
    {
     "data": {
      "text/plain": [
       "[0, 2, 4, 8]"
      ]
     },
     "execution_count": 41,
     "metadata": {},
     "output_type": "execute_result"
    }
   ],
   "source": [
    "even"
   ]
  },
  {
   "cell_type": "code",
   "execution_count": 42,
   "id": "32bfbb5c-ed6f-435d-86ef-4f60af462188",
   "metadata": {
    "tags": []
   },
   "outputs": [
    {
     "data": {
      "text/plain": [
       "[2, 4, 8]"
      ]
     },
     "execution_count": 42,
     "metadata": {},
     "output_type": "execute_result"
    }
   ],
   "source": [
    "even.remove(0)\n",
    "even"
   ]
  },
  {
   "cell_type": "code",
   "execution_count": 43,
   "id": "755cbd96-d56b-45d7-8732-b3bb0d405429",
   "metadata": {
    "tags": []
   },
   "outputs": [
    {
     "data": {
      "text/plain": [
       "[0, [0.5, 0.25], 2, 4, 8]"
      ]
     },
     "execution_count": 43,
     "metadata": {},
     "output_type": "execute_result"
    }
   ],
   "source": [
    "mlist = [0, [0.5, 0.25, 0.16666666666666666], 2, 4, 8]\n",
    "\n",
    "# Remove 0.166666666666666666 from the 2nd list inside the mlist\n",
    "\n",
    "mlist[1].remove(0.16666666666666666)\n",
    "\n",
    "mlist\n"
   ]
  },
  {
   "cell_type": "code",
   "execution_count": 44,
   "id": "e54a1fd4-2703-4139-8043-30b2f442e022",
   "metadata": {
    "tags": []
   },
   "outputs": [
    {
     "data": {
      "text/plain": [
       "[8, 4, 2, [0.5, 0.25], 0]"
      ]
     },
     "execution_count": 44,
     "metadata": {},
     "output_type": "execute_result"
    }
   ],
   "source": [
    "mlist[::-1] # temporary reverse - doesn't manipulate original list"
   ]
  },
  {
   "cell_type": "code",
   "execution_count": 45,
   "id": "957b8abf-2e03-4b0c-842b-904726f1b13a",
   "metadata": {
    "tags": []
   },
   "outputs": [
    {
     "data": {
      "text/plain": [
       "[8, 4, 2, [0.5, 0.25], 0]"
      ]
     },
     "execution_count": 45,
     "metadata": {},
     "output_type": "execute_result"
    }
   ],
   "source": [
    "mlist.reverse() # permanent reverse -  manipulate the original list\n",
    "mlist"
   ]
  },
  {
   "cell_type": "code",
   "execution_count": 46,
   "id": "ecaf1eb2-7100-4aa9-aa00-2699f2ce7fb9",
   "metadata": {
    "tags": []
   },
   "outputs": [],
   "source": [
    "nlist = [45, 23, 90, 0, 180, 2, 3, 6, 8, 9, 5, 1]"
   ]
  },
  {
   "cell_type": "code",
   "execution_count": 47,
   "id": "f1e377e5-fbbb-428a-bb1b-f0d549392b61",
   "metadata": {
    "tags": []
   },
   "outputs": [],
   "source": [
    "nlist.sort()"
   ]
  },
  {
   "cell_type": "code",
   "execution_count": 48,
   "id": "84e66a3c-ed1d-4800-b658-343eef126dfd",
   "metadata": {
    "tags": []
   },
   "outputs": [
    {
     "data": {
      "text/plain": [
       "[0, 1, 2, 3, 5, 6, 8, 9, 23, 45, 90, 180]"
      ]
     },
     "execution_count": 48,
     "metadata": {},
     "output_type": "execute_result"
    }
   ],
   "source": [
    "nlist"
   ]
  },
  {
   "cell_type": "code",
   "execution_count": 49,
   "id": "1a2ccb5e-fe73-4a0f-8fac-ed8d4ff73dfa",
   "metadata": {
    "tags": []
   },
   "outputs": [],
   "source": [
    "slist = [\"Arpit\", \"Dubey\", \"pwskills\", \"data science\", \"algo\", \"deeplearning\"]"
   ]
  },
  {
   "cell_type": "code",
   "execution_count": 50,
   "id": "03651f0d-a1b8-4eea-93a0-b75c3c2beced",
   "metadata": {
    "tags": []
   },
   "outputs": [],
   "source": [
    "slist.sort()"
   ]
  },
  {
   "cell_type": "code",
   "execution_count": 51,
   "id": "bdec1863-b4f6-4cbe-8ecd-7b4af3fe79a9",
   "metadata": {
    "tags": []
   },
   "outputs": [
    {
     "data": {
      "text/plain": [
       "['Arpit', 'Dubey', 'algo', 'data science', 'deeplearning', 'pwskills']"
      ]
     },
     "execution_count": 51,
     "metadata": {},
     "output_type": "execute_result"
    }
   ],
   "source": [
    "slist"
   ]
  },
  {
   "cell_type": "code",
   "execution_count": 52,
   "id": "77769fc2-1b60-4995-aff2-5ce078e635b4",
   "metadata": {
    "tags": []
   },
   "outputs": [],
   "source": [
    "slist.sort(reverse=True)"
   ]
  },
  {
   "cell_type": "code",
   "execution_count": 53,
   "id": "5308313a-5386-458c-badc-a4eca566603f",
   "metadata": {
    "tags": []
   },
   "outputs": [
    {
     "data": {
      "text/plain": [
       "['pwskills', 'deeplearning', 'data science', 'algo', 'Dubey', 'Arpit']"
      ]
     },
     "execution_count": 53,
     "metadata": {},
     "output_type": "execute_result"
    }
   ],
   "source": [
    "slist"
   ]
  },
  {
   "cell_type": "code",
   "execution_count": 54,
   "id": "b1af2705-e585-4007-a286-fd125101266c",
   "metadata": {
    "tags": []
   },
   "outputs": [
    {
     "data": {
      "text/plain": [
       "1"
      ]
     },
     "execution_count": 54,
     "metadata": {},
     "output_type": "execute_result"
    }
   ],
   "source": [
    "slist.count(\"deeplearning\")"
   ]
  },
  {
   "cell_type": "code",
   "execution_count": 55,
   "id": "2e6a91e1-ebc4-4fb4-89d9-5f19038fe5e4",
   "metadata": {
    "tags": []
   },
   "outputs": [
    {
     "data": {
      "text/plain": [
       "1"
      ]
     },
     "execution_count": 55,
     "metadata": {},
     "output_type": "execute_result"
    }
   ],
   "source": [
    "slist.count(\"algo\")"
   ]
  },
  {
   "cell_type": "code",
   "execution_count": 56,
   "id": "384cd8de-3099-4639-b567-7cc59c4a2e3d",
   "metadata": {
    "tags": []
   },
   "outputs": [],
   "source": [
    "nstr = \"radhe\""
   ]
  },
  {
   "cell_type": "code",
   "execution_count": 57,
   "id": "38c8ece3-e22b-421c-9f7b-74fb6e495e28",
   "metadata": {
    "tags": []
   },
   "outputs": [
    {
     "data": {
      "text/plain": [
       "'padhe'"
      ]
     },
     "execution_count": 57,
     "metadata": {},
     "output_type": "execute_result"
    }
   ],
   "source": [
    "nstr.replace('r', 'p')"
   ]
  },
  {
   "cell_type": "code",
   "execution_count": 58,
   "id": "59c03382-d7e8-4001-b5ee-b5d902086417",
   "metadata": {
    "tags": []
   },
   "outputs": [
    {
     "data": {
      "text/plain": [
       "'radhe'"
      ]
     },
     "execution_count": 58,
     "metadata": {},
     "output_type": "execute_result"
    }
   ],
   "source": [
    "nstr"
   ]
  },
  {
   "cell_type": "code",
   "execution_count": 59,
   "id": "c6c31cd9-b5d1-4c30-bd6b-e81115181e39",
   "metadata": {
    "tags": []
   },
   "outputs": [],
   "source": [
    "t = (2, 3, 4, 5, \"radhe\", 45.3, False, 3+7j, [3, 4, 5])"
   ]
  },
  {
   "cell_type": "code",
   "execution_count": 60,
   "id": "badfacb4-4023-441c-800d-295312f69e1e",
   "metadata": {
    "tags": []
   },
   "outputs": [
    {
     "data": {
      "text/plain": [
       "(2, 3, 4, 5, 'radhe', 45.3, False, (3+7j), [3, 4, 5])"
      ]
     },
     "execution_count": 60,
     "metadata": {},
     "output_type": "execute_result"
    }
   ],
   "source": [
    "t"
   ]
  },
  {
   "cell_type": "code",
   "execution_count": 61,
   "id": "4a536140-5b17-43a6-8b8c-dd4d319bd3cc",
   "metadata": {
    "tags": []
   },
   "outputs": [
    {
     "data": {
      "text/plain": [
       "tuple"
      ]
     },
     "execution_count": 61,
     "metadata": {},
     "output_type": "execute_result"
    }
   ],
   "source": [
    "type(t)"
   ]
  },
  {
   "cell_type": "code",
   "execution_count": 62,
   "id": "1fdbcf94-56dd-4b89-af82-46c3053d270a",
   "metadata": {
    "tags": []
   },
   "outputs": [
    {
     "data": {
      "text/plain": [
       "9"
      ]
     },
     "execution_count": 62,
     "metadata": {},
     "output_type": "execute_result"
    }
   ],
   "source": [
    "len(t)"
   ]
  },
  {
   "cell_type": "code",
   "execution_count": 63,
   "id": "fdfe0438-b5b2-4b52-a74e-31c7c141e451",
   "metadata": {
    "tags": []
   },
   "outputs": [
    {
     "data": {
      "text/plain": [
       "'radhe'"
      ]
     },
     "execution_count": 63,
     "metadata": {},
     "output_type": "execute_result"
    }
   ],
   "source": [
    "t[4]"
   ]
  },
  {
   "cell_type": "code",
   "execution_count": 64,
   "id": "8c2425b5-ac9c-4140-a467-cba51e89a47f",
   "metadata": {
    "tags": []
   },
   "outputs": [
    {
     "data": {
      "text/plain": [
       "2"
      ]
     },
     "execution_count": 64,
     "metadata": {},
     "output_type": "execute_result"
    }
   ],
   "source": [
    "t[0]"
   ]
  },
  {
   "cell_type": "code",
   "execution_count": 65,
   "id": "9256d403-a28e-4c35-a0c2-3b607a9585fd",
   "metadata": {
    "tags": []
   },
   "outputs": [
    {
     "data": {
      "text/plain": [
       "[3, 4, 5]"
      ]
     },
     "execution_count": 65,
     "metadata": {},
     "output_type": "execute_result"
    }
   ],
   "source": [
    "t[-1]"
   ]
  },
  {
   "cell_type": "code",
   "execution_count": 66,
   "id": "fee119c3-b06e-4a98-94b0-5debcde09f6c",
   "metadata": {
    "tags": []
   },
   "outputs": [
    {
     "data": {
      "text/plain": [
       "([3, 4, 5], (3+7j), False, 45.3, 'radhe', 5, 4, 3, 2)"
      ]
     },
     "execution_count": 66,
     "metadata": {},
     "output_type": "execute_result"
    }
   ],
   "source": [
    "t[::-1]"
   ]
  },
  {
   "cell_type": "code",
   "execution_count": 67,
   "id": "c325514a-48de-4fdd-8721-f829416d27f1",
   "metadata": {
    "tags": []
   },
   "outputs": [
    {
     "data": {
      "text/plain": [
       "(2, 3, 4, 5, 'radhe', 45.3, False, (3+7j), [3, 4, 5])"
      ]
     },
     "execution_count": 67,
     "metadata": {},
     "output_type": "execute_result"
    }
   ],
   "source": [
    "t"
   ]
  },
  {
   "cell_type": "code",
   "execution_count": 68,
   "id": "333c8796-70fd-4250-a241-dc464bcb0fa5",
   "metadata": {
    "tags": []
   },
   "outputs": [
    {
     "data": {
      "text/plain": [
       "1"
      ]
     },
     "execution_count": 68,
     "metadata": {},
     "output_type": "execute_result"
    }
   ],
   "source": [
    "t.count(4)"
   ]
  },
  {
   "cell_type": "code",
   "execution_count": 69,
   "id": "c325da4c-f719-46f3-abdd-35f698454ef2",
   "metadata": {
    "tags": []
   },
   "outputs": [
    {
     "data": {
      "text/plain": [
       "0"
      ]
     },
     "execution_count": 69,
     "metadata": {},
     "output_type": "execute_result"
    }
   ],
   "source": [
    "t.count(50)"
   ]
  },
  {
   "cell_type": "code",
   "execution_count": 70,
   "id": "7767781a-e51f-419e-9dfb-978b79139be0",
   "metadata": {
    "tags": []
   },
   "outputs": [
    {
     "data": {
      "text/plain": [
       "4"
      ]
     },
     "execution_count": 70,
     "metadata": {},
     "output_type": "execute_result"
    }
   ],
   "source": [
    "t.index('radhe')"
   ]
  },
  {
   "cell_type": "code",
   "execution_count": 71,
   "id": "47d3a1ce-6a16-4967-9dad-503ea733189e",
   "metadata": {
    "tags": []
   },
   "outputs": [
    {
     "data": {
      "text/plain": [
       "6"
      ]
     },
     "execution_count": 71,
     "metadata": {},
     "output_type": "execute_result"
    }
   ],
   "source": [
    "t.index(False)"
   ]
  },
  {
   "cell_type": "code",
   "execution_count": 72,
   "id": "431b6be3-f22b-4e60-a061-57a5dba6f2da",
   "metadata": {
    "tags": []
   },
   "outputs": [
    {
     "data": {
      "text/plain": [
       "dict"
      ]
     },
     "execution_count": 72,
     "metadata": {},
     "output_type": "execute_result"
    }
   ],
   "source": [
    "mystery = {}\n",
    "\n",
    "type(mystery)"
   ]
  },
  {
   "cell_type": "markdown",
   "id": "d8d5e847-e226-46ea-9f20-e5a3ba3e728d",
   "metadata": {
    "tags": []
   },
   "source": [
    "### Dictionaries:\n",
    "\n",
    "A dictionary in Python is a collection of key-value pairs. The keys are unique and immutable, and they are used to access the values associated with them. \n",
    "\n",
    "```mystery = {0: 'a', 1: 'b', 2: 'c', 4: 'd', 5: 'e'}```\n",
    "\n",
    "In the provided example, the keys are 0, 1, 2, 4, and 5, and the values are 'a', 'b', 'c', 'd', and 'e' respectively."
   ]
  },
  {
   "cell_type": "code",
   "execution_count": 73,
   "id": "0c773c68-ebc1-4069-a29c-0f4e9637dca2",
   "metadata": {
    "tags": []
   },
   "outputs": [],
   "source": [
    "# Dictionary\n",
    "mystery = {0: 'a', 1: 'b', 2: 'c', 3: 'd', 4: 'e'}"
   ]
  },
  {
   "cell_type": "code",
   "execution_count": 74,
   "id": "a25c9b4a-56ed-404c-bf38-c368eff4d573",
   "metadata": {
    "tags": []
   },
   "outputs": [
    {
     "name": "stdout",
     "output_type": "stream",
     "text": [
      "c\n"
     ]
    }
   ],
   "source": [
    "# Accessing values\n",
    "print(mystery[2])  # Output: 'c'"
   ]
  },
  {
   "cell_type": "code",
   "execution_count": 75,
   "id": "f9584749-2b88-4ba3-b127-aa6383010cfa",
   "metadata": {
    "tags": []
   },
   "outputs": [
    {
     "name": "stdout",
     "output_type": "stream",
     "text": [
      "{0: 'a', 1: 'b', 2: 'c', 3: 'd', 4: 'e', 5: 'f'}\n"
     ]
    }
   ],
   "source": [
    "# Adding a new key-value pair\n",
    "mystery[5] = 'f'\n",
    "print(mystery)  # Output: {0: 'a', 1: 'b', 2: 'c', 3: 'd', 4: 'e', 5: 'f'}"
   ]
  },
  {
   "cell_type": "code",
   "execution_count": 76,
   "id": "e03feb00-02b3-425a-93a9-d317140e58e5",
   "metadata": {
    "tags": []
   },
   "outputs": [
    {
     "data": {
      "text/plain": [
       "dict"
      ]
     },
     "execution_count": 76,
     "metadata": {},
     "output_type": "execute_result"
    }
   ],
   "source": [
    "mystery_1 = dict()\n",
    "\n",
    "type(mystery_1)"
   ]
  },
  {
   "cell_type": "code",
   "execution_count": 77,
   "id": "767eb7a9-62b0-4d0b-bfe9-f2e3eae258fb",
   "metadata": {
    "tags": []
   },
   "outputs": [
    {
     "data": {
      "text/plain": [
       "set"
      ]
     },
     "execution_count": 77,
     "metadata": {},
     "output_type": "execute_result"
    }
   ],
   "source": [
    "mystery_2 = {1, 2, 3, 5, 65, 9}\n",
    "\n",
    "type(mystery_2)"
   ]
  },
  {
   "cell_type": "markdown",
   "id": "a9b4ea08-0e39-4c48-b10a-01dbc955a282",
   "metadata": {},
   "source": [
    "### Sets:\n",
    "\n",
    "A set in Python is an unordered collection of unique elements. It does not allow duplicate elements. In the case of the provided example, \"mystery_2 = {1, 2, 3, 5, 65, 9}\" represents a set of unique integers."
   ]
  },
  {
   "cell_type": "code",
   "execution_count": 78,
   "id": "fb1862f0-0837-45a0-9609-92368e052ada",
   "metadata": {
    "tags": []
   },
   "outputs": [],
   "source": [
    "# Set\n",
    "mystery_2 = {1, 2, 3, 5, 65, 9}\n"
   ]
  },
  {
   "cell_type": "code",
   "execution_count": 79,
   "id": "c4674704-5aed-45a7-b373-a51d8ffe82b8",
   "metadata": {
    "tags": []
   },
   "outputs": [
    {
     "name": "stdout",
     "output_type": "stream",
     "text": [
      "{65, 2, 3, 1, 5, 9, 10}\n"
     ]
    }
   ],
   "source": [
    "# Adding elements to the set\n",
    "mystery_2.add(10)\n",
    "print(mystery_2)  # Output: {65, 2, 3, 1, 5, 9, 10}"
   ]
  },
  {
   "cell_type": "code",
   "execution_count": 80,
   "id": "4301adf6-20c5-4e55-b0f3-29e11289f7fc",
   "metadata": {
    "tags": []
   },
   "outputs": [
    {
     "name": "stdout",
     "output_type": "stream",
     "text": [
      "{2, 3, 1, 5, 9, 10}\n"
     ]
    }
   ],
   "source": [
    "# Removing elements from the set\n",
    "mystery_2.remove(65)\n",
    "print(mystery_2)  # Output: {2, 3, 1, 5, 9, 10}"
   ]
  },
  {
   "cell_type": "code",
   "execution_count": 81,
   "id": "b1bfa619-1432-40e7-a7cc-a10a3d685b4b",
   "metadata": {
    "tags": []
   },
   "outputs": [],
   "source": [
    "mystery_3 = {2, 2, 3, 3, 1, 5, 9, 10, 2, 2, 3, 3, 1, 5, 9, 10, 2, 2, 3, 3, 1, 5, 9, 10, \"arpit\", \"pwskills\", \"ineuron\", \"datascience\", 2, 2, 3, 3, 1, 5, 9, 10, \"arpit\", \"pwskills\", \"ineuron\", \"datascience\",}"
   ]
  },
  {
   "cell_type": "code",
   "execution_count": 82,
   "id": "f4c92904-0d91-41a2-a8f2-79db302d5ab4",
   "metadata": {
    "tags": []
   },
   "outputs": [
    {
     "data": {
      "text/plain": [
       "{1, 10, 2, 3, 5, 9, 'arpit', 'datascience', 'ineuron', 'pwskills'}"
      ]
     },
     "execution_count": 82,
     "metadata": {},
     "output_type": "execute_result"
    }
   ],
   "source": [
    "mystery_3 # Set is Unordered and Removes duplicates because \n",
    "# Set generates hash value of each element and used for hashing\n",
    "# Every hashcode is unique of each value\n",
    "# set gives unique values"
   ]
  },
  {
   "cell_type": "code",
   "execution_count": 83,
   "id": "39f0c585-790f-4697-a129-c71b7f57a468",
   "metadata": {
    "tags": []
   },
   "outputs": [
    {
     "data": {
      "text/plain": [
       "{1, 10, 2, 3, 5, 9, 'arpit', 'datascience', 'ineuron', 'pwskills'}"
      ]
     },
     "execution_count": 83,
     "metadata": {},
     "output_type": "execute_result"
    }
   ],
   "source": [
    "set(mystery_3)"
   ]
  }
 ],
 "metadata": {
  "kernelspec": {
   "display_name": "Python 3 (ipykernel)",
   "language": "python",
   "name": "python3"
  },
  "language_info": {
   "codemirror_mode": {
    "name": "ipython",
    "version": 3
   },
   "file_extension": ".py",
   "mimetype": "text/x-python",
   "name": "python",
   "nbconvert_exporter": "python",
   "pygments_lexer": "ipython3",
   "version": "3.11.3"
  }
 },
 "nbformat": 4,
 "nbformat_minor": 5
}
