{
 "cells": [
  {
   "cell_type": "code",
   "execution_count": 1,
   "id": "a1dc610a-f4a1-4368-aeee-a9a7a6fec68b",
   "metadata": {
    "tags": []
   },
   "outputs": [],
   "source": [
    "collection = [1, 360, \"Arpit\", True, 5+7j, 359.99]"
   ]
  },
  {
   "cell_type": "code",
   "execution_count": 2,
   "id": "cf7cdc0e-b1e9-443f-af9d-d87cb57c7e79",
   "metadata": {
    "tags": []
   },
   "outputs": [
    {
     "data": {
      "text/plain": [
       "list"
      ]
     },
     "execution_count": 2,
     "metadata": {},
     "output_type": "execute_result"
    }
   ],
   "source": [
    "type(collection)"
   ]
  },
  {
   "cell_type": "code",
   "execution_count": 3,
   "id": "673fb208-9c69-4a6f-af1b-096bfb3601eb",
   "metadata": {
    "tags": []
   },
   "outputs": [
    {
     "data": {
      "text/plain": [
       "1"
      ]
     },
     "execution_count": 3,
     "metadata": {},
     "output_type": "execute_result"
    }
   ],
   "source": [
    "collection[0]"
   ]
  },
  {
   "cell_type": "code",
   "execution_count": 4,
   "id": "fba30808-5265-4002-8b4d-25c555d26276",
   "metadata": {
    "tags": []
   },
   "outputs": [
    {
     "data": {
      "text/plain": [
       "360"
      ]
     },
     "execution_count": 4,
     "metadata": {},
     "output_type": "execute_result"
    }
   ],
   "source": [
    "collection[1]"
   ]
  },
  {
   "cell_type": "code",
   "execution_count": 5,
   "id": "1827e473-f27b-4246-99a4-3d61fbe34223",
   "metadata": {
    "tags": []
   },
   "outputs": [
    {
     "name": "stdout",
     "output_type": "stream",
     "text": [
      "1\n",
      "360\n",
      "Arpit\n",
      "True\n",
      "(5+7j)\n",
      "359.99\n"
     ]
    }
   ],
   "source": [
    "# let's use a loop \n",
    "for i in range(len(collection)):\n",
    "    print(collection[i])"
   ]
  },
  {
   "cell_type": "code",
   "execution_count": 6,
   "id": "fd737e40-ea11-4ca6-b61f-351a53f86fa3",
   "metadata": {
    "tags": []
   },
   "outputs": [
    {
     "data": {
      "text/plain": [
       "[1, 360, 'Arpit']"
      ]
     },
     "execution_count": 6,
     "metadata": {},
     "output_type": "execute_result"
    }
   ],
   "source": [
    "collection[0:3]"
   ]
  },
  {
   "cell_type": "code",
   "execution_count": 7,
   "id": "f14d17fd-e534-4287-9131-93d301cbb20d",
   "metadata": {
    "tags": []
   },
   "outputs": [
    {
     "data": {
      "text/plain": [
       "359.99"
      ]
     },
     "execution_count": 7,
     "metadata": {},
     "output_type": "execute_result"
    }
   ],
   "source": [
    "collection[-1]"
   ]
  },
  {
   "cell_type": "code",
   "execution_count": 8,
   "id": "693a6718-09cd-41b3-97af-9705007d7984",
   "metadata": {
    "tags": []
   },
   "outputs": [
    {
     "data": {
      "text/plain": [
       "[1, 360, 'Arpit', True, (5+7j)]"
      ]
     },
     "execution_count": 8,
     "metadata": {},
     "output_type": "execute_result"
    }
   ],
   "source": [
    "collection[:-1]"
   ]
  },
  {
   "cell_type": "code",
   "execution_count": 9,
   "id": "1e3b6ffe-180e-4504-9997-8c209c28a0d0",
   "metadata": {
    "tags": []
   },
   "outputs": [
    {
     "data": {
      "text/plain": [
       "[359.99, (5+7j), True, 'Arpit', 360, 1]"
      ]
     },
     "execution_count": 9,
     "metadata": {},
     "output_type": "execute_result"
    }
   ],
   "source": [
    "collection[::-1]"
   ]
  },
  {
   "cell_type": "code",
   "execution_count": 10,
   "id": "e0646673-e860-40ae-8a63-45dce21f81da",
   "metadata": {
    "tags": []
   },
   "outputs": [
    {
     "data": {
      "text/plain": [
       "[1, 'Arpit', (5+7j)]"
      ]
     },
     "execution_count": 10,
     "metadata": {},
     "output_type": "execute_result"
    }
   ],
   "source": [
    "step  = 2\n",
    "\n",
    "collection[::step]"
   ]
  },
  {
   "cell_type": "code",
   "execution_count": 11,
   "id": "f6bb1648-6001-474d-a6d6-ab3dcac7e9f3",
   "metadata": {
    "tags": []
   },
   "outputs": [
    {
     "data": {
      "text/plain": [
       "'it'"
      ]
     },
     "execution_count": 11,
     "metadata": {},
     "output_type": "execute_result"
    }
   ],
   "source": [
    "collection[2][3:]"
   ]
  },
  {
   "cell_type": "code",
   "execution_count": 12,
   "id": "988e832e-82f4-4353-b79e-3c3e6bfd1060",
   "metadata": {
    "tags": []
   },
   "outputs": [
    {
     "data": {
      "text/plain": [
       "True"
      ]
     },
     "execution_count": 12,
     "metadata": {},
     "output_type": "execute_result"
    }
   ],
   "source": [
    "collection[3]"
   ]
  },
  {
   "cell_type": "code",
   "execution_count": 13,
   "id": "e57faf4a-44fd-427c-a296-1bf0b392b25f",
   "metadata": {
    "tags": []
   },
   "outputs": [
    {
     "data": {
      "text/plain": [
       "'Tr'"
      ]
     },
     "execution_count": 13,
     "metadata": {},
     "output_type": "execute_result"
    }
   ],
   "source": [
    "str(collection[3])[:2]"
   ]
  },
  {
   "cell_type": "code",
   "execution_count": 14,
   "id": "1fe6d6f9-e0c9-4279-92a1-5fecd21d64d0",
   "metadata": {
    "tags": []
   },
   "outputs": [
    {
     "data": {
      "text/plain": [
       "[1, 360, 'Arpit', True, (5+7j), 359.99]"
      ]
     },
     "execution_count": 14,
     "metadata": {},
     "output_type": "execute_result"
    }
   ],
   "source": [
    "collection"
   ]
  },
  {
   "cell_type": "code",
   "execution_count": 15,
   "id": "f4a8dc5c-a724-49be-992d-e48df0b604b5",
   "metadata": {
    "tags": []
   },
   "outputs": [],
   "source": [
    "collection_2 = [2, 'ele', False]"
   ]
  },
  {
   "cell_type": "code",
   "execution_count": 16,
   "id": "b658538f-65b2-41bf-927e-602ac72d3ace",
   "metadata": {
    "tags": []
   },
   "outputs": [
    {
     "data": {
      "text/plain": [
       "[1, 360, 'Arpit', True, (5+7j), 359.99, 2, 'ele', False]"
      ]
     },
     "execution_count": 16,
     "metadata": {},
     "output_type": "execute_result"
    }
   ],
   "source": [
    "collection + collection_2"
   ]
  },
  {
   "cell_type": "code",
   "execution_count": 17,
   "id": "a9779e38-22f5-4035-861b-9179e9b90e4d",
   "metadata": {
    "tags": []
   },
   "outputs": [
    {
     "data": {
      "text/plain": [
       "[2, 'ele', False, 2, 'ele', False, 2, 'ele', False]"
      ]
     },
     "execution_count": 17,
     "metadata": {},
     "output_type": "execute_result"
    }
   ],
   "source": [
    "collection_2 * 3"
   ]
  },
  {
   "cell_type": "code",
   "execution_count": null,
   "id": "4aa84596-4307-4dfc-ad58-62f1c89daeea",
   "metadata": {},
   "outputs": [],
   "source": []
  }
 ],
 "metadata": {
  "kernelspec": {
   "display_name": "Python 3 (ipykernel)",
   "language": "python",
   "name": "python3"
  },
  "language_info": {
   "codemirror_mode": {
    "name": "ipython",
    "version": 3
   },
   "file_extension": ".py",
   "mimetype": "text/x-python",
   "name": "python",
   "nbconvert_exporter": "python",
   "pygments_lexer": "ipython3",
   "version": "3.11.3"
  }
 },
 "nbformat": 4,
 "nbformat_minor": 5
}
