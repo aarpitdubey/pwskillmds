{
 "cells": [
  {
   "cell_type": "code",
   "execution_count": 13,
   "metadata": {},
   "outputs": [],
   "source": [
    "import requests\n",
    "from bs4 import BeautifulSoup\n",
    "from urllib.request import urlopen as uReq\n",
    "import logging\n",
    "import pymongo\n",
    "import os\n"
   ]
  },
  {
   "cell_type": "markdown",
   "metadata": {},
   "source": [
    "- To create a new directory for the images if not available it will create a new directory"
   ]
  },
  {
   "cell_type": "code",
   "execution_count": 14,
   "metadata": {},
   "outputs": [],
   "source": [
    "save_dir = \"images/\"\n",
    "if not os.path.exists(save_dir):\n",
    "    os.makedirs(save_dir)"
   ]
  },
  {
   "cell_type": "markdown",
   "metadata": {},
   "source": [
    "- To make headers because to protect it against google blocking!"
   ]
  },
  {
   "cell_type": "code",
   "execution_count": 15,
   "metadata": {},
   "outputs": [],
   "source": [
    "headers = {\"User-Agent\" : \"Mozilla/5.0 (Windows NT 10.0; Win64; x64) AppleWebKit/537.36 (KHTML, like Gecko) Chrome/58.0.3029.110 Safari/537.36\"}"
   ]
  },
  {
   "cell_type": "code",
   "execution_count": 16,
   "metadata": {},
   "outputs": [],
   "source": [
    "query = \"Narendra Modi\"\n",
    "response = requests.get(f\"https://www.google.com/search?q={query}&sxsrf=AJOqlzUuff1RXi2mm8I_OqOwT9VjfIDL7w:1676996143273&source=lnms&tbm=isch&sa=X&ved=2ahUKEwiq-qK7gaf9AhXUgVYBHYReAfYQ_AUoA3oECAEQBQ&biw=1920&bih=937&dpr=1#imgrc=1th7VhSesfMJ4M\")"
   ]
  },
  {
   "cell_type": "code",
   "execution_count": 17,
   "metadata": {},
   "outputs": [
    {
     "data": {
      "text/plain": [
       "b'<!DOCTYPE html PUBLIC \"-//WAPFORUM//DTD XHTML Mobile 1.0//EN\" \"http://www.wapforum.org/DTD/xhtml-mobile10.dtd\"><html xmlns=\"http://www.w3.org/1999/xhtml\" lang=\"en-IN\"><head><meta content=\"application/xhtml+xml; charset=UTF-8\" http-equiv=\"Content-Type\"/><meta content=\"no-cache\" name=\"Cache-Control\"/><title>Narendra Modi - Google Search</title><style>a{text-decoration:none;color:inherit}a:hover{text-decoration:underline}a img{border:0}body{font-family:arial,sans-serif;padding:8px;margin:0 auto;max-width:700px;min-width:240px;}.FbhRzb{border-left:thin solid #dadce0;border-right:thin solid #dadce0;border-top:thin solid #dadce0;height:40px;overflow:hidden}.n692Zd{margin-bottom:10px}.cvifge{height:40px;border-spacing:0}.QvGUP{height:40px;padding:0 8px 0 8px;vertical-align:top}.O4cRJf{height:40px;width:100%;padding:0;padding-right:16px}.O1ePr{height:40px;padding:0;vertical-align:top}.kgJEQe{height:36px;width:98px;vertical-align:top;margin-top:4px}.lXLRf{vertical-align:top}.MhzMZd{border:0;vertical-align:middle;font-size:14px;height:40px;padding:0;width:100%;padding-left:16px}.xB0fq{height:40px;border:none;font-size:14px;background-color:#1a73e8;color:#fff;padding:0 16px;margin:0;vertical-align:top;cursor:pointer}.xB0fq:focus{border:1px solid #1a73e8}.M7pB2{border:thin solid #dadce0;margin:0 0 3px 0;font-size:13px;font-weight:500;height:40px}.euZec{width:100%;height:40px;text-align:center;border-spacing:0}table.euZec td{padding:0;width:25%}.QIqI7{display:inline-block;padding-top:4px;font-weight:bold;color:#4285f4}.EY24We{border-bottom:2px solid #4285f4}.CsQyDc{display:inline-block;color:#70757a}.TuS8Ad{font-size:14px}.HddGcc{padding:8px;color:#70757a}.dzp8ae{font-weight:bold;color:#3c4043}.rEM8G{color:#70757a}.bookcf{table-layout:fixed;width:100%;border-spacing:0}.InWNIe{text-align:center}.uZgmoc{border:thin solid #dadce0;color:#70757a;font-size:14px;text-align:center;table-layout:fixed;width:100%}.frGj1b{display:block;padding:12px 0 12px 0;width:100%}.BnJWBc{text-align:center;padding:6px 0 13px 0;height:35px}.e3goi{vertical-align:top;padding:0;height:180px}.GpQGbf{margin:auto;border-collapse:collapse;border-spacing:0;width:100%}</style></head><body><style>.X6ZCif{color:#202124;font-size:11px;line-height:16px;display:inline-block;padding-top:2px;overflow:hidden;padding-bottom:4px;width:100%}.TwVfHd{border-radius:16px;border:thin solid #dadce0;display:inline-block;padding:8px 8px;margin-right:8px;margin-bottom:4px}.yekiAe{background-color:#dadce0}.jjVJ4e{width:100%}.ezO2md{border:thin solid #dadce0;padding:12px 16px 12px 16px;margin-bottom:10px;font-family:arial,sans-serif}.lIMUZd{font-family:arial,sans-serif}.RntSmf{border-spacing:0}.lgD2Tc{width:100%}.SpelHe{text-align:center}.SpelHe{position:relative}.deHqpb{bottom:0;left:0;margin:auto;position:absolute;right:0;top:0}.kCmkOe{position:relative}.ID6Z3b{background-image:url(https://www.gstatic.com/search_trustx/visibility_off_icon_p0-7d897bf44bafe5436baa9009e8716337.png);background-repeat:no-repeat;background-position:center;background-size:20px}.kCmkOe{width:162px;height:140px;line-height:140px;overflow:\\'hidden\\';text-align:center}.DS1iW{text-align:center;margin:auto;vertical-align:middle;max-width:162px;max-height:140px}.AlD19d{padding-top:2px;padding-bottom:8px;}.fYyStc{word-break:break-word}.ynsChf{display:block;white-space:nowrap;overflow:hidden;text-overflow:ellipsis}.Fj3V3b{color:#1967d2;font-size:14px;line-height:20px}.FrIlee{color:#202124;font-size:11px;line-height:16px}.F9iS2e{color:#70757a;font-size:11px;line-height:16px}.WMQ2Le{color:#70757a;font-size:12px;line-height:16px}.x3G5ab{color:#202124;font-size:12px;line-height:16px}.fuLhoc{color:#1967d2;font-size:16px;line-height:20px}.epoveb{font-size:24px;line-height:28px;font-weight:400;color:#202124}.dXDvrc{color:#0d652d;font-size:14px;line-height:20px;word-wrap:break-word}.dloBPe{font-weight:bold}.YVIcad{color:#70757a}.JkVVdd{color:#ea4335}.oXZRFd{color:#ea4335}.MQHtg{color:#fbbc04}.pyMRrb{color:#1e8e3e}.EtTZid{color:#1e8e3e}.M3vVJe{color:#1967d2}.qXLe6d{display:block}.NHQNef{font-style:italic}.Cb8Z7c{white-space:pre}a.ZWRArf{text-decoration:none}a .CVA68e:hover{text-decoration:underline}</style><div class=\"n692Zd\"><div class=\"BnJWBc\"><a class=\"lXLRf\" href=\"/?sa=X&amp;sca_esv=602153148&amp;biw=1920&amp;bih=937&amp;output=images&amp;ie=UTF-8&amp;tbm=isch&amp;ved=0ahUKEwi-_Ni2ooCEAxW07jgGHY54AIQQPAgC\"><img class=\"kgJEQe\" src=\"/images/branding/searchlogo/1x/googlelogo_desk_heirloom_color_150x55dp.gif\" alt=\"Google\"/></a></div><div class=\"FbhRzb\"><form action=\"/search\"><input name=\"sca_esv\" value=\"602153148\" type=\"hidden\"/><input name=\"biw\" value=\"1920\" type=\"hidden\"/><input name=\"bih\" value=\"937\" type=\"hidden\"/><input name=\"ie\" value=\"ISO-8859-1\" type=\"hidden\"/><input name=\"tbm\" value=\"isch\" type=\"hidden\"/><input name=\"oq\" type=\"hidden\"/><input name=\"aqs\" type=\"hidden\"/><table class=\"cvifge\"><tr><td class=\"O4cRJf\"><input class=\"MhzMZd\" value=\"Narendra Modi\" name=\"q\" type=\"text\"/></td><td class=\"O1ePr\"><input class=\"xB0fq\" value=\"Search\" type=\"submit\"/></td></tr></table></form></div><div class=\"M7pB2\"><table class=\"euZec\"><tbody><tr><td><a class=\"CsQyDc\" href=\"/search?q=Narendra+Modi&amp;sca_esv=602153148&amp;biw=1920&amp;bih=937&amp;ie=UTF-8&amp;source=lnms&amp;sa=X&amp;ved=0ahUKEwi-_Ni2ooCEAxW07jgGHY54AIQQ_AUIBCgA\">ALL</a></td><td><a class=\"CsQyDc\" href=\"/search?q=Narendra+Modi&amp;sca_esv=602153148&amp;biw=1920&amp;bih=937&amp;ie=UTF-8&amp;tbm=nws&amp;source=lnms&amp;sa=X&amp;ved=0ahUKEwi-_Ni2ooCEAxW07jgGHY54AIQQ_AUIBSgB\">NEWS</a></td><td class=\"EY24We\"><span class=\"QIqI7\">IMAGES</span></td><td><a class=\"CsQyDc\" href=\"/search?q=Narendra+Modi&amp;sca_esv=602153148&amp;biw=1920&amp;bih=937&amp;ie=UTF-8&amp;tbm=vid&amp;source=lnms&amp;sa=X&amp;ved=0ahUKEwi-_Ni2ooCEAxW07jgGHY54AIQQ_AUIBygD\">VIDEOS</a></td></tr></tbody></table></div></div><div class=\"X6ZCif\"><a class=\"TwVfHd\" href=\"/search?sca_esv=602153148&amp;biw=1920&amp;bih=937&amp;ie=UTF-8&amp;tbm=isch&amp;q=Narendra+Modi&amp;chips=q:narendra+modi,g_1:prime+minister&amp;sa=X&amp;ved=0ahUKEwi-_Ni2ooCEAxW07jgGHY54AIQQ4lYICygA\">prime minister</a><a class=\"TwVfHd\" href=\"/search?sca_esv=602153148&amp;biw=1920&amp;bih=937&amp;ie=UTF-8&amp;tbm=isch&amp;q=Narendra+Modi&amp;chips=q:narendra+modi,g_1:wallpaper&amp;sa=X&amp;ved=0ahUKEwi-_Ni2ooCEAxW07jgGHY54AIQQ4lYIDCgB\">wallpaper</a><a class=\"TwVfHd\" href=\"/search?sca_esv=602153148&amp;biw=1920&amp;bih=937&amp;ie=UTF-8&amp;tbm=isch&amp;q=Narendra+Modi&amp;chips=q:narendra+modi,g_1:india&amp;sa=X&amp;ved=0ahUKEwi-_Ni2ooCEAxW07jgGHY54AIQQ4lYIDSgC\">india</a><a class=\"TwVfHd\" href=\"/search?sca_esv=602153148&amp;biw=1920&amp;bih=937&amp;ie=UTF-8&amp;tbm=isch&amp;q=Narendra+Modi&amp;chips=q:narendra+modi,g_1:childhood&amp;sa=X&amp;ved=0ahUKEwi-_Ni2ooCEAxW07jgGHY54AIQQ4lYIDigD\">childhood</a><a class=\"TwVfHd\" href=\"/search?sca_esv=602153148&amp;biw=1920&amp;bih=937&amp;ie=UTF-8&amp;tbm=isch&amp;q=Narendra+Modi&amp;chips=q:narendra+modi,g_1:drawing&amp;sa=X&amp;ved=0ahUKEwi-_Ni2ooCEAxW07jgGHY54AIQQ4lYIDygE\">drawing</a><a class=\"TwVfHd\" href=\"/search?sca_esv=602153148&amp;biw=1920&amp;bih=937&amp;ie=UTF-8&amp;tbm=isch&amp;q=Narendra+Modi&amp;chips=q:narendra+modi,g_1:house&amp;sa=X&amp;ved=0ahUKEwi-_Ni2ooCEAxW07jgGHY54AIQQ4lYIECgF\">house</a><a class=\"TwVfHd\" href=\"/search?sca_esv=602153148&amp;biw=1920&amp;bih=937&amp;ie=UTF-8&amp;tbm=isch&amp;q=Narendra+Modi&amp;chips=q:narendra+modi,g_1:independence+day&amp;sa=X&amp;ved=0ahUKEwi-_Ni2ooCEAxW07jgGHY54AIQQ4lYIESgG\">independence day</a><a class=\"TwVfHd\" href=\"/search?sca_esv=602153148&amp;biw=1920&amp;bih=937&amp;ie=UTF-8&amp;tbm=isch&amp;q=Narendra+Modi&amp;chips=q:narendra+modi,g_1:new&amp;sa=X&amp;ved=0ahUKEwi-_Ni2ooCEAxW07jgGHY54AIQQ4lYIEigH\">new</a><a class=\"TwVfHd\" href=\"/search?sca_esv=602153148&amp;biw=1920&amp;bih=937&amp;ie=UTF-8&amp;tbm=isch&amp;q=Narendra+Modi&amp;chips=q:narendra+modi,g_1:painting&amp;sa=X&amp;ved=0ahUKEwi-_Ni2ooCEAxW07jgGHY54AIQQ4lYIEygI\">painting</a><a class=\"TwVfHd\" href=\"/search?sca_esv=602153148&amp;biw=1920&amp;bih=937&amp;ie=UTF-8&amp;tbm=isch&amp;q=Narendra+Modi&amp;chips=q:narendra+modi,g_1:birthday&amp;sa=X&amp;ved=0ahUKEwi-_Ni2ooCEAxW07jgGHY54AIQQ4lYIFCgJ\">birthday</a></div><div><table class=\"GpQGbf\"><tr><td class=\"e3goi\" align=\"center\"><div class=\"jjVJ4e\"> <div> <div class=\"lIMUZd\"><div><table class=\"RntSmf\"><tr><td><a href=\"/url?q=https://en.wikipedia.org/wiki/Narendra_Modi&amp;sa=U&amp;ved=2ahUKEwi-_Ni2ooCEAxW07jgGHY54AIQQqoUBegQIBBAB&amp;usg=AOvVaw1ftwAjh7YHQSTlGV-K-Fma\"><div class=\"kCmkOe\"><img class=\"DS1iW\" alt=\"\" src=\"https://encrypted-tbn0.gstatic.com/images?q=tbn:ANd9GcTw7G48FnLNCO2gGjMABD7W_0PPI2v9HQts8jXdtqEomxahKG15PaUEOEo2H3U&amp;s\"/></div></a></td></tr><tr><td><a href=\"/url?q=https://en.wikipedia.org/wiki/Narendra_Modi&amp;sa=U&amp;ved=2ahUKEwi-_Ni2ooCEAxW07jgGHY54AIQQr4kDegQIBBAC&amp;usg=AOvVaw2N9NPIN0m_dRNEYd0scngy\"><div class=\"AlD19d\">  <span class=\"qXLe6d x3G5ab\">  <span class=\"fYyStc\">Narendra Modi - Wikipedia</span>  </span>   <span class=\"qXLe6d F9iS2e\">  <span class=\"fYyStc\">en.wikipedia.org</span>  </span> </div></a></td></tr></table></div></div> </div> </div></td><td class=\"e3goi\" align=\"center\"><div class=\"jjVJ4e\"> <div> <div class=\"lIMUZd\"><div><table class=\"RntSmf\"><tr><td><a href=\"/url?q=https://www.facebook.com/narendramodi/&amp;sa=U&amp;ved=2ahUKEwi-_Ni2ooCEAxW07jgGHY54AIQQqoUBegQIEhAB&amp;usg=AOvVaw2jHZDPWyjjzSp3dbIRfDNL\"><div class=\"kCmkOe\"><img class=\"DS1iW\" alt=\"\" src=\"https://encrypted-tbn0.gstatic.com/images?q=tbn:ANd9GcQLecHm1GajbRfth5Xwby04uePGMAFFPOtiMD1TC5bAVv1pHgNayixGLDjfJwc&amp;s\"/></div></a></td></tr><tr><td><a href=\"/url?q=https://www.facebook.com/narendramodi/&amp;sa=U&amp;ved=2ahUKEwi-_Ni2ooCEAxW07jgGHY54AIQQr4kDegQIEhAC&amp;usg=AOvVaw202NUwEABl7Pkt8LJW-8GD\"><div class=\"AlD19d\">  <span class=\"qXLe6d x3G5ab\">  <span class=\"fYyStc\">Narendra Modi</span>  </span>   <span class=\"qXLe6d F9iS2e\">  <span class=\"fYyStc\">www.facebook.com</span>  </span> </div></a></td></tr></table></div></div> </div> </div></td><td class=\"e3goi\" align=\"center\"><div class=\"jjVJ4e\"> <div> <div class=\"lIMUZd\"><div><table class=\"RntSmf\"><tr><td><a href=\"/url?q=https://indianexpress.com/about/narendra-modi/&amp;sa=U&amp;ved=2ahUKEwi-_Ni2ooCEAxW07jgGHY54AIQQqoUBegQIExAB&amp;usg=AOvVaw3Ula0b8o-4zC7elzAzPOUH\"><div class=\"kCmkOe\"><img class=\"DS1iW\" alt=\"\" src=\"https://encrypted-tbn0.gstatic.com/images?q=tbn:ANd9GcRya6-sfVYRN5OXXFh9_kusvohcI3hdQDUtogbqHxuzTK6q-UBCWUkM4fMPLc8&amp;s\"/></div></a></td></tr><tr><td><a href=\"/url?q=https://indianexpress.com/about/narendra-modi/&amp;sa=U&amp;ved=2ahUKEwi-_Ni2ooCEAxW07jgGHY54AIQQr4kDegQIExAC&amp;usg=AOvVaw1wvhTHUvU_objpK4B5QAPB\"><div class=\"AlD19d\">  <span class=\"qXLe6d x3G5ab\">  <span class=\"fYyStc\">Latest News on Narendra...</span>  </span>   <span class=\"qXLe6d F9iS2e\">  <span class=\"fYyStc\">indianexpress.com</span>  </span> </div></a></td></tr></table></div></div> </div> </div></td><td class=\"e3goi\" align=\"center\"><div class=\"jjVJ4e\"> <div> <div class=\"lIMUZd\"><div><table class=\"RntSmf\"><tr><td><a href=\"/url?q=https://in.linkedin.com/in/narendramodi&amp;sa=U&amp;ved=2ahUKEwi-_Ni2ooCEAxW07jgGHY54AIQQqoUBegQIERAB&amp;usg=AOvVaw2N_LGnQOvHmxhottCn9lqq\"><div class=\"kCmkOe\"><img class=\"DS1iW\" alt=\"\" src=\"https://encrypted-tbn0.gstatic.com/images?q=tbn:ANd9GcTbsfkRqasCGFX3zIum505du6AL3EQxagFAUf98oKv9sAALvhPTKgjq4TuN4g&amp;s\"/></div></a></td></tr><tr><td><a href=\"/url?q=https://in.linkedin.com/in/narendramodi&amp;sa=U&amp;ved=2ahUKEwi-_Ni2ooCEAxW07jgGHY54AIQQr4kDegQIERAC&amp;usg=AOvVaw2gM1sloj2BPMN0nX0F7wHR\"><div class=\"AlD19d\">  <span class=\"qXLe6d x3G5ab\">  <span class=\"fYyStc\">Narendra Modi - Government...</span>  </span>   <span class=\"qXLe6d F9iS2e\">  <span class=\"fYyStc\">in.linkedin.com</span>  </span> </div></a></td></tr></table></div></div> </div> </div></td></tr><tr><td class=\"e3goi\" align=\"center\"><div class=\"jjVJ4e\"> <div> <div class=\"lIMUZd\"><div><table class=\"RntSmf\"><tr><td><a href=\"/url?q=https://www.elections.in/political-leaders/narendra-modi.html&amp;sa=U&amp;ved=2ahUKEwi-_Ni2ooCEAxW07jgGHY54AIQQqoUBegQIEBAB&amp;usg=AOvVaw1yVcR_adklb-shDPK985fk\"><div class=\"kCmkOe\"><img class=\"DS1iW\" alt=\"\" src=\"https://encrypted-tbn0.gstatic.com/images?q=tbn:ANd9GcRaXgYHPoKBuvadxs588IpYBwl3mUizUosQdEn2cFViabRIpS7jXpJEb41xHw&amp;s\"/></div></a></td></tr><tr><td><a href=\"/url?q=https://www.elections.in/political-leaders/narendra-modi.html&amp;sa=U&amp;ved=2ahUKEwi-_Ni2ooCEAxW07jgGHY54AIQQr4kDegQIEBAC&amp;usg=AOvVaw1sWX7tP4S_bkSD2mFsMR3Z\"><div class=\"AlD19d\">  <span class=\"qXLe6d x3G5ab\">  <span class=\"fYyStc\">Narendra Modi Biography -...</span>  </span>   <span class=\"qXLe6d F9iS2e\">  <span class=\"fYyStc\">www.elections.in</span>  </span> </div></a></td></tr></table></div></div> </div> </div></td><td class=\"e3goi\" align=\"center\"><div class=\"jjVJ4e\"> <div> <div class=\"lIMUZd\"><div><table class=\"RntSmf\"><tr><td><a href=\"/url?q=https://www.narendramodi.in/national-statement-by-prime-minister-narendra-modi-at-the-summit-for-democracy-558844&amp;sa=U&amp;ved=2ahUKEwi-_Ni2ooCEAxW07jgGHY54AIQQqoUBegQIDhAB&amp;usg=AOvVaw0yPZ6tUQD8rtmd9LjSePR9\"><div class=\"kCmkOe\"><img class=\"DS1iW\" alt=\"\" src=\"https://encrypted-tbn0.gstatic.com/images?q=tbn:ANd9GcTvsVxGdzOxx9q0xe3xuHV-Z80qgnli5wRp1hjrdxueqHjyjs0a4PLp5dB0__I&amp;s\"/></div></a></td></tr><tr><td><a href=\"/url?q=https://www.narendramodi.in/national-statement-by-prime-minister-narendra-modi-at-the-summit-for-democracy-558844&amp;sa=U&amp;ved=2ahUKEwi-_Ni2ooCEAxW07jgGHY54AIQQr4kDegQIDhAC&amp;usg=AOvVaw0Z_cXypD-O1CMUXULSMF4Y\"><div class=\"AlD19d\">  <span class=\"qXLe6d x3G5ab\">  <span class=\"fYyStc\">National Statement by Prime...</span>  </span>   <span class=\"qXLe6d F9iS2e\">  <span class=\"fYyStc\">www.narendramodi.in</span>  </span> </div></a></td></tr></table></div></div> </div> </div></td><td class=\"e3goi\" align=\"center\"><div class=\"jjVJ4e\"> <div> <div class=\"lIMUZd\"><div><table class=\"RntSmf\"><tr><td><a href=\"/url?q=https://www.theguardian.com/world/2023/aug/10/manipur-conflict-narendra-modi-opposition-india&amp;sa=U&amp;ved=2ahUKEwi-_Ni2ooCEAxW07jgGHY54AIQQqoUBegQIDxAB&amp;usg=AOvVaw1dmjuRHAsqYlgFzxWdzYRF\"><div class=\"kCmkOe\"><img class=\"DS1iW\" alt=\"\" src=\"https://encrypted-tbn0.gstatic.com/images?q=tbn:ANd9GcTnMADzSQVBcLVD6aZR5gg8MhNeuD8lDEGq70utWgoF4Ma5l7LVGksYZpYc9AQ&amp;s\"/></div></a></td></tr><tr><td><a href=\"/url?q=https://www.theguardian.com/world/2023/aug/10/manipur-conflict-narendra-modi-opposition-india&amp;sa=U&amp;ved=2ahUKEwi-_Ni2ooCEAxW07jgGHY54AIQQr4kDegQIDxAC&amp;usg=AOvVaw0J42P52As9ElUgfuxBRV1g\"><div class=\"AlD19d\">  <span class=\"qXLe6d x3G5ab\">  <span class=\"fYyStc\">Manipur conflict drags...</span>  </span>   <span class=\"qXLe6d F9iS2e\">  <span class=\"fYyStc\">www.theguardian.com</span>  </span> </div></a></td></tr></table></div></div> </div> </div></td><td class=\"e3goi\" align=\"center\"><div class=\"jjVJ4e\"> <div> <div class=\"lIMUZd\"><div><table class=\"RntSmf\"><tr><td><a href=\"/url?q=https://www.livemint.com/news/pm-modi-to-deliver-10th-consecutive-independence-day-address-what-to-expect-11692021636334.html&amp;sa=U&amp;ved=2ahUKEwi-_Ni2ooCEAxW07jgGHY54AIQQqoUBegQICxAB&amp;usg=AOvVaw0n4p4IxMvHtuaF8PjZv5BM\"><div class=\"kCmkOe\"><img class=\"DS1iW\" alt=\"\" src=\"https://encrypted-tbn0.gstatic.com/images?q=tbn:ANd9GcRmAZ_2BS5_n5exZrl_KkVaGy-C_nQ67FEA-WfqVf6WUA-jbqVjcET2yIEVzSY&amp;s\"/></div></a></td></tr><tr><td><a href=\"/url?q=https://www.livemint.com/news/pm-modi-to-deliver-10th-consecutive-independence-day-address-what-to-expect-11692021636334.html&amp;sa=U&amp;ved=2ahUKEwi-_Ni2ooCEAxW07jgGHY54AIQQr4kDegQICxAC&amp;usg=AOvVaw3RvABrRurY_tyr0plp11Q8\"><div class=\"AlD19d\">  <span class=\"qXLe6d x3G5ab\">  <span class=\"fYyStc\">PM Modi to deliver 10th...</span>  </span>   <span class=\"qXLe6d F9iS2e\">  <span class=\"fYyStc\">www.livemint.com</span>  </span> </div></a></td></tr></table></div></div> </div> </div></td></tr><tr><td class=\"e3goi\" align=\"center\"><div class=\"jjVJ4e\"> <div> <div class=\"lIMUZd\"><div><table class=\"RntSmf\"><tr><td><a href=\"/url?q=https://www.amazon.in/Narendra-Modi-political-Andy-Marino/dp/9351770257&amp;sa=U&amp;ved=2ahUKEwi-_Ni2ooCEAxW07jgGHY54AIQQqoUBegQIDRAB&amp;usg=AOvVaw3bQ1b-G-uqGNxfgtEIhzIl\"><div class=\"kCmkOe\"><img class=\"DS1iW\" alt=\"\" src=\"https://encrypted-tbn0.gstatic.com/images?q=tbn:ANd9GcSjzaX2_2Xs2l0BFZPJlyKIIYkc2D2_Vd0XaYtQ3GKt-6hWG-nDV60URVP38g&amp;s\"/></div></a></td></tr><tr><td><a href=\"/url?q=https://www.amazon.in/Narendra-Modi-political-Andy-Marino/dp/9351770257&amp;sa=U&amp;ved=2ahUKEwi-_Ni2ooCEAxW07jgGHY54AIQQr4kDegQIDRAC&amp;usg=AOvVaw2vIb3rDOCf4yPPd8ShShwe\"><div class=\"AlD19d\">  <span class=\"qXLe6d x3G5ab\">  <span class=\"fYyStc\">Buy Narendra Modi: A...</span>  </span>   <span class=\"qXLe6d F9iS2e\">  <span class=\"fYyStc\">www.amazon.in</span>  </span> </div></a></td></tr></table></div></div> </div> </div></td><td class=\"e3goi\" align=\"center\"><div class=\"jjVJ4e\"> <div> <div class=\"lIMUZd\"><div><table class=\"RntSmf\"><tr><td><a href=\"/url?q=https://m.timesofindia.com/india/20-years-in-public-life-key-things-to-know-about-pm-modis-tenure/articleshow/86283806.cms&amp;sa=U&amp;ved=2ahUKEwi-_Ni2ooCEAxW07jgGHY54AIQQqoUBegQIChAB&amp;usg=AOvVaw3NJP26YW8P2wPjp33gNi_v\"><div class=\"kCmkOe\"><img class=\"DS1iW\" alt=\"\" src=\"https://encrypted-tbn0.gstatic.com/images?q=tbn:ANd9GcQsocfKOGn_7NelZU7fcuZstPGCK9XTHMHqfCj8RBKh2Hljc5MAWkZF5bu0Fbc&amp;s\"/></div></a></td></tr><tr><td><a href=\"/url?q=https://m.timesofindia.com/india/20-years-in-public-life-key-things-to-know-about-pm-modis-tenure/articleshow/86283806.cms&amp;sa=U&amp;ved=2ahUKEwi-_Ni2ooCEAxW07jgGHY54AIQQr4kDegQIChAC&amp;usg=AOvVaw0OVUqV2Niz3Kqu3hWAnArv\"><div class=\"AlD19d\">  <span class=\"qXLe6d x3G5ab\">  <span class=\"fYyStc\">PM Modi: Key things to know...</span>  </span>   <span class=\"qXLe6d F9iS2e\">  <span class=\"fYyStc\">m.timesofindia.com</span>  </span> </div></a></td></tr></table></div></div> </div> </div></td><td class=\"e3goi\" align=\"center\"><div class=\"jjVJ4e\"> <div> <div class=\"lIMUZd\"><div><table class=\"RntSmf\"><tr><td><a href=\"/url?q=https://www.pmindia.gov.in/en/image-gallery/&amp;sa=U&amp;ved=2ahUKEwi-_Ni2ooCEAxW07jgGHY54AIQQqoUBegQIDBAB&amp;usg=AOvVaw0feV_b6f1R26wMGbGc7KAP\"><div class=\"kCmkOe\"><img class=\"DS1iW\" alt=\"\" src=\"https://encrypted-tbn0.gstatic.com/images?q=tbn:ANd9GcSNUXeGpa7_ggJZpt66tB7idqe2_eLXhADuTxGT4c6kWqAaef7kRHhBk_Jrog&amp;s\"/></div></a></td></tr><tr><td><a href=\"/url?q=https://www.pmindia.gov.in/en/image-gallery/&amp;sa=U&amp;ved=2ahUKEwi-_Ni2ooCEAxW07jgGHY54AIQQr4kDegQIDBAC&amp;usg=AOvVaw2NNn78uQyRq_O7UPBxw1OC\"><div class=\"AlD19d\">  <span class=\"qXLe6d x3G5ab\">  <span class=\"fYyStc\">Photo Gallery | Prime...</span>  </span>   <span class=\"qXLe6d F9iS2e\">  <span class=\"fYyStc\">www.pmindia.gov.in</span>  </span> </div></a></td></tr></table></div></div> </div> </div></td><td class=\"e3goi\" align=\"center\"><div class=\"jjVJ4e\"> <div> <div class=\"lIMUZd\"><div><table class=\"RntSmf\"><tr><td><a href=\"/url?q=https://www.livemint.com/news/india/from-shah-rukh-khan-to-salman-khan-heres-how-bollywood-stars-wish-pm-narendra-modi-on-his-73rd-birthday-11694946549678.html&amp;sa=U&amp;ved=2ahUKEwi-_Ni2ooCEAxW07jgGHY54AIQQqoUBegQICRAB&amp;usg=AOvVaw1D-eN-bt1WkHg82DCzNnZB\"><div class=\"kCmkOe\"><img class=\"DS1iW\" alt=\"\" src=\"https://encrypted-tbn0.gstatic.com/images?q=tbn:ANd9GcSWCE1E3J56YJtcDA8X4qFtwbfOOlXzfGUZOS18kUkF8EHfl702fEVvEE-29BU&amp;s\"/></div></a></td></tr><tr><td><a href=\"/url?q=https://www.livemint.com/news/india/from-shah-rukh-khan-to-salman-khan-heres-how-bollywood-stars-wish-pm-narendra-modi-on-his-73rd-birthday-11694946549678.html&amp;sa=U&amp;ved=2ahUKEwi-_Ni2ooCEAxW07jgGHY54AIQQr4kDegQICRAC&amp;usg=AOvVaw2_Ylh-I9a1URlhrQlGQrW_\"><div class=\"AlD19d\">  <span class=\"qXLe6d x3G5ab\">  <span class=\"fYyStc\">From Shah Rukh Khan to...</span>  </span>   <span class=\"qXLe6d F9iS2e\">  <span class=\"fYyStc\">www.livemint.com</span>  </span> </div></a></td></tr></table></div></div> </div> </div></td></tr><tr><td class=\"e3goi\" align=\"center\"><div class=\"jjVJ4e\"> <div> <div class=\"lIMUZd\"><div><table class=\"RntSmf\"><tr><td><a href=\"/url?q=https://www.indiatoday.in/india/story/pm-modi-birthday-sanitation-drives-health-camps-bjp-1853679-2021-09-16&amp;sa=U&amp;ved=2ahUKEwi-_Ni2ooCEAxW07jgGHY54AIQQqoUBegQIAxAB&amp;usg=AOvVaw2z6lK6lJmeVvBY8R_Xu8__\"><div class=\"kCmkOe\"><img class=\"DS1iW\" alt=\"\" src=\"https://encrypted-tbn0.gstatic.com/images?q=tbn:ANd9GcTmrwSb8eQnRQWl1NIyfCpmCmD3xyrpUotNBRWypdax_awx0QSCjfCGAwJF-WA&amp;s\"/></div></a></td></tr><tr><td><a href=\"/url?q=https://www.indiatoday.in/india/story/pm-modi-birthday-sanitation-drives-health-camps-bjp-1853679-2021-09-16&amp;sa=U&amp;ved=2ahUKEwi-_Ni2ooCEAxW07jgGHY54AIQQr4kDegQIAxAC&amp;usg=AOvVaw0LHE7y4MO3oScE3LvVvrB8\"><div class=\"AlD19d\">  <span class=\"qXLe6d x3G5ab\">  <span class=\"fYyStc\">PM Modi\\'s 71st birthday...</span>  </span>   <span class=\"qXLe6d F9iS2e\">  <span class=\"fYyStc\">www.indiatoday.in</span>  </span> </div></a></td></tr></table></div></div> </div> </div></td><td class=\"e3goi\" align=\"center\"><div class=\"jjVJ4e\"> <div> <div class=\"lIMUZd\"><div><table class=\"RntSmf\"><tr><td><a href=\"/url?q=https://m.economictimes.com/news/india/pm-narendra-modi-to-address-fedex-mastercard-other-us-ceos-at-kennedy-center-source/articleshow/101043626.cms&amp;sa=U&amp;ved=2ahUKEwi-_Ni2ooCEAxW07jgGHY54AIQQqoUBegQIAhAB&amp;usg=AOvVaw3vtAkBwMqd3S8J3Iop-kN-\"><div class=\"kCmkOe\"><img class=\"DS1iW\" alt=\"\" src=\"https://encrypted-tbn0.gstatic.com/images?q=tbn:ANd9GcSfL0MTXvWlvnhsVD_Sf2L6AVqSt4ajLrbBgHOsIcRVRbj7w03kUEZ4duAgyA&amp;s\"/></div></a></td></tr><tr><td><a href=\"/url?q=https://m.economictimes.com/news/india/pm-narendra-modi-to-address-fedex-mastercard-other-us-ceos-at-kennedy-center-source/articleshow/101043626.cms&amp;sa=U&amp;ved=2ahUKEwi-_Ni2ooCEAxW07jgGHY54AIQQr4kDegQIAhAC&amp;usg=AOvVaw3hngyej1yqUMwp8Dyq7mq9\"><div class=\"AlD19d\">  <span class=\"qXLe6d x3G5ab\">  <span class=\"fYyStc\">modi in us: PM Narendra...</span>  </span>   <span class=\"qXLe6d F9iS2e\">  <span class=\"fYyStc\">m.economictimes.com</span>  </span> </div></a></td></tr></table></div></div> </div> </div></td><td class=\"e3goi\" align=\"center\"><div class=\"jjVJ4e\"> <div> <div class=\"lIMUZd\"><div><table class=\"RntSmf\"><tr><td><a href=\"/url?q=https://www.news18.com/india/independence-day-2023-prime-minister-narendra-modi-red-fort-speech-top-quotes-highlights-8536691.html&amp;sa=U&amp;ved=2ahUKEwi-_Ni2ooCEAxW07jgGHY54AIQQqoUBegQICBAB&amp;usg=AOvVaw00_bf27SG4TQNsRi99FAlf\"><div class=\"kCmkOe\"><img class=\"DS1iW\" alt=\"\" src=\"https://encrypted-tbn0.gstatic.com/images?q=tbn:ANd9GcSMco5Kp1ECR9Gn_3LPGb9D8dMP5jNQDq09jxog3CxXmYrQJ_gF0jEOdJSAdQ&amp;s\"/></div></a></td></tr><tr><td><a href=\"/url?q=https://www.news18.com/india/independence-day-2023-prime-minister-narendra-modi-red-fort-speech-top-quotes-highlights-8536691.html&amp;sa=U&amp;ved=2ahUKEwi-_Ni2ooCEAxW07jgGHY54AIQQr4kDegQICBAC&amp;usg=AOvVaw2pS1p60JxzB5E_s-nFyX92\"><div class=\"AlD19d\">  <span class=\"qXLe6d x3G5ab\">  <span class=\"fYyStc\">Independence Day 2023: No...</span>  </span>   <span class=\"qXLe6d F9iS2e\">  <span class=\"fYyStc\">www.news18.com</span>  </span> </div></a></td></tr></table></div></div> </div> </div></td><td class=\"e3goi\" align=\"center\"><div class=\"jjVJ4e\"> <div> <div class=\"lIMUZd\"><div><table class=\"RntSmf\"><tr><td><a href=\"/url?q=https://indianexpress.com/article/cities/mumbai/mumbai-metro-lines-health-centres-pm-modi-to-inaugurate-a-slew-of-projects-tomorrow-8390174/&amp;sa=U&amp;ved=2ahUKEwi-_Ni2ooCEAxW07jgGHY54AIQQqoUBegQIARAB&amp;usg=AOvVaw0j7mvQFWOhddCx193g8V79\"><div class=\"kCmkOe\"><img class=\"DS1iW\" alt=\"\" src=\"https://encrypted-tbn0.gstatic.com/images?q=tbn:ANd9GcSJgyq5Y-YwHjEef9XpLFIzuQvinrMAMUTJbsiM6et5MAMZlyAcjQIpx3Yjo9g&amp;s\"/></div></a></td></tr><tr><td><a href=\"/url?q=https://indianexpress.com/article/cities/mumbai/mumbai-metro-lines-health-centres-pm-modi-to-inaugurate-a-slew-of-projects-tomorrow-8390174/&amp;sa=U&amp;ved=2ahUKEwi-_Ni2ooCEAxW07jgGHY54AIQQr4kDegQIARAC&amp;usg=AOvVaw3fgifRjd43CVWmgmeJpULp\"><div class=\"AlD19d\">  <span class=\"qXLe6d x3G5ab\">  <span class=\"fYyStc\">Mumbai Metro lines, health...</span>  </span>   <span class=\"qXLe6d F9iS2e\">  <span class=\"fYyStc\">indianexpress.com</span>  </span> </div></a></td></tr></table></div></div> </div> </div></td></tr><tr><td class=\"e3goi\" align=\"center\"><div class=\"jjVJ4e\"> <div> <div class=\"lIMUZd\"><div><table class=\"RntSmf\"><tr><td><a href=\"/url?q=https://health.economictimes.indiatimes.com/news/policy/mann-ki-baat-pm-narendra-modi-asks-citizens-to-be-vigilant-amid-rising-covid-cases/96493868&amp;sa=U&amp;ved=2ahUKEwi-_Ni2ooCEAxW07jgGHY54AIQQqoUBegQIBxAB&amp;usg=AOvVaw1f-Qq2E7jbI1vLLQ_LAJZy\"><div class=\"kCmkOe\"><img class=\"DS1iW\" alt=\"\" src=\"https://encrypted-tbn0.gstatic.com/images?q=tbn:ANd9GcRK3L9xVMRO33pU3RwecMjUkWx-VAfsLFx2LAiyXPcSodnD6C0dbg093hkepw&amp;s\"/></div></a></td></tr><tr><td><a href=\"/url?q=https://health.economictimes.indiatimes.com/news/policy/mann-ki-baat-pm-narendra-modi-asks-citizens-to-be-vigilant-amid-rising-covid-cases/96493868&amp;sa=U&amp;ved=2ahUKEwi-_Ni2ooCEAxW07jgGHY54AIQQr4kDegQIBxAC&amp;usg=AOvVaw0T-saV60QTvkNP0kz8gnKl\"><div class=\"AlD19d\">  <span class=\"qXLe6d x3G5ab\">  <span class=\"fYyStc\">Mann ki Baat: PM Narendra...</span>  </span>   <span class=\"qXLe6d F9iS2e\">  <span class=\"fYyStc\">health.economictimes.indiat...</span>  </span> </div></a></td></tr></table></div></div> </div> </div></td><td class=\"e3goi\" align=\"center\"><div class=\"jjVJ4e\"> <div> <div class=\"lIMUZd\"><div><table class=\"RntSmf\"><tr><td><a href=\"/url?q=https://www.pmindia.gov.in/&amp;sa=U&amp;ved=2ahUKEwi-_Ni2ooCEAxW07jgGHY54AIQQqoUBegQIBhAB&amp;usg=AOvVaw0CrUlcwB0svK5h9WIurCC_\"><div class=\"kCmkOe\"><img class=\"DS1iW\" alt=\"\" src=\"https://encrypted-tbn0.gstatic.com/images?q=tbn:ANd9GcSae8BSQxliATNPGCwQrQJKhlqjVZbFrP2D6yEfMMqyPPi7RvL0p2awsH_C7ck&amp;s\"/></div></a></td></tr><tr><td><a href=\"/url?q=https://www.pmindia.gov.in/&amp;sa=U&amp;ved=2ahUKEwi-_Ni2ooCEAxW07jgGHY54AIQQr4kDegQIBhAC&amp;usg=AOvVaw2khAUhbjK12puJYO4M47UB\"><div class=\"AlD19d\">  <span class=\"qXLe6d x3G5ab\">  <span class=\"fYyStc\">Prime Minister of India</span>  </span>   <span class=\"qXLe6d F9iS2e\">  <span class=\"fYyStc\">www.pmindia.gov.in</span>  </span> </div></a></td></tr></table></div></div> </div> </div></td><td class=\"e3goi\" align=\"center\"><div class=\"jjVJ4e\"> <div> <div class=\"lIMUZd\"><div><table class=\"RntSmf\"><tr><td><a href=\"/url?q=https://m.economictimes.com/news/india/prime-minister-narendra-modi-urges-public-to-participate-in-conservation-of-water/articleshow/96773617.cms&amp;sa=U&amp;ved=2ahUKEwi-_Ni2ooCEAxW07jgGHY54AIQQqoUBegQIABAB&amp;usg=AOvVaw3Vfl_-AmON07CKsyQZR4h4\"><div class=\"kCmkOe\"><img class=\"DS1iW\" alt=\"\" src=\"https://encrypted-tbn0.gstatic.com/images?q=tbn:ANd9GcTsL-caaJz4DnYdpX4TQL9JsjFKS4l3okap287D3tZhiQKoj11diIhFlY6axMo&amp;s\"/></div></a></td></tr><tr><td><a href=\"/url?q=https://m.economictimes.com/news/india/prime-minister-narendra-modi-urges-public-to-participate-in-conservation-of-water/articleshow/96773617.cms&amp;sa=U&amp;ved=2ahUKEwi-_Ni2ooCEAxW07jgGHY54AIQQr4kDegQIABAC&amp;usg=AOvVaw1BuoHdv-HvHNC54ZXtinVg\"><div class=\"AlD19d\">  <span class=\"qXLe6d x3G5ab\">  <span class=\"fYyStc\">modi: Prime Minister...</span>  </span>   <span class=\"qXLe6d F9iS2e\">  <span class=\"fYyStc\">m.economictimes.com</span>  </span> </div></a></td></tr></table></div></div> </div> </div></td><td class=\"e3goi\" align=\"center\"><div class=\"jjVJ4e\"> <div> <div class=\"lIMUZd\"><div><table class=\"RntSmf\"><tr><td><a href=\"/url?q=https://en.wikipedia.org/wiki/File:Prime_Minister,_Shri_Narendra_Modi,_in_New_Delhi_on_August_08,_2019_(cropped).jpg&amp;sa=U&amp;ved=2ahUKEwi-_Ni2ooCEAxW07jgGHY54AIQQqoUBegQIBRAB&amp;usg=AOvVaw3eNYvL7RpvnEynz4_4lV4K\"><div class=\"kCmkOe\"><img class=\"DS1iW\" alt=\"\" src=\"https://encrypted-tbn0.gstatic.com/images?q=tbn:ANd9GcS7zvvZQI7T3XqJNXCf6x0gFowPzfMT_zfb_xRdL58ydnV6KxRXCpij4vhIwbI&amp;s\"/></div></a></td></tr><tr><td><a href=\"/url?q=https://en.wikipedia.org/wiki/File:Prime_Minister,_Shri_Narendra_Modi,_in_New_Delhi_on_August_08,_2019_(cropped).jpg&amp;sa=U&amp;ved=2ahUKEwi-_Ni2ooCEAxW07jgGHY54AIQQr4kDegQIBRAC&amp;usg=AOvVaw2vikXrXCDKaoMig8OZ89ux\"><div class=\"AlD19d\">  <span class=\"qXLe6d x3G5ab\">  <span class=\"fYyStc\">File:Prime Minister, Shri...</span>  </span>   <span class=\"qXLe6d F9iS2e\">  <span class=\"fYyStc\">en.wikipedia.org</span>  </span> </div></a></td></tr></table></div></div> </div> </div></td></tr></table></div><table class=\"uZgmoc\"><tbody><td><a class=\"frGj1b\" href=\"/search?q=Narendra+Modi&amp;sca_esv=602153148&amp;biw=1920&amp;bih=937&amp;ie=UTF-8&amp;tbm=isch&amp;ei=V2G2Zf70MbTd4-EPjvGBoAg&amp;start=20&amp;sa=N\">Next&nbsp;&gt;</a></td></tbody></table><br/><div class=\"TuS8Ad\" data-ved=\"0ahUKEwi-_Ni2ooCEAxW07jgGHY54AIQQpyoIUg\"><style>.VYM29{font-weight:bold}</style><div class=\"HddGcc\" align=\"center\"><span class=\"VYM29\">Delhi</span><span>&nbsp;-&nbsp;</span><span>From your IP address</span><span>&nbsp;-&nbsp;</span><a href=\"/url?q=https://support.google.com/websearch%3Fp%3Dws_settings_location%26hl%3Den-IN&amp;opi=89978449&amp;sa=U&amp;ved=0ahUKEwi-_Ni2ooCEAxW07jgGHY54AIQQty4IUw&amp;usg=AOvVaw2hLCSwp96ec_vZklEy3ySH\">Learn more</a></div><div align=\"center\"><a class=\"rEM8G\" href=\"/url?q=https://accounts.google.com/ServiceLogin%3Fcontinue%3Dhttps://www.google.com/search%253Fq%253DNarendra%252BModi%2526sxsrf%253DAJOqlzUuff1RXi2mm8I_OqOwT9VjfIDL7w:1676996143273%2526source%253Dlnms%2526tbm%253Disch%2526sa%253DX%2526ved%253D2ahUKEwiq-qK7gaf9AhXUgVYBHYReAfYQ_AUoA3oECAEQBQ%2526biw%253D1920%2526bih%253D937%2526dpr%253D1%26hl%3Den&amp;opi=89978449&amp;sa=U&amp;ved=0ahUKEwi-_Ni2ooCEAxW07jgGHY54AIQQxs8CCFQ&amp;usg=AOvVaw2AIycFlKoVXOAFM7xH8wMl\">Sign in</a></div><div><table class=\"bookcf\"><tbody class=\"InWNIe\"><tr><td><a class=\"rEM8G\" href=\"https://www.google.com/preferences?hl=en&amp;sa=X&amp;ved=0ahUKEwi-_Ni2ooCEAxW07jgGHY54AIQQv5YECFU\">Settings</a></td><td><a class=\"rEM8G\" href=\"https://www.google.com/intl/en_in/policies/privacy/\">Privacy</a></td><td><a class=\"rEM8G\" href=\"https://www.google.com/intl/en_in/policies/terms/\">Terms</a></td></tr></tbody></table></div></div><div>  </div></body></html>'"
      ]
     },
     "execution_count": 17,
     "metadata": {},
     "output_type": "execute_result"
    }
   ],
   "source": [
    "response.content"
   ]
  },
  {
   "cell_type": "code",
   "execution_count": 18,
   "metadata": {},
   "outputs": [],
   "source": [
    "soup = BeautifulSoup(response.content, 'html.parser')"
   ]
  },
  {
   "cell_type": "code",
   "execution_count": 19,
   "metadata": {},
   "outputs": [],
   "source": [
    "images_tags = soup.find_all(\"img\")"
   ]
  },
  {
   "cell_type": "code",
   "execution_count": 20,
   "metadata": {},
   "outputs": [
    {
     "data": {
      "text/plain": [
       "21"
      ]
     },
     "execution_count": 20,
     "metadata": {},
     "output_type": "execute_result"
    }
   ],
   "source": [
    "len(images_tags)"
   ]
  },
  {
   "cell_type": "code",
   "execution_count": 21,
   "metadata": {},
   "outputs": [],
   "source": [
    "del images_tags[0]"
   ]
  },
  {
   "cell_type": "code",
   "execution_count": 22,
   "metadata": {},
   "outputs": [
    {
     "data": {
      "text/plain": [
       "[<img alt=\"\" class=\"DS1iW\" src=\"https://encrypted-tbn0.gstatic.com/images?q=tbn:ANd9GcTw7G48FnLNCO2gGjMABD7W_0PPI2v9HQts8jXdtqEomxahKG15PaUEOEo2H3U&amp;s\"/>,\n",
       " <img alt=\"\" class=\"DS1iW\" src=\"https://encrypted-tbn0.gstatic.com/images?q=tbn:ANd9GcQLecHm1GajbRfth5Xwby04uePGMAFFPOtiMD1TC5bAVv1pHgNayixGLDjfJwc&amp;s\"/>,\n",
       " <img alt=\"\" class=\"DS1iW\" src=\"https://encrypted-tbn0.gstatic.com/images?q=tbn:ANd9GcRya6-sfVYRN5OXXFh9_kusvohcI3hdQDUtogbqHxuzTK6q-UBCWUkM4fMPLc8&amp;s\"/>,\n",
       " <img alt=\"\" class=\"DS1iW\" src=\"https://encrypted-tbn0.gstatic.com/images?q=tbn:ANd9GcTbsfkRqasCGFX3zIum505du6AL3EQxagFAUf98oKv9sAALvhPTKgjq4TuN4g&amp;s\"/>,\n",
       " <img alt=\"\" class=\"DS1iW\" src=\"https://encrypted-tbn0.gstatic.com/images?q=tbn:ANd9GcRaXgYHPoKBuvadxs588IpYBwl3mUizUosQdEn2cFViabRIpS7jXpJEb41xHw&amp;s\"/>,\n",
       " <img alt=\"\" class=\"DS1iW\" src=\"https://encrypted-tbn0.gstatic.com/images?q=tbn:ANd9GcTvsVxGdzOxx9q0xe3xuHV-Z80qgnli5wRp1hjrdxueqHjyjs0a4PLp5dB0__I&amp;s\"/>,\n",
       " <img alt=\"\" class=\"DS1iW\" src=\"https://encrypted-tbn0.gstatic.com/images?q=tbn:ANd9GcTnMADzSQVBcLVD6aZR5gg8MhNeuD8lDEGq70utWgoF4Ma5l7LVGksYZpYc9AQ&amp;s\"/>,\n",
       " <img alt=\"\" class=\"DS1iW\" src=\"https://encrypted-tbn0.gstatic.com/images?q=tbn:ANd9GcRmAZ_2BS5_n5exZrl_KkVaGy-C_nQ67FEA-WfqVf6WUA-jbqVjcET2yIEVzSY&amp;s\"/>,\n",
       " <img alt=\"\" class=\"DS1iW\" src=\"https://encrypted-tbn0.gstatic.com/images?q=tbn:ANd9GcSjzaX2_2Xs2l0BFZPJlyKIIYkc2D2_Vd0XaYtQ3GKt-6hWG-nDV60URVP38g&amp;s\"/>,\n",
       " <img alt=\"\" class=\"DS1iW\" src=\"https://encrypted-tbn0.gstatic.com/images?q=tbn:ANd9GcQsocfKOGn_7NelZU7fcuZstPGCK9XTHMHqfCj8RBKh2Hljc5MAWkZF5bu0Fbc&amp;s\"/>,\n",
       " <img alt=\"\" class=\"DS1iW\" src=\"https://encrypted-tbn0.gstatic.com/images?q=tbn:ANd9GcSNUXeGpa7_ggJZpt66tB7idqe2_eLXhADuTxGT4c6kWqAaef7kRHhBk_Jrog&amp;s\"/>,\n",
       " <img alt=\"\" class=\"DS1iW\" src=\"https://encrypted-tbn0.gstatic.com/images?q=tbn:ANd9GcSWCE1E3J56YJtcDA8X4qFtwbfOOlXzfGUZOS18kUkF8EHfl702fEVvEE-29BU&amp;s\"/>,\n",
       " <img alt=\"\" class=\"DS1iW\" src=\"https://encrypted-tbn0.gstatic.com/images?q=tbn:ANd9GcTmrwSb8eQnRQWl1NIyfCpmCmD3xyrpUotNBRWypdax_awx0QSCjfCGAwJF-WA&amp;s\"/>,\n",
       " <img alt=\"\" class=\"DS1iW\" src=\"https://encrypted-tbn0.gstatic.com/images?q=tbn:ANd9GcSfL0MTXvWlvnhsVD_Sf2L6AVqSt4ajLrbBgHOsIcRVRbj7w03kUEZ4duAgyA&amp;s\"/>,\n",
       " <img alt=\"\" class=\"DS1iW\" src=\"https://encrypted-tbn0.gstatic.com/images?q=tbn:ANd9GcSMco5Kp1ECR9Gn_3LPGb9D8dMP5jNQDq09jxog3CxXmYrQJ_gF0jEOdJSAdQ&amp;s\"/>,\n",
       " <img alt=\"\" class=\"DS1iW\" src=\"https://encrypted-tbn0.gstatic.com/images?q=tbn:ANd9GcSJgyq5Y-YwHjEef9XpLFIzuQvinrMAMUTJbsiM6et5MAMZlyAcjQIpx3Yjo9g&amp;s\"/>,\n",
       " <img alt=\"\" class=\"DS1iW\" src=\"https://encrypted-tbn0.gstatic.com/images?q=tbn:ANd9GcRK3L9xVMRO33pU3RwecMjUkWx-VAfsLFx2LAiyXPcSodnD6C0dbg093hkepw&amp;s\"/>,\n",
       " <img alt=\"\" class=\"DS1iW\" src=\"https://encrypted-tbn0.gstatic.com/images?q=tbn:ANd9GcSae8BSQxliATNPGCwQrQJKhlqjVZbFrP2D6yEfMMqyPPi7RvL0p2awsH_C7ck&amp;s\"/>,\n",
       " <img alt=\"\" class=\"DS1iW\" src=\"https://encrypted-tbn0.gstatic.com/images?q=tbn:ANd9GcTsL-caaJz4DnYdpX4TQL9JsjFKS4l3okap287D3tZhiQKoj11diIhFlY6axMo&amp;s\"/>,\n",
       " <img alt=\"\" class=\"DS1iW\" src=\"https://encrypted-tbn0.gstatic.com/images?q=tbn:ANd9GcS7zvvZQI7T3XqJNXCf6x0gFowPzfMT_zfb_xRdL58ydnV6KxRXCpij4vhIwbI&amp;s\"/>]"
      ]
     },
     "execution_count": 22,
     "metadata": {},
     "output_type": "execute_result"
    }
   ],
   "source": [
    "images_tags"
   ]
  },
  {
   "cell_type": "code",
   "execution_count": 23,
   "metadata": {},
   "outputs": [
    {
     "ename": "ConfigurationError",
     "evalue": "Empty host (or extra comma in host list).",
     "output_type": "error",
     "traceback": [
      "\u001b[1;31m---------------------------------------------------------------------------\u001b[0m",
      "\u001b[1;31mConfigurationError\u001b[0m                        Traceback (most recent call last)",
      "Cell \u001b[1;32mIn[23], line 12\u001b[0m\n\u001b[0;32m      9\u001b[0m     \u001b[38;5;28;01mwith\u001b[39;00m \u001b[38;5;28mopen\u001b[39m(os\u001b[38;5;241m.\u001b[39mpath\u001b[38;5;241m.\u001b[39mjoin(save_dir, \u001b[38;5;124mf\u001b[39m\u001b[38;5;124m\"\u001b[39m\u001b[38;5;132;01m{\u001b[39;00mquery\u001b[38;5;132;01m}\u001b[39;00m\u001b[38;5;124m_\u001b[39m\u001b[38;5;132;01m{\u001b[39;00mimages_tags\u001b[38;5;241m.\u001b[39mindex(i)\u001b[38;5;132;01m}\u001b[39;00m\u001b[38;5;124m.jpg\u001b[39m\u001b[38;5;124m\"\u001b[39m), \u001b[38;5;124m\"\u001b[39m\u001b[38;5;124mwb\u001b[39m\u001b[38;5;124m\"\u001b[39m) \u001b[38;5;28;01mas\u001b[39;00m f:\n\u001b[0;32m     10\u001b[0m         f\u001b[38;5;241m.\u001b[39mwrite(image_date)\n\u001b[1;32m---> 12\u001b[0m client \u001b[38;5;241m=\u001b[39m pymongo\u001b[38;5;241m.\u001b[39mMongoClient(\u001b[38;5;124m\"\u001b[39m\u001b[38;5;124m\"\u001b[39m)\n",
      "File \u001b[1;32m~\\anaconda3\\Lib\\site-packages\\pymongo\\mongo_client.py:788\u001b[0m, in \u001b[0;36mMongoClient.__init__\u001b[1;34m(self, host, port, document_class, tz_aware, connect, type_registry, **kwargs)\u001b[0m\n\u001b[0;32m    786\u001b[0m         fqdn \u001b[38;5;241m=\u001b[39m res[\u001b[38;5;124m\"\u001b[39m\u001b[38;5;124mfqdn\u001b[39m\u001b[38;5;124m\"\u001b[39m]\n\u001b[0;32m    787\u001b[0m     \u001b[38;5;28;01melse\u001b[39;00m:\n\u001b[1;32m--> 788\u001b[0m         seeds\u001b[38;5;241m.\u001b[39mupdate(uri_parser\u001b[38;5;241m.\u001b[39msplit_hosts(entity, port))\n\u001b[0;32m    789\u001b[0m \u001b[38;5;28;01mif\u001b[39;00m \u001b[38;5;129;01mnot\u001b[39;00m seeds:\n\u001b[0;32m    790\u001b[0m     \u001b[38;5;28;01mraise\u001b[39;00m ConfigurationError(\u001b[38;5;124m\"\u001b[39m\u001b[38;5;124mneed to specify at least one host\u001b[39m\u001b[38;5;124m\"\u001b[39m)\n",
      "File \u001b[1;32m~\\anaconda3\\Lib\\site-packages\\pymongo\\uri_parser.py:386\u001b[0m, in \u001b[0;36msplit_hosts\u001b[1;34m(hosts, default_port)\u001b[0m\n\u001b[0;32m    384\u001b[0m \u001b[38;5;28;01mfor\u001b[39;00m entity \u001b[38;5;129;01min\u001b[39;00m hosts\u001b[38;5;241m.\u001b[39msplit(\u001b[38;5;124m\"\u001b[39m\u001b[38;5;124m,\u001b[39m\u001b[38;5;124m\"\u001b[39m):\n\u001b[0;32m    385\u001b[0m     \u001b[38;5;28;01mif\u001b[39;00m \u001b[38;5;129;01mnot\u001b[39;00m entity:\n\u001b[1;32m--> 386\u001b[0m         \u001b[38;5;28;01mraise\u001b[39;00m ConfigurationError(\u001b[38;5;124m\"\u001b[39m\u001b[38;5;124mEmpty host (or extra comma in host list).\u001b[39m\u001b[38;5;124m\"\u001b[39m)\n\u001b[0;32m    387\u001b[0m     port \u001b[38;5;241m=\u001b[39m default_port\n\u001b[0;32m    388\u001b[0m     \u001b[38;5;66;03m# Unix socket entities don't have ports\u001b[39;00m\n",
      "\u001b[1;31mConfigurationError\u001b[0m: Empty host (or extra comma in host list)."
     ]
    }
   ],
   "source": [
    "img_data_mongo = []\n",
    "\n",
    "for i in images_tags:\n",
    "    image_url  = i['src']\n",
    "    image_date = requests.get(image_url).content\n",
    "    mydict = {\"index\":image_url, \"image\":image_date}\n",
    "    img_data_mongo.append(mydict)\n",
    "    \n",
    "    with open(os.path.join(save_dir, f\"{query}_{images_tags.index(i)}.jpg\"), \"wb\") as f:\n",
    "        f.write(image_date)\n",
    "        \n",
    "client = pymongo.MongoClient(\"\")"
   ]
  },
  {
   "cell_type": "code",
   "execution_count": null,
   "metadata": {},
   "outputs": [],
   "source": []
  }
 ],
 "metadata": {
  "kernelspec": {
   "display_name": "Python 3 (ipykernel)",
   "language": "python",
   "name": "python3"
  }
 },
 "nbformat": 4,
 "nbformat_minor": 2
}
