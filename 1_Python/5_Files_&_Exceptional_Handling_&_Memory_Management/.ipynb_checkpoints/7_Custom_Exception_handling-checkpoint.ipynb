{
 "cells": [
  {
   "cell_type": "code",
   "execution_count": 1,
   "id": "612a0b04-e532-42d4-a611-3e25ddd5958b",
   "metadata": {
    "tags": []
   },
   "outputs": [
    {
     "name": "stdin",
     "output_type": "stream",
     "text": [
      "Enter your age:  -25\n"
     ]
    }
   ],
   "source": [
    "age = int(input(\"Enter your age: \"))"
   ]
  },
  {
   "cell_type": "markdown",
   "id": "d0ec99b4-247a-4e3c-9891-f7d62e894247",
   "metadata": {},
   "source": [
    "Here, you can see we have or user can entered negative age (- 25) but in real life age cannot be negative it must be positive.\n",
    "\n",
    "but for system this - (minus) or negative age considered to be correct so, for this we have to design custom Exceptions."
   ]
  },
  {
   "cell_type": "code",
   "execution_count": 2,
   "id": "4fd4ed29-3383-4159-ab3d-5ac74df1ede3",
   "metadata": {
    "tags": []
   },
   "outputs": [],
   "source": [
    "class Validate_age(Exception):\n",
    "    \n",
    "    def __init__(self, msg):\n",
    "        self.msg = msg"
   ]
  },
  {
   "cell_type": "code",
   "execution_count": 3,
   "id": "f7c3b424-bc0d-4b46-b9dc-50d9f353ed9c",
   "metadata": {
    "tags": []
   },
   "outputs": [],
   "source": [
    "def validate_age(age):\n",
    "    if age < 0 :\n",
    "        raise Validate_age(\"entered age is negative \")\n",
    "    elif age > 200:\n",
    "        raise Validate_age(\"enetered age is too high \")\n",
    "    else:\n",
    "        print(\"age is vaild\")"
   ]
  },
  {
   "cell_type": "code",
   "execution_count": 4,
   "id": "f5e08461-b3ad-4026-b37b-7f72488d6f03",
   "metadata": {
    "tags": []
   },
   "outputs": [
    {
     "name": "stdin",
     "output_type": "stream",
     "text": [
      "Enter your age:  -254\n"
     ]
    },
    {
     "name": "stdout",
     "output_type": "stream",
     "text": [
      "entered age is negative \n"
     ]
    }
   ],
   "source": [
    "try:\n",
    "    age=int(input(\"Enter your age: \"))\n",
    "    validate_age(age)\n",
    "except Validate_age as e:\n",
    "    print(e)"
   ]
  },
  {
   "cell_type": "code",
   "execution_count": 5,
   "id": "44a9dc65-dce3-461b-b853-fdcac191ba1f",
   "metadata": {
    "tags": []
   },
   "outputs": [
    {
     "name": "stdin",
     "output_type": "stream",
     "text": [
      "Enter your age:  254\n"
     ]
    },
    {
     "name": "stdout",
     "output_type": "stream",
     "text": [
      "enetered age is too high \n"
     ]
    }
   ],
   "source": [
    "try:\n",
    "    age=int(input(\"Enter your age: \"))\n",
    "    validate_age(age)\n",
    "except Validate_age as e:\n",
    "    print(e)"
   ]
  },
  {
   "cell_type": "code",
   "execution_count": 6,
   "id": "c388748d-3fd1-43ae-9e6b-133eb35ca13b",
   "metadata": {
    "tags": []
   },
   "outputs": [
    {
     "name": "stdin",
     "output_type": "stream",
     "text": [
      "Enter your age:  26\n"
     ]
    },
    {
     "name": "stdout",
     "output_type": "stream",
     "text": [
      "age is vaild\n"
     ]
    }
   ],
   "source": [
    "try:\n",
    "    age=int(input(\"Enter your age: \"))\n",
    "    validate_age(age)\n",
    "except Validate_age as e:\n",
    "    print(e)"
   ]
  }
 ],
 "metadata": {
  "kernelspec": {
   "display_name": "Python 3 (ipykernel)",
   "language": "python",
   "name": "python3"
  },
  "language_info": {
   "codemirror_mode": {
    "name": "ipython",
    "version": 3
   },
   "file_extension": ".py",
   "mimetype": "text/x-python",
   "name": "python",
   "nbconvert_exporter": "python",
   "pygments_lexer": "ipython3",
   "version": "3.11.3"
  }
 },
 "nbformat": 4,
 "nbformat_minor": 5
}
