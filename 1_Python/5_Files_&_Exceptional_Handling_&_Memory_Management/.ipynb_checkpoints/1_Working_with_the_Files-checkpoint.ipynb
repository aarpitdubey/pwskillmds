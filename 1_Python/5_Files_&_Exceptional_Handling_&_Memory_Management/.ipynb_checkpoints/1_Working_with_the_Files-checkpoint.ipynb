{
 "cells": [
  {
   "cell_type": "code",
   "execution_count": 1,
   "id": "863202b4-4444-49cd-98fe-dfb121af119a",
   "metadata": {
    "tags": []
   },
   "outputs": [],
   "source": [
    "#open() is an in-built function use to create, execute various operation in files \n",
    "f = open(\"test.txt\", 'w') "
   ]
  },
  {
   "cell_type": "code",
   "execution_count": 2,
   "id": "61e2281b-94fe-4e44-81ac-84493a76f5e3",
   "metadata": {
    "tags": []
   },
   "outputs": [
    {
     "data": {
      "text/plain": [
       "'E:\\\\AnacondaWorkspace\\\\pwskillmds\\\\1_Python\\\\5_Files_&_Exceptional_Handling_&_Memory_Management'"
      ]
     },
     "execution_count": 2,
     "metadata": {},
     "output_type": "execute_result"
    }
   ],
   "source": [
    "pwd"
   ]
  },
  {
   "cell_type": "code",
   "execution_count": 3,
   "id": "6dd4af53-1414-4e91-b724-0c55877e3f28",
   "metadata": {
    "tags": []
   },
   "outputs": [
    {
     "name": "stdout",
     "output_type": "stream",
     "text": [
      " Volume in drive E is New Volume\n",
      " Volume Serial Number is FC35-E134\n",
      "\n",
      " Directory of E:\\AnacondaWorkspace\\pwskillmds\\1_Python\\5_Files_&_Exceptional_Handling_&_Memory_Management\n",
      "\n",
      "12/23/2023  02:51 PM    <DIR>          .\n",
      "12/23/2023  02:51 PM    <DIR>          ..\n",
      "12/23/2023  02:51 PM    <DIR>          .ipynb_checkpoints\n",
      "12/23/2023  02:49 PM            10,174 1_Working_with_the_Files.ipynb\n",
      "12/23/2023  02:49 PM               722 backup.txt\n",
      "12/23/2023  02:50 PM               722 datascience.txt\n",
      "12/23/2023  02:46 PM               722 pwskills.txt\n",
      "12/23/2023  02:51 PM                 0 test.txt\n",
      "               5 File(s)         12,340 bytes\n",
      "               3 Dir(s)  180,861,980,672 bytes free\n"
     ]
    }
   ],
   "source": [
    "ls"
   ]
  },
  {
   "cell_type": "code",
   "execution_count": 4,
   "id": "1307efca-af61-4258-85a6-9f2f6d4d17d9",
   "metadata": {
    "tags": []
   },
   "outputs": [
    {
     "data": {
      "text/plain": [
       "30"
      ]
     },
     "execution_count": 4,
     "metadata": {},
     "output_type": "execute_result"
    }
   ],
   "source": [
    "f.write(\"This is my first file to write\")"
   ]
  },
  {
   "cell_type": "code",
   "execution_count": 5,
   "id": "96004a2a-68b1-4ec6-bdd2-12b20eeabbea",
   "metadata": {
    "tags": []
   },
   "outputs": [],
   "source": [
    "f.close()"
   ]
  },
  {
   "cell_type": "code",
   "execution_count": 6,
   "id": "78d3cd03-eb24-4d10-ad2a-f6ead5421cd5",
   "metadata": {},
   "outputs": [],
   "source": [
    "f = open('test.txt', 'a')"
   ]
  },
  {
   "cell_type": "code",
   "execution_count": 7,
   "id": "c2661e30-cf80-4620-b2bc-a8b653faf5ee",
   "metadata": {
    "tags": []
   },
   "outputs": [
    {
     "data": {
      "text/plain": [
       "692"
      ]
     },
     "execution_count": 7,
     "metadata": {},
     "output_type": "execute_result"
    }
   ],
   "source": [
    "f.write(\" about: Data Science involves collecting, processing, and analyzing data to uncover valuable insights, patterns, and knowledge, using statistical and computational techniques. It's applied across various fields to enhance decision-making, optimize processes, and develop predictive models Embark on a transformative learning journey with our 'Python and Machine Learning Essentials' course. Delve into the foundations of Python programming and seamlessly transition into the fascinating world of machine learning. This course is designed for individuals with a keen interest in machine learning and a desire to harness the power of Python for creating intelligent and, impactful applications.\")"
   ]
  },
  {
   "cell_type": "code",
   "execution_count": 8,
   "id": "99b6db26-0a71-4b09-88ba-77e8a02bcb6f",
   "metadata": {},
   "outputs": [],
   "source": [
    "f.close()"
   ]
  },
  {
   "cell_type": "code",
   "execution_count": 9,
   "id": "80faa0f8-6744-474b-8bdd-cae6d7c38616",
   "metadata": {
    "tags": []
   },
   "outputs": [],
   "source": [
    "data = open(\"test.txt\", \"r\")"
   ]
  },
  {
   "cell_type": "code",
   "execution_count": 10,
   "id": "1446a05d-54ca-4098-873a-a9ef4415f5c1",
   "metadata": {
    "tags": []
   },
   "outputs": [
    {
     "data": {
      "text/plain": [
       "\"This is my first file to write about: Data Science involves collecting, processing, and analyzing data to uncover valuable insights, patterns, and knowledge, using statistical and computational techniques. It's applied across various fields to enhance decision-making, optimize processes, and develop predictive models Embark on a transformative learning journey with our 'Python and Machine Learning Essentials' course. Delve into the foundations of Python programming and seamlessly transition into the fascinating world of machine learning. This course is designed for individuals with a keen interest in machine learning and a desire to harness the power of Python for creating intelligent and, impactful applications.\""
      ]
     },
     "execution_count": 10,
     "metadata": {},
     "output_type": "execute_result"
    }
   ],
   "source": [
    "data.read()"
   ]
  },
  {
   "cell_type": "code",
   "execution_count": 11,
   "id": "62ef2042-e3d5-4680-87b3-8927c368031c",
   "metadata": {
    "tags": []
   },
   "outputs": [],
   "source": [
    "data.close()"
   ]
  },
  {
   "cell_type": "code",
   "execution_count": 12,
   "id": "6e6fb6cd-04f7-4668-a3a3-e06f71130697",
   "metadata": {
    "tags": []
   },
   "outputs": [],
   "source": [
    "import os"
   ]
  },
  {
   "cell_type": "code",
   "execution_count": 13,
   "id": "25fb2465-14f7-4efd-8d90-cb6884a58f84",
   "metadata": {
    "tags": []
   },
   "outputs": [
    {
     "data": {
      "text/plain": [
       "722"
      ]
     },
     "execution_count": 13,
     "metadata": {},
     "output_type": "execute_result"
    }
   ],
   "source": [
    "os.path.getsize(\"test.txt\")"
   ]
  },
  {
   "cell_type": "code",
   "execution_count": 14,
   "id": "f75617df-401f-4fbd-bce2-80951f59ebd2",
   "metadata": {
    "tags": []
   },
   "outputs": [],
   "source": [
    "os.remove(\"test.txt\")"
   ]
  },
  {
   "cell_type": "code",
   "execution_count": 15,
   "id": "b0fc5ba8-add1-476f-b26c-dc044ebb2a60",
   "metadata": {
    "tags": []
   },
   "outputs": [],
   "source": [
    "f = open('datascience.txt', 'w')"
   ]
  },
  {
   "cell_type": "code",
   "execution_count": 16,
   "id": "c70b5300-299a-4c05-863c-d1d43b56001a",
   "metadata": {
    "tags": []
   },
   "outputs": [
    {
     "data": {
      "text/plain": [
       "722"
      ]
     },
     "execution_count": 16,
     "metadata": {},
     "output_type": "execute_result"
    }
   ],
   "source": [
    "f.write(\"This is my first file to write about: Data Science involves collecting, processing, and analyzing data to uncover valuable insights, patterns, and knowledge, using statistical and computational techniques. It's applied across various fields to enhance decision-making, optimize processes, and develop predictive models Embark on a transformative learning journey with our 'Python and Machine Learning Essentials' course. Delve into the foundations of Python programming and seamlessly transition into the fascinating world of machine learning. This course is designed for individuals with a keen interest in machine learning and a desire to harness the power of Python for creating intelligent and, impactful applications.\")"
   ]
  },
  {
   "cell_type": "code",
   "execution_count": 17,
   "id": "b749a138-69d5-4fe8-a8ac-2f5068a86b49",
   "metadata": {
    "tags": []
   },
   "outputs": [],
   "source": [
    "f.close()"
   ]
  },
  {
   "cell_type": "code",
   "execution_count": 18,
   "id": "ec5d4977-4451-4ef5-bf5c-d03a893d1354",
   "metadata": {
    "tags": []
   },
   "outputs": [],
   "source": [
    "os.rename('datascience.txt', 'pwskills.txt')"
   ]
  },
  {
   "cell_type": "code",
   "execution_count": 19,
   "id": "761d70a5-cf52-4cdc-b694-e8d2780131c8",
   "metadata": {
    "tags": []
   },
   "outputs": [],
   "source": [
    "import shutil"
   ]
  },
  {
   "cell_type": "code",
   "execution_count": 20,
   "id": "2868ac2b-17d8-4e29-9582-74ddb7bfc1cb",
   "metadata": {
    "tags": []
   },
   "outputs": [
    {
     "data": {
      "text/plain": [
       "'backup.txt'"
      ]
     },
     "execution_count": 20,
     "metadata": {},
     "output_type": "execute_result"
    }
   ],
   "source": [
    "shutil.copy('pwskills.txt', 'backup.txt')"
   ]
  },
  {
   "cell_type": "code",
   "execution_count": 21,
   "id": "c8433b69-a044-4779-bb06-59e0d6e4046e",
   "metadata": {
    "tags": []
   },
   "outputs": [
    {
     "name": "stdout",
     "output_type": "stream",
     "text": [
      "This is my first file to write about: Data Science involves collecting, processing, and analyzing data to uncover valuable insights, patterns, and knowledge, using statistical and computational techniques. It's applied across various fields to enhance decision-making, optimize processes, and develop predictive models Embark on a transformative learning journey with our 'Python and Machine Learning Essentials' course. Delve into the foundations of Python programming and seamlessly transition into the fascinating world of machine learning. This course is designed for individuals with a keen interest in machine learning and a desire to harness the power of Python for creating intelligent and, impactful applications.\n"
     ]
    }
   ],
   "source": [
    "with open('pwskills.txt', 'r') as f:\n",
    "    print(f.read())"
   ]
  },
  {
   "cell_type": "code",
   "execution_count": 22,
   "id": "e663e756-9d1e-4fb4-9f27-03c3b8868159",
   "metadata": {
    "tags": []
   },
   "outputs": [
    {
     "name": "stdout",
     "output_type": "stream",
     "text": [
      "This is my first file to write about: Data Science involves collecting, processing, and analyzing data to uncover valuable insights, patterns, and knowledge, using statistical and computational techniques. It's applied across various fields to enhance decision-making, optimize processes, and develop predictive models Embark on a transformative learning journey with our 'Python and Machine Learning Essentials' course. Delve into the foundations of Python programming and seamlessly transition into the fascinating world of machine learning. This course is designed for individuals with a keen interest in machine learning and a desire to harness the power of Python for creating intelligent and, impactful applications.\n"
     ]
    }
   ],
   "source": [
    "with open('backup.txt', 'r') as f:\n",
    "    print(f.read())"
   ]
  }
 ],
 "metadata": {
  "kernelspec": {
   "display_name": "Python 3 (ipykernel)",
   "language": "python",
   "name": "python3"
  },
  "language_info": {
   "codemirror_mode": {
    "name": "ipython",
    "version": 3
   },
   "file_extension": ".py",
   "mimetype": "text/x-python",
   "name": "python",
   "nbconvert_exporter": "python",
   "pygments_lexer": "ipython3",
   "version": "3.11.3"
  }
 },
 "nbformat": 4,
 "nbformat_minor": 5
}
