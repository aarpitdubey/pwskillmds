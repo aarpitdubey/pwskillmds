{
 "cells": [
  {
   "cell_type": "code",
   "execution_count": null,
   "id": "8b57a5c1-b9b1-4dbc-a14b-42f0a488f318",
   "metadata": {
    "tags": []
   },
   "outputs": [],
   "source": [
    "import logging"
   ]
  },
  {
   "cell_type": "code",
   "execution_count": null,
   "id": "ed9164cd-75af-413a-b08b-357b5972cfff",
   "metadata": {
    "tags": []
   },
   "outputs": [],
   "source": [
    "# Step 2: Set up the basic confrigurations\n",
    "\n",
    "logging.basicConfig(filename = \"test.log\", level = logging.INFO)"
   ]
  },
  {
   "cell_type": "code",
   "execution_count": null,
   "id": "7bc9b56a-37e0-47fa-95e7-e7218ef1721b",
   "metadata": {
    "tags": []
   },
   "outputs": [],
   "source": [
    "logging.info(\"log this line of execution\")"
   ]
  },
  {
   "cell_type": "code",
   "execution_count": null,
   "id": "85057111-73af-430a-b32e-c616b5094c5d",
   "metadata": {
    "tags": []
   },
   "outputs": [],
   "source": [
    "logging.info(\"This is my print statement\")"
   ]
  },
  {
   "cell_type": "code",
   "execution_count": null,
   "id": "1de122bb-813a-4314-9a72-c4485f957759",
   "metadata": {
    "tags": []
   },
   "outputs": [],
   "source": [
    "logging.debug(\"This is debug msg\") # because level=logging.INFo so, logging.debug is not logged!"
   ]
  },
  {
   "cell_type": "code",
   "execution_count": null,
   "id": "31a7e486-a32e-40cb-8bb4-9f6b9597bbbb",
   "metadata": {
    "tags": []
   },
   "outputs": [],
   "source": [
    "logging.warning(\"This is a warning message!\")"
   ]
  },
  {
   "cell_type": "markdown",
   "id": "709572d0-fbdc-4380-9b88-c6af2a44e0df",
   "metadata": {},
   "source": [
    "1. NOTSET\n",
    "2. DEBUG\n",
    "3. INFO\n",
    "4. WARNING\n",
    "5. ERROR\n",
    "6. CRITICAL"
   ]
  },
  {
   "cell_type": "code",
   "execution_count": null,
   "id": "21be2c76-ba65-44fe-b31f-7fc70b81a170",
   "metadata": {
    "tags": []
   },
   "outputs": [],
   "source": [
    "logging.error(\"This is my error message\")"
   ]
  },
  {
   "cell_type": "code",
   "execution_count": null,
   "id": "b65f7106-8359-4950-b958-383264d6376b",
   "metadata": {
    "tags": []
   },
   "outputs": [],
   "source": [
    "logging.critical(\"This is a critical message\")"
   ]
  },
  {
   "cell_type": "code",
   "execution_count": null,
   "id": "06fb7b8f-5a88-45e5-9cef-1f3963172774",
   "metadata": {
    "tags": []
   },
   "outputs": [],
   "source": [
    "logging.shutdown()"
   ]
  },
  {
   "cell_type": "code",
   "execution_count": null,
   "id": "9b418bf1-eb8e-4c56-abd8-ec4b0a73c208",
   "metadata": {
    "tags": []
   },
   "outputs": [],
   "source": [
    "import logging"
   ]
  },
  {
   "cell_type": "code",
   "execution_count": null,
   "id": "23aa8c95-501b-49b3-b945-3ae98a70a706",
   "metadata": {
    "tags": []
   },
   "outputs": [],
   "source": [
    "logging.basicConfig(filename = \"file.log\", level=logging.DEBUG, format = '%(asctime)s %(message)s')"
   ]
  },
  {
   "cell_type": "code",
   "execution_count": null,
   "id": "013992c1-5251-4976-8010-69b58937a419",
   "metadata": {
    "tags": []
   },
   "outputs": [],
   "source": [
    "logging.info(\"This is my info logging\")\n",
    "logging.error(\"This is my error message\")\n",
    "logging.critical(\"This is a critical message\")"
   ]
  },
  {
   "cell_type": "code",
   "execution_count": null,
   "id": "4e43781f-c0a8-431c-a3a5-6cfe8415b84d",
   "metadata": {
    "tags": []
   },
   "outputs": [],
   "source": [
    "logging.shutdown()"
   ]
  },
  {
   "cell_type": "code",
   "execution_count": null,
   "id": "c861882f-9cce-4e03-99d3-683810c00823",
   "metadata": {
    "tags": []
   },
   "outputs": [],
   "source": [
    "import logging"
   ]
  },
  {
   "cell_type": "code",
   "execution_count": null,
   "id": "9535b3cd-93ed-4bc3-b356-98012fc015f0",
   "metadata": {
    "tags": []
   },
   "outputs": [],
   "source": [
    "logging.basicConfig(filename = \"ProperLogging.log\", level = logging.DEBUG, format = '%(asctime)s %(name)s %(levelname)s - %(message)s')"
   ]
  },
  {
   "cell_type": "code",
   "execution_count": null,
   "id": "6efe39bb-5213-4b28-b7be-c50ccf2ee1f9",
   "metadata": {
    "tags": []
   },
   "outputs": [],
   "source": [
    "logging.info(\"This is my info logging\")\n",
    "logging.error(\"This is my error message\")\n",
    "logging.critical(\"This is my critical message\")"
   ]
  },
  {
   "cell_type": "code",
   "execution_count": null,
   "id": "fec7072e-3ff7-4ca0-ae6e-0f5f3f0e21c4",
   "metadata": {
    "tags": []
   },
   "outputs": [],
   "source": [
    "logging.shutdown()"
   ]
  },
  {
   "cell_type": "code",
   "execution_count": 1,
   "id": "c14ecc0f-5b02-4c0c-95f4-ede72f930a38",
   "metadata": {
    "tags": []
   },
   "outputs": [],
   "source": [
    "import logging"
   ]
  },
  {
   "cell_type": "code",
   "execution_count": 2,
   "id": "ce5399a5-4eae-42ff-947d-c2f0d9fa99e8",
   "metadata": {
    "tags": []
   },
   "outputs": [],
   "source": [
    "logging.basicConfig(filename = \"listOps.log\", level = logging.DEBUG, format = '%(asctime)s %(name)s %(levelname)s - \"%(message)s\"')"
   ]
  },
  {
   "cell_type": "code",
   "execution_count": 3,
   "id": "c6eac8fa-99fb-4dc1-aae0-25da78f13f73",
   "metadata": {
    "tags": []
   },
   "outputs": [],
   "source": [
    "lst = [1, 2, 3, 43,5, [2, 3, 4], \"Arpit\", \"Dubey\"]"
   ]
  },
  {
   "cell_type": "code",
   "execution_count": 4,
   "id": "ac0c0e33-2f0d-4f6b-86af-579b2294aaaf",
   "metadata": {
    "tags": []
   },
   "outputs": [],
   "source": [
    "num_list = []\n",
    "str_list = []\n",
    "\n",
    "for i in lst:\n",
    "    logging.info(\"We are iterating through our list and our local var is i\")\n",
    "    if type(i) == list:\n",
    "        logging.info(\"I am inside if statement and I am trying to check list type\")\n",
    "        for j in  i:\n",
    "            logging.info(\"I am in another for loop for list inside list element\")\n",
    "            if type(j) == int:\n",
    "                logging.info(\"I am inside if statement\")\n",
    "                num_list.append(j)\n",
    "    elif type(i) == int:\n",
    "        logging.info(\"I am inside elif statement\")\n",
    "        num_list.append(i)\n",
    "    else:\n",
    "        logging.info(\"I am inside else statement\")\n",
    "        if type(i) == str:\n",
    "            str_list.append(i) "
   ]
  }
 ],
 "metadata": {
  "kernelspec": {
   "display_name": "Python 3 (ipykernel)",
   "language": "python",
   "name": "python3"
  },
  "language_info": {
   "codemirror_mode": {
    "name": "ipython",
    "version": 3
   },
   "file_extension": ".py",
   "mimetype": "text/x-python",
   "name": "python",
   "nbconvert_exporter": "python",
   "pygments_lexer": "ipython3",
   "version": "3.11.3"
  }
 },
 "nbformat": 4,
 "nbformat_minor": 5
}
