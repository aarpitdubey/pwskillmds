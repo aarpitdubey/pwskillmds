{
 "cells": [
  {
   "cell_type": "markdown",
   "id": "f2532b22-19cf-4a78-8dcd-45dbb575aef9",
   "metadata": {},
   "source": [
    "Buffer Mode: Read and Write file using `Chunk System`."
   ]
  },
  {
   "cell_type": "code",
   "execution_count": 1,
   "id": "54be8c81-606e-4181-b61d-4d2d3ac6ae1d",
   "metadata": {
    "tags": []
   },
   "outputs": [],
   "source": [
    "import io"
   ]
  },
  {
   "cell_type": "code",
   "execution_count": 2,
   "id": "0309e712-b17f-421e-93b5-f87028551515",
   "metadata": {
    "tags": []
   },
   "outputs": [],
   "source": [
    "with open(\"buffer.txt\", 'wb') as f:\n",
    "    file = io.BufferedWriter(f)\n",
    "    \n",
    "    file.write(b\"Data Science involves collecting, processing, and analyzing data to uncover valuable insights, patterns, and knowledge, using statistical and computational techniques. It's applied across various fields to enhance decision-making, optimize processes, and develop predictive models Embark on a transformative learning journey with our 'Python and Machine Learning Essentials' course. Delve into the foundations of Python programming and seamlessly transition into the fascinating world of machine learning. This course is designed for individuals with a keen interest in machine learning and a desire to harness the power of Python for creating intelligent and, impactful applications.\\n\")\n",
    "    file.write(b\"This is my 2nd line.\\n\")\n",
    "    \n",
    "    file.flush()"
   ]
  },
  {
   "cell_type": "code",
   "execution_count": 3,
   "id": "a32a441f-0957-4863-9f49-763036e8f4cf",
   "metadata": {
    "tags": []
   },
   "outputs": [
    {
     "name": "stdout",
     "output_type": "stream",
     "text": [
      "b\"Data Science involves collecting, processing, and analyzing data to uncover valuable insights, patterns, and knowledge, using statistical and computational techniques. It's applied across various fields to enhance decision-making, optimize processes, and develop predictive models Embark on a transformative learning journey with our 'Python and Machine Learning Essentials' course. Delve into the foundations of Python programming and seamlessly transition into the fascinating world of machine learning. This course is designed for individuals with a keen interest in machine learning and a desire to harness the power of Python for creating intelligent and, impactful applications.\\nThis is my 2nd line.\\n\"\n"
     ]
    }
   ],
   "source": [
    "with open(\"buffer.txt\", \"rb\") as f:\n",
    "    \n",
    "    file = io.BufferedReader(f)\n",
    "    data = file.read()\n",
    "    print(data)"
   ]
  },
  {
   "cell_type": "code",
   "execution_count": 4,
   "id": "3738662f-b204-4b65-bacd-65bb646eba34",
   "metadata": {
    "tags": []
   },
   "outputs": [
    {
     "name": "stdout",
     "output_type": "stream",
     "text": [
      "b'Data Science involves collecting, processing, and '\n"
     ]
    }
   ],
   "source": [
    "with open(\"buffer.txt\", \"rb\") as f:\n",
    "    \n",
    "    file = io.BufferedReader(f)\n",
    "    data_50 = file.read(50)\n",
    "    print(data_50)"
   ]
  },
  {
   "cell_type": "code",
   "execution_count": 5,
   "id": "3b528d64-2209-4eac-8c8c-970f48e499fb",
   "metadata": {
    "tags": []
   },
   "outputs": [
    {
     "name": "stdout",
     "output_type": "stream",
     "text": [
      "b'Data Science involves collecting, processing, and analyzing data to uncover valuable insights, patte'\n"
     ]
    }
   ],
   "source": [
    "with open(\"buffer.txt\", \"rb\") as f:\n",
    "    \n",
    "    file = io.BufferedReader(f)\n",
    "    data_100 = file.read(100)\n",
    "    print(data_100)"
   ]
  },
  {
   "cell_type": "code",
   "execution_count": 6,
   "id": "a21498b8-7e17-424d-bc60-7d37ae656bdb",
   "metadata": {
    "tags": []
   },
   "outputs": [
    {
     "name": "stdout",
     "output_type": "stream",
     "text": [
      "b\"Data Science involves collecting, processing, and analyzing data to uncover valuable insights, patterns, and knowledge, using statistical and computational techniques. It's applied across various fiel\"\n"
     ]
    }
   ],
   "source": [
    "with open(\"buffer.txt\", \"rb\") as f:\n",
    "    \n",
    "    file = io.BufferedReader(f)\n",
    "    data_200 = file.read(200)\n",
    "    print(data_200)"
   ]
  },
  {
   "cell_type": "code",
   "execution_count": 7,
   "id": "88183233-d34e-458d-9115-5f40814ee26b",
   "metadata": {
    "tags": []
   },
   "outputs": [
    {
     "name": "stdout",
     "output_type": "stream",
     "text": [
      "b\"Data Science involves collecting, processing, and analyzing data to uncover valuable insights, patterns, and knowledge, using statistical and computational techniques. It's applied across various fields to enhance decision-making, optimize processes, and develop predictive models Embark on a transfo\"\n"
     ]
    }
   ],
   "source": [
    "with open(\"buffer.txt\", \"rb\") as f:\n",
    "    \n",
    "    file = io.BufferedReader(f)\n",
    "    data_300 = file.read(300)\n",
    "    print(data_300)"
   ]
  },
  {
   "cell_type": "code",
   "execution_count": 8,
   "id": "31b643ba-465c-4e3a-a74b-69fd4596a99c",
   "metadata": {
    "tags": []
   },
   "outputs": [
    {
     "name": "stdout",
     "output_type": "stream",
     "text": [
      "b\"Data Science involves collecting, processing, and analyzing data to uncover valuable insights, patterns, and knowledge, using statistical and computational techniques. It's applied across various fields to enhance decision-making, optimize processes, and develop predictive models Embark on a transformative learning journey with our 'Python and Machine Learning Essentials' course. Delve into the foundations of Python programming and seamlessly transition into the fascinating world of machine learning.\"\n"
     ]
    }
   ],
   "source": [
    "with open(\"buffer.txt\", \"rb\") as f:\n",
    "    \n",
    "    file = io.BufferedReader(f)\n",
    "    data_505 = file.read(505)\n",
    "    print(data_505)"
   ]
  }
 ],
 "metadata": {
  "kernelspec": {
   "display_name": "Python 3 (ipykernel)",
   "language": "python",
   "name": "python3"
  },
  "language_info": {
   "codemirror_mode": {
    "name": "ipython",
    "version": 3
   },
   "file_extension": ".py",
   "mimetype": "text/x-python",
   "name": "python",
   "nbconvert_exporter": "python",
   "pygments_lexer": "ipython3",
   "version": "3.11.3"
  }
 },
 "nbformat": 4,
 "nbformat_minor": 5
}
