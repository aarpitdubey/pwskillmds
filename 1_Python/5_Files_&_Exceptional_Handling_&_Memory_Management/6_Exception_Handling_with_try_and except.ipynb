{
 "cells": [
  {
   "cell_type": "code",
   "execution_count": 1,
   "id": "17c46e5b-480a-4261-a93d-1c449b1a17af",
   "metadata": {},
   "outputs": [
    {
     "name": "stdout",
     "output_type": "stream",
     "text": [
      "This is my except Block.\n",
      "This error we got is :  [Errno 2] No such file or directory: 'test.txt'\n",
      "\n",
      "Let's perform some saadition operation after getting an error\n",
      " a = b + c = 10 \n"
     ]
    }
   ],
   "source": [
    "try:\n",
    "    f = open('test.txt', 'r')\n",
    "except Exception as e:\n",
    "    print(\"This is my except Block.\\nThis error we got is : \", e)\n",
    "\n",
    "b, c = 4, 6\n",
    "a = b + c    \n",
    "print(f\"\\nLet's perform some saadition operation after getting an error\\n a = b + c = {a} \")\n",
    "\n",
    "    "
   ]
  },
  {
   "cell_type": "code",
   "execution_count": 2,
   "id": "fc4670a5-9676-47b0-9705-cefbb6731793",
   "metadata": {
    "tags": []
   },
   "outputs": [],
   "source": [
    "try:\n",
    "    f = open(\"NOerr.txt\", 'w')\n",
    "    f.write(\"Write in my file NOerr.txt\")\n",
    "    f.close()\n",
    "except Exception as e:\n",
    "    print(\"This is my except block\\nGetting this error : \", e)"
   ]
  },
  {
   "cell_type": "code",
   "execution_count": 3,
   "id": "28a6fc78-e703-4c3d-babb-beeee6bf3a87",
   "metadata": {
    "tags": []
   },
   "outputs": [
    {
     "name": "stdout",
     "output_type": "stream",
     "text": [
      "this will be executed once your try will executed without error\n"
     ]
    }
   ],
   "source": [
    "try:\n",
    "    f = open(\"NOerr2.txt\", 'w')\n",
    "    f.write(\"Write in my file NOerr2.txt\")\n",
    "    f.close()\n",
    "except Exception as e:\n",
    "    print(\"This is my except block\\nGetting this error : \", e)\n",
    "else:\n",
    "    f.close()\n",
    "    print(\"this will be executed once your try will executed without error\")"
   ]
  },
  {
   "cell_type": "code",
   "execution_count": 4,
   "id": "90832c84-d3a5-4297-8431-cae413d3eebb",
   "metadata": {
    "tags": []
   },
   "outputs": [
    {
     "name": "stdout",
     "output_type": "stream",
     "text": [
      "This is my except block\n",
      "Getting this error :  [Errno 2] No such file or directory: 'test1.txt'\n"
     ]
    }
   ],
   "source": [
    "try:\n",
    "    f = open(\"test1.txt\", 'r')\n",
    "    f.write(\"Write in my file test1.txt\")\n",
    "    f.close()\n",
    "except Exception as e:\n",
    "    print(\"This is my except block\\nGetting this error : \", e)\n",
    "else:\n",
    "    f.close()\n",
    "    print(\"this will be executed once your try will executed without error\")"
   ]
  },
  {
   "cell_type": "code",
   "execution_count": 5,
   "id": "020d7b78-96dd-4b4a-aba6-3ba0a7dd27a6",
   "metadata": {
    "tags": []
   },
   "outputs": [
    {
     "name": "stdout",
     "output_type": "stream",
     "text": [
      "Finally, will executre itself in any situation\n"
     ]
    }
   ],
   "source": [
    "try: \n",
    "    f = open(\"test2.txt\", 'w')\n",
    "    f.write(\"Write something in file test2.txt\")\n",
    "finally:\n",
    "    print(\"Finally, will executre itself in any situation\")"
   ]
  }
 ],
 "metadata": {
  "kernelspec": {
   "display_name": "Python 3 (ipykernel)",
   "language": "python",
   "name": "python3"
  },
  "language_info": {
   "codemirror_mode": {
    "name": "ipython",
    "version": 3
   },
   "file_extension": ".py",
   "mimetype": "text/x-python",
   "name": "python",
   "nbconvert_exporter": "python",
   "pygments_lexer": "ipython3",
   "version": "3.11.3"
  }
 },
 "nbformat": 4,
 "nbformat_minor": 5
}
