{
 "cells": [
  {
   "cell_type": "code",
   "execution_count": 1,
   "id": "519d2c11-d618-409a-8565-9e74fff174ce",
   "metadata": {
    "tags": []
   },
   "outputs": [],
   "source": [
    "import threading"
   ]
  },
  {
   "cell_type": "code",
   "execution_count": 2,
   "id": "7679b0d4-589e-4d72-b6dc-2beed912612b",
   "metadata": {
    "tags": []
   },
   "outputs": [],
   "source": [
    "def test(id):\n",
    "    print(\"Program start %d \"% id)"
   ]
  },
  {
   "cell_type": "code",
   "execution_count": 3,
   "id": "70c88939-86df-4999-a38a-84d7416c03a4",
   "metadata": {
    "tags": []
   },
   "outputs": [
    {
     "name": "stdout",
     "output_type": "stream",
     "text": [
      "Program start 45 \n"
     ]
    }
   ],
   "source": [
    "test(45)"
   ]
  },
  {
   "cell_type": "code",
   "execution_count": 4,
   "id": "87cd87a0-2e27-4eb1-940c-af5101aaf29a",
   "metadata": {
    "tags": []
   },
   "outputs": [],
   "source": [
    "thread = [threading.Thread(target=test, args=(i,) ) for i in range(10)]"
   ]
  },
  {
   "cell_type": "code",
   "execution_count": 5,
   "id": "e54c33bd-4436-494c-bbc7-07bfc7523489",
   "metadata": {
    "tags": []
   },
   "outputs": [
    {
     "name": "stdout",
     "output_type": "stream",
     "text": [
      "Program start 0 \n",
      "Program start 1 \n",
      "Program start 2 \n",
      "Program start 3 \n",
      "Program start 4 \n",
      "Program start 5 \n",
      "Program start 6 \n",
      "Program start 7 \n",
      "Program start 8 \n",
      "Program start 9 \n"
     ]
    }
   ],
   "source": [
    "for t in thread:\n",
    "    t.start()"
   ]
  },
  {
   "cell_type": "code",
   "execution_count": 6,
   "id": "4a75a24b-e795-44e9-b8a8-9bbb64ccca30",
   "metadata": {
    "tags": []
   },
   "outputs": [
    {
     "data": {
      "text/plain": [
       "[0, 1, 2, 3, 4, 5, 6, 7, 8, 9]"
      ]
     },
     "execution_count": 6,
     "metadata": {},
     "output_type": "execute_result"
    }
   ],
   "source": [
    "list(range(10))"
   ]
  },
  {
   "cell_type": "code",
   "execution_count": 7,
   "id": "ee9d8ea6-b2fe-41b0-9337-a52fa237b60c",
   "metadata": {
    "tags": []
   },
   "outputs": [
    {
     "data": {
      "text/plain": [
       "[<Thread(Thread-5 (test), stopped 4548)>,\n",
       " <Thread(Thread-6 (test), stopped 7240)>,\n",
       " <Thread(Thread-7 (test), stopped 784)>,\n",
       " <Thread(Thread-8 (test), stopped 13576)>,\n",
       " <Thread(Thread-9 (test), stopped 5612)>,\n",
       " <Thread(Thread-10 (test), stopped 13012)>,\n",
       " <Thread(Thread-11 (test), stopped 9116)>,\n",
       " <Thread(Thread-12 (test), stopped 2152)>,\n",
       " <Thread(Thread-13 (test), stopped 8836)>,\n",
       " <Thread(Thread-14 (test), stopped 8512)>]"
      ]
     },
     "execution_count": 7,
     "metadata": {},
     "output_type": "execute_result"
    }
   ],
   "source": [
    "thread"
   ]
  },
  {
   "cell_type": "code",
   "execution_count": 8,
   "id": "05d9b5bc-964f-4183-93af-573aefd0520f",
   "metadata": {
    "tags": []
   },
   "outputs": [
    {
     "data": {
      "text/plain": [
       "2289638679424"
      ]
     },
     "execution_count": 8,
     "metadata": {},
     "output_type": "execute_result"
    }
   ],
   "source": [
    "id(thread)"
   ]
  },
  {
   "cell_type": "code",
   "execution_count": 9,
   "id": "b95e8819-e8e4-4efc-af67-6ec341d06b77",
   "metadata": {},
   "outputs": [],
   "source": [
    "import threading\n",
    "import urllib.request\n",
    "\n",
    "def file_download(url, filename):\n",
    "    urllib.request.urlretrieve(url, filename)"
   ]
  },
  {
   "cell_type": "code",
   "execution_count": 10,
   "id": "34028043-85da-47b4-b1e3-eb357f27e402",
   "metadata": {
    "tags": []
   },
   "outputs": [],
   "source": [
    "file_download('https://raw.githubusercontent.com/itsfoss/text-files/master/agatha.txt', 'agatha.txt')"
   ]
  },
  {
   "cell_type": "code",
   "execution_count": 11,
   "id": "4839ae6d-9708-4504-8ecd-575fb17b72f9",
   "metadata": {
    "tags": []
   },
   "outputs": [],
   "source": [
    "url_list = ['https://raw.githubusercontent.com/itsfoss/text-files/master/agatha.txt', 'https://raw.githubusercontent.com/itsfoss/text-files/master/sherlock.txt', 'https://raw.githubusercontent.com/itsfoss/text-files/master/sample_log_file.txt']"
   ]
  },
  {
   "cell_type": "code",
   "execution_count": 12,
   "id": "90918c4d-eb91-4a8d-9907-52ceb0c16233",
   "metadata": {
    "tags": []
   },
   "outputs": [
    {
     "data": {
      "text/plain": [
       "['https://raw.githubusercontent.com/itsfoss/text-files/master/agatha.txt',\n",
       " 'https://raw.githubusercontent.com/itsfoss/text-files/master/sherlock.txt',\n",
       " 'https://raw.githubusercontent.com/itsfoss/text-files/master/sample_log_file.txt']"
      ]
     },
     "execution_count": 12,
     "metadata": {},
     "output_type": "execute_result"
    }
   ],
   "source": [
    "url_list"
   ]
  },
  {
   "cell_type": "code",
   "execution_count": 13,
   "id": "696c4823-7e31-4673-8ea1-7fab133bb9a9",
   "metadata": {
    "tags": []
   },
   "outputs": [],
   "source": [
    "file_name_list = ['data1.txt', 'data2.txt', 'data3.txt']"
   ]
  },
  {
   "cell_type": "code",
   "execution_count": 14,
   "id": "016b3f0c-cc93-4363-83b7-a24e7999472a",
   "metadata": {
    "tags": []
   },
   "outputs": [],
   "source": [
    "ther = [threading.Thread(target=file_download, args=(url_list[i], file_name_list[i])) for i in range(len(url_list))]"
   ]
  },
  {
   "cell_type": "code",
   "execution_count": 15,
   "id": "5395ddd0-7b10-4440-96e1-9b675c7d52e8",
   "metadata": {
    "tags": []
   },
   "outputs": [
    {
     "data": {
      "text/plain": [
       "[<Thread(Thread-15 (file_download), initial)>,\n",
       " <Thread(Thread-16 (file_download), initial)>,\n",
       " <Thread(Thread-17 (file_download), initial)>]"
      ]
     },
     "execution_count": 15,
     "metadata": {},
     "output_type": "execute_result"
    }
   ],
   "source": [
    "ther"
   ]
  },
  {
   "cell_type": "code",
   "execution_count": 16,
   "id": "bfd1c3b7-c2fb-4da7-9336-d44d034d43e6",
   "metadata": {
    "tags": []
   },
   "outputs": [],
   "source": [
    "for t in ther:\n",
    "    t.start()"
   ]
  },
  {
   "cell_type": "code",
   "execution_count": 17,
   "id": "23f77dbe-bd33-4aa8-a64a-939c10475e8c",
   "metadata": {},
   "outputs": [],
   "source": [
    "import time\n",
    "\n",
    "def test1(id):\n",
    "    for i in range(10):\n",
    "        print(\"test1 %d printing %d\" %(id, i))\n",
    "        time.sleep(1)"
   ]
  },
  {
   "cell_type": "code",
   "execution_count": 18,
   "id": "c4918b55-6163-41dd-a643-363ed649004b",
   "metadata": {
    "tags": []
   },
   "outputs": [
    {
     "name": "stdout",
     "output_type": "stream",
     "text": [
      "test1 1 printing 0\n",
      "test1 1 printing 1\n",
      "test1 1 printing 2\n",
      "test1 1 printing 3\n",
      "test1 1 printing 4\n",
      "test1 1 printing 5\n",
      "test1 1 printing 6\n",
      "test1 1 printing 7\n",
      "test1 1 printing 8\n",
      "test1 1 printing 9\n"
     ]
    }
   ],
   "source": [
    "test1(1)"
   ]
  },
  {
   "cell_type": "code",
   "execution_count": 19,
   "id": "d37e2161-5c90-447a-bc9c-308e493e85d0",
   "metadata": {
    "tags": []
   },
   "outputs": [],
   "source": [
    "thread1 = [threading.Thread(target=test1, args=(i,)) for i in range(3)]"
   ]
  },
  {
   "cell_type": "code",
   "execution_count": 20,
   "id": "dbb3488d-15c4-413c-9a79-cb7bafef238c",
   "metadata": {
    "tags": []
   },
   "outputs": [
    {
     "name": "stdout",
     "output_type": "stream",
     "text": [
      "test1 0 printing 0\n",
      "test1 1 printing 0\n",
      "test1 2 printing 0\n"
     ]
    }
   ],
   "source": [
    "for t in thread1:\n",
    "    t.start()"
   ]
  },
  {
   "cell_type": "code",
   "execution_count": 21,
   "id": "97f832bf-fe70-4f46-b9cc-5f494356354e",
   "metadata": {
    "tags": []
   },
   "outputs": [
    {
     "name": "stdout",
     "output_type": "stream",
     "text": [
      "test1 0 printing 1test1 2 printing 1\n",
      "test1 1 printing 1\n",
      "\n",
      "test1 2 printing 2\n",
      "test1 0 printing 2\n",
      "test1 1 printing 2\n",
      "test1 2 printing 3test1 1 printing 3\n",
      "test1 0 printing 3\n",
      "\n",
      "test1 2 printing 4test1 0 printing 4\n",
      "test1 1 printing 4\n",
      "\n",
      "test1 2 printing 5test1 0 printing 5\n",
      "\n",
      "test1 1 printing 5\n",
      "test1 0 printing 6\n",
      "test1 2 printing 6\n",
      "test1 1 printing 6\n",
      "test1 0 printing 7\n",
      "test1 2 printing 7\n",
      "test1 1 printing 7\n",
      "test1 0 printing 8\n",
      "test1 1 printing 8\n",
      "test1 2 printing 8\n",
      "test1 0 printing 9\n",
      "test1 1 printing 9\n",
      "test1 2 printing 9\n"
     ]
    }
   ],
   "source": [
    "shared_var = 0\n",
    "lock_var = threading.Lock()"
   ]
  },
  {
   "cell_type": "code",
   "execution_count": 22,
   "id": "7707c6bf-770b-49d8-b66e-896a5212ad9a",
   "metadata": {
    "tags": []
   },
   "outputs": [],
   "source": [
    "def test2(id):\n",
    "    global shared_var\n",
    "    with lock_var:\n",
    "        shared_var += 1\n",
    "        time.sleep(1)\n",
    "        print(\"test2 id is %d has increased the shared value by %d \" %(id, shared_var))"
   ]
  },
  {
   "cell_type": "code",
   "execution_count": 23,
   "id": "a1eb1556-dd67-4629-8acb-a1e52848c19f",
   "metadata": {
    "tags": []
   },
   "outputs": [],
   "source": [
    "ther3 = [threading.Thread(target=test2, args=(i,)) for i in range(3)]"
   ]
  },
  {
   "cell_type": "code",
   "execution_count": 24,
   "id": "b519ae1e-1d3b-42f0-b392-df9fb3d92f45",
   "metadata": {
    "tags": []
   },
   "outputs": [
    {
     "data": {
      "text/plain": [
       "[<Thread(Thread-21 (test2), initial)>,\n",
       " <Thread(Thread-22 (test2), initial)>,\n",
       " <Thread(Thread-23 (test2), initial)>]"
      ]
     },
     "execution_count": 24,
     "metadata": {},
     "output_type": "execute_result"
    }
   ],
   "source": [
    "ther3"
   ]
  },
  {
   "cell_type": "code",
   "execution_count": 25,
   "id": "0c04ae8a-5914-494b-ba16-252a192517b1",
   "metadata": {
    "tags": []
   },
   "outputs": [
    {
     "name": "stdout",
     "output_type": "stream",
     "text": [
      "test2 id is 0 has increased the shared value by 1 \n",
      "test2 id is 1 has increased the shared value by 2 \n",
      "test2 id is 2 has increased the shared value by 3 \n"
     ]
    }
   ],
   "source": [
    "for t in ther3:\n",
    "    t.start()"
   ]
  }
 ],
 "metadata": {
  "kernelspec": {
   "display_name": "Python 3 (ipykernel)",
   "language": "python",
   "name": "python3"
  },
  "language_info": {
   "codemirror_mode": {
    "name": "ipython",
    "version": 3
   },
   "file_extension": ".py",
   "mimetype": "text/x-python",
   "name": "python",
   "nbconvert_exporter": "python",
   "pygments_lexer": "ipython3",
   "version": "3.11.3"
  }
 },
 "nbformat": 4,
 "nbformat_minor": 5
}
