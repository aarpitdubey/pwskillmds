{
 "cells": [
  {
   "cell_type": "code",
   "execution_count": 1,
   "id": "5aca8600-7a31-4126-adf8-2ae7c91d0a4c",
   "metadata": {},
   "outputs": [
    {
     "name": "stdout",
     "output_type": "stream",
     "text": [
      "division by zero\n"
     ]
    }
   ],
   "source": [
    "# 1. Use Always a Specific Exception\n",
    "\n",
    "try:\n",
    "    10/0\n",
    "except ZeroDivisionError as zde: # Specific Exception\n",
    "    print(zde)\n",
    "except ArithmeticError as ae: # Specific Exception\n",
    "    print(ae)\n",
    "except Exception as e: # Generic Exception\n",
    "    print(e)"
   ]
  },
  {
   "cell_type": "code",
   "execution_count": 2,
   "id": "9ddb1f1f-728f-4ea0-bd73-947d616028a1",
   "metadata": {
    "tags": []
   },
   "outputs": [
    {
     "name": "stdout",
     "output_type": "stream",
     "text": [
      "i am trying to handle a Zero Division Error division by zero\n"
     ]
    }
   ],
   "source": [
    "# Print always a proper message\n",
    "\n",
    "try:\n",
    "    10/0\n",
    "except ZeroDivisionError as zde:\n",
    "    print(\"i am trying to handle a Zero Division Error\", zde)"
   ]
  },
  {
   "cell_type": "code",
   "execution_count": 3,
   "id": "409bdfc1-d296-499f-a6ef-dab76bb5ba33",
   "metadata": {
    "tags": []
   },
   "outputs": [],
   "source": [
    "# Always try to log your error\n",
    "import logging\n",
    "\n",
    "logging.basicConfig(filename = \"error.log\", level = logging.ERROR)\n",
    "\n",
    "try:\n",
    "    10/0\n",
    "except ZeroDivisionError as zde:\n",
    "    logging.error(\"I am trying to handle a Zero Division Error {}\".format(zde))"
   ]
  },
  {
   "cell_type": "code",
   "execution_count": 4,
   "id": "6bd76402-1145-4833-aa16-e708f5880572",
   "metadata": {
    "tags": []
   },
   "outputs": [],
   "source": [
    "# Always try to avoid writing multiple Exception Handling\n",
    "\n",
    "try:\n",
    "    10/0\n",
    "except FileNotFoundError as fnfe:\n",
    "    logging.error(\"I am handling FileNotFoundError {}\".format(fnfe))\n",
    "except AttributeError as ae:\n",
    "    logging.error(\"I am handling AttributeError {}\".format(ae))\n",
    "except ZeroDivisionError as zde:\n",
    "    logging.error(\"I am try to handle a ZeroDivisionError {}\".format(zde))\n"
   ]
  },
  {
   "cell_type": "code",
   "execution_count": 5,
   "id": "da3495b0-0d79-472e-9ec6-484065ba1447",
   "metadata": {
    "tags": []
   },
   "outputs": [],
   "source": [
    "# Document all the errors\n",
    "# Cleanup all the resources\n",
    "\n",
    "try:\n",
    "    with open(\"test.txt\", \"w\") as f:\n",
    "        f.write(\"This is my data to file\")\n",
    "except FileNotFoundError as fnfe:\n",
    "    logging.error(\"I am handling FileNotFoundError {}\".format(fnfe))\n",
    "finally:\n",
    "    f.close()"
   ]
  }
 ],
 "metadata": {
  "kernelspec": {
   "display_name": "Python 3 (ipykernel)",
   "language": "python",
   "name": "python3"
  },
  "language_info": {
   "codemirror_mode": {
    "name": "ipython",
    "version": 3
   },
   "file_extension": ".py",
   "mimetype": "text/x-python",
   "name": "python",
   "nbconvert_exporter": "python",
   "pygments_lexer": "ipython3",
   "version": "3.11.3"
  }
 },
 "nbformat": 4,
 "nbformat_minor": 5
}
