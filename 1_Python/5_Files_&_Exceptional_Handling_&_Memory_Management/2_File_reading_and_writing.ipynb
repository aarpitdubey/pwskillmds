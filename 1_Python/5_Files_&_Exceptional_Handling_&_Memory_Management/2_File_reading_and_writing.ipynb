{
 "cells": [
  {
   "cell_type": "markdown",
   "id": "6f0a5e71-cd51-44e9-8f43-ffaf1c4ce763",
   "metadata": {},
   "source": [
    "## JSON file "
   ]
  },
  {
   "cell_type": "code",
   "execution_count": 1,
   "id": "40bf5e2e-9998-4574-9d54-2dd253e34f73",
   "metadata": {
    "tags": []
   },
   "outputs": [],
   "source": [
    "data = {\n",
    "    \"name\"       : \"Arpit Dubey\",\n",
    "    \"email\"      : \"aarpitdubey@gmail.com\",\n",
    "    \"phone\"      : 7987476575,\n",
    "    \"subject\"    : [\"Data Science\", \"Big Data\", \"Data Analytics\"]\n",
    "}"
   ]
  },
  {
   "cell_type": "code",
   "execution_count": 2,
   "id": "dee92818-2949-426e-a48b-e3b352b1dcd8",
   "metadata": {
    "tags": []
   },
   "outputs": [],
   "source": [
    "import json"
   ]
  },
  {
   "cell_type": "code",
   "execution_count": 3,
   "id": "fc7978b8-d03a-46e4-a120-fc7716283f06",
   "metadata": {
    "tags": []
   },
   "outputs": [],
   "source": [
    "# JSON Writing\n",
    "with open(\"data.json\", \"w\") as f:\n",
    "    json.dump(data, f) # json.dump() use to write in json file"
   ]
  },
  {
   "cell_type": "code",
   "execution_count": 4,
   "id": "1e34b143-f39f-4f4f-943c-a603ad9f179d",
   "metadata": {
    "tags": []
   },
   "outputs": [],
   "source": [
    "# JSON Reading\n",
    "with open(\"data.json\", \"r\") as f:\n",
    "    res = json.load(f) # json.load() use to read json file"
   ]
  },
  {
   "cell_type": "code",
   "execution_count": 5,
   "id": "64878065-996e-490e-8c01-6830bec2aa62",
   "metadata": {
    "tags": []
   },
   "outputs": [
    {
     "data": {
      "text/plain": [
       "{'name': 'Arpit Dubey',\n",
       " 'email': 'aarpitdubey@gmail.com',\n",
       " 'phone': 7987476575,\n",
       " 'subject': ['Data Science', 'Big Data', 'Data Analytics']}"
      ]
     },
     "execution_count": 5,
     "metadata": {},
     "output_type": "execute_result"
    }
   ],
   "source": [
    "res"
   ]
  },
  {
   "cell_type": "code",
   "execution_count": 6,
   "id": "b3f74a76-884d-4b0f-99ce-72a8b7ca0b24",
   "metadata": {
    "tags": []
   },
   "outputs": [
    {
     "data": {
      "text/plain": [
       "'Big Data'"
      ]
     },
     "execution_count": 6,
     "metadata": {},
     "output_type": "execute_result"
    }
   ],
   "source": [
    "res['subject'][1]"
   ]
  },
  {
   "cell_type": "markdown",
   "id": "56574679-870c-4e94-afab-e8b348cbed7a",
   "metadata": {},
   "source": [
    "## CSV File"
   ]
  },
  {
   "cell_type": "code",
   "execution_count": 7,
   "id": "237b060e-06a9-48f6-bc65-18c1c220431c",
   "metadata": {
    "tags": []
   },
   "outputs": [],
   "source": [
    "import csv"
   ]
  },
  {
   "cell_type": "code",
   "execution_count": 8,
   "id": "d95a7d72-1e11-402c-bd0a-6413d716f698",
   "metadata": {
    "tags": []
   },
   "outputs": [],
   "source": [
    "data = [[\"name\", \"email\", \"phone\"],\n",
    "        [\"Arpit Dubey\", \"aarpitdubey@gmail.com\", 7987476575],\n",
    "        [\"Krish Naik\", \"krishnaik06@gmail.com\",  9245574632],\n",
    "        [\"Sudhanshu kumar\", \"sudh@gmail.com\", 85452245563]\n",
    "]"
   ]
  },
  {
   "cell_type": "code",
   "execution_count": 9,
   "id": "f6743b60-6db4-4e91-a561-9c18c8a50a09",
   "metadata": {
    "tags": []
   },
   "outputs": [],
   "source": [
    "with open(\"data.csv\", \"w\") as f:\n",
    "    writer = csv.writer(f)\n",
    "    \n",
    "    for i in data:\n",
    "        writer.writerow(i)\n",
    "    "
   ]
  },
  {
   "cell_type": "code",
   "execution_count": 10,
   "id": "bfb78255-4d8c-45af-ade4-c98de1b7ea1d",
   "metadata": {
    "tags": []
   },
   "outputs": [
    {
     "name": "stdout",
     "output_type": "stream",
     "text": [
      "['name', 'email', 'phone']\n",
      "[]\n",
      "['Arpit Dubey', 'aarpitdubey@gmail.com', '7987476575']\n",
      "[]\n",
      "['Krish Naik', 'krishnaik06@gmail.com', '9245574632']\n",
      "[]\n",
      "['Sudhanshu kumar', 'sudh@gmail.com', '85452245563']\n",
      "[]\n"
     ]
    }
   ],
   "source": [
    "with open(\"data.csv\", \"r\") as f:\n",
    "    read_data = csv.reader(f)\n",
    "    \n",
    "    for i in read_data:\n",
    "        print(i)"
   ]
  },
  {
   "cell_type": "markdown",
   "id": "98bd88cb-c25d-4082-a8e1-c83ceccce85f",
   "metadata": {},
   "source": [
    "## Binary Data"
   ]
  },
  {
   "cell_type": "code",
   "execution_count": 11,
   "id": "c33d357b-db29-4d4e-a5ce-fb23b05f382d",
   "metadata": {
    "tags": []
   },
   "outputs": [],
   "source": [
    "with open(\"test.bin\", \"wb\") as f:\n",
    "    f.write(b\"\\x01\\x02\\x03\")"
   ]
  },
  {
   "cell_type": "code",
   "execution_count": 12,
   "id": "ae909a73-572a-43ba-a23a-ce13aaece76a",
   "metadata": {
    "tags": []
   },
   "outputs": [
    {
     "name": "stdout",
     "output_type": "stream",
     "text": [
      "b'\\x01\\x02\\x03'\n"
     ]
    }
   ],
   "source": [
    "with open(\"test.bin\", \"rb\") as f:\n",
    "    print(f.read())"
   ]
  }
 ],
 "metadata": {
  "kernelspec": {
   "display_name": "Python 3 (ipykernel)",
   "language": "python",
   "name": "python3"
  },
  "language_info": {
   "codemirror_mode": {
    "name": "ipython",
    "version": 3
   },
   "file_extension": ".py",
   "mimetype": "text/x-python",
   "name": "python",
   "nbconvert_exporter": "python",
   "pygments_lexer": "ipython3",
   "version": "3.11.3"
  }
 },
 "nbformat": 4,
 "nbformat_minor": 5
}
