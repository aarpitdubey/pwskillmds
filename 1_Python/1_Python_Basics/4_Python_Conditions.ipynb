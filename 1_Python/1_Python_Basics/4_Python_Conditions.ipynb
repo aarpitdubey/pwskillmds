{
 "cells": [
  {
   "cell_type": "markdown",
   "id": "a5c35c7d-3ad2-4499-bcee-35a6e42a37dc",
   "metadata": {},
   "source": [
    "## Python Conditions\n",
    "\n",
    "#### 1. If Statement:\n",
    "The if statement is used to execute a block of code only if a specified condition is true."
   ]
  },
  {
   "cell_type": "code",
   "execution_count": 1,
   "id": "8ccaefde-d84c-42b7-8caa-b06f8f853ef1",
   "metadata": {
    "tags": []
   },
   "outputs": [],
   "source": [
    "x = 10"
   ]
  },
  {
   "cell_type": "code",
   "execution_count": 2,
   "id": "594f1db1-1f23-4d88-8884-99c6b7c61e57",
   "metadata": {
    "tags": []
   },
   "outputs": [
    {
     "data": {
      "text/plain": [
       "True"
      ]
     },
     "execution_count": 2,
     "metadata": {},
     "output_type": "execute_result"
    }
   ],
   "source": [
    "x > 5 # Condition --> True then move to if block otherwise False exit the block"
   ]
  },
  {
   "cell_type": "code",
   "execution_count": 3,
   "id": "cfa47174-76ea-4a6a-a15c-bc765e8c7dae",
   "metadata": {
    "tags": []
   },
   "outputs": [
    {
     "name": "stdout",
     "output_type": "stream",
     "text": [
      "x is greater than 5\n",
      "if block\n"
     ]
    }
   ],
   "source": [
    "# if statement\n",
    "if x > 5:\n",
    "    print(\"x is greater than 5\") # print if condition is True\n",
    "    \n",
    "print(\"if block\")"
   ]
  },
  {
   "cell_type": "code",
   "execution_count": 4,
   "id": "937a4698-b1e6-4a55-999c-e73f3c28cada",
   "metadata": {
    "tags": []
   },
   "outputs": [
    {
     "data": {
      "text/plain": [
       "False"
      ]
     },
     "execution_count": 4,
     "metadata": {},
     "output_type": "execute_result"
    }
   ],
   "source": [
    "x > 10 # False"
   ]
  },
  {
   "cell_type": "code",
   "execution_count": 5,
   "id": "7734ede2-99d7-4f88-aff8-76eefab225bc",
   "metadata": {
    "tags": []
   },
   "outputs": [
    {
     "name": "stdout",
     "output_type": "stream",
     "text": [
      "if block\n"
     ]
    }
   ],
   "source": [
    "# if statement\n",
    "if x > 10:\n",
    "    print(\"x is greater than 5\") # Not printed if condition is False\n",
    "    \n",
    "print(\"if block\")"
   ]
  },
  {
   "cell_type": "code",
   "execution_count": 6,
   "id": "425c6786-0fc0-46ce-b95e-ef347d493761",
   "metadata": {
    "tags": []
   },
   "outputs": [
    {
     "data": {
      "text/plain": [
       "True"
      ]
     },
     "execution_count": 6,
     "metadata": {},
     "output_type": "execute_result"
    }
   ],
   "source": [
    "x >= 10"
   ]
  },
  {
   "cell_type": "code",
   "execution_count": 7,
   "id": "c44613ff-5f5b-4925-bb95-bf15578e8f96",
   "metadata": {
    "tags": []
   },
   "outputs": [
    {
     "name": "stdout",
     "output_type": "stream",
     "text": [
      "x is greater than or equal to 10\n",
      "if block\n"
     ]
    }
   ],
   "source": [
    "# if statement\n",
    "if x >= 10:\n",
    "    print(\"x is greater than or equal to 10\") # print if condition is True\n",
    "    \n",
    "print(\"if block\")"
   ]
  },
  {
   "cell_type": "markdown",
   "id": "e28dce19-b1be-4c4a-ab5f-c67c8e8e4ce6",
   "metadata": {},
   "source": [
    "#### 2. If-Else Statement:\n",
    "The if-else statement is used to execute a block of code if the condition is true, and another block of code if the condition is false."
   ]
  },
  {
   "cell_type": "markdown",
   "id": "39af93e7-c688-4223-8e66-13dfcc56822d",
   "metadata": {
    "tags": []
   },
   "source": [
    "# Example of if-else statement\n",
    "y = 3\n",
    "\n",
    "if y % 2 == 0:\n",
    "    print(\"y is even\")\n",
    "else:\n",
    "    print(\"y is odd\")"
   ]
  },
  {
   "cell_type": "code",
   "execution_count": 8,
   "id": "3b84a6c9-b608-466c-9dc6-4f90cfaa6ceb",
   "metadata": {
    "tags": []
   },
   "outputs": [
    {
     "name": "stdout",
     "output_type": "stream",
     "text": [
      "y is even\n"
     ]
    }
   ],
   "source": [
    "y = 16 \n",
    "\n",
    "if y % 2 == 0:\n",
    "    print(\"y is even\")\n",
    "else:\n",
    "    print(\"y is odd\")"
   ]
  },
  {
   "cell_type": "code",
   "execution_count": 9,
   "id": "710eaea3-e511-46f6-9177-095f7a2e9fea",
   "metadata": {
    "tags": []
   },
   "outputs": [
    {
     "name": "stdout",
     "output_type": "stream",
     "text": [
      "Yes num is lesser than 40\n"
     ]
    }
   ],
   "source": [
    "num = 20\n",
    "\n",
    "if num > 30:\n",
    "    print(\"Yes num is greator than 30\")\n",
    "elif num < 40:\n",
    "    print(\"Yes num is lesser than 40\")"
   ]
  },
  {
   "cell_type": "code",
   "execution_count": 10,
   "id": "e815cabc-8efe-4789-ac01-494736512dc4",
   "metadata": {
    "tags": []
   },
   "outputs": [
    {
     "data": {
      "text/plain": [
       "False"
      ]
     },
     "execution_count": 10,
     "metadata": {},
     "output_type": "execute_result"
    }
   ],
   "source": [
    "num > 30"
   ]
  },
  {
   "cell_type": "code",
   "execution_count": 11,
   "id": "bec38ee0-16de-44af-a72e-7ba72acf99a8",
   "metadata": {
    "tags": []
   },
   "outputs": [
    {
     "data": {
      "text/plain": [
       "True"
      ]
     },
     "execution_count": 11,
     "metadata": {},
     "output_type": "execute_result"
    }
   ],
   "source": [
    "num < 40"
   ]
  },
  {
   "cell_type": "code",
   "execution_count": 12,
   "id": "caf15a7d-67d3-46ec-b91f-665bc2583275",
   "metadata": {
    "tags": []
   },
   "outputs": [
    {
     "name": "stdout",
     "output_type": "stream",
     "text": [
      "This is my default\n"
     ]
    }
   ],
   "source": [
    "if num > 30:\n",
    "    print(\"Yes num is greator than 30\")\n",
    "elif num > 40:\n",
    "    print(\"Yes num is lesser than 40\")\n",
    "else:\n",
    "    print(\"This is my default\") # 20 > 30 = False and 20 > 40 = false \n",
    "    #both are False then default else part will executed."
   ]
  },
  {
   "cell_type": "markdown",
   "id": "26c028d1-dc29-4d6a-a27b-94837866e17c",
   "metadata": {},
   "source": [
    "### input() Function:\n",
    "\n",
    "The `input()` function in Python is used to prompt the user to enter some value from the keyboard. It waits for the user to type something and press Enter. Whatever the user enters is treated as a string and is returned by the `input()` function.\n",
    "\n",
    "Here's an example:\n",
    "\n",
    "```python\n",
    "name = input(\"Please enter your name: \") \n",
    "print(\"Hello, \" + name)\n",
    "```\n",
    "\n",
    "In this example, the `input()` function displays the message \"Please enter your name:\" and waits for the user to type their name. Whatever the user enters will be stored in the variable `name` and then printed as part of the greeting.\n",
    "\n",
    "The problem with the `input()` function arises when you want to use the entered value as something other than a string. For example, if you want to use the input as a number for mathematical calculations, you would need to explicitly convert the string input to the desired data type (e.g., integer or float) using the `int()` or `float()` functions.\n",
    "\n",
    "```python\n",
    "# Example of converting input to an integer\n",
    "age = int(input(\"Please enter your age: \"))\n",
    "# Now age is an integer that can be used in calculations\n",
    "```\n",
    "\n",
    "To solve this problem, you can use explicit type conversion / Typecasting or typecast to convert the input data to the desired type. Additionally, it's a good practice to handle potential errors when performing this conversion, as the user might not always enter valid input. For example, when converting to an integer, it's possible for the user to enter non-numeric characters, which would cause a ValueError. This can be handled using a try-except block to catch and handle such errors gracefully.\n",
    "\n",
    "```python\n",
    "# Example of handling potential errors when converting input to an integer\n",
    "try:\n",
    "    age = int(input(\"Please enter your age: \"))\n",
    "    print(\"In 10 years, you will be\", age + 10)\n",
    "except ValueError:\n",
    "    print(\"Invalid input. Please enter a valid age.\")\n",
    "```\n",
    "\n",
    "By implementing explicit type conversion and error handling, you can effectively use the `input()` function while mitigating potential problems associated with user input.  "
   ]
  },
  {
   "cell_type": "code",
   "execution_count": 13,
   "id": "a59ff797-10d1-40b8-9a0b-56a62b094a36",
   "metadata": {
    "tags": []
   },
   "outputs": [
    {
     "name": "stdin",
     "output_type": "stream",
     "text": [
      "Please enter your name:  Arpit Dubey\n"
     ]
    }
   ],
   "source": [
    "name = input(\"Please enter your name: \") "
   ]
  },
  {
   "cell_type": "code",
   "execution_count": 14,
   "id": "8ff9ff29-da38-44aa-b241-d6917eca50ec",
   "metadata": {
    "tags": []
   },
   "outputs": [
    {
     "name": "stdout",
     "output_type": "stream",
     "text": [
      "Hello, Arpit Dubey\n"
     ]
    }
   ],
   "source": [
    "print(\"Hello, \" + name)"
   ]
  },
  {
   "cell_type": "code",
   "execution_count": 15,
   "id": "82e066c5-8ca5-4f31-8d4e-a9593d174d03",
   "metadata": {
    "tags": []
   },
   "outputs": [
    {
     "name": "stdin",
     "output_type": "stream",
     "text": [
      "Please enter your age:  27\n"
     ]
    }
   ],
   "source": [
    "# input to an integer\n",
    "age = input(\"Please enter your age: \")"
   ]
  },
  {
   "cell_type": "code",
   "execution_count": 16,
   "id": "047a1eb6-45d4-49f7-8596-e1243411f436",
   "metadata": {
    "tags": []
   },
   "outputs": [
    {
     "data": {
      "text/plain": [
       "'27'"
      ]
     },
     "execution_count": 16,
     "metadata": {},
     "output_type": "execute_result"
    }
   ],
   "source": [
    "age # gives str type but we won't want in str we want it in int."
   ]
  },
  {
   "cell_type": "code",
   "execution_count": 17,
   "id": "f69145c5-082d-4f2e-b11e-f5262f87c4e3",
   "metadata": {
    "tags": []
   },
   "outputs": [
    {
     "name": "stdin",
     "output_type": "stream",
     "text": [
      "Please enter your age:  27\n"
     ]
    }
   ],
   "source": [
    "# Converting input to an integer\n",
    "age = int(input(\"Please enter your age: \"))\n",
    "# Now age is an integer that can be used in calculations"
   ]
  },
  {
   "cell_type": "code",
   "execution_count": 18,
   "id": "51c2bda5-8a68-4442-8005-ec730085ab16",
   "metadata": {
    "tags": []
   },
   "outputs": [
    {
     "data": {
      "text/plain": [
       "27"
      ]
     },
     "execution_count": 18,
     "metadata": {},
     "output_type": "execute_result"
    }
   ],
   "source": [
    "age # Now, we get it in int type"
   ]
  },
  {
   "cell_type": "code",
   "execution_count": 19,
   "id": "dcad280e-2eb2-467d-a49c-f77063c11969",
   "metadata": {
    "tags": []
   },
   "outputs": [
    {
     "name": "stdin",
     "output_type": "stream",
     "text": [
      "Please enter your age:  27\n"
     ]
    },
    {
     "name": "stdout",
     "output_type": "stream",
     "text": [
      "In 10 years, you will be 37\n"
     ]
    }
   ],
   "source": [
    "# Handling potential errors when converting input to an integer\n",
    "try:\n",
    "    age = int(input(\"Please enter your age: \"))\n",
    "    print(\"In 10 years, you will be\", age + 10)\n",
    "except ValueError:\n",
    "    print(\"Invalid input. Please enter a valid age.\")"
   ]
  },
  {
   "cell_type": "code",
   "execution_count": 20,
   "id": "fff69a8a-6f35-4e65-b377-d490869d0109",
   "metadata": {
    "tags": []
   },
   "outputs": [
    {
     "name": "stdin",
     "output_type": "stream",
     "text": [
      "Please enter your age:  Arpit\n"
     ]
    },
    {
     "name": "stdout",
     "output_type": "stream",
     "text": [
      "Invalid input. Please enter a valid age.\n"
     ]
    }
   ],
   "source": [
    "try:\n",
    "    age = int(input(\"Please enter your age: \"))\n",
    "    print(\"In 10 years, you will be\", age + 10)\n",
    "except ValueError:\n",
    "    print(\"Invalid input. Please enter a valid age.\")"
   ]
  },
  {
   "cell_type": "markdown",
   "id": "1bac8d29-d1ef-4483-b11a-f4d6eaaad9c3",
   "metadata": {},
   "source": [
    "### 3. While Loop:\n",
    "The while loop is used to repeatedly execute a block of code as long as the specified condition is true."
   ]
  },
  {
   "cell_type": "code",
   "execution_count": 21,
   "id": "f37685aa-c87e-44f1-9e54-e24456861181",
   "metadata": {
    "tags": []
   },
   "outputs": [
    {
     "name": "stdout",
     "output_type": "stream",
     "text": [
      "Count is 0\n",
      "Count is 1\n",
      "Count is 2\n",
      "Count is 3\n",
      "Count is 4\n"
     ]
    }
   ],
   "source": [
    "# While loop\n",
    "count = 0\n",
    "\n",
    "while count < 5:\n",
    "    print(\"Count is\", count)\n",
    "    count += 1"
   ]
  },
  {
   "cell_type": "code",
   "execution_count": 22,
   "id": "3cfd6c3a-3e2b-49e9-894d-3c9fb6c46581",
   "metadata": {
    "tags": []
   },
   "outputs": [
    {
     "name": "stdin",
     "output_type": "stream",
     "text": [
      " 0\n"
     ]
    },
    {
     "name": "stdout",
     "output_type": "stream",
     "text": [
      "Count is 0\n",
      "Count is 1\n",
      "Count is 2\n",
      "Count is 3\n",
      "Count is 4\n",
      "Count is 5\n",
      "Count is 6\n",
      "Count is 7\n",
      "Count is 8\n",
      "Count is 9\n"
     ]
    }
   ],
   "source": [
    "# While loop\n",
    "count = int(input())\n",
    "\n",
    "while count < 10:\n",
    "    print(\"Count is\", count)\n",
    "    count += 1"
   ]
  },
  {
   "cell_type": "code",
   "execution_count": 23,
   "id": "b1d81f65-6601-477a-9ef1-739177abd2a6",
   "metadata": {
    "tags": []
   },
   "outputs": [
    {
     "name": "stdout",
     "output_type": "stream",
     "text": [
      "1\n",
      "2\n",
      "3\n"
     ]
    }
   ],
   "source": [
    "n = 4\n",
    "i = 1\n",
    "\n",
    "while i < n:\n",
    "    print(i)\n",
    "    i += 1"
   ]
  },
  {
   "cell_type": "markdown",
   "id": "e43cfcc5-287f-49b2-b7d2-7e2d9f00a451",
   "metadata": {},
   "source": [
    "### 4. While-Else Loop:\n",
    "The while-else loop in Python executes the block of code within else when the condition in the while loop becomes false."
   ]
  },
  {
   "cell_type": "code",
   "execution_count": 24,
   "id": "5542e053-f497-4125-a91a-66077f930e0d",
   "metadata": {
    "tags": []
   },
   "outputs": [
    {
     "name": "stdout",
     "output_type": "stream",
     "text": [
      "1\n",
      "2\n",
      "3\n",
      "This is my else\n"
     ]
    }
   ],
   "source": [
    "n = 4\n",
    "i = 1 \n",
    "\n",
    "while i < n:\n",
    "    print(i)\n",
    "    i += 1\n",
    "else:\n",
    "    print(\"This is my else\")"
   ]
  },
  {
   "cell_type": "code",
   "execution_count": 25,
   "id": "4feb3caf-ef80-44dd-a262-f73526918767",
   "metadata": {
    "tags": []
   },
   "outputs": [
    {
     "name": "stdout",
     "output_type": "stream",
     "text": [
      "1\n",
      "2\n"
     ]
    }
   ],
   "source": [
    "n = 4\n",
    "i = 1 \n",
    "\n",
    "while i < n:\n",
    "    print(i)\n",
    "    i += 1\n",
    "    if i == 3:\n",
    "        break\n",
    "else:\n",
    "    print(\"This is my else\")"
   ]
  },
  {
   "cell_type": "code",
   "execution_count": 26,
   "id": "7945b2a3-7b08-48d1-9e14-37837e8b8967",
   "metadata": {
    "tags": []
   },
   "outputs": [
    {
     "name": "stdin",
     "output_type": "stream",
     "text": [
      "Enter the number value :  1\n"
     ]
    },
    {
     "name": "stdout",
     "output_type": "stream",
     "text": [
      "1\n",
      "2\n",
      "3\n",
      "4\n",
      "5\n",
      "Loop completed!\n"
     ]
    }
   ],
   "source": [
    "# while-else loop\n",
    "number = int(input('Enter the number value : '))\n",
    "\n",
    "while number <= 5:\n",
    "    print(number)\n",
    "    number += 1\n",
    "else:\n",
    "    print(\"Loop completed!\")\n"
   ]
  },
  {
   "cell_type": "markdown",
   "id": "adc8459d-c493-42af-b257-098648e79c26",
   "metadata": {},
   "source": [
    "### 5. For Loop:\n",
    "The for loop is used to iterate over a sequence (such as a list, tuple, string, or range) and execute a block of code for each element in the sequence."
   ]
  },
  {
   "cell_type": "code",
   "execution_count": 27,
   "id": "cddc78fc-a496-48fa-b219-0e712e6e4e9c",
   "metadata": {
    "tags": []
   },
   "outputs": [
    {
     "name": "stdout",
     "output_type": "stream",
     "text": [
      "A\n",
      "r\n",
      "p\n",
      "i\n",
      "t\n"
     ]
    }
   ],
   "source": [
    "name = 'Arpit'\n",
    "\n",
    "for letter in name:\n",
    "    print(letter)"
   ]
  },
  {
   "cell_type": "code",
   "execution_count": 28,
   "id": "f02e09b0-beec-45cc-8f4c-335bdc1d68b4",
   "metadata": {
    "tags": []
   },
   "outputs": [
    {
     "name": "stdout",
     "output_type": "stream",
     "text": [
      "apple\n",
      "banana\n",
      "cherry\n"
     ]
    }
   ],
   "source": [
    "# for loop\n",
    "fruits = [\"apple\", \"banana\", \"cherry\"]\n",
    "\n",
    "for fruit in fruits:\n",
    "    print(fruit)\n"
   ]
  },
  {
   "cell_type": "code",
   "execution_count": 29,
   "id": "ecd5a7a6-a50c-4296-bf69-3da98960d055",
   "metadata": {
    "tags": []
   },
   "outputs": [],
   "source": [
    "collection = [2, 3, 4, 5, 6, 'ineuron', 'Arpit', 'pwskills', 23.45, True]"
   ]
  },
  {
   "cell_type": "code",
   "execution_count": 30,
   "id": "8feae211-5659-4cc0-b5f1-b2afd8891fd7",
   "metadata": {
    "tags": []
   },
   "outputs": [
    {
     "name": "stdout",
     "output_type": "stream",
     "text": [
      "2\n",
      "3\n",
      "4\n",
      "5\n",
      "6\n",
      "ineuron\n",
      "Arpit\n",
      "pwskills\n",
      "23.45\n",
      "True\n"
     ]
    }
   ],
   "source": [
    "for ele in collection:\n",
    "    print(ele)"
   ]
  },
  {
   "cell_type": "code",
   "execution_count": 31,
   "id": "79099de2-65c2-4dd6-9236-155106a66ce7",
   "metadata": {
    "tags": []
   },
   "outputs": [
    {
     "name": "stdout",
     "output_type": "stream",
     "text": [
      "<class 'int'>\n",
      "<class 'int'>\n",
      "<class 'int'>\n",
      "<class 'int'>\n",
      "<class 'int'>\n",
      "<class 'str'>\n",
      "<class 'str'>\n",
      "<class 'str'>\n",
      "<class 'float'>\n",
      "<class 'bool'>\n"
     ]
    }
   ],
   "source": [
    "for ele in collection:\n",
    "    print(type(ele))"
   ]
  },
  {
   "cell_type": "code",
   "execution_count": 32,
   "id": "6b360fca-45b1-4f16-9281-a12f41360eeb",
   "metadata": {
    "tags": []
   },
   "outputs": [
    {
     "name": "stdout",
     "output_type": "stream",
     "text": [
      "<class 'int'>\n",
      "2\n",
      "<class 'int'>\n",
      "3\n",
      "<class 'int'>\n",
      "4\n",
      "<class 'int'>\n",
      "5\n",
      "<class 'int'>\n",
      "6\n",
      "<class 'str'>\n",
      "ineuron\n",
      "<class 'str'>\n",
      "Arpit\n",
      "<class 'str'>\n",
      "pwskills\n",
      "<class 'float'>\n",
      "23.45\n",
      "<class 'bool'>\n",
      "True\n",
      "This else block executed once when for loop will complete itself successfully\n"
     ]
    }
   ],
   "source": [
    "for ele in collection:\n",
    "    print(type(ele))\n",
    "    print(ele)\n",
    "else:\n",
    "    print(\"This else block executed once when for loop will complete itself successfully\")"
   ]
  },
  {
   "cell_type": "code",
   "execution_count": 33,
   "id": "ed66b9b4-27e5-46fc-91c6-913453f48fe3",
   "metadata": {
    "tags": []
   },
   "outputs": [
    {
     "name": "stdout",
     "output_type": "stream",
     "text": [
      "<class 'int'>\n",
      "2\n",
      "<class 'int'>\n",
      "3\n",
      "<class 'int'>\n",
      "4\n",
      "<class 'int'>\n",
      "5\n",
      "<class 'int'>\n",
      "<class 'str'>\n",
      "ineuron\n",
      "<class 'str'>\n",
      "Arpit\n",
      "<class 'str'>\n",
      "pwskills\n",
      "<class 'float'>\n",
      "23.45\n",
      "<class 'bool'>\n",
      "True\n",
      "This else block executed once when for loop will complete itself successfully\n"
     ]
    }
   ],
   "source": [
    "for ele in collection:\n",
    "    print(type(ele))\n",
    "    if ele == 6:\n",
    "        continue\n",
    "    print(ele)\n",
    "else:\n",
    "    print(\"This else block executed once when for loop will complete itself successfully\")"
   ]
  },
  {
   "cell_type": "markdown",
   "id": "13917882-78b8-49c2-8995-e274a6ac0e1c",
   "metadata": {},
   "source": [
    "### range() function\n",
    "\n",
    " The `range()` function in Python is used to generate a sequence of numbers. It can be used in for loops to iterate through a sequence of numbers.\n",
    "\n",
    "Here's an example of using the `range()` function:\n",
    "\n",
    "```python\n",
    "# Example of using the range() function in a for loop\n",
    "for i in range(5):\n",
    "    print(i)\n",
    "```\n",
    "\n",
    "In this example, `range(5)` generates a sequence of numbers from 0 to 4 (five numbers in total). The `for` loop then iterates through each of these numbers, printing them one by one.\n",
    "\n",
    "The syntax for the `range()` function is as follows:\n",
    "- `range(stop)`: This generates a sequence of numbers from 0 to `stop - 1`.\n",
    "- `range(start, stop)`: This generates a sequence of numbers from `start` to `stop - 1`.\n",
    "- `range(start, stop, step)`: This generates a sequence of numbers from `start` to `stop - 1`, incrementing each time by `step`.\n",
    "\n",
    "Here are some examples of using different forms of the `range()` function:\n",
    "\n",
    "```python\n",
    "# Example of using range() with different parameters\n",
    "for i in range(1, 10, 2):\n",
    "    print(i)\n",
    "# This will print 1, 3, 5, 7, 9\n",
    "\n",
    "for i in range(5, 0, -1):\n",
    "    print(i)\n",
    "# This will print 5, 4, 3, 2, 1\n",
    "\n",
    "for i in range(3):\n",
    "    print(\"Hello\")\n",
    "# This will print \"Hello\" three times\n",
    "```\n",
    "\n",
    "By using the `range()` function, you can easily generate sequences of numbers to use in your loops, making it a powerful tool for iterating through numbers in Python.  "
   ]
  },
  {
   "cell_type": "code",
   "execution_count": 34,
   "id": "2cf07b98-8a18-4f8a-872f-cb8a1ef6ed2e",
   "metadata": {
    "tags": []
   },
   "outputs": [
    {
     "data": {
      "text/plain": [
       "range(0, 5)"
      ]
     },
     "execution_count": 34,
     "metadata": {},
     "output_type": "execute_result"
    }
   ],
   "source": [
    "range(5)"
   ]
  },
  {
   "cell_type": "code",
   "execution_count": 35,
   "id": "1859776e-eb73-4207-8776-babb54ad2ff5",
   "metadata": {
    "tags": []
   },
   "outputs": [
    {
     "name": "stdout",
     "output_type": "stream",
     "text": [
      "0\n",
      "1\n",
      "2\n",
      "3\n",
      "4\n"
     ]
    }
   ],
   "source": [
    "for i in range(5):\n",
    "    print(i)"
   ]
  },
  {
   "cell_type": "code",
   "execution_count": 36,
   "id": "81e7f426-ee5a-419a-98bc-02256e930617",
   "metadata": {
    "tags": []
   },
   "outputs": [
    {
     "name": "stdout",
     "output_type": "stream",
     "text": [
      "1\n",
      "3\n",
      "5\n",
      "7\n",
      "9\n"
     ]
    }
   ],
   "source": [
    "for i in range(1, 10, 2):\n",
    "    print(i)"
   ]
  },
  {
   "cell_type": "code",
   "execution_count": 37,
   "id": "febbb623-9815-4743-8cc9-917a3480330e",
   "metadata": {
    "tags": []
   },
   "outputs": [
    {
     "name": "stdout",
     "output_type": "stream",
     "text": [
      "5\n",
      "4\n",
      "3\n",
      "2\n",
      "1\n"
     ]
    }
   ],
   "source": [
    "for i in range(5, 0, -1):\n",
    "    print(i)"
   ]
  },
  {
   "cell_type": "code",
   "execution_count": 38,
   "id": "4d6b9cb2-b432-498d-9cd5-7c30216a1a92",
   "metadata": {
    "tags": []
   },
   "outputs": [
    {
     "name": "stdout",
     "output_type": "stream",
     "text": [
      "Hello\n",
      "Hello\n",
      "Hello\n"
     ]
    }
   ],
   "source": [
    "for i in range(3):\n",
    "    print(\"Hello\")"
   ]
  },
  {
   "cell_type": "code",
   "execution_count": 39,
   "id": "1ab5fcaf-2b9b-44e4-8e6d-f14ee524dffd",
   "metadata": {
    "tags": []
   },
   "outputs": [
    {
     "data": {
      "text/plain": [
       "[0, 1, 2, 3, 4, 5, 6, 7, 8, 9]"
      ]
     },
     "execution_count": 39,
     "metadata": {},
     "output_type": "execute_result"
    }
   ],
   "source": [
    "list(range(10))"
   ]
  },
  {
   "cell_type": "markdown",
   "id": "ed81cca4-a787-44bd-8232-9576b650afda",
   "metadata": {},
   "source": [
    "### 6. ForEach Loop: \n",
    "(In Python, the for each loop is effectively the same as the for loop. It allows iterating over the elements of a collection directly.)\n",
    "\n",
    "The for each loop allows you to go through each element in a sequence without explicitly indexing the elements."
   ]
  },
  {
   "cell_type": "code",
   "execution_count": 40,
   "id": "a72ea179-9057-492d-85d2-893051ec0e4c",
   "metadata": {
    "tags": []
   },
   "outputs": [
    {
     "name": "stdout",
     "output_type": "stream",
     "text": [
      "1\n",
      "2\n",
      "3\n",
      "4\n",
      "5\n"
     ]
    }
   ],
   "source": [
    "# for each loop\n",
    "numbers = [1, 2, 3, 4, 5]\n",
    "\n",
    "for number in numbers:\n",
    "    print(number)\n"
   ]
  },
  {
   "cell_type": "code",
   "execution_count": 41,
   "id": "b4cd4864-4f64-404b-8304-b6e907633207",
   "metadata": {
    "tags": []
   },
   "outputs": [
    {
     "name": "stdout",
     "output_type": "stream",
     "text": [
      "2\n",
      "3\n",
      "4\n",
      "5\n",
      "6\n",
      "ineuron\n",
      "Arpit\n",
      "pwskills\n",
      "23.45\n",
      "True\n"
     ]
    }
   ],
   "source": [
    "collection = [2, 3, 4, 5, 6, 'ineuron', 'Arpit', 'pwskills', 23.45, True]\n",
    "\n",
    "for ele in collection:\n",
    "    print(ele)"
   ]
  }
 ],
 "metadata": {
  "kernelspec": {
   "display_name": "Python 3 (ipykernel)",
   "language": "python",
   "name": "python3"
  },
  "language_info": {
   "codemirror_mode": {
    "name": "ipython",
    "version": 3
   },
   "file_extension": ".py",
   "mimetype": "text/x-python",
   "name": "python",
   "nbconvert_exporter": "python",
   "pygments_lexer": "ipython3",
   "version": "3.11.3"
  }
 },
 "nbformat": 4,
 "nbformat_minor": 5
}
