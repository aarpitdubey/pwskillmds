{
 "cells": [
  {
   "cell_type": "markdown",
   "id": "fb3750fe-b836-41ca-a2d6-69d259a35a55",
   "metadata": {},
   "source": [
    "## Arithmetic Operators\n",
    "1. Addition (+)\n",
    "2. Substraction (-)\n",
    "3. Multiplication (*)\n",
    "4. Division (/)\n",
    "5. Modulus (%)\n",
    "6. floor Division (//)\n",
    "7. Exponent or power (**)\n"
   ]
  },
  {
   "cell_type": "code",
   "execution_count": 1,
   "id": "55a54d5a-8afe-4d4e-b2bb-2f7bd055495f",
   "metadata": {
    "tags": []
   },
   "outputs": [
    {
     "data": {
      "text/plain": [
       "3"
      ]
     },
     "execution_count": 1,
     "metadata": {},
     "output_type": "execute_result"
    }
   ],
   "source": [
    "# Addition\n",
    "\n",
    "1 + 2"
   ]
  },
  {
   "cell_type": "code",
   "execution_count": 2,
   "id": "b33bae39-a06d-4735-8eef-8fa0177ca076",
   "metadata": {
    "tags": []
   },
   "outputs": [
    {
     "data": {
      "text/plain": [
       "1"
      ]
     },
     "execution_count": 2,
     "metadata": {},
     "output_type": "execute_result"
    }
   ],
   "source": [
    "# Substraction\n",
    "\n",
    "1 - 0"
   ]
  },
  {
   "cell_type": "code",
   "execution_count": 3,
   "id": "219191c9-07bf-4096-b435-572a09e1c8c7",
   "metadata": {
    "tags": []
   },
   "outputs": [
    {
     "data": {
      "text/plain": [
       "10"
      ]
     },
     "execution_count": 3,
     "metadata": {},
     "output_type": "execute_result"
    }
   ],
   "source": [
    "# Multiplication\n",
    "\n",
    "2 * 5"
   ]
  },
  {
   "cell_type": "code",
   "execution_count": 4,
   "id": "a15d0c78-136a-4e49-b691-b0d72d49f6eb",
   "metadata": {
    "tags": []
   },
   "outputs": [
    {
     "data": {
      "text/plain": [
       "2.0"
      ]
     },
     "execution_count": 4,
     "metadata": {},
     "output_type": "execute_result"
    }
   ],
   "source": [
    "# Division (result in  float)\n",
    "\n",
    "4 / 2"
   ]
  },
  {
   "cell_type": "code",
   "execution_count": 5,
   "id": "748d8d87-51ab-4e4b-aac1-2c525491ff0a",
   "metadata": {
    "tags": []
   },
   "outputs": [
    {
     "data": {
      "text/plain": [
       "2"
      ]
     },
     "execution_count": 5,
     "metadata": {},
     "output_type": "execute_result"
    }
   ],
   "source": [
    "# Modulus \n",
    "\n",
    "2 % 4"
   ]
  },
  {
   "cell_type": "code",
   "execution_count": 6,
   "id": "efc1a7ea-1878-4f8d-a06e-387cde948d4b",
   "metadata": {
    "tags": []
   },
   "outputs": [
    {
     "data": {
      "text/plain": [
       "0"
      ]
     },
     "execution_count": 6,
     "metadata": {},
     "output_type": "execute_result"
    }
   ],
   "source": [
    "4 % 4"
   ]
  },
  {
   "cell_type": "code",
   "execution_count": 7,
   "id": "095f5a2a-a387-4f06-b72f-ebca23c0d258",
   "metadata": {
    "tags": []
   },
   "outputs": [
    {
     "data": {
      "text/plain": [
       "2"
      ]
     },
     "execution_count": 7,
     "metadata": {},
     "output_type": "execute_result"
    }
   ],
   "source": [
    "# Floor Division (result in int)\n",
    "\n",
    "4 // 2"
   ]
  },
  {
   "cell_type": "code",
   "execution_count": 8,
   "id": "47dbe3fe-4f33-4811-86a1-f1a5a9cde12e",
   "metadata": {
    "tags": []
   },
   "outputs": [
    {
     "data": {
      "text/plain": [
       "1"
      ]
     },
     "execution_count": 8,
     "metadata": {},
     "output_type": "execute_result"
    }
   ],
   "source": [
    "# Exponent operator or Power operator\n",
    "\n",
    "2**0"
   ]
  },
  {
   "cell_type": "code",
   "execution_count": 9,
   "id": "e6199d46-d21f-4706-9668-ef5c3efcf106",
   "metadata": {
    "tags": []
   },
   "outputs": [
    {
     "data": {
      "text/plain": [
       "2"
      ]
     },
     "execution_count": 9,
     "metadata": {},
     "output_type": "execute_result"
    }
   ],
   "source": [
    "2**1"
   ]
  },
  {
   "cell_type": "code",
   "execution_count": 10,
   "id": "4334b450-364b-4643-8017-eec4e76b246b",
   "metadata": {
    "tags": []
   },
   "outputs": [
    {
     "data": {
      "text/plain": [
       "4"
      ]
     },
     "execution_count": 10,
     "metadata": {},
     "output_type": "execute_result"
    }
   ],
   "source": [
    "2**2"
   ]
  },
  {
   "cell_type": "code",
   "execution_count": 11,
   "id": "be412680-a0b2-4308-9ff9-0b10c043f832",
   "metadata": {
    "tags": []
   },
   "outputs": [
    {
     "data": {
      "text/plain": [
       "8"
      ]
     },
     "execution_count": 11,
     "metadata": {},
     "output_type": "execute_result"
    }
   ],
   "source": [
    "2**3"
   ]
  },
  {
   "cell_type": "code",
   "execution_count": 12,
   "id": "fcb9c279-d9c2-4ff4-9537-d8e4cdf8316f",
   "metadata": {
    "tags": []
   },
   "outputs": [
    {
     "data": {
      "text/plain": [
       "16"
      ]
     },
     "execution_count": 12,
     "metadata": {},
     "output_type": "execute_result"
    }
   ],
   "source": [
    "2**4"
   ]
  },
  {
   "cell_type": "code",
   "execution_count": 13,
   "id": "4ec29e07-f219-42e1-ba0c-7b376062baa5",
   "metadata": {},
   "outputs": [
    {
     "data": {
      "text/plain": [
       "32"
      ]
     },
     "execution_count": 13,
     "metadata": {},
     "output_type": "execute_result"
    }
   ],
   "source": [
    "2**5"
   ]
  },
  {
   "attachments": {
    "f0f279de-e9f3-49e4-850e-7023fb90f980.png": {
     "image/png": "[encoded data removed]"
    }
   },
   "cell_type": "markdown",
   "id": "3229c554-806b-46e7-aa35-77263b65375d",
   "metadata": {
    "tags": []
   },
   "source": [
    "## Comparision Operator\n",
    "\n",
    "Comparison operators are used in programming to compare two values or variables. They allow us to determine the relationship between different values and make decisions based on those relationships. In Python, there are several comparison operators:\n",
    "\n",
    "1. Equal to (==): Checks if two values are equal.\n",
    "2. Not equal to (!=): Checks if two values are not equal.\n",
    "3. Greater than (>): Checks if the left operand is greater than the right operand.\n",
    "4. Less than (<): Checks if the left operand is less than the right operand.\n",
    "5. Greater than or equal to (>=): Checks if the left operand is greater than or equal to the right operand.\n",
    "6. Less than or equal to (<=): Checks if the left operand is less than or equal to the right operand.\n",
    "\n",
    "```python\n",
    "\n",
    "1 < 2 # True\n",
    "\n",
    "1 > 2 # False\n",
    "\n",
    "```\n",
    "\n",
    "![image.png](attachment:f0f279de-e9f3-49e4-850e-7023fb90f980.png)\n"
   ]
  },
  {
   "cell_type": "code",
   "execution_count": 14,
   "id": "d857a5ca-19dd-4f90-a235-7a27f66c999b",
   "metadata": {
    "tags": []
   },
   "outputs": [
    {
     "data": {
      "text/plain": [
       "True"
      ]
     },
     "execution_count": 14,
     "metadata": {},
     "output_type": "execute_result"
    }
   ],
   "source": [
    "1 < 2"
   ]
  },
  {
   "cell_type": "code",
   "execution_count": 15,
   "id": "9975102c-141d-4ac1-9948-d7afa3823f05",
   "metadata": {
    "tags": []
   },
   "outputs": [
    {
     "data": {
      "text/plain": [
       "False"
      ]
     },
     "execution_count": 15,
     "metadata": {},
     "output_type": "execute_result"
    }
   ],
   "source": [
    "1 > 2"
   ]
  },
  {
   "cell_type": "code",
   "execution_count": 16,
   "id": "dc05db4a-8d58-48de-bed1-f944d55f8180",
   "metadata": {
    "tags": []
   },
   "outputs": [
    {
     "data": {
      "text/plain": [
       "False"
      ]
     },
     "execution_count": 16,
     "metadata": {},
     "output_type": "execute_result"
    }
   ],
   "source": [
    "1 == 2"
   ]
  },
  {
   "cell_type": "code",
   "execution_count": 17,
   "id": "d72d6ba9-1ca3-4c63-b035-1dfc5e88525e",
   "metadata": {
    "tags": []
   },
   "outputs": [
    {
     "data": {
      "text/plain": [
       "True"
      ]
     },
     "execution_count": 17,
     "metadata": {},
     "output_type": "execute_result"
    }
   ],
   "source": [
    "1 == 1"
   ]
  },
  {
   "cell_type": "code",
   "execution_count": 18,
   "id": "bd31c777-b6e8-457a-b1bb-3ad2111c22c3",
   "metadata": {
    "tags": []
   },
   "outputs": [
    {
     "data": {
      "text/plain": [
       "True"
      ]
     },
     "execution_count": 18,
     "metadata": {},
     "output_type": "execute_result"
    }
   ],
   "source": [
    "1 != 2 # 1 is not equal to 2"
   ]
  },
  {
   "cell_type": "code",
   "execution_count": 19,
   "id": "68515a69-b015-4f58-a1bb-7e6b1fc1b758",
   "metadata": {
    "tags": []
   },
   "outputs": [
    {
     "data": {
      "text/plain": [
       "False"
      ]
     },
     "execution_count": 19,
     "metadata": {},
     "output_type": "execute_result"
    }
   ],
   "source": [
    "1 != 1 # 1 is not equal to 1"
   ]
  },
  {
   "cell_type": "code",
   "execution_count": 20,
   "id": "4abf2184-0d85-4533-bf8b-8f629a76a114",
   "metadata": {
    "tags": []
   },
   "outputs": [
    {
     "data": {
      "text/plain": [
       "False"
      ]
     },
     "execution_count": 20,
     "metadata": {},
     "output_type": "execute_result"
    }
   ],
   "source": [
    "2 > 2"
   ]
  },
  {
   "cell_type": "code",
   "execution_count": 21,
   "id": "cba31977-32e6-4368-a87c-8b5d229bb9a0",
   "metadata": {
    "tags": []
   },
   "outputs": [
    {
     "data": {
      "text/plain": [
       "True"
      ]
     },
     "execution_count": 21,
     "metadata": {},
     "output_type": "execute_result"
    }
   ],
   "source": [
    "2 >= 2"
   ]
  },
  {
   "cell_type": "code",
   "execution_count": 22,
   "id": "6c3244ca-889d-47d2-93dc-a63ca98f824b",
   "metadata": {
    "tags": []
   },
   "outputs": [
    {
     "data": {
      "text/plain": [
       "False"
      ]
     },
     "execution_count": 22,
     "metadata": {},
     "output_type": "execute_result"
    }
   ],
   "source": [
    " 2 < 2"
   ]
  },
  {
   "cell_type": "code",
   "execution_count": 23,
   "id": "6d1f948d-db16-4de4-addc-60745e2e189e",
   "metadata": {
    "tags": []
   },
   "outputs": [
    {
     "data": {
      "text/plain": [
       "True"
      ]
     },
     "execution_count": 23,
     "metadata": {},
     "output_type": "execute_result"
    }
   ],
   "source": [
    "2 <= 2"
   ]
  },
  {
   "cell_type": "code",
   "execution_count": 24,
   "id": "24b5c460-f4fb-4730-8d8c-c10bf8a69cd8",
   "metadata": {
    "tags": []
   },
   "outputs": [
    {
     "data": {
      "text/plain": [
       "True"
      ]
     },
     "execution_count": 24,
     "metadata": {},
     "output_type": "execute_result"
    }
   ],
   "source": [
    " True and True # In case of and operator when both are True then, it gives True otherwise False"
   ]
  },
  {
   "cell_type": "code",
   "execution_count": 25,
   "id": "d82e46fc-f300-4cf9-8a2c-e9675ed56766",
   "metadata": {
    "tags": []
   },
   "outputs": [
    {
     "data": {
      "text/plain": [
       "False"
      ]
     },
     "execution_count": 25,
     "metadata": {},
     "output_type": "execute_result"
    }
   ],
   "source": [
    "True and False # it'll gives False"
   ]
  },
  {
   "cell_type": "code",
   "execution_count": 26,
   "id": "250595b3-105c-4c3c-933a-57822aaadefc",
   "metadata": {
    "tags": []
   },
   "outputs": [
    {
     "data": {
      "text/plain": [
       "0"
      ]
     },
     "execution_count": 26,
     "metadata": {},
     "output_type": "execute_result"
    }
   ],
   "source": [
    "1 and 0"
   ]
  },
  {
   "cell_type": "code",
   "execution_count": 27,
   "id": "33c49c41-81bb-4bad-bfe8-0c87e41bb6d4",
   "metadata": {
    "tags": []
   },
   "outputs": [
    {
     "data": {
      "text/plain": [
       "1"
      ]
     },
     "execution_count": 27,
     "metadata": {},
     "output_type": "execute_result"
    }
   ],
   "source": [
    "1 and 1"
   ]
  },
  {
   "cell_type": "code",
   "execution_count": 28,
   "id": "5b1b3065-d5dc-4208-ac22-bcaa989ea29c",
   "metadata": {
    "tags": []
   },
   "outputs": [
    {
     "data": {
      "text/plain": [
       "False"
      ]
     },
     "execution_count": 28,
     "metadata": {},
     "output_type": "execute_result"
    }
   ],
   "source": [
    "not True"
   ]
  },
  {
   "cell_type": "code",
   "execution_count": 29,
   "id": "bc18d4b5-3944-4018-986d-ac486a6da15d",
   "metadata": {
    "tags": []
   },
   "outputs": [
    {
     "data": {
      "text/plain": [
       "False"
      ]
     },
     "execution_count": 29,
     "metadata": {},
     "output_type": "execute_result"
    }
   ],
   "source": [
    "not 1"
   ]
  },
  {
   "cell_type": "code",
   "execution_count": 30,
   "id": "fed8e907-adcd-46a0-af04-b47624e5236f",
   "metadata": {
    "tags": []
   },
   "outputs": [
    {
     "data": {
      "text/plain": [
       "1"
      ]
     },
     "execution_count": 30,
     "metadata": {},
     "output_type": "execute_result"
    }
   ],
   "source": [
    "1 or 0"
   ]
  },
  {
   "cell_type": "code",
   "execution_count": 31,
   "id": "f409c753-d5d9-4792-ab73-d5c73e31aab0",
   "metadata": {
    "tags": []
   },
   "outputs": [
    {
     "data": {
      "text/plain": [
       "True"
      ]
     },
     "execution_count": 31,
     "metadata": {},
     "output_type": "execute_result"
    }
   ],
   "source": [
    "True or False"
   ]
  },
  {
   "cell_type": "code",
   "execution_count": 32,
   "id": "a1c712f0-01ff-4820-b238-890a7b250b42",
   "metadata": {
    "tags": []
   },
   "outputs": [
    {
     "data": {
      "text/plain": [
       "0"
      ]
     },
     "execution_count": 32,
     "metadata": {},
     "output_type": "execute_result"
    }
   ],
   "source": [
    "0 or 0"
   ]
  },
  {
   "cell_type": "code",
   "execution_count": 33,
   "id": "ce0cf328-dc7c-4c43-89fc-adf5d6b5e559",
   "metadata": {
    "tags": []
   },
   "outputs": [
    {
     "data": {
      "text/plain": [
       "False"
      ]
     },
     "execution_count": 33,
     "metadata": {},
     "output_type": "execute_result"
    }
   ],
   "source": [
    "False or False"
   ]
  },
  {
   "cell_type": "markdown",
   "id": "f3b04e5b-5c53-449d-b8d8-30def5b0197f",
   "metadata": {},
   "source": [
    "## Bit-wise Operator\n",
    "\n",
    "Bitwise operators are used to perform operations on individual bits of binary numbers. In Python, the bitwise operators are:\n",
    "\n",
    "1. AND (&): Sets each bit to 1 if both bits are 1.\n",
    "2. OR (|): Sets each bit to 1 if at least one of the bits is 1.\n",
    "3. XOR (^): Sets each bit to 1 if only one of the bits is 1.\n",
    "4. Complement (~): Flips the bits, resulting from a unary operation.\n",
    "5. Left Shift (<<): Shifts the bits to the left by a specified number of positions.\n",
    "6. Right Shift (>>): Shifts the bits to the right by a specified number of positions.\n",
    "\n",
    "Let's use the example of 10 & 4 to illustrate the bitwise AND operator:\n",
    "\n",
    "```plaintext\n",
    "   10 = 1010\n",
    "&   4 = 0100\n",
    "----------------\n",
    "   0  = 0000\n",
    "```\n",
    "In this example, performing a bitwise AND operation on 10 and 4, we compare their binary representations bit by bit and apply the AND operator. The result is 0 in binary, which is equivalent to 0 in decimal.\n",
    "\n",
    "So, the expression 10 & 4 evaluates to 0 in decimal.\n",
    "\n",
    "Bitwise operators are useful in scenarios such as low-level programming, cryptography, and hardware manipulation, where the manipulation of individual bits is necessary. They can also be employed in optimizing certain algorithms and data storage mechanisms."
   ]
  },
  {
   "cell_type": "code",
   "execution_count": 34,
   "id": "2d393cbd-8e4d-4745-8f40-a278adcc79ef",
   "metadata": {},
   "outputs": [
    {
     "data": {
      "text/plain": [
       "0"
      ]
     },
     "execution_count": 34,
     "metadata": {},
     "output_type": "execute_result"
    }
   ],
   "source": [
    "10 & 4"
   ]
  },
  {
   "cell_type": "code",
   "execution_count": 35,
   "id": "838efb35-6db4-4e70-8c4b-ed6f2e9deb70",
   "metadata": {
    "tags": []
   },
   "outputs": [
    {
     "data": {
      "text/plain": [
       "'0b1010'"
      ]
     },
     "execution_count": 35,
     "metadata": {},
     "output_type": "execute_result"
    }
   ],
   "source": [
    "bin(10) #1010"
   ]
  },
  {
   "cell_type": "code",
   "execution_count": 36,
   "id": "ca5a77f2-96ab-4448-95da-f467e5c68616",
   "metadata": {
    "tags": []
   },
   "outputs": [
    {
     "data": {
      "text/plain": [
       "'0b100'"
      ]
     },
     "execution_count": 36,
     "metadata": {},
     "output_type": "execute_result"
    }
   ],
   "source": [
    "bin(4) #0100"
   ]
  },
  {
   "attachments": {
    "bf71addf-3bfa-4052-9158-888d0d079acc.png": {
     "image/png": "[encoded data removed]"
    }
   },
   "cell_type": "markdown",
   "id": "2b78f4e9-8e27-4c68-80e0-aa927e619965",
   "metadata": {},
   "source": [
    "![image.png](attachment:bf71addf-3bfa-4052-9158-888d0d079acc.png)"
   ]
  },
  {
   "cell_type": "code",
   "execution_count": 45,
   "id": "644d9c7e-dd45-46d7-bc00-cb8567569746",
   "metadata": {
    "tags": []
   },
   "outputs": [
    {
     "data": {
      "text/plain": [
       "'0b0'"
      ]
     },
     "execution_count": 45,
     "metadata": {},
     "output_type": "execute_result"
    }
   ],
   "source": [
    "bin(0)"
   ]
  },
  {
   "cell_type": "code",
   "execution_count": 37,
   "id": "48b18dd5-42c0-4b1f-9347-0cadcb14fc46",
   "metadata": {
    "tags": []
   },
   "outputs": [
    {
     "data": {
      "text/plain": [
       "20"
      ]
     },
     "execution_count": 37,
     "metadata": {},
     "output_type": "execute_result"
    }
   ],
   "source": [
    "23 & 20"
   ]
  },
  {
   "cell_type": "code",
   "execution_count": 38,
   "id": "5148f168-cae1-4ada-8fcf-7167c932b253",
   "metadata": {
    "tags": []
   },
   "outputs": [
    {
     "data": {
      "text/plain": [
       "'0b10111'"
      ]
     },
     "execution_count": 38,
     "metadata": {},
     "output_type": "execute_result"
    }
   ],
   "source": [
    "bin(23) #10111"
   ]
  },
  {
   "cell_type": "code",
   "execution_count": 39,
   "id": "f590d26b-6511-41e0-bca7-aa34f2172cae",
   "metadata": {
    "tags": []
   },
   "outputs": [
    {
     "data": {
      "text/plain": [
       "'0b10100'"
      ]
     },
     "execution_count": 39,
     "metadata": {},
     "output_type": "execute_result"
    }
   ],
   "source": [
    "bin(20) #10100"
   ]
  },
  {
   "attachments": {
    "b0497483-3b68-470a-a87a-d333a1549ab5.png": {
     "image/png": "[encoded data removed]"
    }
   },
   "cell_type": "markdown",
   "id": "cd679748-f658-47d7-a709-07099d4a2442",
   "metadata": {},
   "source": [
    "![image.png](attachment:b0497483-3b68-470a-a87a-d333a1549ab5.png)"
   ]
  },
  {
   "cell_type": "code",
   "execution_count": 43,
   "id": "a650f58b-4d6a-4fee-bd7b-321517a0228c",
   "metadata": {
    "tags": []
   },
   "outputs": [
    {
     "data": {
      "text/plain": [
       "'0b10100'"
      ]
     },
     "execution_count": 43,
     "metadata": {},
     "output_type": "execute_result"
    }
   ],
   "source": [
    "bin(20)"
   ]
  },
  {
   "cell_type": "code",
   "execution_count": 40,
   "id": "df3ff8a8-9859-4717-9c27-78b2da913942",
   "metadata": {
    "tags": []
   },
   "outputs": [
    {
     "data": {
      "text/plain": [
       "15"
      ]
     },
     "execution_count": 40,
     "metadata": {},
     "output_type": "execute_result"
    }
   ],
   "source": [
    "11 | 6"
   ]
  },
  {
   "cell_type": "markdown",
   "id": "280f4737-a384-4b38-924a-3c4a2936db29",
   "metadata": {},
   "source": [
    "The binary representation of 11 is 1011, and the binary representation of 6 is 0110.\n",
    "\n",
    "Performing the bitwise OR operation:\n",
    "```\n",
    "   11 = 1011\n",
    "    6 = 0110\n",
    "----------------\n",
    "Result = 1111\n",
    "```\n",
    "\n",
    "In this operation, the bitwise OR operator compares each pair of bits at the corresponding positions. If at least one of the bits is 1, the resulting bit will be set to 1. Otherwise, it will be 0.\n",
    "\n",
    "After performing the bitwise OR operation on 11 and 6, the result is 1111 in binary, which is equivalent to 15 in decimal.\n",
    "\n",
    "In Python, the expression 11 | 6 evaluates to 15 in decimal.\n",
    "\n",
    "Bitwise operators are valuable when dealing with low-level programming, binary flags, and certain optimization techniques. They are also used in scenarios involving bit manipulation and certain types of data encoding."
   ]
  },
  {
   "cell_type": "code",
   "execution_count": 41,
   "id": "31ad844c-ae9a-475d-938c-c2dc790e300b",
   "metadata": {
    "tags": []
   },
   "outputs": [
    {
     "data": {
      "text/plain": [
       "'0b1011'"
      ]
     },
     "execution_count": 41,
     "metadata": {},
     "output_type": "execute_result"
    }
   ],
   "source": [
    "bin(11)"
   ]
  },
  {
   "cell_type": "code",
   "execution_count": 42,
   "id": "4c5ba3e7-b00f-4206-b515-7764fd5dd623",
   "metadata": {
    "tags": []
   },
   "outputs": [
    {
     "data": {
      "text/plain": [
       "'0b110'"
      ]
     },
     "execution_count": 42,
     "metadata": {},
     "output_type": "execute_result"
    }
   ],
   "source": [
    "bin(6)"
   ]
  },
  {
   "attachments": {
    "0b74570a-0b92-47c3-b15c-601695e8bcae.png": {
     "image/png": "[encoded data removed]"
    }
   },
   "cell_type": "markdown",
   "id": "aa29eca5-baf0-4ede-8dba-34a30d9c792d",
   "metadata": {},
   "source": [
    "![image.png](attachment:0b74570a-0b92-47c3-b15c-601695e8bcae.png)"
   ]
  },
  {
   "cell_type": "code",
   "execution_count": 44,
   "id": "37934829-e5a1-4da3-a813-fb851a022730",
   "metadata": {
    "tags": []
   },
   "outputs": [
    {
     "data": {
      "text/plain": [
       "'0b1111'"
      ]
     },
     "execution_count": 44,
     "metadata": {},
     "output_type": "execute_result"
    }
   ],
   "source": [
    "bin(15)"
   ]
  },
  {
   "cell_type": "code",
   "execution_count": 46,
   "id": "00d46d49-1991-43db-86da-acb3cde1b27c",
   "metadata": {
    "tags": []
   },
   "outputs": [
    {
     "data": {
      "text/plain": [
       "-13"
      ]
     },
     "execution_count": 46,
     "metadata": {},
     "output_type": "execute_result"
    }
   ],
   "source": [
    "~12"
   ]
  },
  {
   "cell_type": "markdown",
   "id": "947bf20f-5607-44f4-9786-1c483dd4ab88",
   "metadata": {},
   "source": [
    "The bitwise NOT operator, denoted as ~, performs a unary operation that flips each bit of the operand. When applied to the number 12, which is represented in binary as 1100, the ~12 operation flips each bit to its opposite:\n",
    "\n",
    "```\n",
    "  12 = 1100\n",
    "~12 =  0011\n",
    "```\n",
    "\n",
    "After applying the bitwise NOT operation to 12, the result is 0011 in binary, which is equivalent to 3 in decimal.\n",
    "\n",
    "In Python, the expression ~12 evaluates to -13 due to the two's complement representation of signed integers.\n",
    "\n",
    "The bitwise NOT operator is useful for scenarios such as flipping the bits of a number, toggling specific flags in a bit field, and other low-level bit manipulation tasks. "
   ]
  },
  {
   "cell_type": "code",
   "execution_count": 47,
   "id": "a299b015-031b-4b10-8421-9ab2551f261f",
   "metadata": {
    "tags": []
   },
   "outputs": [
    {
     "data": {
      "text/plain": [
       "'0b1100'"
      ]
     },
     "execution_count": 47,
     "metadata": {},
     "output_type": "execute_result"
    }
   ],
   "source": [
    "bin(12)"
   ]
  },
  {
   "cell_type": "code",
   "execution_count": 48,
   "id": "8c71e43a-d9cd-4adf-9a75-d52e2d442931",
   "metadata": {
    "tags": []
   },
   "outputs": [
    {
     "data": {
      "text/plain": [
       "'0b1101'"
      ]
     },
     "execution_count": 48,
     "metadata": {},
     "output_type": "execute_result"
    }
   ],
   "source": [
    "bin(13)"
   ]
  },
  {
   "attachments": {
    "d251a5f8-dd0c-4f52-bc48-2034a158780d.png": {
     "image/png": "[encoded data removed]"
    }
   },
   "cell_type": "markdown",
   "id": "165bed64-2120-4004-b64b-7cf0b99b64d4",
   "metadata": {},
   "source": [
    "![image.png](attachment:d251a5f8-dd0c-4f52-bc48-2034a158780d.png)"
   ]
  },
  {
   "cell_type": "code",
   "execution_count": 49,
   "id": "957beba8-b6ce-4f41-babf-eedce2422e1c",
   "metadata": {
    "tags": []
   },
   "outputs": [],
   "source": [
    "right_shift = 8"
   ]
  },
  {
   "cell_type": "markdown",
   "id": "75df56d1-8d9c-4153-a5b0-7cd8f631f8e2",
   "metadata": {},
   "source": [
    "The right shift bitwise operator (>>) is used to shift the bits of a number to the right by a specified number of positions. When we apply the right shift operator to the number 8, we can observe the following results:\n",
    "\n",
    "1. Right Shift by 2 (8 >> 2):\n",
    "\n",
    "The binary representation of 8 is 1000. When we shift the bits to the right by 2 positions, we get:\n",
    "\n",
    "```\n",
    "  8 =  1000\n",
    "8 >> 2 =   10\n",
    "```\n",
    "\n",
    "After shifting the bits of 8 by 2 positions to the right, the result is 10 in binary, which equals 2 in decimal.\n",
    "\n",
    "2. Right Shift by 3 (8 >> 3):\n",
    "\n",
    "Continuing with the operation, when we further shift the bits of 8 to the right by 3 positions, we have:\n",
    "\n",
    "```\n",
    "  8 =  1000\n",
    "8 >> 3 =    1\n",
    "```\n",
    "\n",
    "After the right shift by 3 positions, the result is 1 in binary, which equals 1 in decimal.\n",
    "\n",
    "3. Right Shift by 4 (8 >> 4):\n",
    "\n",
    "Lastly, when we perform the right shift by 4 positions:\n",
    "\n",
    "```\n",
    "  8 =  1000\n",
    "8 >> 4 =    0\n",
    "```\n",
    "\n",
    "After shifting the bits of 8 to the right by 4 positions, the result is 0 in binary, which also equals 0 in decimal.\n",
    "\n",
    "In Python, the expressions for each of these right shift operations would be as follows:\n",
    "```python\n",
    "right_shift = 8\n",
    "result_2 = right_shift >> 2  # The result would be 2\n",
    "result_3 = right_shift >> 3  # The result would be 1\n",
    "result_4 = right_shift >> 4  # The result would be 0\n",
    "```\n",
    "\n",
    "Right shift operations are commonly used in scenarios where we need to divide a number by powers of 2 effectively or when dealing with specific low-level manipulation tasks."
   ]
  },
  {
   "cell_type": "code",
   "execution_count": 50,
   "id": "92bd75c3-3cb5-4371-9fa5-87dd993b794d",
   "metadata": {
    "tags": []
   },
   "outputs": [
    {
     "data": {
      "text/plain": [
       "2"
      ]
     },
     "execution_count": 50,
     "metadata": {},
     "output_type": "execute_result"
    }
   ],
   "source": [
    "right_shift >> 2"
   ]
  },
  {
   "cell_type": "code",
   "execution_count": 51,
   "id": "cf89bad5-c5af-4c99-a20d-958f1dc4ab7b",
   "metadata": {
    "tags": []
   },
   "outputs": [
    {
     "data": {
      "text/plain": [
       "1"
      ]
     },
     "execution_count": 51,
     "metadata": {},
     "output_type": "execute_result"
    }
   ],
   "source": [
    "right_shift >> 3"
   ]
  },
  {
   "cell_type": "code",
   "execution_count": 52,
   "id": "bf759962-cd53-46f2-9ce4-a8daa3930d1c",
   "metadata": {
    "tags": []
   },
   "outputs": [
    {
     "data": {
      "text/plain": [
       "0"
      ]
     },
     "execution_count": 52,
     "metadata": {},
     "output_type": "execute_result"
    }
   ],
   "source": [
    "right_shift >> 4"
   ]
  },
  {
   "cell_type": "code",
   "execution_count": null,
   "id": "a6e0bb30-7b87-4283-8da8-3a83bbd58bc6",
   "metadata": {},
   "outputs": [],
   "source": []
  }
 ],
 "metadata": {
  "kernelspec": {
   "display_name": "Python 3 (ipykernel)",
   "language": "python",
   "name": "python3"
  },
  "language_info": {
   "codemirror_mode": {
    "name": "ipython",
    "version": 3
   },
   "file_extension": ".py",
   "mimetype": "text/x-python",
   "name": "python",
   "nbconvert_exporter": "python",
   "pygments_lexer": "ipython3",
   "version": "3.11.3"
  }
 },
 "nbformat": 4,
 "nbformat_minor": 5
}
