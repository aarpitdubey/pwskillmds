{
 "cells": [
  {
   "cell_type": "code",
   "execution_count": 1,
   "metadata": {},
   "outputs": [
    {
     "name": "stdout",
     "output_type": "stream",
     "text": [
      "Pinged your deployment Mr. Arpit Dubey. You are successfully connected to MongoDB!\n"
     ]
    }
   ],
   "source": [
    "\n",
    "from pymongo.mongo_client import MongoClient\n",
    "\n",
    "uri = \"mongodb+srv://aarpitdubey:<password>@cluster0.celbfi0.mongodb.net/?retryWrites=true&w=majority\"\n",
    "\n",
    "# Create a new client and connect to the server\n",
    "client = MongoClient(uri)\n",
    "\n",
    "# Send a ping to confirm a successful connection\n",
    "try:\n",
    "    client.admin.command('ping')\n",
    "    print(\"Pinged your deployment Mr. Arpit Dubey. You are successfully connected to MongoDB!\")\n",
    "except Exception as e:\n",
    "    print(e)"
   ]
  },
  {
   "cell_type": "code",
   "execution_count": 2,
   "metadata": {},
   "outputs": [],
   "source": [
    "db = client.test"
   ]
  },
  {
   "cell_type": "code",
   "execution_count": 3,
   "metadata": {},
   "outputs": [
    {
     "data": {
      "text/plain": [
       "Database(MongoClient(host=['ac-fqvvbin-shard-00-02.celbfi0.mongodb.net:27017', 'ac-fqvvbin-shard-00-00.celbfi0.mongodb.net:27017', 'ac-fqvvbin-shard-00-01.celbfi0.mongodb.net:27017'], document_class=dict, tz_aware=False, connect=True, retrywrites=True, w='majority', authsource='admin', replicaset='atlas-2dm4y4-shard-0', tls=True), 'test')"
      ]
     },
     "execution_count": 3,
     "metadata": {},
     "output_type": "execute_result"
    }
   ],
   "source": [
    "db"
   ]
  },
  {
   "cell_type": "code",
   "execution_count": 4,
   "metadata": {},
   "outputs": [],
   "source": [
    "# Creating a Database \n",
    "db = client['ineuron']"
   ]
  },
  {
   "cell_type": "code",
   "execution_count": 5,
   "metadata": {},
   "outputs": [],
   "source": [
    "data = {\n",
    "    \"name\" : \"Arpit Dubey\",\n",
    "    \"class\": \"Data Science Masters\",\n",
    "    \"time\" : \"Flexi\"\n",
    "}"
   ]
  },
  {
   "cell_type": "code",
   "execution_count": 6,
   "metadata": {},
   "outputs": [],
   "source": [
    "# Creating a Collection (or ~ Table)\n",
    "collection_ineuron = db['my_record']"
   ]
  },
  {
   "cell_type": "code",
   "execution_count": 7,
   "metadata": {},
   "outputs": [
    {
     "data": {
      "text/plain": [
       "InsertOneResult(ObjectId('65b6c539ab6514bb6dac1fa6'), acknowledged=True)"
      ]
     },
     "execution_count": 7,
     "metadata": {},
     "output_type": "execute_result"
    }
   ],
   "source": [
    "collection_ineuron.insert_one(data)"
   ]
  },
  {
   "cell_type": "code",
   "execution_count": 8,
   "metadata": {},
   "outputs": [],
   "source": [
    "details = {\n",
    "    \"email\"         : \"aarpitdubey@gmail.com\",\n",
    "    \"phone_number\"  : 8251999950,\n",
    "    \"address\"       : \"bangalore\"\n",
    "}"
   ]
  },
  {
   "cell_type": "code",
   "execution_count": 9,
   "metadata": {},
   "outputs": [
    {
     "data": {
      "text/plain": [
       "InsertOneResult(ObjectId('65b6c53aab6514bb6dac1fa7'), acknowledged=True)"
      ]
     },
     "execution_count": 9,
     "metadata": {},
     "output_type": "execute_result"
    }
   ],
   "source": [
    "collection_ineuron.insert_one(details)"
   ]
  },
  {
   "cell_type": "code",
   "execution_count": 10,
   "metadata": {},
   "outputs": [],
   "source": [
    "customer_records = [\n",
    "  { \"name\": \"Arpit\", \"address\": \"Bangalore street 12\" },\n",
    "  { \"name\": \"Hannah\", \"address\": \"Mountain 21\" },\n",
    "  { \"name\": \"Michael\", \"address\": \"Valley 345\" },\n",
    "  { \"name\": \"Sandy\", \"address\": \"Ocean blvd 2\" },\n",
    "  { \"name\": \"Betty\", \"address\": \"Green Grass 1\" },\n",
    "  { \"name\": \"Richard\", \"address\": \"Sky st 331\" },\n",
    "  { \"name\": \"Susan\", \"address\": \"One way 98\" },\n",
    "  { \"name\": \"Vicky\", \"address\": \"Yellow Garden 2\" },\n",
    "  { \"name\": \"Ben\", \"address\": \"Park Lane 38\" },\n",
    "  { \"name\": \"William\", \"address\": \"Central st 954\" },\n",
    "  { \"name\": \"Chuck\", \"address\": \"Main Road 989\" },\n",
    "  { \"name\": \"Viola\", \"address\": \"Sideway 1633\" }\n",
    "]"
   ]
  },
  {
   "cell_type": "code",
   "execution_count": 11,
   "metadata": {},
   "outputs": [
    {
     "data": {
      "text/plain": [
       "InsertManyResult([ObjectId('65b6c53aab6514bb6dac1fa8'), ObjectId('65b6c53aab6514bb6dac1fa9'), ObjectId('65b6c53aab6514bb6dac1faa'), ObjectId('65b6c53aab6514bb6dac1fab'), ObjectId('65b6c53aab6514bb6dac1fac'), ObjectId('65b6c53aab6514bb6dac1fad'), ObjectId('65b6c53aab6514bb6dac1fae'), ObjectId('65b6c53aab6514bb6dac1faf'), ObjectId('65b6c53aab6514bb6dac1fb0'), ObjectId('65b6c53aab6514bb6dac1fb1'), ObjectId('65b6c53aab6514bb6dac1fb2'), ObjectId('65b6c53aab6514bb6dac1fb3')], acknowledged=True)"
      ]
     },
     "execution_count": 11,
     "metadata": {},
     "output_type": "execute_result"
    }
   ],
   "source": [
    "collection_ineuron.insert_many(customer_records)"
   ]
  },
  {
   "cell_type": "code",
   "execution_count": 12,
   "metadata": {},
   "outputs": [],
   "source": [
    "notebook_logs = {\n",
    "    \"name\"  : \"notebook\",\n",
    "    \"qty\"   : 50,\n",
    "    \"rating\": [{\"score\": 8}, {\"score\": 9}],\n",
    "    \"size\"  : {\"height\": 11, \"width\": 8.5, \"unit\": \"in\"},\n",
    "    \"status\": \"A\",\n",
    "    \"tags\"  : [\"college-ruled\", \"perforated\"]\n",
    "}"
   ]
  },
  {
   "cell_type": "code",
   "execution_count": 13,
   "metadata": {},
   "outputs": [
    {
     "data": {
      "text/plain": [
       "InsertOneResult(ObjectId('65b6c53aab6514bb6dac1fb4'), acknowledged=True)"
      ]
     },
     "execution_count": 13,
     "metadata": {},
     "output_type": "execute_result"
    }
   ],
   "source": [
    "collection_ineuron.insert_one(notebook_logs)"
   ]
  },
  {
   "cell_type": "code",
   "execution_count": 14,
   "metadata": {},
   "outputs": [],
   "source": [
    "list_of_records = [\n",
    "    \n",
    "    {'companyName'  : 'iNeuron',\n",
    "     'product'      : 'Affordable AI',\n",
    "     'courseOffered': 'Machine Learning with Deployment'},\n",
    "    \n",
    "    {'companyName'    : 'iNeuron',\n",
    "     'product'        : 'Affordable AI',\n",
    "     'coursedOffered' : 'Deep Learning for NLP and Computer Vision'},\n",
    "    \n",
    "    {'companyName'  : 'iNeuron',\n",
    "     'product'      : 'Master Program',\n",
    "     'courseOffered': 'Data Science Masters Program'}\n",
    "\n",
    "]"
   ]
  },
  {
   "cell_type": "code",
   "execution_count": 15,
   "metadata": {},
   "outputs": [
    {
     "data": {
      "text/plain": [
       "InsertManyResult([ObjectId('65b6c53aab6514bb6dac1fb5'), ObjectId('65b6c53aab6514bb6dac1fb6'), ObjectId('65b6c53aab6514bb6dac1fb7')], acknowledged=True)"
      ]
     },
     "execution_count": 15,
     "metadata": {},
     "output_type": "execute_result"
    }
   ],
   "source": [
    "collection_ineuron.insert_many(list_of_records)"
   ]
  },
  {
   "cell_type": "code",
   "execution_count": 16,
   "metadata": {},
   "outputs": [
    {
     "data": {
      "text/plain": [
       "{'_id': ObjectId('65b6c539ab6514bb6dac1fa6'),\n",
       " 'name': 'Arpit Dubey',\n",
       " 'class': 'Data Science Masters',\n",
       " 'time': 'Flexi'}"
      ]
     },
     "execution_count": 16,
     "metadata": {},
     "output_type": "execute_result"
    }
   ],
   "source": [
    "collection_ineuron.find_one()"
   ]
  },
  {
   "cell_type": "code",
   "execution_count": 17,
   "metadata": {},
   "outputs": [
    {
     "name": "stdout",
     "output_type": "stream",
     "text": [
      "{'_id': ObjectId('65b6c539ab6514bb6dac1fa6'), 'name': 'Arpit Dubey', 'class': 'Data Science Masters', 'time': 'Flexi'}\n",
      "{'_id': ObjectId('65b6c53aab6514bb6dac1fa7'), 'email': 'aarpitdubey@gmail.com', 'phone_number': 8251999950, 'address': 'bangalore'}\n",
      "{'_id': ObjectId('65b6c53aab6514bb6dac1fa8'), 'name': 'Arpit', 'address': 'Bangalore street 12'}\n",
      "{'_id': ObjectId('65b6c53aab6514bb6dac1fa9'), 'name': 'Hannah', 'address': 'Mountain 21'}\n",
      "{'_id': ObjectId('65b6c53aab6514bb6dac1faa'), 'name': 'Michael', 'address': 'Valley 345'}\n",
      "{'_id': ObjectId('65b6c53aab6514bb6dac1fab'), 'name': 'Sandy', 'address': 'Ocean blvd 2'}\n",
      "{'_id': ObjectId('65b6c53aab6514bb6dac1fac'), 'name': 'Betty', 'address': 'Green Grass 1'}\n",
      "{'_id': ObjectId('65b6c53aab6514bb6dac1fad'), 'name': 'Richard', 'address': 'Sky st 331'}\n",
      "{'_id': ObjectId('65b6c53aab6514bb6dac1fae'), 'name': 'Susan', 'address': 'One way 98'}\n",
      "{'_id': ObjectId('65b6c53aab6514bb6dac1faf'), 'name': 'Vicky', 'address': 'Yellow Garden 2'}\n",
      "{'_id': ObjectId('65b6c53aab6514bb6dac1fb0'), 'name': 'Ben', 'address': 'Park Lane 38'}\n",
      "{'_id': ObjectId('65b6c53aab6514bb6dac1fb1'), 'name': 'William', 'address': 'Central st 954'}\n",
      "{'_id': ObjectId('65b6c53aab6514bb6dac1fb2'), 'name': 'Chuck', 'address': 'Main Road 989'}\n",
      "{'_id': ObjectId('65b6c53aab6514bb6dac1fb3'), 'name': 'Viola', 'address': 'Sideway 1633'}\n",
      "{'_id': ObjectId('65b6c53aab6514bb6dac1fb4'), 'name': 'notebook', 'qty': 50, 'rating': [{'score': 8}, {'score': 9}], 'size': {'height': 11, 'width': 8.5, 'unit': 'in'}, 'status': 'A', 'tags': ['college-ruled', 'perforated']}\n",
      "{'_id': ObjectId('65b6c53aab6514bb6dac1fb5'), 'companyName': 'iNeuron', 'product': 'Affordable AI', 'courseOffered': 'Machine Learning with Deployment'}\n",
      "{'_id': ObjectId('65b6c53aab6514bb6dac1fb6'), 'companyName': 'iNeuron', 'product': 'Affordable AI', 'coursedOffered': 'Deep Learning for NLP and Computer Vision'}\n",
      "{'_id': ObjectId('65b6c53aab6514bb6dac1fb7'), 'companyName': 'iNeuron', 'product': 'Master Program', 'courseOffered': 'Data Science Masters Program'}\n"
     ]
    }
   ],
   "source": [
    "for i in collection_ineuron.find():\n",
    "    print(i)"
   ]
  },
  {
   "cell_type": "code",
   "execution_count": 18,
   "metadata": {},
   "outputs": [
    {
     "name": "stdout",
     "output_type": "stream",
     "text": [
      "{'_id': ObjectId('65b6c53aab6514bb6dac1fa8'), 'name': 'Arpit', 'address': 'Bangalore street 12'}\n"
     ]
    }
   ],
   "source": [
    "for i in collection_ineuron.find({'name' : 'Arpit'}):\n",
    "    print(i)"
   ]
  },
  {
   "cell_type": "code",
   "execution_count": 19,
   "metadata": {},
   "outputs": [
    {
     "name": "stdout",
     "output_type": "stream",
     "text": [
      "{'_id': ObjectId('65b6c53aab6514bb6dac1fb5'), 'companyName': 'iNeuron', 'product': 'Affordable AI', 'courseOffered': 'Machine Learning with Deployment'}\n",
      "{'_id': ObjectId('65b6c53aab6514bb6dac1fb6'), 'companyName': 'iNeuron', 'product': 'Affordable AI', 'coursedOffered': 'Deep Learning for NLP and Computer Vision'}\n",
      "{'_id': ObjectId('65b6c53aab6514bb6dac1fb7'), 'companyName': 'iNeuron', 'product': 'Master Program', 'courseOffered': 'Data Science Masters Program'}\n"
     ]
    }
   ],
   "source": [
    "for i in collection_ineuron.find({'companyName' : 'iNeuron'}):\n",
    "    print(i)"
   ]
  },
  {
   "cell_type": "code",
   "execution_count": 20,
   "metadata": {},
   "outputs": [],
   "source": [
    "random_data = [\n",
    "    {'_id' : 3, 'companyName' : 'iNeuron', 'Faculty' : 'XYZ'},\n",
    "    {'_id' : 4, 'companyName' : 'iNeuron', 'Faculty' : 'ABC'},\n",
    "    {'_id' : 5, 'companyName' : 'iNeuron', 'Faculty' : 'PQR'}\n",
    "]"
   ]
  },
  {
   "cell_type": "code",
   "execution_count": 21,
   "metadata": {},
   "outputs": [
    {
     "data": {
      "text/plain": [
       "InsertManyResult([3, 4, 5], acknowledged=True)"
      ]
     },
     "execution_count": 21,
     "metadata": {},
     "output_type": "execute_result"
    }
   ],
   "source": [
    "collection_ineuron.insert_many(random_data)"
   ]
  },
  {
   "cell_type": "code",
   "execution_count": 22,
   "metadata": {},
   "outputs": [
    {
     "name": "stdout",
     "output_type": "stream",
     "text": [
      "{'_id': ObjectId('65b6c539ab6514bb6dac1fa6'), 'name': 'Arpit Dubey', 'class': 'Data Science Masters', 'time': 'Flexi'}\n",
      "{'_id': ObjectId('65b6c53aab6514bb6dac1fa7'), 'email': 'aarpitdubey@gmail.com', 'phone_number': 8251999950, 'address': 'bangalore'}\n",
      "{'_id': ObjectId('65b6c53aab6514bb6dac1fa8'), 'name': 'Arpit', 'address': 'Bangalore street 12'}\n",
      "{'_id': ObjectId('65b6c53aab6514bb6dac1fa9'), 'name': 'Hannah', 'address': 'Mountain 21'}\n",
      "{'_id': ObjectId('65b6c53aab6514bb6dac1faa'), 'name': 'Michael', 'address': 'Valley 345'}\n",
      "{'_id': ObjectId('65b6c53aab6514bb6dac1fab'), 'name': 'Sandy', 'address': 'Ocean blvd 2'}\n",
      "{'_id': ObjectId('65b6c53aab6514bb6dac1fac'), 'name': 'Betty', 'address': 'Green Grass 1'}\n",
      "{'_id': ObjectId('65b6c53aab6514bb6dac1fad'), 'name': 'Richard', 'address': 'Sky st 331'}\n",
      "{'_id': ObjectId('65b6c53aab6514bb6dac1fae'), 'name': 'Susan', 'address': 'One way 98'}\n",
      "{'_id': ObjectId('65b6c53aab6514bb6dac1faf'), 'name': 'Vicky', 'address': 'Yellow Garden 2'}\n",
      "{'_id': ObjectId('65b6c53aab6514bb6dac1fb0'), 'name': 'Ben', 'address': 'Park Lane 38'}\n",
      "{'_id': ObjectId('65b6c53aab6514bb6dac1fb1'), 'name': 'William', 'address': 'Central st 954'}\n",
      "{'_id': ObjectId('65b6c53aab6514bb6dac1fb2'), 'name': 'Chuck', 'address': 'Main Road 989'}\n",
      "{'_id': ObjectId('65b6c53aab6514bb6dac1fb3'), 'name': 'Viola', 'address': 'Sideway 1633'}\n",
      "{'_id': ObjectId('65b6c53aab6514bb6dac1fb4'), 'name': 'notebook', 'qty': 50, 'rating': [{'score': 8}, {'score': 9}], 'size': {'height': 11, 'width': 8.5, 'unit': 'in'}, 'status': 'A', 'tags': ['college-ruled', 'perforated']}\n",
      "{'_id': ObjectId('65b6c53aab6514bb6dac1fb5'), 'companyName': 'iNeuron', 'product': 'Affordable AI', 'courseOffered': 'Machine Learning with Deployment'}\n",
      "{'_id': ObjectId('65b6c53aab6514bb6dac1fb6'), 'companyName': 'iNeuron', 'product': 'Affordable AI', 'coursedOffered': 'Deep Learning for NLP and Computer Vision'}\n",
      "{'_id': ObjectId('65b6c53aab6514bb6dac1fb7'), 'companyName': 'iNeuron', 'product': 'Master Program', 'courseOffered': 'Data Science Masters Program'}\n",
      "{'_id': 3, 'companyName': 'iNeuron', 'Faculty': 'XYZ'}\n",
      "{'_id': 4, 'companyName': 'iNeuron', 'Faculty': 'ABC'}\n",
      "{'_id': 5, 'companyName': 'iNeuron', 'Faculty': 'PQR'}\n"
     ]
    }
   ],
   "source": [
    "for i in collection_ineuron.find():\n",
    "    print(i)"
   ]
  },
  {
   "cell_type": "code",
   "execution_count": 23,
   "metadata": {},
   "outputs": [
    {
     "name": "stdout",
     "output_type": "stream",
     "text": [
      "{'_id': ObjectId('65b6c53aab6514bb6dac1fb5'), 'companyName': 'iNeuron', 'product': 'Affordable AI', 'courseOffered': 'Machine Learning with Deployment'}\n",
      "{'_id': ObjectId('65b6c53aab6514bb6dac1fb6'), 'companyName': 'iNeuron', 'product': 'Affordable AI', 'coursedOffered': 'Deep Learning for NLP and Computer Vision'}\n",
      "{'_id': ObjectId('65b6c53aab6514bb6dac1fb7'), 'companyName': 'iNeuron', 'product': 'Master Program', 'courseOffered': 'Data Science Masters Program'}\n",
      "{'_id': 3, 'companyName': 'iNeuron', 'Faculty': 'XYZ'}\n",
      "{'_id': 4, 'companyName': 'iNeuron', 'Faculty': 'ABC'}\n",
      "{'_id': 5, 'companyName': 'iNeuron', 'Faculty': 'PQR'}\n"
     ]
    }
   ],
   "source": [
    "for i in collection_ineuron.find({'companyName' : 'iNeuron'}):\n",
    "    print(i)"
   ]
  },
  {
   "cell_type": "code",
   "execution_count": 24,
   "metadata": {},
   "outputs": [
    {
     "name": "stdout",
     "output_type": "stream",
     "text": [
      "{'_id': 4, 'companyName': 'iNeuron', 'Faculty': 'ABC'}\n",
      "{'_id': 5, 'companyName': 'iNeuron', 'Faculty': 'PQR'}\n"
     ]
    }
   ],
   "source": [
    "for i in collection_ineuron.find({\"_id\" :{\"$gte\": 4}}):\n",
    "    print(i)"
   ]
  },
  {
   "cell_type": "code",
   "execution_count": 25,
   "metadata": {},
   "outputs": [
    {
     "data": {
      "text/plain": [
       "UpdateResult({'n': 6, 'electionId': ObjectId('7fffffff0000000000000002'), 'opTime': {'ts': Timestamp(1706476852, 9), 't': 2}, 'nModified': 6, 'ok': 1.0, '$clusterTime': {'clusterTime': Timestamp(1706476852, 9), 'signature': {'hash': b'\\xd5<_\\xf4f\\x95N\\xb3\\xef/\\x8be\\xcd\\xe0A\\xe6\\x1bY\\x9a\\\\', 'keyId': 7328767091056574469}}, 'operationTime': Timestamp(1706476852, 9), 'updatedExisting': True}, acknowledged=True)"
      ]
     },
     "execution_count": 25,
     "metadata": {},
     "output_type": "execute_result"
    }
   ],
   "source": [
    "collection_ineuron.update_many({'companyName' : 'iNeuron'}, {\"$set\" : {'companyName' : 'pwskills'}})"
   ]
  },
  {
   "cell_type": "code",
   "execution_count": 26,
   "metadata": {},
   "outputs": [
    {
     "name": "stdout",
     "output_type": "stream",
     "text": [
      "{'_id': ObjectId('65b6c539ab6514bb6dac1fa6'), 'name': 'Arpit Dubey', 'class': 'Data Science Masters', 'time': 'Flexi'}\n",
      "{'_id': ObjectId('65b6c53aab6514bb6dac1fa7'), 'email': 'aarpitdubey@gmail.com', 'phone_number': 8251999950, 'address': 'bangalore'}\n",
      "{'_id': ObjectId('65b6c53aab6514bb6dac1fa8'), 'name': 'Arpit', 'address': 'Bangalore street 12'}\n",
      "{'_id': ObjectId('65b6c53aab6514bb6dac1fa9'), 'name': 'Hannah', 'address': 'Mountain 21'}\n",
      "{'_id': ObjectId('65b6c53aab6514bb6dac1faa'), 'name': 'Michael', 'address': 'Valley 345'}\n",
      "{'_id': ObjectId('65b6c53aab6514bb6dac1fab'), 'name': 'Sandy', 'address': 'Ocean blvd 2'}\n",
      "{'_id': ObjectId('65b6c53aab6514bb6dac1fac'), 'name': 'Betty', 'address': 'Green Grass 1'}\n",
      "{'_id': ObjectId('65b6c53aab6514bb6dac1fad'), 'name': 'Richard', 'address': 'Sky st 331'}\n",
      "{'_id': ObjectId('65b6c53aab6514bb6dac1fae'), 'name': 'Susan', 'address': 'One way 98'}\n",
      "{'_id': ObjectId('65b6c53aab6514bb6dac1faf'), 'name': 'Vicky', 'address': 'Yellow Garden 2'}\n",
      "{'_id': ObjectId('65b6c53aab6514bb6dac1fb0'), 'name': 'Ben', 'address': 'Park Lane 38'}\n",
      "{'_id': ObjectId('65b6c53aab6514bb6dac1fb1'), 'name': 'William', 'address': 'Central st 954'}\n",
      "{'_id': ObjectId('65b6c53aab6514bb6dac1fb2'), 'name': 'Chuck', 'address': 'Main Road 989'}\n",
      "{'_id': ObjectId('65b6c53aab6514bb6dac1fb3'), 'name': 'Viola', 'address': 'Sideway 1633'}\n",
      "{'_id': ObjectId('65b6c53aab6514bb6dac1fb4'), 'name': 'notebook', 'qty': 50, 'rating': [{'score': 8}, {'score': 9}], 'size': {'height': 11, 'width': 8.5, 'unit': 'in'}, 'status': 'A', 'tags': ['college-ruled', 'perforated']}\n",
      "{'_id': ObjectId('65b6c53aab6514bb6dac1fb5'), 'companyName': 'pwskills', 'product': 'Affordable AI', 'courseOffered': 'Machine Learning with Deployment'}\n",
      "{'_id': ObjectId('65b6c53aab6514bb6dac1fb6'), 'companyName': 'pwskills', 'product': 'Affordable AI', 'coursedOffered': 'Deep Learning for NLP and Computer Vision'}\n",
      "{'_id': ObjectId('65b6c53aab6514bb6dac1fb7'), 'companyName': 'pwskills', 'product': 'Master Program', 'courseOffered': 'Data Science Masters Program'}\n",
      "{'_id': 3, 'companyName': 'pwskills', 'Faculty': 'XYZ'}\n",
      "{'_id': 4, 'companyName': 'pwskills', 'Faculty': 'ABC'}\n",
      "{'_id': 5, 'companyName': 'pwskills', 'Faculty': 'PQR'}\n"
     ]
    }
   ],
   "source": [
    "for i in collection_ineuron.find():\n",
    "    print(i)"
   ]
  }
 ],
 "metadata": {
  "kernelspec": {
   "display_name": "Python 3 (ipykernel)",
   "language": "python",
   "name": "python3"
  },
  "language_info": {
   "codemirror_mode": {
    "name": "ipython",
    "version": 3
   },
   "file_extension": ".py",
   "mimetype": "text/x-python",
   "name": "python",
   "nbconvert_exporter": "python",
   "pygments_lexer": "ipython3",
   "version": "3.11.7"
  }
 },
 "nbformat": 4,
 "nbformat_minor": 2
}
