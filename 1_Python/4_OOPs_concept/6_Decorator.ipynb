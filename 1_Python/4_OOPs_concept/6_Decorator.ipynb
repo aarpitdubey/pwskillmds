{
 "cells": [
  {
   "cell_type": "markdown",
   "id": "27bd6338-b5fd-4767-8044-cecc5d9ec7d4",
   "metadata": {},
   "source": [
    "## Decorator\n",
    "\n",
    "Python decorators are a powerful and advanced feature used to modify or extend the behavior of functions or methods. They allow you to wrap another function and add extra functionality to it.\n",
    "\n",
    "Imagine you have a plain pizza, and you want to add extra toppings to it to enhance its taste. Similarly, a decorator in Python can be thought of as a way to add extra \"toppings\" or functionality to a function without modifying its core recipe."
   ]
  },
  {
   "cell_type": "code",
   "execution_count": 1,
   "id": "0608c919-4eba-4982-a226-c7fee453f8cf",
   "metadata": {
    "tags": []
   },
   "outputs": [],
   "source": [
    "def toppings(pizza):\n",
    "    \n",
    "    def wrap():\n",
    "        print(\"\\nPepperoni, ham, prawns, and onions, or you can select your one for top-ping.\\n\")\n",
    "        pizza()\n",
    "        print(\"\\nExtra Cheese for Bottom-ing\")\n",
    "        \n",
    "    return wrap"
   ]
  },
  {
   "cell_type": "code",
   "execution_count": 2,
   "id": "6dac5895-4e28-47cf-b227-8aced8c0f349",
   "metadata": {
    "tags": []
   },
   "outputs": [],
   "source": [
    "@toppings\n",
    "def pizza():\n",
    "    print(\"Plain Pizza!\")"
   ]
  },
  {
   "cell_type": "code",
   "execution_count": 3,
   "id": "201f9cb1-5622-4680-b8c5-750d445b6484",
   "metadata": {
    "tags": []
   },
   "outputs": [
    {
     "name": "stdout",
     "output_type": "stream",
     "text": [
      "\n",
      "Pepperoni, ham, prawns, and onions, or you can select your one for top-ping.\n",
      "\n",
      "Plain Pizza!\n",
      "\n",
      "Extra Cheese for Bottom-ing\n"
     ]
    }
   ],
   "source": [
    "pizza()"
   ]
  },
  {
   "cell_type": "markdown",
   "id": "72c8440c-038b-47fa-bd53-8f2f15f96d57",
   "metadata": {},
   "source": [
    "We define a decorator function called `toppings`, which takes a function `pizza` as an argument and returns a `wrap()` function.\n",
    "\n",
    "Inside the `wrap()` function, we can add extra functionality, such as printing a message, before or after calling the original function `pizza`.\n",
    "\n",
    "The original function `pizza` is then decorated using the `@toppings` syntax, telling Python to apply `toppings` to the `pizza` function.\n",
    "\n",
    "When we call the add function, it actually calls the `wrap()` function defined within the `toppings`, which in turn calls the original `pizza` function with the provided arguments.\n",
    "\n",
    "So, in a simple analogy, the decorator is like adding extra toppings to a plain pizza. It enhances the original function with extra functionality without modifying its original recipe."
   ]
  },
  {
   "cell_type": "code",
   "execution_count": 4,
   "id": "68f47fa3-fa94-449f-80f4-9f13a4000fbb",
   "metadata": {
    "tags": []
   },
   "outputs": [
    {
     "name": "stdout",
     "output_type": "stream",
     "text": [
      "Sprinkling some magic on the function!\n",
      "I'm a simple function\n",
      "Ta-da! The function got fancier!\n"
     ]
    }
   ],
   "source": [
    "# Decorator function\n",
    "def make_it_fancy(func):\n",
    "    def wrap():\n",
    "        print(\"Sprinkling some magic on the function!\")\n",
    "        func()  # original function\n",
    "        print(\"Ta-da! The function got fancier!\")\n",
    "    return wrap\n",
    "\n",
    "@make_it_fancy\n",
    "def simple_function():\n",
    "    print(\"I'm a simple function\")\n",
    "\n",
    "simple_function()"
   ]
  },
  {
   "cell_type": "code",
   "execution_count": 5,
   "id": "09224152-8838-453e-a437-9d94f16f6321",
   "metadata": {
    "tags": []
   },
   "outputs": [
    {
     "name": "stdout",
     "output_type": "stream",
     "text": [
      "Casting a spell on the function...\n",
      "Expecto Patronum!\n",
      "Your function has been enchanted by the magic of Harry Potter!\n"
     ]
    }
   ],
   "source": [
    "# Decorator function\n",
    "def cast_spell(harrypotter):\n",
    "    def wrap():\n",
    "        print(\"Casting a spell on the function...\")\n",
    "        harrypotter() \n",
    "        print(\"Your function has been enchanted by the magic of Harry Potter!\")\n",
    "    return wrap\n",
    "\n",
    "@cast_spell\n",
    "def harrypotter():\n",
    "    print(\"Expecto Patronum!\")\n",
    "\n",
    "harrypotter()"
   ]
  },
  {
   "cell_type": "code",
   "execution_count": 6,
   "id": "fdebdf36-4d3c-468c-bfda-c1acec7b5b72",
   "metadata": {
    "tags": []
   },
   "outputs": [],
   "source": [
    "import time\n",
    "\n",
    "def timer_test(func):\n",
    "    def timer_test_in():\n",
    "        start = time.time()\n",
    "        func()\n",
    "        end  = time.time()\n",
    "        print(end-start)\n",
    "    return timer_test_in\n"
   ]
  },
  {
   "cell_type": "code",
   "execution_count": 7,
   "id": "d298d142-d0af-435a-b255-d877ba1e0aa3",
   "metadata": {
    "tags": []
   },
   "outputs": [],
   "source": [
    "def test2():\n",
    "    print(45+78)"
   ]
  },
  {
   "cell_type": "code",
   "execution_count": 8,
   "id": "89e957bb-503e-4864-a660-3d0ca8c6979e",
   "metadata": {
    "tags": []
   },
   "outputs": [
    {
     "name": "stdout",
     "output_type": "stream",
     "text": [
      "123\n"
     ]
    }
   ],
   "source": [
    "test2()"
   ]
  },
  {
   "cell_type": "code",
   "execution_count": 9,
   "id": "8d609eb7-2282-419a-9e0d-838f45b4b83b",
   "metadata": {
    "tags": []
   },
   "outputs": [],
   "source": [
    "@timer_test\n",
    "def test2():\n",
    "    print(45+78)"
   ]
  },
  {
   "cell_type": "code",
   "execution_count": 10,
   "id": "a0b67f03-0cd2-45d1-bace-e995c8b8e7ac",
   "metadata": {
    "tags": []
   },
   "outputs": [
    {
     "name": "stdout",
     "output_type": "stream",
     "text": [
      "123\n",
      "0.0\n"
     ]
    }
   ],
   "source": [
    "test2()"
   ]
  },
  {
   "cell_type": "code",
   "execution_count": 11,
   "id": "561a0595-c8a7-4e8d-8d78-869c711663cb",
   "metadata": {
    "tags": []
   },
   "outputs": [],
   "source": [
    "@timer_test\n",
    "def test():\n",
    "    for i in range(1000000000):\n",
    "        pass"
   ]
  },
  {
   "cell_type": "code",
   "execution_count": 12,
   "id": "10c7f2f6-2167-4840-93fe-69184169b5c0",
   "metadata": {
    "tags": []
   },
   "outputs": [
    {
     "name": "stdout",
     "output_type": "stream",
     "text": [
      "14.350446939468384\n"
     ]
    }
   ],
   "source": [
    "test()"
   ]
  }
 ],
 "metadata": {
  "kernelspec": {
   "display_name": "Python 3 (ipykernel)",
   "language": "python",
   "name": "python3"
  },
  "language_info": {
   "codemirror_mode": {
    "name": "ipython",
    "version": 3
   },
   "file_extension": ".py",
   "mimetype": "text/x-python",
   "name": "python",
   "nbconvert_exporter": "python",
   "pygments_lexer": "ipython3",
   "version": "3.11.3"
  }
 },
 "nbformat": 4,
 "nbformat_minor": 5
}
