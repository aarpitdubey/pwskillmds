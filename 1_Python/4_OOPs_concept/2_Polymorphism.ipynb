{
 "cells": [
  {
   "cell_type": "markdown",
   "id": "38b473f8-9fba-43f5-ae9b-e7dfd3ee580e",
   "metadata": {},
   "source": [
    "Polymorphism - Multiple ways (classes) to achieve (execute) same or common task (method/function).\n",
    "\n",
    "Polymorphism in programming and in real life can be explained using the analogy of a person's behavior in different situations.\n",
    "\n",
    "Let's consider a person, let's call him Arpit. When Arpit is with his parents, he shows respect, follows certain rules, and behaves in a certain way. This behavior is specific to the environment of being with parents.\n",
    "\n",
    "When Arpit is with his friends, he may be more playful, outgoing, and relaxed, exhibiting a different behavior that is specific to the environment of being with friends.\n",
    "\n",
    "Similarly, when Arpit is with his relatives, he may show affection, respect, and engage in different conversations, representing a behavior specific to the environment of being with relatives."
   ]
  },
  {
   "cell_type": "code",
   "execution_count": 1,
   "id": "6f57e0f7-6061-4900-b0c9-24074dcf98f6",
   "metadata": {
    "tags": []
   },
   "outputs": [
    {
     "name": "stdout",
     "output_type": "stream",
     "text": [
      "\n",
      "1. Arpit behavior with Parents: \n",
      "Respectful and obedient behavior in front of parents\n",
      "\n",
      "\n",
      "2. Arpit behavior with Friends: \n",
      "Playful and outgoing behavior with friends\n",
      "\n",
      "\n",
      "3. Arpit behavior with Relatives: \n",
      "Affectionate and respectful behavior with relatives\n",
      "\n"
     ]
    }
   ],
   "source": [
    "class Person:\n",
    "    def behavior(self):\n",
    "        pass\n",
    "\n",
    "class WithParents(Person):\n",
    "    def behavior(self):\n",
    "        print(\"\\n1. Arpit behavior with Parents: \")\n",
    "        print(\"Respectful and obedient behavior in front of parents\\n\")\n",
    "\n",
    "class WithFriends(Person):\n",
    "    def behavior(self):\n",
    "        print(\"\\n2. Arpit behavior with Friends: \")\n",
    "        print(\"Playful and outgoing behavior with friends\\n\")\n",
    "\n",
    "class WithRelatives(Person):\n",
    "    def behavior(self):\n",
    "        print(\"\\n3. Arpit behavior with Relatives: \")\n",
    "        print(\"Affectionate and respectful behavior with relatives\\n\")\n",
    "\n",
    "parents   = WithParents()\n",
    "friends   = WithFriends()\n",
    "relatives = WithRelatives()\n",
    "        \n",
    "# Polymorphism\n",
    "environments = [parents, friends, relatives]\n",
    "\n",
    "for environment in environments:\n",
    "    environment.behavior()"
   ]
  },
  {
   "cell_type": "markdown",
   "id": "a6de1a3c-c3dc-4aa0-9bf8-70df838a0e73",
   "metadata": {},
   "source": [
    "In this code, we have a base class called Person, and then we have three different classes derived from Person - WithParents, WithFriends, and WithRelatives. Each of these classes has a behavior method that represents the specific behavior in different environments. When we create instances of these classes and call the behavior method on each instance, it demonstrates polymorphism, as the behavior method behaves differently based on the type of environment (class) it is called from."
   ]
  },
  {
   "cell_type": "code",
   "execution_count": 2,
   "id": "cf55cc7b-34c5-4848-8de3-7ec114556514",
   "metadata": {
    "tags": []
   },
   "outputs": [],
   "source": [
    "class Add:\n",
    "    def add(self, a, b):\n",
    "        pass\n",
    "\n",
    "class Sum(Add):\n",
    "    \n",
    "    def __init__(self, a, b):\n",
    "        self.a = a\n",
    "        self.b = b\n",
    "        \n",
    "    def add(self):\n",
    "        return self.a + self.b\n",
    "    \n",
    "class Concate(Add):\n",
    "    \n",
    "    def __init__(self, a, b):\n",
    "        self.a = a\n",
    "        self.b = b\n",
    "    \n",
    "    def add(self):\n",
    "        return str(self.a) + str(self.b)"
   ]
  },
  {
   "cell_type": "code",
   "execution_count": 3,
   "id": "818eec49-ee37-49ba-a810-1e1483be0cd2",
   "metadata": {
    "tags": []
   },
   "outputs": [
    {
     "name": "stdout",
     "output_type": "stream",
     "text": [
      "100\n"
     ]
    }
   ],
   "source": [
    "addition = Sum(10, 90)\n",
    "result = addition.add()\n",
    "print(result)"
   ]
  },
  {
   "cell_type": "code",
   "execution_count": 4,
   "id": "cb99de90-7065-4474-a14e-a23505ede00d",
   "metadata": {
    "tags": []
   },
   "outputs": [
    {
     "name": "stdout",
     "output_type": "stream",
     "text": [
      "Arpit Dubey\n"
     ]
    }
   ],
   "source": [
    "concate = Concate(\"Arpit\", \" Dubey\")\n",
    "result = concate.add()\n",
    "print(result)"
   ]
  },
  {
   "cell_type": "code",
   "execution_count": 5,
   "id": "e267640d-d821-45db-ade8-9146ad81ded6",
   "metadata": {
    "tags": []
   },
   "outputs": [],
   "source": [
    "class Data_Science:\n",
    "    \n",
    "     def syllabus(self):\n",
    "            print(\"This is my syllabus for Data Science Masters\")"
   ]
  },
  {
   "cell_type": "code",
   "execution_count": 6,
   "id": "63c455ae-3754-4680-8850-0c077e9af8a1",
   "metadata": {
    "tags": []
   },
   "outputs": [],
   "source": [
    "class Web_Dev:\n",
    "    \n",
    "    def syllabus(self):\n",
    "        print(\"This is my syllabus for Web Dev\")"
   ]
  },
  {
   "cell_type": "code",
   "execution_count": 7,
   "id": "f4a0f551-c20a-454b-9f61-f512c931fd4b",
   "metadata": {},
   "outputs": [],
   "source": [
    "ds = Data_Science()\n",
    "wd = Web_Dev()"
   ]
  },
  {
   "cell_type": "code",
   "execution_count": 8,
   "id": "fa0777e7-94ef-4c91-b081-55fbfbcc97c6",
   "metadata": {
    "tags": []
   },
   "outputs": [],
   "source": [
    "def class_parcer(class_obj):\n",
    "    for i in class_obj:\n",
    "        i.syllabus()"
   ]
  },
  {
   "cell_type": "code",
   "execution_count": 9,
   "id": "c74665c0-9cb0-4dac-9f2e-4e7d5e202ab3",
   "metadata": {
    "tags": []
   },
   "outputs": [
    {
     "name": "stdout",
     "output_type": "stream",
     "text": [
      "This is my syllabus for Data Science Masters\n",
      "This is my syllabus for Web Dev\n"
     ]
    }
   ],
   "source": [
    "class_obj = [ds, wd]\n",
    "class_parcer(class_obj)"
   ]
  },
  {
   "cell_type": "markdown",
   "id": "136ae28b-3b9a-4098-843d-6183c8d76cb9",
   "metadata": {},
   "source": [
    "Polymorphism is a term used in programming to describe the concept of allowing different objects to be treated as objects of a common type. \n",
    "\n",
    "- In simpler terms, it means that different things can be used interchangeably, as long as they share certain common characteristics. "
   ]
  },
  {
   "cell_type": "markdown",
   "id": "b3be5e8d-25cd-4a7f-8351-e1d743ce9e06",
   "metadata": {},
   "source": [
    "## Example : Payment Gateway \n",
    "\n",
    "To explain this using the example of payment gateways like Gpay and PhonePe, we can think of different payment methods such as credit cards, debit cards, and net banking. Although these methods work differently, they can all be used to complete a transaction. \n",
    "\n",
    "When you're asked to make a payment using any of these methods, you know that the process of completing the transaction will be similar, even though the actual steps might be different. This is similar to how polymorphism works in programming – different objects (payment methods) can be treated as instances of a common type (payment gateway) and used interchangeably in the code.\n",
    "\n",
    "So, polymorphism in the context of payment gateways is like being able to use different payment methods to complete a transaction, even though the specific method being used may vary. "
   ]
  },
  {
   "cell_type": "code",
   "execution_count": 10,
   "id": "83b7e561-0bd5-46e1-92de-6643a4225bd3",
   "metadata": {
    "tags": []
   },
   "outputs": [
    {
     "name": "stdout",
     "output_type": "stream",
     "text": [
      "Processing payment using GPay\n",
      "Processing payment using PhonePe\n",
      "Processing payment using Credit Card\n"
     ]
    }
   ],
   "source": [
    "class PaymentGateway:\n",
    "    def process_payment(self):\n",
    "        pass \n",
    "\n",
    "class GPay(PaymentGateway):\n",
    "    def process_payment(self):\n",
    "        print(\"Processing payment using GPay\")\n",
    "\n",
    "class PhonePe(PaymentGateway):\n",
    "    def process_payment(self):\n",
    "        print(\"Processing payment using PhonePe\")\n",
    "\n",
    "class CreditCard(PaymentGateway):\n",
    "    def process_payment(self):\n",
    "        print(\"Processing payment using Credit Card\")\n",
    "\n",
    "# polymorphism\n",
    "def make_payment(payment_gateway):\n",
    "    payment_gateway.process_payment()\n",
    "\n",
    "gpay = GPay()\n",
    "phonepe = PhonePe()\n",
    "credit_card = CreditCard()\n",
    "\n",
    "make_payment(gpay) \n",
    "make_payment(phonepe) \n",
    "make_payment(credit_card) \n"
   ]
  },
  {
   "cell_type": "markdown",
   "id": "9df05b89-f2cc-4ade-81f5-8e879b7e6542",
   "metadata": {},
   "source": [
    " ```PaymentGateway``` class has a method ```process_payment```. The ```GPay```, `PhonePe`, and `CreditCard` classes inherit from `PaymentGateway` and each override the `process_payment` method with their own implementation. When we call the `make_payment` function and pass an instance of a payment gateway, the `process_payment` method of that specific payment gateway is executed, demonstrating polymorphism."
   ]
  }
 ],
 "metadata": {
  "kernelspec": {
   "display_name": "Python 3 (ipykernel)",
   "language": "python",
   "name": "python3"
  },
  "language_info": {
   "codemirror_mode": {
    "name": "ipython",
    "version": 3
   },
   "file_extension": ".py",
   "mimetype": "text/x-python",
   "name": "python",
   "nbconvert_exporter": "python",
   "pygments_lexer": "ipython3",
   "version": "3.11.3"
  }
 },
 "nbformat": 4,
 "nbformat_minor": 5
}
