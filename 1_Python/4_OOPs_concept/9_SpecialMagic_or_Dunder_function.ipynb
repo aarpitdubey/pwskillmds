{
 "cells": [
  {
   "cell_type": "markdown",
   "id": "b3dd813f-36b3-4277-b19e-4309ea9c82b8",
   "metadata": {},
   "source": [
    "\"Magic\" or \"dunder\" methods are special methods with double underscores on both sides of their name, such as __init__, __str__, and __add__. These methods allow you to define specific behaviors for your custom objects. "
   ]
  },
  {
   "cell_type": "code",
   "execution_count": 1,
   "id": "3a1cb7b2-f9cb-4eb8-986e-7efee30c671b",
   "metadata": {
    "tags": []
   },
   "outputs": [
    {
     "data": {
      "text/plain": [
       "['__abs__',\n",
       " '__add__',\n",
       " '__and__',\n",
       " '__bool__',\n",
       " '__ceil__',\n",
       " '__class__',\n",
       " '__delattr__',\n",
       " '__dir__',\n",
       " '__divmod__',\n",
       " '__doc__',\n",
       " '__eq__',\n",
       " '__float__',\n",
       " '__floor__',\n",
       " '__floordiv__',\n",
       " '__format__',\n",
       " '__ge__',\n",
       " '__getattribute__',\n",
       " '__getnewargs__',\n",
       " '__getstate__',\n",
       " '__gt__',\n",
       " '__hash__',\n",
       " '__index__',\n",
       " '__init__',\n",
       " '__init_subclass__',\n",
       " '__int__',\n",
       " '__invert__',\n",
       " '__le__',\n",
       " '__lshift__',\n",
       " '__lt__',\n",
       " '__mod__',\n",
       " '__mul__',\n",
       " '__ne__',\n",
       " '__neg__',\n",
       " '__new__',\n",
       " '__or__',\n",
       " '__pos__',\n",
       " '__pow__',\n",
       " '__radd__',\n",
       " '__rand__',\n",
       " '__rdivmod__',\n",
       " '__reduce__',\n",
       " '__reduce_ex__',\n",
       " '__repr__',\n",
       " '__rfloordiv__',\n",
       " '__rlshift__',\n",
       " '__rmod__',\n",
       " '__rmul__',\n",
       " '__ror__',\n",
       " '__round__',\n",
       " '__rpow__',\n",
       " '__rrshift__',\n",
       " '__rshift__',\n",
       " '__rsub__',\n",
       " '__rtruediv__',\n",
       " '__rxor__',\n",
       " '__setattr__',\n",
       " '__sizeof__',\n",
       " '__str__',\n",
       " '__sub__',\n",
       " '__subclasshook__',\n",
       " '__truediv__',\n",
       " '__trunc__',\n",
       " '__xor__',\n",
       " 'as_integer_ratio',\n",
       " 'bit_count',\n",
       " 'bit_length',\n",
       " 'conjugate',\n",
       " 'denominator',\n",
       " 'from_bytes',\n",
       " 'imag',\n",
       " 'numerator',\n",
       " 'real',\n",
       " 'to_bytes']"
      ]
     },
     "execution_count": 1,
     "metadata": {},
     "output_type": "execute_result"
    }
   ],
   "source": [
    "dir(int)"
   ]
  },
  {
   "cell_type": "code",
   "execution_count": 2,
   "id": "5cd06afc-5e02-449b-b753-6ffde37c8875",
   "metadata": {
    "tags": []
   },
   "outputs": [
    {
     "data": {
      "text/plain": [
       "['__add__',\n",
       " '__class__',\n",
       " '__contains__',\n",
       " '__delattr__',\n",
       " '__dir__',\n",
       " '__doc__',\n",
       " '__eq__',\n",
       " '__format__',\n",
       " '__ge__',\n",
       " '__getattribute__',\n",
       " '__getitem__',\n",
       " '__getnewargs__',\n",
       " '__getstate__',\n",
       " '__gt__',\n",
       " '__hash__',\n",
       " '__init__',\n",
       " '__init_subclass__',\n",
       " '__iter__',\n",
       " '__le__',\n",
       " '__len__',\n",
       " '__lt__',\n",
       " '__mod__',\n",
       " '__mul__',\n",
       " '__ne__',\n",
       " '__new__',\n",
       " '__reduce__',\n",
       " '__reduce_ex__',\n",
       " '__repr__',\n",
       " '__rmod__',\n",
       " '__rmul__',\n",
       " '__setattr__',\n",
       " '__sizeof__',\n",
       " '__str__',\n",
       " '__subclasshook__',\n",
       " 'capitalize',\n",
       " 'casefold',\n",
       " 'center',\n",
       " 'count',\n",
       " 'encode',\n",
       " 'endswith',\n",
       " 'expandtabs',\n",
       " 'find',\n",
       " 'format',\n",
       " 'format_map',\n",
       " 'index',\n",
       " 'isalnum',\n",
       " 'isalpha',\n",
       " 'isascii',\n",
       " 'isdecimal',\n",
       " 'isdigit',\n",
       " 'isidentifier',\n",
       " 'islower',\n",
       " 'isnumeric',\n",
       " 'isprintable',\n",
       " 'isspace',\n",
       " 'istitle',\n",
       " 'isupper',\n",
       " 'join',\n",
       " 'ljust',\n",
       " 'lower',\n",
       " 'lstrip',\n",
       " 'maketrans',\n",
       " 'partition',\n",
       " 'removeprefix',\n",
       " 'removesuffix',\n",
       " 'replace',\n",
       " 'rfind',\n",
       " 'rindex',\n",
       " 'rjust',\n",
       " 'rpartition',\n",
       " 'rsplit',\n",
       " 'rstrip',\n",
       " 'split',\n",
       " 'splitlines',\n",
       " 'startswith',\n",
       " 'strip',\n",
       " 'swapcase',\n",
       " 'title',\n",
       " 'translate',\n",
       " 'upper',\n",
       " 'zfill']"
      ]
     },
     "execution_count": 2,
     "metadata": {},
     "output_type": "execute_result"
    }
   ],
   "source": [
    "dir(str)"
   ]
  },
  {
   "cell_type": "code",
   "execution_count": 3,
   "id": "df7d0255-1562-4d2a-9f82-ee189ece17dd",
   "metadata": {
    "tags": []
   },
   "outputs": [
    {
     "data": {
      "text/plain": [
       "105"
      ]
     },
     "execution_count": 3,
     "metadata": {},
     "output_type": "execute_result"
    }
   ],
   "source": [
    "# Normal addition\n",
    "a = 100\n",
    "a + 5"
   ]
  },
  {
   "cell_type": "code",
   "execution_count": 4,
   "id": "3d1a9626-bf55-40ec-bbe0-1a157415cf84",
   "metadata": {
    "tags": []
   },
   "outputs": [
    {
     "data": {
      "text/plain": [
       "105"
      ]
     },
     "execution_count": 4,
     "metadata": {},
     "output_type": "execute_result"
    }
   ],
   "source": [
    "# Python Internal calling when we add\n",
    "a.__add__(5) # By default call"
   ]
  },
  {
   "cell_type": "code",
   "execution_count": 5,
   "id": "5a87f818-0b13-44f4-badb-55358fd4b9c6",
   "metadata": {
    "tags": []
   },
   "outputs": [],
   "source": [
    "class pwskills :\n",
    "    \n",
    "    def __init__(self):\n",
    "        \n",
    "        self.mobile_number = 7987476575"
   ]
  },
  {
   "cell_type": "code",
   "execution_count": 6,
   "id": "e3bce923-8533-4884-b8ab-c42991c6ddb6",
   "metadata": {
    "tags": []
   },
   "outputs": [],
   "source": [
    "pw = pwskills()"
   ]
  },
  {
   "cell_type": "code",
   "execution_count": 7,
   "id": "9146403a-2505-4939-8d8e-2631bfc30a47",
   "metadata": {
    "tags": []
   },
   "outputs": [
    {
     "data": {
      "text/plain": [
       "7987476575"
      ]
     },
     "execution_count": 7,
     "metadata": {},
     "output_type": "execute_result"
    }
   ],
   "source": [
    "pw.mobile_number"
   ]
  },
  {
   "cell_type": "code",
   "execution_count": 8,
   "id": "9b3c580f-7c3a-46b6-931d-8765fadeb4c6",
   "metadata": {
    "tags": []
   },
   "outputs": [],
   "source": [
    "class Pwskills:\n",
    "    \n",
    "    def __new__(cls):\n",
    "        # __new__() called before __init__()\n",
    "        print(\"This is my __new__()\")\n",
    "        \n",
    "        \n",
    "    def __init__(self, mobile_number):\n",
    "        \n",
    "        print(\"This is my __init__()\")\n",
    "        self.mobile_number = 7987476575"
   ]
  },
  {
   "cell_type": "code",
   "execution_count": 9,
   "id": "6950ab06-fc25-4926-9d14-4fdc4eef651c",
   "metadata": {
    "tags": []
   },
   "outputs": [
    {
     "name": "stdout",
     "output_type": "stream",
     "text": [
      "This is my __new__()\n"
     ]
    }
   ],
   "source": [
    "pw = Pwskills()"
   ]
  },
  {
   "cell_type": "code",
   "execution_count": 10,
   "id": "4df9d43d-0fd2-483e-85b6-de68fb1b74ee",
   "metadata": {
    "tags": []
   },
   "outputs": [],
   "source": [
    "class ineuron:\n",
    "        \n",
    "    def __init__(self):\n",
    "        \n",
    "        self.mobile_number = 7987476575\n",
    "        \n",
    "    def __str__(self):\n",
    "        return \"This is my magic call of __str__() and \\nObject description for ineuron\""
   ]
  },
  {
   "cell_type": "code",
   "execution_count": 11,
   "id": "ec0e9a96-33f4-41a3-850d-9c5c120be6fc",
   "metadata": {
    "tags": []
   },
   "outputs": [],
   "source": [
    "inn = ineuron() "
   ]
  },
  {
   "cell_type": "code",
   "execution_count": 12,
   "id": "3d6a5991-ace7-4c83-b77b-46325d74f382",
   "metadata": {
    "tags": []
   },
   "outputs": [
    {
     "data": {
      "text/plain": [
       "<__main__.ineuron at 0x1e1363d1390>"
      ]
     },
     "execution_count": 12,
     "metadata": {},
     "output_type": "execute_result"
    }
   ],
   "source": [
    "inn"
   ]
  },
  {
   "cell_type": "code",
   "execution_count": 13,
   "id": "ef01f9ec-2d9b-4b36-b263-c2f16ad5f999",
   "metadata": {
    "tags": []
   },
   "outputs": [
    {
     "name": "stdout",
     "output_type": "stream",
     "text": [
      "This is my magic call of __str__() and \n",
      "Object description for ineuron\n"
     ]
    }
   ],
   "source": [
    "print(inn)"
   ]
  },
  {
   "cell_type": "code",
   "execution_count": 14,
   "id": "09fb24a4-c5a3-486c-8edd-d85779689aa3",
   "metadata": {
    "tags": []
   },
   "outputs": [],
   "source": [
    "class Vector:\n",
    "    \n",
    "    def __init__(self, x, y):\n",
    "        self.x = x\n",
    "        self.y = y\n",
    "\n",
    "    def __add__(self, other):\n",
    "        return Vector(self.x + other.x, self.y + other.y)\n",
    "\n",
    "    def __str__(self):\n",
    "        return f\"({self.x}, {self.y})\""
   ]
  },
  {
   "cell_type": "code",
   "execution_count": 15,
   "id": "e13c8b98-d57e-449a-93e3-981026e73220",
   "metadata": {
    "tags": []
   },
   "outputs": [],
   "source": [
    "v1 = Vector(1, 2)\n",
    "v2 = Vector(3, 4)"
   ]
  },
  {
   "cell_type": "code",
   "execution_count": 16,
   "id": "024eb292-940c-4374-afaa-7cf383bafab4",
   "metadata": {
    "tags": []
   },
   "outputs": [
    {
     "name": "stdout",
     "output_type": "stream",
     "text": [
      "(4, 6)\n"
     ]
    }
   ],
   "source": [
    "resultant_vector = v1 + v2\n",
    "print(resultant_vector) "
   ]
  },
  {
   "cell_type": "markdown",
   "id": "1c2b8546-e90e-46b6-8622-d5a7d0863707",
   "metadata": {},
   "source": [
    "1. The Vector class has an `__init__` method to initialize its x and y coordinates.\n",
    "\n",
    "2. The `__add__` method allows us to define custom addition behavior for two Vector instances. When the `+` operator is used with Vector instances, this method is called to perform the addition operation.\n",
    "\n",
    "3. The `__str__` method is also defined to provide a string representation of the Vector instance.\n",
    "\n",
    "When we add two Vector instances `v1` and `v2` using the `+` operator, the `__add__` magic method is invoked, and the `resultant vector` is calculated and returned as a new Vector instance."
   ]
  }
 ],
 "metadata": {
  "kernelspec": {
   "display_name": "Python 3 (ipykernel)",
   "language": "python",
   "name": "python3"
  },
  "language_info": {
   "codemirror_mode": {
    "name": "ipython",
    "version": 3
   },
   "file_extension": ".py",
   "mimetype": "text/x-python",
   "name": "python",
   "nbconvert_exporter": "python",
   "pygments_lexer": "ipython3",
   "version": "3.11.3"
  }
 },
 "nbformat": 4,
 "nbformat_minor": 5
}
