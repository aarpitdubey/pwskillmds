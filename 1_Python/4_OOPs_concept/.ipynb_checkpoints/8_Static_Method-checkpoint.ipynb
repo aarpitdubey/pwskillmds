{
 "cells": [
  {
   "cell_type": "markdown",
   "id": "835275a5-3df3-4d56-ae1f-432dd9e90f8b",
   "metadata": {},
   "source": [
    "# Static Method\n",
    "\n",
    "`@staticmethod` decorator is used to define a method within a class that does not take the instance or class itself as the first argument. This means that the method does not have access to instance or class attributes by default. It is useful when we have a method that does not depend on any specific instance or class-level attributes."
   ]
  },
  {
   "cell_type": "code",
   "execution_count": 1,
   "id": "e4f04b9a-6f24-41f8-b411-e1170354aa17",
   "metadata": {
    "tags": []
   },
   "outputs": [],
   "source": [
    "class pwskills :\n",
    "    \n",
    "    def student_info(self, name, mail_id, number) :\n",
    "        print(name, mail_id, number)"
   ]
  },
  {
   "cell_type": "code",
   "execution_count": 2,
   "id": "45e5280a-c965-4bd5-8721-7459d163b110",
   "metadata": {
    "tags": []
   },
   "outputs": [],
   "source": [
    "pw = pwskills()"
   ]
  },
  {
   "cell_type": "code",
   "execution_count": 3,
   "id": "e15b9816-6431-4869-b31c-e06a8f61bc3f",
   "metadata": {
    "tags": []
   },
   "outputs": [
    {
     "name": "stdout",
     "output_type": "stream",
     "text": [
      "Arpit aarpitdubey@gmail.com 9123456789\n"
     ]
    }
   ],
   "source": [
    "pw.student_info(\"Arpit\", \"aarpitdubey@gmail.com\", 9123456789)"
   ]
  },
  {
   "cell_type": "code",
   "execution_count": 4,
   "id": "1a8ffa77-bfce-4220-b9f7-75bce8962076",
   "metadata": {
    "tags": []
   },
   "outputs": [],
   "source": [
    "class Pwskills:\n",
    "    \n",
    "    def student_info(self, name, mail_id, number):\n",
    "        print(name, mail_id, number)\n",
    "        \n",
    "    @staticmethod\n",
    "    def mentor_class(mentor_list):\n",
    "        print(mentor_list)"
   ]
  },
  {
   "cell_type": "code",
   "execution_count": 5,
   "id": "528c95a6-5250-4c26-b4b9-8c50aa0b57ee",
   "metadata": {
    "tags": []
   },
   "outputs": [
    {
     "name": "stdout",
     "output_type": "stream",
     "text": [
      "['Sudhanshu', 'Krish']\n"
     ]
    }
   ],
   "source": [
    "Pwskills.mentor_class([\"Sudhanshu\", \"Krish\"])"
   ]
  },
  {
   "cell_type": "code",
   "execution_count": 6,
   "id": "cb10765d-f592-479d-8a47-301bfc39d13b",
   "metadata": {},
   "outputs": [],
   "source": [
    "class ineuron:\n",
    "    \n",
    "    def __init__(self, name, mail_id, number):\n",
    "        self.name = name\n",
    "        self.mail_id = mail_id\n",
    "        self.number = number\n",
    "        \n",
    "    # Instance Method    \n",
    "    def student_info(self):\n",
    "        print(f\"Name: {self.name}, \\nEmail: {self.mail_id}, \\nPhone Number: {self.number}\")\n",
    "\n",
    "    # Class Method\n",
    "    @classmethod\n",
    "    def from_csv(cls, student_data):\n",
    "        name, mail_id, number = student_data.split(', ')\n",
    "        return cls(name, mail_id, number)\n",
    "    \n",
    "    # Static Method\n",
    "    @staticmethod\n",
    "    def mentor_class(mentor_list):\n",
    "        print(mentor_list)\n",
    "        "
   ]
  },
  {
   "cell_type": "code",
   "execution_count": 7,
   "id": "828537d9-9de0-4840-99c8-03e1d3c79faa",
   "metadata": {
    "tags": []
   },
   "outputs": [
    {
     "name": "stdout",
     "output_type": "stream",
     "text": [
      "Name: Harry, \n",
      "Email: harry@gmail.com, \n",
      "Phone Number: 2352354554\n"
     ]
    }
   ],
   "source": [
    "student1 = ineuron(\"Harry\", \"harry@gmail.com\", \"2352354554\")\n",
    "student1.student_info()"
   ]
  },
  {
   "cell_type": "code",
   "execution_count": 8,
   "id": "aa195b29-aa1f-41ac-b73d-ad4b9d82cfc3",
   "metadata": {
    "tags": []
   },
   "outputs": [
    {
     "name": "stdout",
     "output_type": "stream",
     "text": [
      "Name: Arpit Dubey, \n",
      "Email: aarpitdubey@gmail.com, \n",
      "Phone Number: 7987476575\n"
     ]
    }
   ],
   "source": [
    "student_data = \"Arpit Dubey, aarpitdubey@gmail.com, 7987476575\"\n",
    "student2 = ineuron.from_csv(student_data)\n",
    "student2.student_info()"
   ]
  },
  {
   "cell_type": "code",
   "execution_count": 9,
   "id": "33964b5b-1935-4860-9174-e04e78612f42",
   "metadata": {
    "tags": []
   },
   "outputs": [
    {
     "name": "stdout",
     "output_type": "stream",
     "text": [
      "['Dumbledore', 'McGonagall', 'Snape']\n"
     ]
    }
   ],
   "source": [
    "mentor_list = [\"Dumbledore\", \"McGonagall\", \"Snape\"]\n",
    "ineuron.mentor_class(mentor_list)"
   ]
  },
  {
   "cell_type": "markdown",
   "id": "74cde2ed-8811-4f2b-88fe-8883aa0793d2",
   "metadata": {},
   "source": [
    "- The class name `ineuron `is now used to call the `from_csv` method.\n",
    "\n",
    "- The `__init__` method creates a new student instance with a name, email, and phone number.\n",
    "\n",
    "- The `student_info` method is an instance method as it operates on a specific instance of the class to display the student's information.\n",
    "\n",
    "- The `from_csv` class method creates a new instance by parsing a CSV string, exemplifying how class methods can be used to create instances from alternative data formats.\n",
    "\n",
    "- The `mentor_class` static method prints the mentor list, demonstrating that static methods can operate independently of specific instances or class attributes.\n",
    "\n",
    "- The `from_csv` method correctly accepts `student_data` as an argument and creates a new instance of the `ineuron` class.\n",
    "\n",
    "- The `student_info` method is then called on the `student2` instance to display the student's information."
   ]
  },
  {
   "cell_type": "markdown",
   "id": "a15a8149-6f1b-4ec7-8b82-73bad6daa2ca",
   "metadata": {},
   "source": [
    "`@staticmethod:`\n",
    "\n",
    "- A static method is a method that is bound to the class rather than its instances. It does not have access to the instance (self) or the class (cls) as its first parameter.\n",
    "\n",
    "    **Use case:** Static methods are commonly used as utility or helper functions that do not require access to instance-specific or class-specific attributes.\n",
    "    \n",
    "`@classmethod:`\n",
    "\n",
    "- A class method is a method that takes the class itself as the first parameter, conventionally named `cls`. This allows the method to interact with the class and its associated attributes.\n",
    "    \n",
    "    **Use case:** Class methods are typically used when the method needs to access or modify class-level attributes or perform operations related to the class itself.\n",
    "    \n",
    "`Instance Method:`\n",
    "\n",
    "- An instance method is the most common type of method in Python and is associated with a specific instance of a class. It takes the instance itself as the first parameter, conventionally named `self`, and can access and modify instance-specific attributes.\n",
    "    \n",
    "    **Use case:** Instance methods are used to perform operations specific to individual instances of a class, interacting with instance attributes and performing actions based on the state of the instance.\n",
    "    \n",
    "    \n",
    "`@staticmethod` is used for methods that do not depend on instance or class attributes, `@classmethod` is used for methods that interact with the class and its attributes, and instance methods are used for operations specific to individual instances of the class"
   ]
  },
  {
   "cell_type": "code",
   "execution_count": 10,
   "id": "1f8aff49-ee2d-4ba2-a058-6f5cb14e99f5",
   "metadata": {
    "tags": []
   },
   "outputs": [],
   "source": [
    "class Hogwarts:\n",
    "    total_student = 1\n",
    "    student_list = []\n",
    "    \n",
    "    \n",
    "    def __init__(self, name, house):\n",
    "        self.name = name\n",
    "        self.house = house\n",
    "        Hogwarts.total_student += 1\n",
    "        Hogwarts.student_list.append((name, house))\n",
    "        \n",
    "    \n",
    "    @classmethod\n",
    "    def sorting_ceremony(cls, name):\n",
    "        house_assigned = \"Gryffindor\"\n",
    "        return cls(name, house_assigned)\n",
    "    \n",
    "    \n",
    "    @staticmethod\n",
    "    def pure_blood_status(last_name):\n",
    "        pure_blood_families = [\"Black\", \"Malfoy\", \"Potter\", \"Weasley\", \"Lestrange\", \"Selwyn\", \"Dubey\"]\n",
    "        return last_name in pure_blood_families\n",
    "    \n",
    "    \n",
    "    def display_student_info(self):\n",
    "        print(f\"Name: {self.name}, \\nHouse: {self.house}\")"
   ]
  },
  {
   "cell_type": "code",
   "execution_count": 11,
   "id": "487ecb97-cd46-45b5-a911-32cafb472999",
   "metadata": {
    "tags": []
   },
   "outputs": [
    {
     "name": "stdout",
     "output_type": "stream",
     "text": [
      "Name: Arpit Dubey, \n",
      "House: Gryffindor\n"
     ]
    }
   ],
   "source": [
    "student = Hogwarts.sorting_ceremony(\"Arpit Dubey\")\n",
    "student.display_student_info()"
   ]
  },
  {
   "cell_type": "code",
   "execution_count": 12,
   "id": "2c621c3d-f257-4f11-a492-1c051565f317",
   "metadata": {
    "tags": []
   },
   "outputs": [
    {
     "name": "stdout",
     "output_type": "stream",
     "text": [
      "Newly Joined student, Arpit Dubey has a Pure Blood!\n"
     ]
    }
   ],
   "source": [
    "is_pure_blood = Hogwarts.pure_blood_status(\"Dubey\")\n",
    "\n",
    "if is_pure_blood:\n",
    "    print(f\"Newly Joined student, {student.name} has a Pure Blood!\")\n",
    "else:\n",
    "    print(f\"Newly Joined student, {student.name} is a Muggle Born!\")"
   ]
  },
  {
   "cell_type": "markdown",
   "id": "dad67ade-c064-4135-949c-105635f196ac",
   "metadata": {},
   "source": [
    "Class-level attributes and methods:\n",
    "\n",
    "- The class keeps a count of the total number of students with the `total_students` attribute.\n",
    "- There's a class-level list called `student_list` to store the names and houses of the students.\n",
    "\n",
    "The `__init__` method:\n",
    "\n",
    "- When a new student is created, this method assigns their name, house, and increments the total number of students.\n",
    "\n",
    "`sorting_ceremony` method:\n",
    "\n",
    "- This method is like a magical ceremony that assigns a house to a new student. For simplicity, it always assigns the same house, Gryffindor.\n",
    "\n",
    "`pure_blood_status` method:\n",
    "\n",
    "- This method checks if a student's last name is in the list of pure-blood families. Here, we added more pure-blood family names like \"Lestrange\" and \"Selwyn\".\n",
    "\n",
    "`display_student_info` method:\n",
    "\n",
    "- This method allows a specific student to display their name and house.\n",
    "\n",
    "`Usage:`\n",
    "\n",
    "- We created a new student named `Arpit Dubey` and assigned him to Gryffindor using the `sorting_ceremony` method.\n",
    "- Then, we checked if \"`Dubey`\" is a pure-blood family using the `pure_blood_status` method."
   ]
  }
 ],
 "metadata": {
  "kernelspec": {
   "display_name": "Python 3 (ipykernel)",
   "language": "python",
   "name": "python3"
  },
  "language_info": {
   "codemirror_mode": {
    "name": "ipython",
    "version": 3
   },
   "file_extension": ".py",
   "mimetype": "text/x-python",
   "name": "python",
   "nbconvert_exporter": "python",
   "pygments_lexer": "ipython3",
   "version": "3.11.3"
  }
 },
 "nbformat": 4,
 "nbformat_minor": 5
}
