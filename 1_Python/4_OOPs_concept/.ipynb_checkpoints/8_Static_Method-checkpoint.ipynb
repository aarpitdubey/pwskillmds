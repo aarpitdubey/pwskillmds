{
 "cells": [
  {
   "cell_type": "code",
   "execution_count": 1,
   "id": "e4f04b9a-6f24-41f8-b411-e1170354aa17",
   "metadata": {
    "tags": []
   },
   "outputs": [],
   "source": [
    "class pwskills :\n",
    "    \n",
    "    def student_info(self, name, mail_id, number) :\n",
    "        print(name, mail_id, number)"
   ]
  },
  {
   "cell_type": "code",
   "execution_count": 2,
   "id": "45e5280a-c965-4bd5-8721-7459d163b110",
   "metadata": {
    "tags": []
   },
   "outputs": [],
   "source": [
    "pw = pwskills()"
   ]
  },
  {
   "cell_type": "code",
   "execution_count": 3,
   "id": "e15b9816-6431-4869-b31c-e06a8f61bc3f",
   "metadata": {
    "tags": []
   },
   "outputs": [
    {
     "name": "stdout",
     "output_type": "stream",
     "text": [
      "Arpit aarpitdubey@gmail.com 9123456789\n"
     ]
    }
   ],
   "source": [
    "pw.student_info(\"Arpit\", \"aarpitdubey@gmail.com\", 9123456789)"
   ]
  },
  {
   "cell_type": "code",
   "execution_count": 4,
   "id": "1a8ffa77-bfce-4220-b9f7-75bce8962076",
   "metadata": {
    "tags": []
   },
   "outputs": [],
   "source": [
    "class Pwskills:\n",
    "    \n",
    "    def student_info(self, name, mail_id, number):\n",
    "        print(name, mail_id, number)\n",
    "        \n",
    "    @staticmethod\n",
    "    def mentor_class(mentor_list):\n",
    "        print(mentor_list)"
   ]
  },
  {
   "cell_type": "code",
   "execution_count": 5,
   "id": "528c95a6-5250-4c26-b4b9-8c50aa0b57ee",
   "metadata": {
    "tags": []
   },
   "outputs": [
    {
     "name": "stdout",
     "output_type": "stream",
     "text": [
      "['Sudhanshu', 'Krish']\n"
     ]
    }
   ],
   "source": [
    "Pwskills.mentor_class([\"Sudhanshu\", \"Krish\"])"
   ]
  },
  {
   "cell_type": "code",
   "execution_count": null,
   "id": "cb10765d-f592-479d-8a47-301bfc39d13b",
   "metadata": {},
   "outputs": [],
   "source": [
    "stud1 = Pwskills()"
   ]
  }
 ],
 "metadata": {
  "kernelspec": {
   "display_name": "Python 3 (ipykernel)",
   "language": "python",
   "name": "python3"
  },
  "language_info": {
   "codemirror_mode": {
    "name": "ipython",
    "version": 3
   },
   "file_extension": ".py",
   "mimetype": "text/x-python",
   "name": "python",
   "nbconvert_exporter": "python",
   "pygments_lexer": "ipython3",
   "version": "3.11.3"
  }
 },
 "nbformat": 4,
 "nbformat_minor": 5
}
