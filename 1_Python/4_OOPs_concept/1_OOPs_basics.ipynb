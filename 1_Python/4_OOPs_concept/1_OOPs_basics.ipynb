{
 "cells": [
  {
   "cell_type": "markdown",
   "id": "989a66ba-663a-4448-9801-389eef8ffe99",
   "metadata": {},
   "source": [
    "\"OOPs\" stands for Object Oriented Programming System\n",
    "\n",
    "In Python, everything is an object, and each object has a specific type or class."
   ]
  },
  {
   "cell_type": "code",
   "execution_count": 1,
   "id": "d9f746cd-fd95-4fd2-8ebd-6b8381de0937",
   "metadata": {
    "tags": []
   },
   "outputs": [],
   "source": [
    "a = 1"
   ]
  },
  {
   "cell_type": "code",
   "execution_count": 2,
   "id": "c175d75d-b46f-45d7-9a72-48f3be2ee205",
   "metadata": {
    "tags": []
   },
   "outputs": [
    {
     "name": "stdout",
     "output_type": "stream",
     "text": [
      "<class 'int'>\n"
     ]
    }
   ],
   "source": [
    "print(type(a))"
   ]
  },
  {
   "cell_type": "code",
   "execution_count": 3,
   "id": "12cbcfe8-1d6c-482b-ba47-11c6c7e6befd",
   "metadata": {
    "tags": []
   },
   "outputs": [
    {
     "name": "stdout",
     "output_type": "stream",
     "text": [
      "<class 'str'>\n"
     ]
    }
   ],
   "source": [
    "print(type(\"pwskills\"))"
   ]
  },
  {
   "cell_type": "code",
   "execution_count": 4,
   "id": "60ae4784-efad-4d18-a2b3-a1c16836e46d",
   "metadata": {
    "tags": []
   },
   "outputs": [],
   "source": [
    "class Pass: # empty class\n",
    "    pass"
   ]
  },
  {
   "cell_type": "markdown",
   "id": "70eec3a8-4af6-475a-97fa-e87860de3a9f",
   "metadata": {},
   "source": [
    "<class 'int'> represents the class of integer objects in Python. Integers are whole numbers without any decimal point. For example, 5, -3, 0, etc. are instances of the int class.\n",
    "\n",
    "<class 'str'> represents the class of string objects in Python. Strings are sequences of characters, and they are represented within single quotes, double quotes, or triple quotes. For example, \"pwskills\", \"Hello\", 'arpit', 'Python', and '123' are instances of the str class.\n",
    "\n",
    "### Concept of classes\n",
    "\n",
    "Classes are used to create new types of objects with specific attributes and behaviors. They serve as a blueprint for creating objects, allowing you to define the properties and methods that the objects will have. \n",
    "\n",
    "#### TASK \n",
    "Suppose your task is to create a Intro (name and age) for 5 students a class can resolve your problem because it will gives you a blueprint or behave like that.\n",
    "\n",
    "1. Create a class name Student \n",
    "2. define  variables such as name and age, and also create a method named greet()\n",
    "3. greet() method will returns the intro lines \"Hello, my name is 'Student name', I am 'Student age' years old.\"\n",
    "4. Inputs should be in dictionary format and the names of students should be the keys and their age will be the values.\n",
    "5. Also print the name of student at the top and then his/her Intro"
   ]
  },
  {
   "cell_type": "code",
   "execution_count": 5,
   "id": "5b4cfa9b-63bf-4f23-8807-71c692995dc8",
   "metadata": {},
   "outputs": [],
   "source": [
    "class Student:\n",
    "    \n",
    "    def __init__(self, name, age):\n",
    "        self.name = name\n",
    "        self.age  = age\n",
    "        \n",
    "    def greet(self):\n",
    "        return f\"Hello, my name is {self.name}, I am {self.age} years old.\""
   ]
  },
  {
   "cell_type": "code",
   "execution_count": 6,
   "id": "4f00290f-fe11-4869-8644-ea8a1f9d8fd5",
   "metadata": {
    "tags": []
   },
   "outputs": [],
   "source": [
    "# let's create some virtual students\n",
    "student = {'Arpit':21, 'Shreya':20, 'Nipun': 23, 'Astha':22, 'Anjali':21}"
   ]
  },
  {
   "cell_type": "code",
   "execution_count": 7,
   "id": "7ce5d3e4-9936-4e3a-a4ac-1939e70a6906",
   "metadata": {},
   "outputs": [
    {
     "name": "stdout",
     "output_type": "stream",
     "text": [
      "Student: Arpit, \n",
      "Intro: Hello, my name is Arpit, I am 21 years old.\n",
      "\n",
      "Student: Shreya, \n",
      "Intro: Hello, my name is Shreya, I am 20 years old.\n",
      "\n",
      "Student: Nipun, \n",
      "Intro: Hello, my name is Nipun, I am 23 years old.\n",
      "\n",
      "Student: Astha, \n",
      "Intro: Hello, my name is Astha, I am 22 years old.\n",
      "\n",
      "Student: Anjali, \n",
      "Intro: Hello, my name is Anjali, I am 21 years old.\n",
      "\n"
     ]
    }
   ],
   "source": [
    "for name, age in student.items():\n",
    "    stud = Student(name, age)\n",
    "    print(f\"Student: {name}, \\nIntro: {stud.greet()}\\n\")\n"
   ]
  },
  {
   "cell_type": "code",
   "execution_count": 8,
   "id": "d705526b-7c4d-4dba-8598-e2ba41ff6897",
   "metadata": {
    "tags": []
   },
   "outputs": [
    {
     "name": "stdout",
     "output_type": "stream",
     "text": [
      "<class '__main__.Student'>\n"
     ]
    }
   ],
   "source": [
    "print(type(stud)) # Now Our created class name in shown in type()"
   ]
  },
  {
   "cell_type": "code",
   "execution_count": 9,
   "id": "57572883-1c07-4ad4-af2a-653c0833c604",
   "metadata": {
    "tags": []
   },
   "outputs": [],
   "source": [
    "class pwskills:\n",
    "    \n",
    "    def __init__(self, name):\n",
    "        self.name=name\n",
    "    \n",
    "    def welcome(self):\n",
    "       return f'Welcome to PWSkills, {self.name}'"
   ]
  },
  {
   "cell_type": "code",
   "execution_count": 10,
   "id": "b4334a8a-c95b-491c-a89e-57d33aec56c8",
   "metadata": {
    "tags": []
   },
   "outputs": [
    {
     "name": "stdout",
     "output_type": "stream",
     "text": [
      "Welcome to PWSkills, Rohan\n"
     ]
    }
   ],
   "source": [
    "stud1 = pwskills(\"Rohan\")\n",
    "\n",
    "print(stud1.welcome())"
   ]
  },
  {
   "cell_type": "code",
   "execution_count": 11,
   "id": "5c4c409d-c8ef-4627-83cc-43072deee470",
   "metadata": {
    "tags": []
   },
   "outputs": [
    {
     "name": "stdout",
     "output_type": "stream",
     "text": [
      "Welcome to PWSkills, Gaurav\n"
     ]
    }
   ],
   "source": [
    "stud2 = pwskills(\"Gaurav\")\n",
    "\n",
    "print(stud2.welcome())"
   ]
  },
  {
   "cell_type": "code",
   "execution_count": 12,
   "id": "fc572ea4-d6b5-41cd-bd84-1758507cc441",
   "metadata": {
    "tags": []
   },
   "outputs": [],
   "source": [
    "class pwskills_:\n",
    "    def __init__(self, stud_name, phone_number, email_id, student_id):\n",
    "        self.stud_name    = stud_name\n",
    "        self.phone_number = phone_number\n",
    "        self.email_id     = email_id\n",
    "        self.student_id   = student_id\n",
    "        \n",
    "    def get_data(self):\n",
    "        return f'Student Name : {self.stud_name}\\nPhone Number : {self.phone_number}\\nEmail Id     : {self.email_id}\\nRoll Number  : {self.student_id}'\n"
   ]
  },
  {
   "cell_type": "code",
   "execution_count": 13,
   "id": "28be3ad0-48b0-4a5b-a8a3-a5ba576273d8",
   "metadata": {
    "tags": []
   },
   "outputs": [],
   "source": [
    "st1 = pwskills_(\"Arpit Dubey\", 897855455656, \"aarpitdubey@gmail.com\", 7)"
   ]
  },
  {
   "cell_type": "code",
   "execution_count": 14,
   "id": "4d49f7ef-f9f8-4d54-acbd-147b15acb4bc",
   "metadata": {
    "tags": []
   },
   "outputs": [
    {
     "name": "stdout",
     "output_type": "stream",
     "text": [
      "Student Name : Arpit Dubey\n",
      "Phone Number : 897855455656\n",
      "Email Id     : aarpitdubey@gmail.com\n",
      "Roll Number  : 7\n"
     ]
    }
   ],
   "source": [
    "print(st1.get_data())"
   ]
  }
 ],
 "metadata": {
  "kernelspec": {
   "display_name": "Python 3 (ipykernel)",
   "language": "python",
   "name": "python3"
  },
  "language_info": {
   "codemirror_mode": {
    "name": "ipython",
    "version": 3
   },
   "file_extension": ".py",
   "mimetype": "text/x-python",
   "name": "python",
   "nbconvert_exporter": "python",
   "pygments_lexer": "ipython3",
   "version": "3.11.3"
  }
 },
 "nbformat": 4,
 "nbformat_minor": 5
}
