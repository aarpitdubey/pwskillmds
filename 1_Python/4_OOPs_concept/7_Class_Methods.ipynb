{
 "cells": [
  {
   "cell_type": "code",
   "execution_count": 1,
   "id": "3e54768f-6169-4fe7-aea4-6f272e2bf016",
   "metadata": {
    "tags": []
   },
   "outputs": [],
   "source": [
    "class Pwskills :\n",
    "    \n",
    "    def __init__(self, name, email) :\n",
    "        \n",
    "        self.name  =  name\n",
    "        self.email = email\n",
    "        \n",
    "    def student_info(self):\n",
    "        print(self.name, self.email)"
   ]
  },
  {
   "cell_type": "code",
   "execution_count": 2,
   "id": "155bd37a-5007-460c-8430-2ab571ddd7c0",
   "metadata": {
    "tags": []
   },
   "outputs": [],
   "source": [
    "pw = Pwskills(\"Arpit\", \"aarpitdubey@gmail.com\")"
   ]
  },
  {
   "cell_type": "code",
   "execution_count": 3,
   "id": "dd72ee60-0f2f-465a-926f-1ad433e3e7b4",
   "metadata": {
    "tags": []
   },
   "outputs": [
    {
     "data": {
      "text/plain": [
       "'Arpit'"
      ]
     },
     "execution_count": 3,
     "metadata": {},
     "output_type": "execute_result"
    }
   ],
   "source": [
    "pw.name"
   ]
  },
  {
   "cell_type": "code",
   "execution_count": 4,
   "id": "f7fc2fd9-3cb2-43d2-bee0-e0842ebcf5c6",
   "metadata": {
    "tags": []
   },
   "outputs": [
    {
     "data": {
      "text/plain": [
       "'aarpitdubey@gmail.com'"
      ]
     },
     "execution_count": 4,
     "metadata": {},
     "output_type": "execute_result"
    }
   ],
   "source": [
    "pw.email"
   ]
  },
  {
   "cell_type": "code",
   "execution_count": 5,
   "id": "9e59df5d-c352-4e73-ae57-3ea07956ed9b",
   "metadata": {
    "tags": []
   },
   "outputs": [
    {
     "name": "stdout",
     "output_type": "stream",
     "text": [
      "Arpit aarpitdubey@gmail.com\n"
     ]
    }
   ],
   "source": [
    "pw.student_info()"
   ]
  },
  {
   "cell_type": "code",
   "execution_count": 7,
   "id": "fa2dfdf7-7b66-4020-a66a-ac6a1639224f",
   "metadata": {
    "tags": []
   },
   "outputs": [],
   "source": [
    "class Pwskills_ :\n",
    "    \n",
    "    def __init__(self, name, email) :\n",
    "        \n",
    "        self.name  =  name\n",
    "        self.email = email\n",
    "    \n",
    "    @classmethod\n",
    "    def details(cls, name, email):\n",
    "        return cls(name, email)\n",
    "        \n",
    "    def student_info(self):\n",
    "        print(self.name, self.email)"
   ]
  },
  {
   "cell_type": "code",
   "execution_count": 9,
   "id": "0e01d71a-005a-4937-be93-b16abef211a1",
   "metadata": {
    "tags": []
   },
   "outputs": [],
   "source": [
    "pw = Pwskills_.details(\"Arpit\", \"aarpitdubey@gmail.com\")"
   ]
  },
  {
   "cell_type": "code",
   "execution_count": 10,
   "id": "2ed9ed75-a5f8-438e-af53-33b31d5ec04d",
   "metadata": {
    "tags": []
   },
   "outputs": [
    {
     "data": {
      "text/plain": [
       "'Arpit'"
      ]
     },
     "execution_count": 10,
     "metadata": {},
     "output_type": "execute_result"
    }
   ],
   "source": [
    "pw.name"
   ]
  },
  {
   "cell_type": "code",
   "execution_count": 11,
   "id": "d2b592c2-5fd9-4d95-8075-58afa44ea687",
   "metadata": {
    "tags": []
   },
   "outputs": [
    {
     "data": {
      "text/plain": [
       "'aarpitdubey@gmail.com'"
      ]
     },
     "execution_count": 11,
     "metadata": {},
     "output_type": "execute_result"
    }
   ],
   "source": [
    "pw.email"
   ]
  },
  {
   "cell_type": "code",
   "execution_count": 12,
   "id": "2d7eb96e-ef48-4531-8e37-5414b37fb6d2",
   "metadata": {
    "tags": []
   },
   "outputs": [
    {
     "name": "stdout",
     "output_type": "stream",
     "text": [
      "Arpit aarpitdubey@gmail.com\n"
     ]
    }
   ],
   "source": [
    "pw.student_info()"
   ]
  },
  {
   "cell_type": "code",
   "execution_count": null,
   "id": "5ce9f6d5-3b49-4fbd-a277-e5a7718c1fd9",
   "metadata": {},
   "outputs": [],
   "source": []
  }
 ],
 "metadata": {
  "kernelspec": {
   "display_name": "Python 3 (ipykernel)",
   "language": "python",
   "name": "python3"
  },
  "language_info": {
   "codemirror_mode": {
    "name": "ipython",
    "version": 3
   },
   "file_extension": ".py",
   "mimetype": "text/x-python",
   "name": "python",
   "nbconvert_exporter": "python",
   "pygments_lexer": "ipython3",
   "version": "3.11.3"
  }
 },
 "nbformat": 4,
 "nbformat_minor": 5
}
