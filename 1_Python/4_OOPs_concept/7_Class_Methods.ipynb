{
 "cells": [
  {
   "cell_type": "markdown",
   "id": "1f26be31-1814-4644-84ab-4989f3d49458",
   "metadata": {},
   "source": [
    "`@classmethod` is a decorator used to define a method within a class that operates on the class itself rather than on specific instances of the class. \n",
    "\n",
    "This means that a method decorated with `@classmethod` can access and modify class-level attributes and perform operations related to the class as a whole."
   ]
  },
  {
   "cell_type": "code",
   "execution_count": 1,
   "id": "3e54768f-6169-4fe7-aea4-6f272e2bf016",
   "metadata": {
    "tags": []
   },
   "outputs": [],
   "source": [
    "class Pwskills :\n",
    "    \n",
    "    def __init__(self, name, email) :\n",
    "        \n",
    "        self.name  =  name\n",
    "        self.email = email\n",
    "        \n",
    "    def student_info(self):\n",
    "        print(self.name, self.email)"
   ]
  },
  {
   "cell_type": "code",
   "execution_count": 2,
   "id": "155bd37a-5007-460c-8430-2ab571ddd7c0",
   "metadata": {
    "tags": []
   },
   "outputs": [],
   "source": [
    "pw = Pwskills(\"Arpit\", \"aarpitdubey@gmail.com\")"
   ]
  },
  {
   "cell_type": "code",
   "execution_count": 3,
   "id": "dd72ee60-0f2f-465a-926f-1ad433e3e7b4",
   "metadata": {
    "tags": []
   },
   "outputs": [
    {
     "data": {
      "text/plain": [
       "'Arpit'"
      ]
     },
     "execution_count": 3,
     "metadata": {},
     "output_type": "execute_result"
    }
   ],
   "source": [
    "pw.name"
   ]
  },
  {
   "cell_type": "code",
   "execution_count": 4,
   "id": "f7fc2fd9-3cb2-43d2-bee0-e0842ebcf5c6",
   "metadata": {
    "tags": []
   },
   "outputs": [
    {
     "data": {
      "text/plain": [
       "'aarpitdubey@gmail.com'"
      ]
     },
     "execution_count": 4,
     "metadata": {},
     "output_type": "execute_result"
    }
   ],
   "source": [
    "pw.email"
   ]
  },
  {
   "cell_type": "code",
   "execution_count": 5,
   "id": "9e59df5d-c352-4e73-ae57-3ea07956ed9b",
   "metadata": {
    "tags": []
   },
   "outputs": [
    {
     "name": "stdout",
     "output_type": "stream",
     "text": [
      "Arpit aarpitdubey@gmail.com\n"
     ]
    }
   ],
   "source": [
    "pw.student_info()"
   ]
  },
  {
   "cell_type": "code",
   "execution_count": 6,
   "id": "fa2dfdf7-7b66-4020-a66a-ac6a1639224f",
   "metadata": {
    "tags": []
   },
   "outputs": [],
   "source": [
    "class Pwskills_ :\n",
    "    \n",
    "    def __init__(self, name, email) :\n",
    "        \n",
    "        self.name  =  name\n",
    "        self.email = email\n",
    "    \n",
    "    @classmethod\n",
    "    def details(cls, name, email):\n",
    "        return cls(name, email)\n",
    "        \n",
    "    def student_info(self):\n",
    "        print(self.name, self.email)"
   ]
  },
  {
   "cell_type": "code",
   "execution_count": 7,
   "id": "0e01d71a-005a-4937-be93-b16abef211a1",
   "metadata": {
    "tags": []
   },
   "outputs": [],
   "source": [
    "pw = Pwskills_.details(\"Arpit\", \"aarpitdubey@gmail.com\")"
   ]
  },
  {
   "cell_type": "code",
   "execution_count": 8,
   "id": "2ed9ed75-a5f8-438e-af53-33b31d5ec04d",
   "metadata": {
    "tags": []
   },
   "outputs": [
    {
     "data": {
      "text/plain": [
       "'Arpit'"
      ]
     },
     "execution_count": 8,
     "metadata": {},
     "output_type": "execute_result"
    }
   ],
   "source": [
    "pw.name"
   ]
  },
  {
   "cell_type": "code",
   "execution_count": 9,
   "id": "d2b592c2-5fd9-4d95-8075-58afa44ea687",
   "metadata": {
    "tags": []
   },
   "outputs": [
    {
     "data": {
      "text/plain": [
       "'aarpitdubey@gmail.com'"
      ]
     },
     "execution_count": 9,
     "metadata": {},
     "output_type": "execute_result"
    }
   ],
   "source": [
    "pw.email"
   ]
  },
  {
   "cell_type": "code",
   "execution_count": 10,
   "id": "2d7eb96e-ef48-4531-8e37-5414b37fb6d2",
   "metadata": {
    "tags": []
   },
   "outputs": [
    {
     "name": "stdout",
     "output_type": "stream",
     "text": [
      "Arpit aarpitdubey@gmail.com\n"
     ]
    }
   ],
   "source": [
    "pw.student_info()"
   ]
  },
  {
   "cell_type": "code",
   "execution_count": 11,
   "id": "5ce9f6d5-3b49-4fbd-a277-e5a7718c1fd9",
   "metadata": {
    "tags": []
   },
   "outputs": [],
   "source": [
    "class Car :\n",
    "    car_count = 0\n",
    "    \n",
    "    \n",
    "    def __init__(self, make, model):\n",
    "        self.name = make\n",
    "        self.model = model \n",
    "        Car.car_count += 1\n",
    "        \n",
    "    @classmethod\n",
    "    def get_car_count(cls):\n",
    "        return cls.car_count\n",
    "    \n",
    "    @classmethod\n",
    "    def create_special_car(cls, make, model):\n",
    "        special_car = cls(make, model)\n",
    "        special_car.is_special = True\n",
    "        return special_car"
   ]
  },
  {
   "cell_type": "markdown",
   "id": "1dc7cb21-a1f7-40b6-8a78-167eb6130ff7",
   "metadata": {},
   "source": [
    "The `Car` class has a class-level attribute `car_count` to keep track of the total number of car instances created.\n",
    "\n",
    "The `__init__` method is used to initialize instances of cars and increments the `car_count` class-level attribute.\n",
    "\n",
    "The `get_car_count` method is decorated with `@classmethod` and allows us to access the `car_count` class-level attribute without needing an instance of the class.\n",
    "The `create_special_car` method is also decorated with `@classmethod` and is used to create a special type of car (in this case, with an additional `is_special` attribute)."
   ]
  },
  {
   "cell_type": "code",
   "execution_count": 12,
   "id": "05e44199-d409-4659-82a7-a2f34642e3da",
   "metadata": {
    "tags": []
   },
   "outputs": [],
   "source": [
    "car1 = Car(\"Toyota\", \"Innova\")\n",
    "car2 = Car(\"Honda\", \"Civic\")"
   ]
  },
  {
   "cell_type": "code",
   "execution_count": 13,
   "id": "003a8ef0-ed9f-4899-9844-06e425dd1673",
   "metadata": {
    "tags": []
   },
   "outputs": [
    {
     "name": "stdout",
     "output_type": "stream",
     "text": [
      "2\n"
     ]
    }
   ],
   "source": [
    "print(Car.get_car_count())"
   ]
  },
  {
   "cell_type": "code",
   "execution_count": 14,
   "id": "e1c44a52-9964-4e07-b654-045258095e06",
   "metadata": {
    "tags": []
   },
   "outputs": [
    {
     "name": "stdout",
     "output_type": "stream",
     "text": [
      "True\n"
     ]
    }
   ],
   "source": [
    "special_car = Car.create_special_car(\"Tesla\", \"Model X\")\n",
    "print(special_car.is_special)"
   ]
  },
  {
   "cell_type": "markdown",
   "id": "bd49a1fd-9b6b-4b4d-942e-fe4937d88efe",
   "metadata": {},
   "source": [
    " `@classmethod` allows us to access the class-level attributes and create class-specific methods without needing to create an instance of the class."
   ]
  },
  {
   "cell_type": "markdown",
   "id": "c3540001-54bf-4023-963e-68b6065bb8ab",
   "metadata": {},
   "source": [
    "# @classmethod and Wizardry World"
   ]
  },
  {
   "cell_type": "markdown",
   "id": "f1259010-5dfe-45bd-a39a-b8249b352cc5",
   "metadata": {},
   "source": [
    "Imagine if the concept of classes and methods in Python were translated into the magical world of Harry Potter.\n",
    "n this magical context, consider the Hogwarts School of Witchcraft and Wizardry as a class, and \n",
    "the individual students as instances of the class.\n",
    "\n",
    "- The `Hogwarts` class has a class-level attribute, perhaps representing the total number of enrolled students.\n",
    "- The sorting hat ceremony, which assigns students to different houses, can be thought of as a class method decorated with `@classmethod`. It operates on the entire class (Hogwarts) and assigns students to their respective houses based on some magical criteria.\n",
    "- The `SortingHat` method doesn't need an instance of a student to perform its task. It's concerned with the properties and actions of the entire Hogwarts class, just like a `@classmethod` in Python isn't tied to a specific instance of a class.\n",
    "\n",
    "So, in the Potterverse:\n",
    "\n",
    "- The `@classmethod` would allow the Sorting Hat to allocate students to their respective houses without needing to consider the individual characteristics of each student. It operates at the class level and influences all instances (i.e., students) within it.\n",
    "\n",
    "- Additionally, a `@classmethod` could be used by the Hogwarts class to keep track of the total number of students without needing to access any specific student's information."
   ]
  },
  {
   "cell_type": "code",
   "execution_count": 15,
   "id": "d125e5b9-22a8-4668-9a50-3523e6a814f3",
   "metadata": {
    "tags": []
   },
   "outputs": [],
   "source": [
    "class Hogwarts:\n",
    "    total_students = 1\n",
    "    student_list = []\n",
    "    \n",
    "    \n",
    "    def __init__(self, name, house):\n",
    "        self.name  = name\n",
    "        self.house = house\n",
    "        Hogwarts.total_students += 1\n",
    "        Hogwarts.student_list.append((name, house))\n",
    "        \n",
    "    @classmethod    \n",
    "    def sorting_hat(cls, name, house):\n",
    "        if house == \"Gryffindor\":\n",
    "            print(f\"{name} belongs to Gryffindor!\")\n",
    "            cls.student_list.append((name, \"Gryffindor\"))\n",
    "        elif house == \"Hufflepuff\":\n",
    "            print(f\"{name} belongs to Hufflepuff!\")\n",
    "            cls.student_list.append((name, \"Hufflepuff\"))\n",
    "        elif house == \"Ravenclaw\":\n",
    "            print(f\"{name} belongs to Ravenclaw!\")\n",
    "            cls.student_list.append((name, \"Ravenclaw\"))\n",
    "        elif house == \"Slytherin\":\n",
    "            print(f\"{name} belongs to Slytherin!\")\n",
    "            cls.student_list.append((name, \"Slytherin\"))\n",
    "        else:\n",
    "            print(f\"House not recognized for {name}.\")\n",
    "            \n",
    "    @classmethod        \n",
    "    def get_total_students(cls):\n",
    "        return cls.total_students\n",
    "    \n",
    "    @classmethod\n",
    "    def get_student_names(cls):\n",
    "        return [student[0] for student in cls.student_list]\n",
    "    \n",
    "    @classmethod\n",
    "    def get_student_house(cls):\n",
    "        return [student[1] for student in cls.student_list]"
   ]
  },
  {
   "cell_type": "code",
   "execution_count": 16,
   "id": "9be684b9-b540-4d01-bb88-cf6bbe97097b",
   "metadata": {
    "tags": []
   },
   "outputs": [
    {
     "name": "stdout",
     "output_type": "stream",
     "text": [
      "Arpit Dubey belongs to Gryffindor!\n",
      "4\n",
      "['Harry Potter', 'Draco Malfoy', 'Hermione Granger', 'Arpit Dubey']\n",
      "['Gryffindor', 'Slytherin', 'Gryffindor', 'Gryffindor']\n"
     ]
    }
   ],
   "source": [
    "student1 = Hogwarts(\"Harry Potter\", \"Gryffindor\")\n",
    "student2 = Hogwarts(\"Draco Malfoy\", \"Slytherin\")\n",
    "student3 = Hogwarts(\"Hermione Granger\", \"Gryffindor\")\n",
    "\n",
    "Hogwarts.sorting_hat(\"Arpit Dubey\", \"Gryffindor\")\n",
    "\n",
    "print(Hogwarts.get_total_students())\n",
    "print(Hogwarts.get_student_names()) \n",
    "print(Hogwarts.get_student_house()) "
   ]
  },
  {
   "cell_type": "markdown",
   "id": "5107d97a-511a-4ccc-bc54-dfce7c8d0bfd",
   "metadata": {},
   "source": [
    "- The `Hogwarts` class keeps track of the total number of students using a class-level attribute.\n",
    "\n",
    "- The `sorting_ha`t method is decorated with `@classmethod` and can assign houses to students without needing an instance of the class.\n",
    "\n",
    "- The `get_total_students` method, also decorated with `@classmethod`, allows us to access the total number of students without needing an individual student instance\n",
    "\n",
    "- The `get_student_names` method retrieves a list of student names from the class-level student list.\n",
    "\n",
    "- The `get_student_houses` method retrieves a list of student houses from the class-level student list."
   ]
  }
 ],
 "metadata": {
  "kernelspec": {
   "display_name": "Python 3 (ipykernel)",
   "language": "python",
   "name": "python3"
  },
  "language_info": {
   "codemirror_mode": {
    "name": "ipython",
    "version": 3
   },
   "file_extension": ".py",
   "mimetype": "text/x-python",
   "name": "python",
   "nbconvert_exporter": "python",
   "pygments_lexer": "ipython3",
   "version": "3.11.3"
  }
 },
 "nbformat": 4,
 "nbformat_minor": 5
}
