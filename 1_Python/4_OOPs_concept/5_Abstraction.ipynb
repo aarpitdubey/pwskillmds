{
 "cells": [
  {
   "cell_type": "markdown",
   "id": "0d3d5e37-dd03-4d0c-a182-c10861822e06",
   "metadata": {},
   "source": [
    "## Abstraction\n",
    "\n",
    "- To create the skeleton or blueprint of code format.\n",
    "- To create the code outline or body.\n",
    "\n",
    "Abstraction in object-oriented programming refers to the concept of hiding the complex implementation details and showing only the necessary features of an object.\n",
    "\n",
    "Abstraction can be utilized to hide the internal implementation of the `Pwskills` class while still providing access to its essential methods.\n",
    "\n",
    "To implement abstraction using the abstract method, we can define an abstract method within the `Pwskills` class using Python's `abc` module. The `abc` module allows us to work with abstract base classes. Create concrete subclass `Student` that inherits from the abstract class `Pwskills` and implements the abstract methods."
   ]
  },
  {
   "cell_type": "code",
   "execution_count": 1,
   "id": "c751fc19-53c4-44a4-8e46-24a7338d581b",
   "metadata": {
    "tags": []
   },
   "outputs": [],
   "source": [
    "from abc import ABC, abstractmethod\n",
    "\n",
    "class Pwskills:\n",
    "    \n",
    "    @abstractmethod\n",
    "    def student_info(self):\n",
    "        pass\n",
    "    \n",
    "    @abstractmethod\n",
    "    def student_assignment(self):\n",
    "        pass\n",
    "    \n",
    "    @abstractmethod\n",
    "    def student_marks(self):\n",
    "        pass"
   ]
  },
  {
   "cell_type": "code",
   "execution_count": 2,
   "id": "51df771c-705b-4747-8660-49772c64d840",
   "metadata": {
    "tags": []
   },
   "outputs": [],
   "source": [
    "class Student(Pwskills):\n",
    "    \n",
    "    def student_info(self):\n",
    "        return \"Student Portfolio and Information.\"\n",
    "    \n",
    "    def student_assignment(self):\n",
    "        return \"Student Assignments Details for Data Science Masters\"\n",
    "\n",
    "    def student_marks(self):\n",
    "        return \"Student Marks Details for Data Science Masters.\""
   ]
  },
  {
   "cell_type": "code",
   "execution_count": 3,
   "id": "3a215e01-0210-428a-bf95-50cc91304ce4",
   "metadata": {
    "tags": []
   },
   "outputs": [],
   "source": [
    "stud = Student()"
   ]
  },
  {
   "cell_type": "code",
   "execution_count": 4,
   "id": "9cac79d6-cd8f-434f-bd85-28a01b6065eb",
   "metadata": {
    "tags": []
   },
   "outputs": [
    {
     "name": "stdout",
     "output_type": "stream",
     "text": [
      "Student Portfolio and Information.\n"
     ]
    }
   ],
   "source": [
    "print(stud.student_info())"
   ]
  },
  {
   "cell_type": "code",
   "execution_count": 5,
   "id": "758c0290-e07e-4d67-a1b0-b3f0fd031280",
   "metadata": {
    "tags": []
   },
   "outputs": [
    {
     "name": "stdout",
     "output_type": "stream",
     "text": [
      "Student Assignments Details for Data Science Masters\n"
     ]
    }
   ],
   "source": [
    "print(stud.student_assignment())"
   ]
  },
  {
   "cell_type": "code",
   "execution_count": 6,
   "id": "5d66737f-4511-4b36-a765-dcd99689e2ab",
   "metadata": {
    "tags": []
   },
   "outputs": [
    {
     "name": "stdout",
     "output_type": "stream",
     "text": [
      "Student Marks Details for Data Science Masters.\n"
     ]
    }
   ],
   "source": [
    "print(stud.student_marks())"
   ]
  },
  {
   "cell_type": "markdown",
   "id": "fd9f5eb8-e27b-410a-bf2a-8511504e1546",
   "metadata": {},
   "source": [
    "The `Student` class is a concrete subclass of the abstract class `Pwskills`. It provides implementations for the abstract methods, making it possible to create an instance of `Student` and call its methods to demonstrate the outputs.\n",
    "\n",
    "The abstract class `Pwskills` defines the interface, and the concrete subclass `Student` provides the implementation for that interface."
   ]
  }
 ],
 "metadata": {
  "kernelspec": {
   "display_name": "Python 3 (ipykernel)",
   "language": "python",
   "name": "python3"
  },
  "language_info": {
   "codemirror_mode": {
    "name": "ipython",
    "version": 3
   },
   "file_extension": ".py",
   "mimetype": "text/x-python",
   "name": "python",
   "nbconvert_exporter": "python",
   "pygments_lexer": "ipython3",
   "version": "3.11.3"
  }
 },
 "nbformat": 4,
 "nbformat_minor": 5
}
