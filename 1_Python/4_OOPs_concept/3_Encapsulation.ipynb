{
 "cells": [
  {
   "cell_type": "markdown",
   "id": "f2d717a2-6acf-4e10-a4e1-d7020bb8206f",
   "metadata": {},
   "source": [
    "## Encapsulation\n",
    "\n",
    "Encapsulation in programming refers to the idea of bundling the data (attributes) and methods (functions) that operate on the data into a single unit or class."
   ]
  },
  {
   "cell_type": "code",
   "execution_count": 1,
   "id": "0633b03c-0ada-4c6e-814f-7f615bcc1c88",
   "metadata": {
    "tags": []
   },
   "outputs": [],
   "source": [
    "class test:\n",
    "    \n",
    "    def __init__(self, a, b):\n",
    "        self.a = a\n",
    "        self.b = b"
   ]
  },
  {
   "cell_type": "code",
   "execution_count": 2,
   "id": "1bb8f806-555c-4184-a1e5-43d2cbbf69eb",
   "metadata": {
    "tags": []
   },
   "outputs": [],
   "source": [
    "# Creating object of test\n",
    "t = test(23, 35)"
   ]
  },
  {
   "cell_type": "markdown",
   "id": "6aa30ce1-c644-4997-8b87-e0758cd9da9d",
   "metadata": {},
   "source": [
    "When use object `t` and when you type `t.` and hit `Tab` button it will show all instances and methods of that `class` `test` and if will show you the instances you can change the value."
   ]
  },
  {
   "attachments": {
    "49e7f224-3f78-41a6-adaa-d8a21045f22c.png": {
     "image/png": "[encoded data removed]"
    }
   },
   "cell_type": "markdown",
   "id": "57df4ee4-d2d2-4ee8-957d-b10ee0280d3d",
   "metadata": {},
   "source": [
    "![image.png](attachment:49e7f224-3f78-41a6-adaa-d8a21045f22c.png)"
   ]
  },
  {
   "cell_type": "code",
   "execution_count": 3,
   "id": "6544fd63-2e27-4a7e-ab88-074cd56c0ea9",
   "metadata": {
    "tags": []
   },
   "outputs": [
    {
     "data": {
      "text/plain": [
       "23"
      ]
     },
     "execution_count": 3,
     "metadata": {},
     "output_type": "execute_result"
    }
   ],
   "source": [
    "t.a"
   ]
  },
  {
   "cell_type": "code",
   "execution_count": 4,
   "id": "e21ad369-0305-4bce-9fe9-7a7c52f8cff6",
   "metadata": {
    "tags": []
   },
   "outputs": [],
   "source": [
    "# Change the value of 'a' below\n",
    "t.a = 13425265\n"
   ]
  },
  {
   "cell_type": "code",
   "execution_count": 5,
   "id": "e88b9680-5112-4727-b7cb-c41de34a8bd9",
   "metadata": {
    "tags": []
   },
   "outputs": [
    {
     "data": {
      "text/plain": [
       "13425265"
      ]
     },
     "execution_count": 5,
     "metadata": {},
     "output_type": "execute_result"
    }
   ],
   "source": [
    "t.a"
   ]
  },
  {
   "cell_type": "code",
   "execution_count": 6,
   "id": "3079df9b-8b54-45cd-a511-7ccea5d28334",
   "metadata": {
    "tags": []
   },
   "outputs": [],
   "source": [
    "class Car:\n",
    "    \n",
    "    def __init__(self, year, make, model, speed=0):\n",
    "        \n",
    "        # Encapsulated attribute\n",
    "        self.__year  = year  \n",
    "        self.__make  = make \n",
    "        self.__model = model  \n",
    "        self.__speed = speed \n",
    "\n",
    "    # Getter methods \n",
    "    def get_year(self):\n",
    "        return self.__year\n",
    "\n",
    "    def get_make(self):\n",
    "        return self.__make\n",
    "\n",
    "    def get_model(self):\n",
    "        return self.__model\n",
    "\n",
    "    def get_speed(self):\n",
    "        return self.__speed\n",
    "\n",
    "    # Setter method \n",
    "    def accelerate(self, increment):\n",
    "        if increment > 0:\n",
    "            self.__speed += increment\n",
    "\n",
    "    def brake(self, decrement):\n",
    "        if decrement > 0 and (self.__speed - decrement) >= 0:\n",
    "            self.__speed -= decrement\n"
   ]
  },
  {
   "cell_type": "code",
   "execution_count": 7,
   "id": "23e397c1-bc8d-4a13-b46d-c7ed3190b790",
   "metadata": {},
   "outputs": [],
   "source": [
    "car = Car(2022, \"Toyota\", \"Corolla\", 25)"
   ]
  },
  {
   "cell_type": "code",
   "execution_count": 8,
   "id": "ecfc5a0f-20ab-4613-88fc-99a252abfaa1",
   "metadata": {},
   "outputs": [
    {
     "name": "stdout",
     "output_type": "stream",
     "text": [
      "2022\n",
      "Toyota\n",
      "Corolla\n",
      "25\n"
     ]
    }
   ],
   "source": [
    "# Accessing values\n",
    "print(car.get_year()) \n",
    "print(car.get_make())  \n",
    "print(car.get_model()) \n",
    "print(car.get_speed()) "
   ]
  },
  {
   "cell_type": "code",
   "execution_count": 9,
   "id": "1460fff5-5360-44cb-837f-ad2551138e48",
   "metadata": {
    "tags": []
   },
   "outputs": [
    {
     "name": "stdout",
     "output_type": "stream",
     "text": [
      "45\n"
     ]
    }
   ],
   "source": [
    "# Accelerate and check the speed\n",
    "\n",
    "car.accelerate(20)\n",
    "\n",
    "print(car.get_speed())  "
   ]
  },
  {
   "cell_type": "code",
   "execution_count": 10,
   "id": "ea6df371-9888-45da-bc0c-106bc4fb45c1",
   "metadata": {
    "tags": []
   },
   "outputs": [
    {
     "name": "stdout",
     "output_type": "stream",
     "text": [
      "30\n"
     ]
    }
   ],
   "source": [
    "# Brake and check the speed \n",
    "\n",
    "car.brake(15)\n",
    "\n",
    "print(car.get_speed())  "
   ]
  },
  {
   "cell_type": "markdown",
   "id": "c52ac867-df7a-490a-8eba-1e6345d8d580",
   "metadata": {},
   "source": [
    "The attributes year, make, model, and speed are encapsulated within the Car class. Getter methods are provided to safely access the encapsulated attributes, and setter methods are provided to securely modify the speed attribute. This ensures that the data is accessed and modified in a controlled and secure manner."
   ]
  },
  {
   "cell_type": "markdown",
   "id": "648595a4-864e-47d8-8617-a38c90a0ba0a",
   "metadata": {},
   "source": [
    "### Example - Banking System\n",
    "\n",
    "Before using encapsulation in a banking system, data such as account balances, account holders' names, and account numbers could be freely accessed and modified from anywhere in the code, potentially leading to security vulnerabilities. However, after utilizing encapsulation, the data and methods that operate on the data are wrapped into a class, and access to the data is restricted through methods, known as getters and setters, providing better control and security."
   ]
  },
  {
   "cell_type": "code",
   "execution_count": 11,
   "id": "79dbc954-4698-403a-9770-c2b12386f6a5",
   "metadata": {
    "tags": []
   },
   "outputs": [],
   "source": [
    "class SBI:\n",
    "    \n",
    "    def __init__(self, account_number, account_holder, balance): \n",
    "        self._account_number = account_number  \n",
    "        self._account_holder = account_holder  \n",
    "        self._balance = balance  \n",
    "        \n",
    "    # Getter methods \n",
    "    def get_account_number(self):\n",
    "        return self._account_number\n",
    "    \n",
    "    def get_account_holder(self):\n",
    "        return self._account_holder\n",
    "    \n",
    "    def get_balance(self):\n",
    "        return self._balance\n",
    "    \n",
    "    # Setter method \n",
    "    def deposit(self, amount):\n",
    "        if amount > 0:\n",
    "            self._balance += amount\n",
    "    \n",
    "    def withdraw(self, amount):\n",
    "        if amount > 0 and amount <= self._balance:\n",
    "            self._balance -= amount\n",
    "        else:\n",
    "            print(\"You have Insufficient Balance!\")\n",
    "            return False"
   ]
  },
  {
   "cell_type": "code",
   "execution_count": 12,
   "id": "813540d7-29af-4fae-a44a-caa31e76915d",
   "metadata": {
    "tags": []
   },
   "outputs": [],
   "source": [
    "# Create an instance of SBI\n",
    "account = SBI(\"2256584556251\", \"Arpit Dubey\", 100000)"
   ]
  },
  {
   "cell_type": "code",
   "execution_count": 13,
   "id": "dcd8f876-278e-45d8-beef-efc7df4c0eb1",
   "metadata": {
    "tags": []
   },
   "outputs": [
    {
     "ename": "AttributeError",
     "evalue": "'SBI' object has no attribute 'balance'",
     "output_type": "error",
     "traceback": [
      "\u001b[1;31m---------------------------------------------------------------------------\u001b[0m",
      "\u001b[1;31mAttributeError\u001b[0m                            Traceback (most recent call last)",
      "Cell \u001b[1;32mIn[13], line 2\u001b[0m\n\u001b[0;32m      1\u001b[0m \u001b[38;5;66;03m# Directly access the balance (not encapsulated)\u001b[39;00m\n\u001b[1;32m----> 2\u001b[0m \u001b[38;5;28mprint\u001b[39m(\u001b[43maccount\u001b[49m\u001b[38;5;241;43m.\u001b[39;49m\u001b[43mbalance\u001b[49m)  \u001b[38;5;66;03m# This will cause an AttributeError\u001b[39;00m\n",
      "\u001b[1;31mAttributeError\u001b[0m: 'SBI' object has no attribute 'balance'"
     ]
    }
   ],
   "source": [
    "# Directly access the balance (not encapsulated)\n",
    "print(account.balance)  # This will cause an AttributeError"
   ]
  },
  {
   "cell_type": "code",
   "execution_count": 14,
   "id": "ec31c709-86b0-4c1a-9f1a-e6292910974b",
   "metadata": {
    "tags": []
   },
   "outputs": [
    {
     "name": "stdout",
     "output_type": "stream",
     "text": [
      "100000\n"
     ]
    }
   ],
   "source": [
    "# Access the balance using the getter method\n",
    "print(account.get_balance()) "
   ]
  },
  {
   "cell_type": "code",
   "execution_count": 15,
   "id": "4cdee4f0-8fe7-499d-b6ec-2e8ecd9272bf",
   "metadata": {
    "tags": []
   },
   "outputs": [
    {
     "name": "stdout",
     "output_type": "stream",
     "text": [
      "105000\n",
      "103000\n"
     ]
    }
   ],
   "source": [
    "# Deposit and withdraw money using encapsulated methods\n",
    "account.deposit(5000)\n",
    "# After depositing 5000\n",
    "print(account.get_balance())\n",
    "\n",
    "# After Withdrawing 2000\n",
    "account.withdraw(2000)\n",
    "print(account.get_balance())"
   ]
  },
  {
   "cell_type": "code",
   "execution_count": 16,
   "id": "e6f3d276-7d19-490a-8c92-1a9855e26975",
   "metadata": {
    "tags": []
   },
   "outputs": [
    {
     "name": "stdout",
     "output_type": "stream",
     "text": [
      "You have Insufficient Balance!\n"
     ]
    },
    {
     "data": {
      "text/plain": [
       "False"
      ]
     },
     "execution_count": 16,
     "metadata": {},
     "output_type": "execute_result"
    }
   ],
   "source": [
    "account.withdraw(1000000) # Withdraw amount is greator than the balance you have\n",
    "# that means insufficient balance it return False"
   ]
  }
 ],
 "metadata": {
  "kernelspec": {
   "display_name": "Python 3 (ipykernel)",
   "language": "python",
   "name": "python3"
  },
  "language_info": {
   "codemirror_mode": {
    "name": "ipython",
    "version": 3
   },
   "file_extension": ".py",
   "mimetype": "text/x-python",
   "name": "python",
   "nbconvert_exporter": "python",
   "pygments_lexer": "ipython3",
   "version": "3.11.3"
  }
 },
 "nbformat": 4,
 "nbformat_minor": 5
}
